{
 "cells": [
  {
   "cell_type": "markdown",
   "metadata": {},
   "source": [
    "# Notebook de test\n",
    "\n",
    "Ce notebook qui contient un script de test pour tester localement sa webapp\n",
    "\n",
    "Dans un terminal, vous pouvez faire `uvicon app:app --reload` pour lancer la webbapp FastAPI qui sert le modèle\n",
    "\n",
    "Vous pouvez ensuite dérouler / éditer à votre convenance ce notebook pour vérifier que tout se déroule bien\n",
    "\n",
    "On utilise le package https://requests.readthedocs.io/en/master/ pour effectuer des requêtes"
   ]
  },
  {
   "cell_type": "code",
   "execution_count": null,
   "metadata": {},
   "outputs": [],
   "source": [
    "import requests\n",
    "import io\n",
    "from PIL import Image\n",
    "from pathlib import Path\n",
    "import base64"
   ]
  },
  {
   "cell_type": "code",
   "execution_count": null,
   "metadata": {},
   "outputs": [],
   "source": [
    "url = \"http://localhost:8000/{path}\""
   ]
  },
  {
   "cell_type": "markdown",
   "metadata": {},
   "source": [
    "## Test de requêtes de bases\n",
    "\n",
    "On effectue des requêtes GET sur `/health` et `/models` pour vérifier que tout répond bien"
   ]
  },
  {
   "cell_type": "code",
   "execution_count": null,
   "metadata": {},
   "outputs": [],
   "source": [
    "response = requests.get(url.format(path=\"health\"))\n",
    "\n",
    "assert response.status_code == 200\n",
    "\n",
    "print(\"TEST ALIVE PASSED\")"
   ]
  },
  {
   "cell_type": "code",
   "execution_count": null,
   "metadata": {},
   "outputs": [],
   "source": [
    "response = requests.get(url.format(path=\"models\"))\n",
    "\n",
    "assert response.status_code == 200\n",
    "\n",
    "response = response.json()\n",
    "\n",
    "assert response == [\"yolov5s\", \"yolov5m\", \"yolov5l\"]\n",
    "\n",
    "print(\"TEST MODELS PASSED\")"
   ]
  },
  {
   "cell_type": "markdown",
   "metadata": {},
   "source": [
    "## Requête de processing\n",
    "\n",
    "On effectue une requête de processing qui est une requête POST sur `/predict` qui contient le nom du modèle ainsi qu'une image à traiter encodée sous la forme de string (on utilise l'encodage base64)\n",
    "\n",
    "```json\n",
    "{\n",
    "    \"model\":\"yolov5s\",\n",
    "    \"image\":\"...\"\n",
    "```"
   ]
  },
  {
   "cell_type": "code",
   "execution_count": null,
   "metadata": {},
   "outputs": [],
   "source": [
    "path = Path(\"cats.jpg\")\n",
    "\n",
    "# ouverture de l'image\n",
    "image = Image.open(path)\n",
    "\n",
    "# encodage\n",
    "with io.BytesIO() as buffer:\n",
    "    image.save(buffer, format=\"PNG\")\n",
    "    buffer: str = base64.b64encode(buffer.getvalue()).decode(\"utf-8\")\n",
    "\n",
    "    # creation de la \"payload\" de la requête\n",
    "    data = {\"model\": \"yolov5s\", \"image\": buffer}\n",
    "\n",
    "    # envoi de la requête\n",
    "    response = requests.post(url.format(path=\"predict\"), json=data)\n",
    "\n",
    "assert response.status_code == 200\n",
    "\n",
    "response = response.json()\n",
    "\n",
    "assert \"time\" in response\n",
    "\n",
    "assert \"model\" in response"
   ]
  },
  {
   "cell_type": "code",
   "execution_count": null,
   "metadata": {},
   "outputs": [],
   "source": [
    "print(response)"
   ]
  }
 ],
 "metadata": {
  "kernelspec": {
   "display_name": "Python 3",
   "language": "python",
   "name": "python3"
  },
  "language_info": {
   "codemirror_mode": {
    "name": "ipython",
    "version": 3
   },
   "file_extension": ".py",
   "mimetype": "text/x-python",
   "name": "python",
   "nbconvert_exporter": "python",
   "pygments_lexer": "ipython3",
   "version": "3.8.5"
  }
 },
 "nbformat": 4,
 "nbformat_minor": 4
}
