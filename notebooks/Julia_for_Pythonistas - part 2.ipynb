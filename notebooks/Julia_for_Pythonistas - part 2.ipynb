{
 "cells": [
  {
   "cell_type": "markdown",
   "metadata": {
    "colab_type": "text",
    "id": "tQ1r1bbb0yBv"
   },
   "source": [
    "# <img src=\"https://github.com/JuliaLang/julia-logo-graphics/raw/master/images/julia-logo-color.png\" height=\"100\" /> _for Pythonistas_\n",
    "\n",
    "> TL;DR: _Julia looks and feels a lot like Python, only much faster. It's dynamic, expressive, extensible, with batteries included, in particular for Data Science_.\n",
    "\n",
    "This notebook is an **introduction to Julia for Python programmers**.\n",
    "\n",
    "It will go through the most important Python features (such as functions, basic types, list comprehensions, exceptions, generators, modules, packages, and so on) and show you how to code them in Julia."
   ]
  },
  {
   "cell_type": "markdown",
   "metadata": {
    "colab_type": "text",
    "id": "f_1dr-2W5iSU"
   },
   "source": [
    "# Getting Started with Julia in Colab/Jupyter\n",
    "You can either run this notebook in Google Colab, or using Jupyter on your own machine."
   ]
  },
  {
   "cell_type": "markdown",
   "metadata": {
    "colab_type": "text",
    "id": "6ew60wXrZM0W"
   },
   "source": [
    "## Running on Google Colab\n",
    "1. Work on a copy of this notebook: _File_ > _Save a copy in Drive_ (you will need a Google account). Alternatively, you can download the notebook using _File_ > _Download .ipynb_, then upload it to [Colab](https://colab.research.google.com/).\n",
    "2. Execute the following cell (click on it and press Ctrl+Enter) to install Julia, IJulia (the Jupyter kernel for Julia) and other packages. You can update `JULIA_VERSION` and the other parameters, if you know what you're doing. Installation takes 2-3 minutes.\n",
    "3. Reload this page (press Ctrl+R, or ⌘+R, or the F5 key) and continue to the _Checking the Installation_ section.\n",
    "\n",
    "* _Note_: If your Colab Runtime gets reset (e.g., due to inactivity), repeat steps 2 and 3."
   ]
  },
  {
   "cell_type": "code",
   "execution_count": null,
   "metadata": {
    "colab": {
     "base_uri": "https://localhost:8080/",
     "height": 1000
    },
    "colab_type": "code",
    "id": "GIeFXS0F0zww",
    "outputId": "2a989c55-97da-41bc-ec61-d5663ca88c88"
   },
   "outputs": [
    {
     "name": "stdout",
     "output_type": "stream",
     "text": [
      "Installing Julia 1.4.2 on the current Colab Runtime...\n",
      "2020-07-02 00:00:58 URL:https://storage.googleapis.com/julialang2/bin/linux/x64/1.4/julia-1.4.2-linux-x86_64.tar.gz [99093958/99093958] -> \"/tmp/julia.tar.gz\" [1]\n",
      "Installing Julia package IJulia...\n",
      "    Cloning default registries into `~/.julia`\n",
      "    Cloning registry from \"https://github.com/JuliaRegistries/General.git\"\n",
      "\u001b[2K\u001b[?25h      Added registry `General` to `~/.julia/registries/General`\n",
      "  Resolving package versions...\n",
      "  Installed VersionParsing ── v1.2.0\n",
      "  Installed MbedTLS_jll ───── v2.16.6+0\n",
      "  Installed SoftGlobalScope ─ v1.0.10\n",
      "  Installed ZeroMQ_jll ────── v4.3.2+4\n",
      "  Installed Parsers ───────── v1.0.6\n",
      "  Installed Conda ─────────── v1.4.1\n",
      "  Installed JSON ──────────── v0.21.0\n",
      "  Installed IJulia ────────── v1.21.2\n",
      "  Installed ZMQ ───────────── v1.2.1\n",
      "  Installed MbedTLS ───────── v1.0.2\n",
      "Downloading artifact: MbedTLS\n",
      "######################################################################## 100.0%\n",
      "\u001b[1A\u001b[2K\u001b[?25hDownloading artifact: ZeroMQ\n",
      "######################################################################## 100.0%\n",
      "\u001b[1A\u001b[2K\u001b[?25h   Updating `~/.julia/environments/v1.4/Project.toml`\n",
      "  [7073ff75] + IJulia v1.21.2\n",
      "   Updating `~/.julia/environments/v1.4/Manifest.toml`\n",
      "  [8f4d0f93] + Conda v1.4.1\n",
      "  [7073ff75] + IJulia v1.21.2\n",
      "  [682c06a0] + JSON v0.21.0\n",
      "  [739be429] + MbedTLS v1.0.2\n",
      "  [c8ffd9c3] + MbedTLS_jll v2.16.6+0\n",
      "  [69de0a69] + Parsers v1.0.6\n",
      "  [b85f4697] + SoftGlobalScope v1.0.10\n",
      "  [81def892] + VersionParsing v1.2.0\n",
      "  [c2297ded] + ZMQ v1.2.1\n",
      "  [8f1865be] + ZeroMQ_jll v4.3.2+4\n",
      "  [2a0f44e3] + Base64 \n",
      "  [ade2ca70] + Dates \n",
      "  [8ba89e20] + Distributed \n",
      "  [7b1f6079] + FileWatching \n",
      "  [b77e0a4c] + InteractiveUtils \n",
      "  [76f85450] + LibGit2 \n",
      "  [8f399da3] + Libdl \n",
      "  [56ddb016] + Logging \n",
      "  [d6f4376e] + Markdown \n",
      "  [a63ad114] + Mmap \n",
      "  [44cfe95a] + Pkg \n",
      "  [de0858da] + Printf \n",
      "  [3fa0cd96] + REPL \n",
      "  [9a3f8284] + Random \n",
      "  [ea8e919c] + SHA \n",
      "  [9e88b42a] + Serialization \n",
      "  [6462fe0b] + Sockets \n",
      "  [8dfed614] + Test \n",
      "  [cf7118a7] + UUIDs \n",
      "  [4ec0a83e] + Unicode \n",
      "   Building Conda ─→ `~/.julia/packages/Conda/3rPhK/deps/build.log`\n",
      "   Building IJulia → `~/.julia/packages/IJulia/DrVMH/deps/build.log`\n",
      "Precompiling project...\n",
      "Installing Julia package BenchmarkTools...\n",
      "   Updating registry at `~/.julia/registries/General`\n",
      "   Updating git-repo `https://github.com/JuliaRegistries/General.git`\n",
      "\u001b[?25l\u001b[2K\u001b[?25h  Resolving package versions...\n",
      "  Installed BenchmarkTools ─ v0.5.0\n",
      "   Updating `~/.julia/environments/v1.4/Project.toml`\n",
      "  [6e4b80f9] + BenchmarkTools v0.5.0\n",
      "   Updating `~/.julia/environments/v1.4/Manifest.toml`\n",
      "  [6e4b80f9] + BenchmarkTools v0.5.0\n",
      "  [37e2e46d] + LinearAlgebra \n",
      "  [2f01184e] + SparseArrays \n",
      "  [10745b16] + Statistics \n",
      "Precompiling project...\n",
      "Installing Julia package PyCall...\n",
      "   Updating registry at `~/.julia/registries/General`\n",
      "   Updating git-repo `https://github.com/JuliaRegistries/General.git`\n",
      "\u001b[?25l\u001b[2K\u001b[?25h  Resolving package versions...\n",
      "  Installed MacroTools ─ v0.5.5\n",
      "  Installed PyCall ───── v1.91.4\n",
      "   Updating `~/.julia/environments/v1.4/Project.toml`\n",
      "  [438e738f] + PyCall v1.91.4\n",
      "   Updating `~/.julia/environments/v1.4/Manifest.toml`\n",
      "  [1914dd2f] + MacroTools v0.5.5\n",
      "  [438e738f] + PyCall v1.91.4\n",
      "   Building PyCall → `~/.julia/packages/PyCall/zqDXB/deps/build.log`\n",
      "Precompiling project...\n",
      "Installing Julia package PyPlot...\n",
      "   Updating registry at `~/.julia/registries/General`\n",
      "   Updating git-repo `https://github.com/JuliaRegistries/General.git`\n",
      "\u001b[?25l\u001b[2K\u001b[?25h  Resolving package versions...\n",
      "  Installed Reexport ────────── v0.2.0\n",
      "  Installed LaTeXStrings ────── v1.1.0\n",
      "  Installed PyPlot ──────────── v2.9.0\n",
      "  Installed FixedPointNumbers ─ v0.8.1\n",
      "  Installed ColorTypes ──────── v0.10.5\n",
      "  Installed Colors ──────────── v0.12.3\n",
      "   Updating `~/.julia/environments/v1.4/Project.toml`\n",
      "  [d330b81b] + PyPlot v2.9.0\n",
      "   Updating `~/.julia/environments/v1.4/Manifest.toml`\n",
      "  [3da002f7] + ColorTypes v0.10.5\n",
      "  [5ae59095] + Colors v0.12.3\n",
      "  [53c48c17] + FixedPointNumbers v0.8.1\n",
      "  [b964fa9f] + LaTeXStrings v1.1.0\n",
      "  [d330b81b] + PyPlot v2.9.0\n",
      "  [189a3867] + Reexport v0.2.0\n",
      "Precompiling project...\n",
      "Installing Julia package CUDA...\n",
      "   Updating registry at `~/.julia/registries/General`\n",
      "   Updating git-repo `https://github.com/JuliaRegistries/General.git`\n",
      "\u001b[?25l\u001b[2K\u001b[?25h  Resolving package versions...\n",
      "  Installed NNPACK_jll ───────── v2018.6.22+0\n",
      "  Installed Adapt ────────────── v2.0.2\n",
      "  Installed TimerOutputs ─────── v0.5.6\n",
      "  Installed GPUCompiler ──────── v0.4.1\n",
      "  Installed BinaryProvider ───── v0.5.10\n",
      "  Installed OrderedCollections ─ v1.2.0\n",
      "  Installed DataStructures ───── v0.17.19\n",
      "  Installed CUDA ─────────────── v1.0.2\n",
      "  Installed ExprTools ────────── v0.1.1\n",
      "  Installed Requires ─────────── v1.0.1\n",
      "  Installed CEnum ────────────── v0.4.1\n",
      "  Installed AbstractFFTs ─────── v0.5.0\n",
      "  Installed NNlib ────────────── v0.7.0\n",
      "  Installed GPUArrays ────────── v4.0.0\n",
      "  Installed LLVM ─────────────── v1.7.0\n",
      "Downloading artifact: NNPACK\n",
      "######################################################################## 100.0%\n",
      "\u001b[1A\u001b[2K\u001b[?25h   Updating `~/.julia/environments/v1.4/Project.toml`\n",
      "  [052768ef] + CUDA v1.0.2\n",
      "   Updating `~/.julia/environments/v1.4/Manifest.toml`\n",
      "  [621f4979] + AbstractFFTs v0.5.0\n",
      "  [79e6a3ab] + Adapt v2.0.2\n",
      "  [b99e7846] + BinaryProvider v0.5.10\n",
      "  [fa961155] + CEnum v0.4.1\n",
      "  [052768ef] + CUDA v1.0.2\n",
      "  [864edb3b] + DataStructures v0.17.19\n",
      "  [e2ba6199] + ExprTools v0.1.1\n",
      "  [0c68f7d7] + GPUArrays v4.0.0\n",
      "  [61eb1bfa] + GPUCompiler v0.4.1\n",
      "  [929cbde3] + LLVM v1.7.0\n",
      "  [a6bfbf70] + NNPACK_jll v2018.6.22+0\n",
      "  [872c559c] + NNlib v0.7.0\n",
      "  [bac558e1] + OrderedCollections v1.2.0\n",
      "  [ae029012] + Requires v1.0.1\n",
      "  [a759f4b9] + TimerOutputs v0.5.6\n",
      "Precompiling project...\n",
      "Installing IJulia kernel...\n",
      "[ Info: Installing julia kernelspec in /root/.local/share/jupyter/kernels/julia-1.4\n",
      "\n",
      "Successfully installed julia version 1.4.2!\n",
      "Please reload this page (press Ctrl+R, ⌘+R, or the F5 key) then\n",
      "jump to the 'Checking the Installation' section.\n"
     ]
    },
    {
     "data": {
      "text/plain": []
     },
     "execution_count": 1,
     "metadata": {
      "tags": []
     },
     "output_type": "execute_result"
    }
   ],
   "source": [
    "%%shell\n",
    "set -e\n",
    "\n",
    "#---------------------------------------------------#\n",
    "JULIA_VERSION=\"1.5.1\" # any version ≥ 0.7.0\n",
    "JULIA_PACKAGES=\"IJulia BenchmarkTools PyCall PyPlot\"\n",
    "JULIA_PACKAGES_IF_GPU=\"CUDA\"\n",
    "JULIA_NUM_THREADS=4\n",
    "#---------------------------------------------------#\n",
    "\n",
    "if [ -n \"$COLAB_GPU\" ] && [ -z `which julia` ]; then\n",
    "  # Install Julia\n",
    "  JULIA_VER=`cut -d '.' -f -2 <<< \"$JULIA_VERSION\"`\n",
    "  echo \"Installing Julia $JULIA_VERSION on the current Colab Runtime...\"\n",
    "  BASE_URL=\"https://julialang-s3.julialang.org/bin/linux/x64\"\n",
    "  URL=\"$BASE_URL/$JULIA_VER/julia-$JULIA_VERSION-linux-x86_64.tar.gz\"\n",
    "  wget -nv $URL -O /tmp/julia.tar.gz # -nv means \"not verbose\"\n",
    "  tar -x -f /tmp/julia.tar.gz -C /usr/local --strip-components 1\n",
    "  rm /tmp/julia.tar.gz\n",
    "\n",
    "  # Install Packages\n",
    "  if [ \"$COLAB_GPU\" = \"1\" ]; then\n",
    "      JULIA_PACKAGES=\"$JULIA_PACKAGES $JULIA_PACKAGES_IF_GPU\"\n",
    "  fi\n",
    "  for PKG in `echo $JULIA_PACKAGES`; do\n",
    "    echo \"Installing Julia package $PKG...\"\n",
    "    julia -e 'using Pkg; pkg\"add '$PKG'; precompile;\"'\n",
    "  done\n",
    "\n",
    "  # Install kernel and rename it to \"julia\"\n",
    "  echo \"Installing IJulia kernel...\"\n",
    "  julia -e 'using IJulia; IJulia.installkernel(\"julia\", env=Dict(\n",
    "      \"JULIA_NUM_THREADS\"=>\"'\"$JULIA_NUM_THREADS\"'\"))'\n",
    "  KERNEL_DIR=`julia -e \"using IJulia; print(IJulia.kerneldir())\"`\n",
    "  KERNEL_NAME=`ls -d \"$KERNEL_DIR\"/julia*`\n",
    "  mv -f $KERNEL_NAME \"$KERNEL_DIR\"/julia  \n",
    "\n",
    "  echo ''\n",
    "  echo \"Successfully installed `julia -v`!\"\n",
    "  echo \"Please reload this page (press Ctrl+R, ⌘+R, or the F5 key) then\"\n",
    "  echo \"jump to the 'Checking the Installation' section.\"\n",
    "fi"
   ]
  },
  {
   "cell_type": "markdown",
   "metadata": {
    "colab_type": "text",
    "id": "2ZvetMlVYKXY"
   },
   "source": [
    "## Running This Notebook Locally\n",
    "If you prefer to run this notebook on your machine instead of Google Colab:\n",
    "\n",
    "* Download this notebook (File > Download .ipynb)\n",
    "* Install [Julia](https://julialang.org/downloads/)\n",
    "* Run the following command in a terminal to install `IJulia` (the Jupyter kernel for Julia), and a few packages we will use:\n",
    "```bash\n",
    "julia -e 'using Pkg\n",
    "            pkg\"add IJulia; precompile;\"\n",
    "            pkg\"add BenchmarkTools; precompile;\"\n",
    "            pkg\"add PyCall; precompile;\"\n",
    "            pkg\"add PyPlot; precompile;\"'\n",
    "```\n",
    "\n",
    "* Next, go to the directory containing this notebook:\n",
    "\n",
    "    ```julia\n",
    "cd /path/to/notebook/directory\n",
    "```\n",
    "\n",
    "* Start Jupyter Notebook:\n",
    "\n",
    "    ```bash\n",
    "julia -e 'using IJulia; IJulia.notebook()'\n",
    "```\n",
    "\n",
    "    Or replace `notebook()` with `jupyterlab()` if you prefer JupyterLab.\n",
    "\n",
    "    If you do not already have [Jupyter](https://jupyter.org/install) installed, IJulia will propose to install it. If you agree, it will automatically install a private Miniconda (just for Julia), and install Jupyter and Python inside it.\n",
    "\n",
    "* Lastly, open this notebook and skip directly to the next section."
   ]
  },
  {
   "cell_type": "markdown",
   "metadata": {
    "colab_type": "text",
    "id": "-OS3Ac017T1i"
   },
   "source": [
    "## Checking the Installation\n",
    "The `versioninfo()` function should print your Julia version and some other info about the system (if you ever ask for help or file an issue about Julia, you should always provide this information)."
   ]
  },
  {
   "cell_type": "code",
   "execution_count": 1,
   "metadata": {
    "colab": {
     "base_uri": "https://localhost:8080/",
     "height": 187
    },
    "colab_type": "code",
    "id": "EEzvvzCl1i0F",
    "outputId": "2ee483c8-0392-48c9-fec9-d25fe9ba7e94"
   },
   "outputs": [
    {
     "name": "stdout",
     "output_type": "stream",
     "text": [
      "Julia Version 1.4.2\n",
      "Commit 44fa15b150* (2020-05-23 18:35 UTC)\n",
      "Platform Info:\n",
      "  OS: Linux (x86_64-pc-linux-gnu)\n",
      "  CPU: Intel(R) Xeon(R) CPU @ 2.20GHz\n",
      "  WORD_SIZE: 64\n",
      "  LIBM: libopenlibm\n",
      "  LLVM: libLLVM-8.0.1 (ORCJIT, broadwell)\n",
      "Environment:\n",
      "  JULIA_NUM_THREADS = 4\n"
     ]
    }
   ],
   "source": [
    "versioninfo()"
   ]
  },
  {
   "cell_type": "markdown",
   "metadata": {
    "colab_type": "text",
    "id": "raewgAnU9YIv"
   },
   "source": [
    "## Comprehensions\n",
    "List comprehensions are available in Julia, just like in Python (they're usually just called \"comprehensions\" in Julia):"
   ]
  },
  {
   "cell_type": "code",
   "execution_count": 133,
   "metadata": {
    "colab": {
     "base_uri": "https://localhost:8080/",
     "height": 102
    },
    "colab_type": "code",
    "id": "H8B6Tk429aTV",
    "outputId": "746a5987-6f1e-4a5e-f94d-d3b0554f57b7"
   },
   "outputs": [
    {
     "data": {
      "text/plain": [
       "4-element Array{Int64,1}:\n",
       "  1\n",
       "  4\n",
       "  9\n",
       " 16"
      ]
     },
     "execution_count": 133,
     "metadata": {
      "tags": []
     },
     "output_type": "execute_result"
    }
   ],
   "source": [
    "a = [x^2 for x in 1:4]"
   ]
  },
  {
   "cell_type": "markdown",
   "metadata": {
    "colab_type": "text",
    "id": "1W4O8W3bQsIn"
   },
   "source": [
    "You can filter elements using an `if` clause, just like in Python:"
   ]
  },
  {
   "cell_type": "code",
   "execution_count": 134,
   "metadata": {
    "colab": {
     "base_uri": "https://localhost:8080/",
     "height": 85
    },
    "colab_type": "code",
    "id": "pK4bZX6LQzNF",
    "outputId": "ceba51ae-1d51-4e2f-a952-4bb4776a70f3"
   },
   "outputs": [
    {
     "data": {
      "text/plain": [
       "3-element Array{Int64,1}:\n",
       "  1\n",
       "  9\n",
       " 25"
      ]
     },
     "execution_count": 134,
     "metadata": {
      "tags": []
     },
     "output_type": "execute_result"
    }
   ],
   "source": [
    "a = [x^2 for x in 1:5 if x ∉ (2, 4)]"
   ]
  },
  {
   "cell_type": "markdown",
   "metadata": {
    "colab_type": "text",
    "id": "E6UjXo-wRpdf"
   },
   "source": [
    "* `a ∉ b` is equivalent to `!(a in b)` (or `a not in b` in Python). You can type `∉` with `\\notin<tab>`\n",
    "* `a ∈ b` is equivalent to `a in b`. You can type it with `\\in<tab>`"
   ]
  },
  {
   "cell_type": "markdown",
   "metadata": {
    "colab_type": "text",
    "id": "6R3umUN4Qq1x"
   },
   "source": [
    "In Julia, comprehensions can contain nested loops, just like in Python:"
   ]
  },
  {
   "cell_type": "code",
   "execution_count": 135,
   "metadata": {
    "colab": {
     "base_uri": "https://localhost:8080/",
     "height": 136
    },
    "colab_type": "code",
    "id": "o7-yPeiSlY96",
    "outputId": "dc8d0fe4-12f2-4490-bb40-ca614c83be0e"
   },
   "outputs": [
    {
     "data": {
      "text/plain": [
       "6-element Array{Tuple{Int64,Int64},1}:\n",
       " (1, 1)\n",
       " (2, 1)\n",
       " (2, 2)\n",
       " (3, 1)\n",
       " (3, 2)\n",
       " (3, 3)"
      ]
     },
     "execution_count": 135,
     "metadata": {
      "tags": []
     },
     "output_type": "execute_result"
    }
   ],
   "source": [
    "a = [(i,j) for i in 1:3 for j in 1:i]"
   ]
  },
  {
   "cell_type": "markdown",
   "metadata": {
    "colab_type": "text",
    "id": "tgmDLO9-ljg2"
   },
   "source": [
    "Here's the corresponding Python code:\n",
    "\n",
    "```python\n",
    "# PYTHON\n",
    "a = [(i, j) for i in range(1, 4) for j in range(1, i+1)]\n",
    "```"
   ]
  },
  {
   "cell_type": "markdown",
   "metadata": {
    "colab_type": "text",
    "id": "1d06vVpLi9pS"
   },
   "source": [
    "Julia comprehensions can also create multi-dimensional arrays (note the different syntax: there is only one `for`):"
   ]
  },
  {
   "cell_type": "code",
   "execution_count": 136,
   "metadata": {
    "colab": {
     "base_uri": "https://localhost:8080/",
     "height": 85
    },
    "colab_type": "code",
    "id": "gx9M3oLFjHsp",
    "outputId": "e930acc8-fb00-4729-8d49-bb7dabb8e079"
   },
   "outputs": [
    {
     "data": {
      "text/plain": [
       "3×5 Array{Int64,2}:\n",
       " 1  2  3   4   5\n",
       " 2  4  6   8  10\n",
       " 3  6  9  12  15"
      ]
     },
     "execution_count": 136,
     "metadata": {
      "tags": []
     },
     "output_type": "execute_result"
    }
   ],
   "source": [
    "a = [row * col for row in 1:3, col in 1:5]"
   ]
  },
  {
   "cell_type": "markdown",
   "metadata": {
    "colab_type": "text",
    "id": "8_MgIEMeg69D"
   },
   "source": [
    "# Dictionaries\n",
    "The syntax for dictionaries is a bit different than Python:"
   ]
  },
  {
   "cell_type": "code",
   "execution_count": 137,
   "metadata": {
    "colab": {
     "base_uri": "https://localhost:8080/",
     "height": 34
    },
    "colab_type": "code",
    "id": "IwBc2os7g9Yr",
    "outputId": "5a2c457a-64dc-478d-ddb6-cca8e7e36ffe"
   },
   "outputs": [
    {
     "name": "stdout",
     "output_type": "stream",
     "text": [
      "arbre\n"
     ]
    }
   ],
   "source": [
    "d = Dict(\"tree\"=>\"arbre\", \"love\"=>\"amour\", \"coffee\"=>\"café\")\n",
    "println(d[\"tree\"])"
   ]
  },
  {
   "cell_type": "code",
   "execution_count": 138,
   "metadata": {
    "colab": {
     "base_uri": "https://localhost:8080/",
     "height": 34
    },
    "colab_type": "code",
    "id": "rZoY383Qhaus",
    "outputId": "076464a0-98d3-461e-ed2f-ca2f43500957"
   },
   "outputs": [
    {
     "name": "stdout",
     "output_type": "stream",
     "text": [
      "pardon?\n"
     ]
    }
   ],
   "source": [
    "println(get(d, \"unknown\", \"pardon?\"))"
   ]
  },
  {
   "cell_type": "code",
   "execution_count": 139,
   "metadata": {
    "colab": {
     "base_uri": "https://localhost:8080/",
     "height": 85
    },
    "colab_type": "code",
    "id": "GOk28cgEjsjG",
    "outputId": "4164e02b-4fdc-4600-823a-4f2fb4d2da75"
   },
   "outputs": [
    {
     "data": {
      "text/plain": [
       "Base.KeySet for a Dict{String,String} with 3 entries. Keys:\n",
       "  \"coffee\"\n",
       "  \"tree\"\n",
       "  \"love\""
      ]
     },
     "execution_count": 139,
     "metadata": {
      "tags": []
     },
     "output_type": "execute_result"
    }
   ],
   "source": [
    "keys(d)"
   ]
  },
  {
   "cell_type": "code",
   "execution_count": 140,
   "metadata": {
    "colab": {
     "base_uri": "https://localhost:8080/",
     "height": 85
    },
    "colab_type": "code",
    "id": "xrt3-wu7j6TI",
    "outputId": "4fc614cf-bbf2-4045-909c-2b53135f8c3c"
   },
   "outputs": [
    {
     "data": {
      "text/plain": [
       "Base.ValueIterator for a Dict{String,String} with 3 entries. Values:\n",
       "  \"café\"\n",
       "  \"arbre\"\n",
       "  \"amour\""
      ]
     },
     "execution_count": 140,
     "metadata": {
      "tags": []
     },
     "output_type": "execute_result"
    }
   ],
   "source": [
    "values(d)"
   ]
  },
  {
   "cell_type": "code",
   "execution_count": 141,
   "metadata": {
    "colab": {
     "base_uri": "https://localhost:8080/",
     "height": 34
    },
    "colab_type": "code",
    "id": "J2kRT8MGj8Wo",
    "outputId": "e26ec8bf-7c1e-4c5a-ebe2-a0b523099c7a"
   },
   "outputs": [
    {
     "data": {
      "text/plain": [
       "true"
      ]
     },
     "execution_count": 141,
     "metadata": {
      "tags": []
     },
     "output_type": "execute_result"
    }
   ],
   "source": [
    "haskey(d, \"love\")"
   ]
  },
  {
   "cell_type": "code",
   "execution_count": 142,
   "metadata": {
    "colab": {
     "base_uri": "https://localhost:8080/",
     "height": 34
    },
    "colab_type": "code",
    "id": "PABOOmVSkJ6l",
    "outputId": "2611cf3a-0385-4886-9a2c-3db7a60146fe"
   },
   "outputs": [
    {
     "data": {
      "text/plain": [
       "true"
      ]
     },
     "execution_count": 142,
     "metadata": {
      "tags": []
     },
     "output_type": "execute_result"
    }
   ],
   "source": [
    "\"love\" in keys(d) # this is slower than haskey()"
   ]
  },
  {
   "cell_type": "markdown",
   "metadata": {
    "colab_type": "text",
    "id": "xfL2ZXK6hlEt"
   },
   "source": [
    "The equivalent Python code is of course:\n",
    "\n",
    "```python\n",
    "d = {\"tree\": \"arbre\", \"love\": \"amour\", \"coffee\": \"café\"}\n",
    "d[\"tree\"]\n",
    "d.get(\"unknown\", \"pardon?\")\n",
    "d.keys()\n",
    "d.values()\n",
    "\"love\" in d\n",
    "\"love\" in d.keys()\n",
    "```"
   ]
  },
  {
   "cell_type": "markdown",
   "metadata": {
    "colab_type": "text",
    "id": "8MI_Oti4h2sz"
   },
   "source": [
    "Dict comprehensions work as you would expect:"
   ]
  },
  {
   "cell_type": "code",
   "execution_count": 143,
   "metadata": {
    "colab": {
     "base_uri": "https://localhost:8080/",
     "height": 119
    },
    "colab_type": "code",
    "id": "ck21M2RIiEWw",
    "outputId": "6905a51b-b6a6-4cff-8af8-6ba80bba6320"
   },
   "outputs": [
    {
     "data": {
      "text/plain": [
       "Dict{Int64,Int64} with 5 entries:\n",
       "  4 => 16\n",
       "  2 => 4\n",
       "  3 => 9\n",
       "  5 => 25\n",
       "  1 => 1"
      ]
     },
     "execution_count": 143,
     "metadata": {
      "tags": []
     },
     "output_type": "execute_result"
    }
   ],
   "source": [
    "d = Dict(i=>i^2 for i in 1:5)"
   ]
  },
  {
   "cell_type": "markdown",
   "metadata": {
    "colab_type": "text",
    "id": "yeyP5pbQiK4-"
   },
   "source": [
    "Note that the items (aka \"pairs\" in Julia) are shuffled, since dictionaries are hash-based, like in Python (although Python sorts them by key for display).\n",
    "\n",
    "You can easily iterate through the dictionary's pairs like this:"
   ]
  },
  {
   "cell_type": "code",
   "execution_count": 144,
   "metadata": {
    "colab": {
     "base_uri": "https://localhost:8080/",
     "height": 102
    },
    "colab_type": "code",
    "id": "GJ1PcdDHiouw",
    "outputId": "1bdcb284-e27b-4495-abd1-460d3aba6ba6"
   },
   "outputs": [
    {
     "name": "stdout",
     "output_type": "stream",
     "text": [
      "4 maps to 16\n",
      "2 maps to 4\n",
      "3 maps to 9\n",
      "5 maps to 25\n",
      "1 maps to 1\n"
     ]
    }
   ],
   "source": [
    "for (k, v) in d\n",
    "    println(\"$k maps to $v\")\n",
    "end"
   ]
  },
  {
   "cell_type": "markdown",
   "metadata": {
    "colab_type": "text",
    "id": "oSjOvDGxi-DS"
   },
   "source": [
    "The equivalent code in Python is:\n",
    "\n",
    "```python\n",
    "# PYTHON\n",
    "d = {i: i**2 for i in range(1, 6)}\n",
    "for k, v in d.items():\n",
    "    print(f\"{k} maps to {v}\")\n",
    "```"
   ]
  },
  {
   "cell_type": "markdown",
   "metadata": {
    "colab_type": "text",
    "id": "b5Ea2USET5jD"
   },
   "source": [
    "And you can merge dictionaries like this:"
   ]
  },
  {
   "cell_type": "code",
   "execution_count": 145,
   "metadata": {
    "colab": {
     "base_uri": "https://localhost:8080/",
     "height": 102
    },
    "colab_type": "code",
    "id": "dkNkluLJT7zD",
    "outputId": "789b103e-6379-4562-9c4f-4412b454bdda"
   },
   "outputs": [
    {
     "data": {
      "text/plain": [
       "Dict{String,String} with 4 entries:\n",
       "  \"car\"    => \"voiture\"\n",
       "  \"coffee\" => \"café\"\n",
       "  \"tree\"   => \"arbre\"\n",
       "  \"love\"   => \"aimer\""
      ]
     },
     "execution_count": 145,
     "metadata": {
      "tags": []
     },
     "output_type": "execute_result"
    }
   ],
   "source": [
    "d1 = Dict(\"tree\"=>\"arbre\", \"love\"=>\"amour\", \"coffee\"=>\"café\")\n",
    "d2 = Dict(\"car\"=>\"voiture\", \"love\"=>\"aimer\")\n",
    "\n",
    "d = merge(d1, d2)"
   ]
  },
  {
   "cell_type": "markdown",
   "metadata": {
    "colab_type": "text",
    "id": "B1WRTtDXUSCt"
   },
   "source": [
    "Notice that the second dictionary has priority in case of conflict (it's `\"love\" => \"aimer\"`, not `\"love\" => \"amour\"`)."
   ]
  },
  {
   "cell_type": "markdown",
   "metadata": {
    "colab_type": "text",
    "id": "vpIXgc-4Umc8"
   },
   "source": [
    "In Python, this would be:\n",
    "\n",
    "```python\n",
    "# PYTHON\n",
    "d1 = {\"tree\": \"arbre\", \"love\": \"amour\", \"coffee\": \"café\"}\n",
    "d2 = {\"car\": \"voiture\", \"love\": \"aimer\"}\n",
    "d = {**d1, **d2}\n",
    "```"
   ]
  },
  {
   "cell_type": "markdown",
   "metadata": {
    "colab_type": "text",
    "id": "zu39af1MVaKB"
   },
   "source": [
    "Or if you want to update the first dictionary instead of creating a new one:"
   ]
  },
  {
   "cell_type": "code",
   "execution_count": 146,
   "metadata": {
    "colab": {
     "base_uri": "https://localhost:8080/",
     "height": 102
    },
    "colab_type": "code",
    "id": "5_kcU7WTVhIN",
    "outputId": "11ce572a-387d-4235-ca9f-8aaa2c0e1400"
   },
   "outputs": [
    {
     "data": {
      "text/plain": [
       "Dict{String,String} with 4 entries:\n",
       "  \"car\"    => \"voiture\"\n",
       "  \"coffee\" => \"café\"\n",
       "  \"tree\"   => \"arbre\"\n",
       "  \"love\"   => \"aimer\""
      ]
     },
     "execution_count": 146,
     "metadata": {
      "tags": []
     },
     "output_type": "execute_result"
    }
   ],
   "source": [
    "merge!(d1, d2)"
   ]
  },
  {
   "cell_type": "markdown",
   "metadata": {
    "colab_type": "text",
    "id": "9h_NjAmAVmBd"
   },
   "source": [
    "In Python, that's:\n",
    "\n",
    "```python\n",
    "# PYTHON\n",
    "d1.update(d2)\n",
    "```"
   ]
  },
  {
   "cell_type": "markdown",
   "metadata": {
    "colab_type": "text",
    "id": "6_-ibdMnjP8a"
   },
   "source": [
    "In Julia, each pair is an actual `Pair` object:"
   ]
  },
  {
   "cell_type": "code",
   "execution_count": 147,
   "metadata": {
    "colab": {
     "base_uri": "https://localhost:8080/",
     "height": 51
    },
    "colab_type": "code",
    "id": "a85m1lmJjVPP",
    "outputId": "4159af58-c7ee-442f-af13-81f3594490a0"
   },
   "outputs": [
    {
     "name": "stdout",
     "output_type": "stream",
     "text": [
      "Pair{String,String}\n",
      "tree maps to arbre\n"
     ]
    }
   ],
   "source": [
    "p = \"tree\" => \"arbre\"\n",
    "println(typeof(p))\n",
    "k, v = p\n",
    "println(\"$k maps to $v\")"
   ]
  },
  {
   "cell_type": "markdown",
   "metadata": {
    "colab_type": "text",
    "id": "mOCYFiB3N5s8"
   },
   "source": [
    "Note that any object for which a `hash()` method is implemented can be used as a key in a dictionary. This includes all the basic types like integers, floats, as well as string, tuples, etc. But it also includes arrays! In Julia, you have the freedom to use arrays as keys (unlike in Python), but make sure not to mutate these arrays after insertion, or else things will break! Indeed, the pairs will be stored in memory in a location that depends on the hash of the key at insertion time, so if that key changes afterwards, you won't be able to find the pair anymore:"
   ]
  },
  {
   "cell_type": "code",
   "execution_count": 148,
   "metadata": {
    "colab": {
     "base_uri": "https://localhost:8080/",
     "height": 85
    },
    "colab_type": "code",
    "id": "0bYNOLHiOgnl",
    "outputId": "af634150-9856-42f7-da19-c3cc304e5df4"
   },
   "outputs": [
    {
     "name": "stdout",
     "output_type": "stream",
     "text": [
      "The dictionary is: Dict([1, 2, 3] => \"My array\")\n",
      "Indexing works fine as long as the array is unchanged: My array\n",
      "This is the dictionary now: Dict([10, 2, 3] => \"My array\")\n"
     ]
    },
    {
     "data": {
      "text/plain": [
       "KeyError([10, 2, 3])"
      ]
     },
     "execution_count": 148,
     "metadata": {
      "tags": []
     },
     "output_type": "execute_result"
    }
   ],
   "source": [
    "a = [1, 2, 3]\n",
    "d = Dict(a => \"My array\")\n",
    "println(\"The dictionary is: $d\")\n",
    "println(\"Indexing works fine as long as the array is unchanged: \", d[a])\n",
    "a[1] = 10\n",
    "println(\"This is the dictionary now: $d\")\n",
    "try\n",
    "    println(\"Key changed, indexing is now broken: \", d[a])\n",
    "catch ex\n",
    "    ex\n",
    "end"
   ]
  },
  {
   "cell_type": "markdown",
   "metadata": {
    "colab_type": "text",
    "id": "zr26SHedQJTE"
   },
   "source": [
    "However, it's still possible to iterate through the keys, the values or the pairs:"
   ]
  },
  {
   "cell_type": "code",
   "execution_count": 149,
   "metadata": {
    "colab": {
     "base_uri": "https://localhost:8080/",
     "height": 34
    },
    "colab_type": "code",
    "id": "5e6eZEq9QUt4",
    "outputId": "7c2107c2-f6a6-45d8-a24f-012d7eb7112c"
   },
   "outputs": [
    {
     "name": "stdout",
     "output_type": "stream",
     "text": [
      "[10, 2, 3] => \"My array\"\n"
     ]
    }
   ],
   "source": [
    "for pair in d\n",
    "    println(pair)\n",
    "end"
   ]
  },
  {
   "cell_type": "markdown",
   "metadata": {
    "colab_type": "text",
    "id": "Ie9QcVsYWDFh"
   },
   "source": [
    "|Julia|Python\n",
    "|-----|------\n",
    "|`Dict(\"tree\"=>\"arbre\", \"love\"=>\"amour\")` | `{\"tree\": \"arbre\", \"love\": \"amour\"}`\n",
    "|`d[\"arbre\"]` | `d[\"arbre\"]`\n",
    "|`get(d, \"unknown\", \"default\")` | `d.get(\"unknown\", \"default\")`\n",
    "|`keys(d)` | `d.keys()`\n",
    "|`values(d)` | `d.values()`\n",
    "|`haskey(d, k)` | `k in d`\n",
    "|`Dict(i=>i^2 for i in 1:4)` | `{i: i**2 for i in 1:4}`\n",
    "|`for (k, v) in d` | `for k, v in d.items():`\n",
    "|`merge(d1, d2)` | `{**d1, **d2}`\n",
    "|`merge!(d1, d2)` | `d1.update(d2)`"
   ]
  },
  {
   "cell_type": "markdown",
   "metadata": {
    "colab_type": "text",
    "id": "rTWmi1P8jlDq"
   },
   "source": [
    "# Sets"
   ]
  },
  {
   "cell_type": "markdown",
   "metadata": {
    "colab_type": "text",
    "id": "WlTKQaxxmLde"
   },
   "source": [
    "Let's create a couple sets:"
   ]
  },
  {
   "cell_type": "code",
   "execution_count": 150,
   "metadata": {
    "colab": {
     "base_uri": "https://localhost:8080/",
     "height": 119
    },
    "colab_type": "code",
    "id": "sQ_wNw0Mjmqs",
    "outputId": "aa711bee-67ae-4423-fd54-75a0ad551d56"
   },
   "outputs": [
    {
     "data": {
      "text/plain": [
       "Set{Int64} with 5 elements:\n",
       "  7\n",
       "  2\n",
       "  3\n",
       "  11\n",
       "  5"
      ]
     },
     "execution_count": 150,
     "metadata": {
      "tags": []
     },
     "output_type": "execute_result"
    }
   ],
   "source": [
    "odd = Set([1, 3, 5, 7, 9, 11])\n",
    "prime = Set([2, 3, 5, 7, 11])"
   ]
  },
  {
   "cell_type": "markdown",
   "metadata": {
    "colab_type": "text",
    "id": "w7JZBRWbsqiL"
   },
   "source": [
    "The order of sets is not guaranteed, just like in Python."
   ]
  },
  {
   "cell_type": "markdown",
   "metadata": {
    "colab_type": "text",
    "id": "JEQ96Ljkm_0R"
   },
   "source": [
    "Use `in` or `∈` (type `\\in<tab>`) to check whether a set contains a given value:"
   ]
  },
  {
   "cell_type": "code",
   "execution_count": 151,
   "metadata": {
    "colab": {
     "base_uri": "https://localhost:8080/",
     "height": 34
    },
    "colab_type": "code",
    "id": "oRd2gpWvm9mF",
    "outputId": "30bd4e83-e5bf-405c-d626-af20e348772c"
   },
   "outputs": [
    {
     "data": {
      "text/plain": [
       "true"
      ]
     },
     "execution_count": 151,
     "metadata": {
      "tags": []
     },
     "output_type": "execute_result"
    }
   ],
   "source": [
    "5 ∈ odd"
   ]
  },
  {
   "cell_type": "code",
   "execution_count": 152,
   "metadata": {
    "colab": {
     "base_uri": "https://localhost:8080/",
     "height": 34
    },
    "colab_type": "code",
    "id": "pRQN8XNWnQgj",
    "outputId": "b63a37f8-f383-404a-efde-28ec6c4c05eb"
   },
   "outputs": [
    {
     "data": {
      "text/plain": [
       "true"
      ]
     },
     "execution_count": 152,
     "metadata": {
      "tags": []
     },
     "output_type": "execute_result"
    }
   ],
   "source": [
    "5 in odd"
   ]
  },
  {
   "cell_type": "markdown",
   "metadata": {
    "colab_type": "text",
    "id": "WyBv6ethnRw8"
   },
   "source": [
    "Both of these expressions are equivalent to:"
   ]
  },
  {
   "cell_type": "code",
   "execution_count": 153,
   "metadata": {
    "colab": {
     "base_uri": "https://localhost:8080/",
     "height": 34
    },
    "colab_type": "code",
    "id": "Twamj50pnXQE",
    "outputId": "f5c46af7-196d-4519-8e9e-f67cc2d3fe87"
   },
   "outputs": [
    {
     "data": {
      "text/plain": [
       "true"
      ]
     },
     "execution_count": 153,
     "metadata": {
      "tags": []
     },
     "output_type": "execute_result"
    }
   ],
   "source": [
    "in(5, odd)"
   ]
  },
  {
   "cell_type": "markdown",
   "metadata": {
    "colab_type": "text",
    "id": "MHQ5qnLZmPhR"
   },
   "source": [
    "Now let's get the union of these two sets:"
   ]
  },
  {
   "cell_type": "code",
   "execution_count": 154,
   "metadata": {
    "colab": {
     "base_uri": "https://localhost:8080/",
     "height": 153
    },
    "colab_type": "code",
    "id": "mfuMOXDdmGKA",
    "outputId": "d03512cb-cce4-4975-8ad3-566d0228b6bb"
   },
   "outputs": [
    {
     "data": {
      "text/plain": [
       "Set{Int64} with 7 elements:\n",
       "  7\n",
       "  9\n",
       "  2\n",
       "  3\n",
       "  11\n",
       "  5\n",
       "  1"
      ]
     },
     "execution_count": 154,
     "metadata": {
      "tags": []
     },
     "output_type": "execute_result"
    }
   ],
   "source": [
    "odd ∪ prime"
   ]
  },
  {
   "cell_type": "markdown",
   "metadata": {
    "colab_type": "text",
    "id": "xS6GLhE5mRbD"
   },
   "source": [
    "∪ is the union symbol, not a U. To type this character, type `\\cup<tab>` (it has the shape of a cup). Alternatively, you can just use the `union()` function:"
   ]
  },
  {
   "cell_type": "code",
   "execution_count": 155,
   "metadata": {
    "colab": {
     "base_uri": "https://localhost:8080/",
     "height": 153
    },
    "colab_type": "code",
    "id": "G_yju4QvmerU",
    "outputId": "e62c997d-80ef-4c7a-ebdb-86c8c8993b22"
   },
   "outputs": [
    {
     "data": {
      "text/plain": [
       "Set{Int64} with 7 elements:\n",
       "  7\n",
       "  9\n",
       "  2\n",
       "  3\n",
       "  11\n",
       "  5\n",
       "  1"
      ]
     },
     "execution_count": 155,
     "metadata": {
      "tags": []
     },
     "output_type": "execute_result"
    }
   ],
   "source": [
    "union(odd, prime)"
   ]
  },
  {
   "cell_type": "markdown",
   "metadata": {
    "colab_type": "text",
    "id": "Y8l4331img0-"
   },
   "source": [
    "Now let's get the intersection using the ∩ symbol (type `\\cap<tab>`):"
   ]
  },
  {
   "cell_type": "code",
   "execution_count": 156,
   "metadata": {
    "colab": {
     "base_uri": "https://localhost:8080/",
     "height": 102
    },
    "colab_type": "code",
    "id": "NazqlxbGmkZM",
    "outputId": "7a466361-b41c-498d-fe1f-b1e45a439eb1"
   },
   "outputs": [
    {
     "data": {
      "text/plain": [
       "Set{Int64} with 4 elements:\n",
       "  7\n",
       "  3\n",
       "  11\n",
       "  5"
      ]
     },
     "execution_count": 156,
     "metadata": {
      "tags": []
     },
     "output_type": "execute_result"
    }
   ],
   "source": [
    "odd ∩ prime"
   ]
  },
  {
   "cell_type": "markdown",
   "metadata": {
    "colab_type": "text",
    "id": "X9-MDgxWmzXl"
   },
   "source": [
    "Or use the `intersect()` function:"
   ]
  },
  {
   "cell_type": "code",
   "execution_count": 157,
   "metadata": {
    "colab": {
     "base_uri": "https://localhost:8080/",
     "height": 102
    },
    "colab_type": "code",
    "id": "zcEEMfG4m1l9",
    "outputId": "ad125fef-dd61-4edd-9962-804908593dee"
   },
   "outputs": [
    {
     "data": {
      "text/plain": [
       "Set{Int64} with 4 elements:\n",
       "  7\n",
       "  3\n",
       "  11\n",
       "  5"
      ]
     },
     "execution_count": 157,
     "metadata": {
      "tags": []
     },
     "output_type": "execute_result"
    }
   ],
   "source": [
    "intersect(odd, prime)"
   ]
  },
  {
   "cell_type": "markdown",
   "metadata": {
    "colab_type": "text",
    "id": "QSMs88owpLb2"
   },
   "source": [
    "Next, let's get the [set difference](https://en.wikipedia.org/wiki/Complement_(set_theory)#Relative_complement) and the [symetric difference](https://en.wikipedia.org/wiki/Symmetric_difference) between these two sets:"
   ]
  },
  {
   "cell_type": "code",
   "execution_count": 158,
   "metadata": {
    "colab": {
     "base_uri": "https://localhost:8080/",
     "height": 68
    },
    "colab_type": "code",
    "id": "-Tpr5_BBpQH_",
    "outputId": "acb6fdfc-9cb5-42b4-c08f-6096c9e13d52"
   },
   "outputs": [
    {
     "data": {
      "text/plain": [
       "Set{Int64} with 2 elements:\n",
       "  9\n",
       "  1"
      ]
     },
     "execution_count": 158,
     "metadata": {
      "tags": []
     },
     "output_type": "execute_result"
    }
   ],
   "source": [
    "setdiff(odd, prime) # values in odd but not in prime"
   ]
  },
  {
   "cell_type": "code",
   "execution_count": 159,
   "metadata": {
    "colab": {
     "base_uri": "https://localhost:8080/",
     "height": 85
    },
    "colab_type": "code",
    "id": "of_EQE1CpvpO",
    "outputId": "7ee809e3-46d6-4038-8b8c-b51acaddec61"
   },
   "outputs": [
    {
     "data": {
      "text/plain": [
       "Set{Int64} with 3 elements:\n",
       "  9\n",
       "  2\n",
       "  1"
      ]
     },
     "execution_count": 159,
     "metadata": {
      "tags": []
     },
     "output_type": "execute_result"
    }
   ],
   "source": [
    "symdiff(odd, prime) # values that are not in the intersection"
   ]
  },
  {
   "cell_type": "markdown",
   "metadata": {
    "colab_type": "text",
    "id": "NH_-NbzPsSQ_"
   },
   "source": [
    "Lastly, set comprehensions work just fine:"
   ]
  },
  {
   "cell_type": "code",
   "execution_count": 160,
   "metadata": {
    "colab": {
     "base_uri": "https://localhost:8080/",
     "height": 102
    },
    "colab_type": "code",
    "id": "LMIiE-0psXvs",
    "outputId": "eb8f23be-2593-4824-bca9-2c13211d1ae4"
   },
   "outputs": [
    {
     "data": {
      "text/plain": [
       "Set{Int64} with 4 elements:\n",
       "  4\n",
       "  9\n",
       "  16\n",
       "  1"
      ]
     },
     "execution_count": 160,
     "metadata": {
      "tags": []
     },
     "output_type": "execute_result"
    }
   ],
   "source": [
    "Set([i^2 for i in 1:4])"
   ]
  },
  {
   "cell_type": "markdown",
   "metadata": {
    "colab_type": "text",
    "id": "DBJ4XaVmoeUY"
   },
   "source": [
    "The equivalent Python code is:\n",
    "\n",
    "```python\n",
    "# PYTHON\n",
    "odds = {1, 3, 5, 7, 9, 11}\n",
    "primes = {2, 3, 5, 7, 11}\n",
    "5 in primes\n",
    "odds | primes # union\n",
    "odds.union(primes)\n",
    "odds & primes # intersection\n",
    "odds.intersection(primes)\n",
    "odds - primes # set difference\n",
    "odds.difference(primes)\n",
    "odds ^ primes # symmetric difference\n",
    "odds.symmetric_difference(primes)\n",
    "{i**2 for i in range(1, 5)}\n",
    "```"
   ]
  },
  {
   "cell_type": "markdown",
   "metadata": {
    "colab_type": "text",
    "id": "vm1zWNsJRcFV"
   },
   "source": [
    "Note that you can store any hashable object in a `Set` (i.e., any instance of a type for which the `hash()` method is implemented). This includes arrays, unlike in Python. Just like for dictionary keys, you can add arrays to sets, but make sure not to mutate them after insertion."
   ]
  },
  {
   "cell_type": "markdown",
   "metadata": {
    "colab_type": "text",
    "id": "nPrJ9Ih9X4ak"
   },
   "source": [
    "|Julia|Python\n",
    "|-----|------\n",
    "|`Set([1, 3, 5, 7])` | `{1, 3, 5, 7}`\n",
    "|`5 in odd` | `5 in odd`\n",
    "|`Set([i^2 for i in 1:4])` | `{i**2 for i in range(1, 5)}`\n",
    "|`odd ∪ primes` | `odd | primes`\n",
    "|`union(odd, primes)` | `odd.union(primes)`\n",
    "|`odd ∩ primes` | `odd & primes`\n",
    "|`insersect(odd, primes)` | `odd.intersection(primes)`\n",
    "|`setdiff(odd, primes)` | `odd - primes` or `odd.difference(primes)`\n",
    "|`symdiff(odd, primes)` | `odd ^ primes` or `odd.symmetric_difference(primes)`"
   ]
  },
  {
   "cell_type": "markdown",
   "metadata": {
    "colab_type": "text",
    "id": "AOfz9B7ZF__1"
   },
   "source": [
    "# Enums"
   ]
  },
  {
   "cell_type": "markdown",
   "metadata": {
    "colab_type": "text",
    "id": "RozBUdxsGgKv"
   },
   "source": [
    "To create an enum, use the `@enum` macro:"
   ]
  },
  {
   "cell_type": "code",
   "execution_count": 161,
   "metadata": {
    "colab": {},
    "colab_type": "code",
    "id": "R6HMPDyvGB_k"
   },
   "outputs": [],
   "source": [
    "@enum Fruit apple=1 banana=2 orange=3"
   ]
  },
  {
   "cell_type": "markdown",
   "metadata": {
    "colab_type": "text",
    "id": "dxFUJ9boGmkh"
   },
   "source": [
    "This creates the `Fruit` enum, with 3 possible values. It also binds the names to the values:"
   ]
  },
  {
   "cell_type": "code",
   "execution_count": 162,
   "metadata": {
    "colab": {
     "base_uri": "https://localhost:8080/",
     "height": 34
    },
    "colab_type": "code",
    "id": "czHDZ6MRGUvL",
    "outputId": "548bcd90-16bb-4588-87f4-64f3cfe7b6be"
   },
   "outputs": [
    {
     "data": {
      "text/plain": [
       "banana::Fruit = 2"
      ]
     },
     "execution_count": 162,
     "metadata": {
      "tags": []
     },
     "output_type": "execute_result"
    }
   ],
   "source": [
    "banana"
   ]
  },
  {
   "cell_type": "markdown",
   "metadata": {
    "colab_type": "text",
    "id": "7ufyorAsGvzv"
   },
   "source": [
    "Or you can get a `Fruit` instance using the value:"
   ]
  },
  {
   "cell_type": "code",
   "execution_count": 163,
   "metadata": {
    "colab": {
     "base_uri": "https://localhost:8080/",
     "height": 34
    },
    "colab_type": "code",
    "id": "NVgfYUBWGObS",
    "outputId": "aade685b-b02b-405e-e2b1-a81394d48107"
   },
   "outputs": [
    {
     "data": {
      "text/plain": [
       "banana::Fruit = 2"
      ]
     },
     "execution_count": 163,
     "metadata": {
      "tags": []
     },
     "output_type": "execute_result"
    }
   ],
   "source": [
    "Fruit(2)"
   ]
  },
  {
   "cell_type": "markdown",
   "metadata": {
    "colab_type": "text",
    "id": "ctxEepMNG_-4"
   },
   "source": [
    "And you can get all the instances of the enum easily:"
   ]
  },
  {
   "cell_type": "code",
   "execution_count": 164,
   "metadata": {
    "colab": {
     "base_uri": "https://localhost:8080/",
     "height": 34
    },
    "colab_type": "code",
    "id": "yPy9trwtGR1y",
    "outputId": "2064ba5d-2253-4fce-9c5b-208c97333245"
   },
   "outputs": [
    {
     "data": {
      "text/plain": [
       "(apple, banana, orange)"
      ]
     },
     "execution_count": 164,
     "metadata": {
      "tags": []
     },
     "output_type": "execute_result"
    }
   ],
   "source": [
    "instances(Fruit)"
   ]
  },
  {
   "cell_type": "markdown",
   "metadata": {
    "colab_type": "text",
    "id": "bBCsVIXEHD29"
   },
   "source": [
    "|Julia|Python\n",
    "|-----|------\n",
    "|`@enum Fruit apple=1 banana=2 orange=3` | `from enum import Enum`<br />`class Fruit(Enum):`<br />&nbsp;&nbsp;&nbsp;&nbsp;`APPLE = 1`<br />&nbsp;&nbsp;&nbsp;&nbsp;`BANANA = 2`<br />&nbsp;&nbsp;&nbsp;&nbsp;`ORANGE = 3`\n",
    "| `Fruit(2) === banana` | `Fruit(2) is Fruit.BANANA`\n",
    "| `instances(Fruit)` | `dir(Fruit)`\n"
   ]
  },
  {
   "cell_type": "markdown",
   "metadata": {
    "colab_type": "text",
    "id": "7OOe0m7pLj80"
   },
   "source": [
    "# Object Identity\n",
    "In the previous example, `Fruit(2)` and `banana` refer to the same object, not just two objects that happen to be equal. You can verify using the `===` operator, which is the equivalent of Python's `is` operator:"
   ]
  },
  {
   "cell_type": "code",
   "execution_count": 165,
   "metadata": {
    "colab": {
     "base_uri": "https://localhost:8080/",
     "height": 34
    },
    "colab_type": "code",
    "id": "G6cpTrQcGUP4",
    "outputId": "5a90dd02-3129-43e8-ce73-406ca4342d95"
   },
   "outputs": [
    {
     "data": {
      "text/plain": [
       "true"
      ]
     },
     "execution_count": 165,
     "metadata": {
      "tags": []
     },
     "output_type": "execute_result"
    }
   ],
   "source": [
    "banana === Fruit(2)"
   ]
  },
  {
   "cell_type": "markdown",
   "metadata": {
    "colab_type": "text",
    "id": "4QPR-8TeL5Wy"
   },
   "source": [
    "You can also check this by looking at their `objectid()`, which is the equivalent of Python's `id()` function:"
   ]
  },
  {
   "cell_type": "code",
   "execution_count": 166,
   "metadata": {
    "colab": {
     "base_uri": "https://localhost:8080/",
     "height": 34
    },
    "colab_type": "code",
    "id": "q6qYhWnyMBpf",
    "outputId": "b941b959-ce6e-405b-8fa8-026ed1bf3359"
   },
   "outputs": [
    {
     "data": {
      "text/plain": [
       "0x360d21ab82c8ee67"
      ]
     },
     "execution_count": 166,
     "metadata": {
      "tags": []
     },
     "output_type": "execute_result"
    }
   ],
   "source": [
    "objectid(banana)"
   ]
  },
  {
   "cell_type": "code",
   "execution_count": 167,
   "metadata": {
    "colab": {
     "base_uri": "https://localhost:8080/",
     "height": 34
    },
    "colab_type": "code",
    "id": "sT3hq8f_MEZN",
    "outputId": "fd1fc25c-6c2f-4948-9c41-d5eeee33b4a3"
   },
   "outputs": [
    {
     "data": {
      "text/plain": [
       "0x360d21ab82c8ee67"
      ]
     },
     "execution_count": 167,
     "metadata": {
      "tags": []
     },
     "output_type": "execute_result"
    }
   ],
   "source": [
    "objectid(Fruit(2))"
   ]
  },
  {
   "cell_type": "code",
   "execution_count": 168,
   "metadata": {
    "colab": {},
    "colab_type": "code",
    "id": "4ZrS4322MKfN"
   },
   "outputs": [],
   "source": [
    "a = [1, 2, 4]\n",
    "b = [1, 2, 4]\n",
    "@assert a == b  # a and b are equal\n",
    "@assert a !== b # but they are not the same object"
   ]
  },
  {
   "cell_type": "markdown",
   "metadata": {
    "colab_type": "text",
    "id": "K3EO6cQmMW0W"
   },
   "source": [
    "|Julia|Python\n",
    "|-----|------\n",
    "|`a === b` | `a is b`\n",
    "|`a !== b` | `a is not b`\n",
    "|`objectid(obj)` | `id(obj)`"
   ]
  },
  {
   "cell_type": "markdown",
   "metadata": {
    "colab_type": "text",
    "id": "d_ATAuXREZx9"
   },
   "source": [
    "# Other Collections\n",
    "\n",
    "For the Julia equivalent of Python's other collections, namely `defaultdict`, `deque`, `OrderedDict`, and `Counter`, check out these libraries:\n",
    "\n",
    "* https://github.com/JuliaCollections/DataStructures.jl\n",
    "* https://github.com/JuliaCollections/OrderedCollections.jl\n",
    "* https://github.com/andyferris/Dictionaries.jl"
   ]
  },
  {
   "cell_type": "markdown",
   "metadata": {
    "colab_type": "text",
    "id": "GBYBDAsF6iDC"
   },
   "source": [
    "Now let's looks at various iteration constructs."
   ]
  },
  {
   "cell_type": "markdown",
   "metadata": {
    "colab_type": "text",
    "id": "jApml2wDacs2"
   },
   "source": [
    "# Iteration Tools"
   ]
  },
  {
   "cell_type": "markdown",
   "metadata": {
    "colab_type": "text",
    "id": "AW2vVurj9E7r"
   },
   "source": [
    "## Generator Expressions\n",
    "\n",
    "Just like in Python, a generator expression resembles a list comprehension, but without the square brackets, and it returns a generator instead of a list. Here's a much shorter implementation of the `estimate_pi()` function using a generator expression:"
   ]
  },
  {
   "cell_type": "code",
   "execution_count": 169,
   "metadata": {
    "colab": {},
    "colab_type": "code",
    "id": "7pLMhQjV6z5l"
   },
   "outputs": [],
   "source": [
    "function estimate_pi2(n)\n",
    "    4 * sum((isodd(i) ? -1 : 1)/(2i+1) for i in 0:n)\n",
    "end\n",
    "\n",
    "@assert estimate_pi(100) == estimate_pi2(100)"
   ]
  },
  {
   "cell_type": "markdown",
   "metadata": {
    "colab_type": "text",
    "id": "u-WAtc-eDcp9"
   },
   "source": [
    "That's very similar to the corresponding Python code:\n",
    "\n",
    "```python\n",
    "# PYTHON\n",
    "def estimate_pi2(n):\n",
    "  return 4 * sum((-1 if i%2==1 else 1)/(2*i+1) for i in range(n+1))\n",
    "\n",
    "assert estimate_pi(100) == estimate_pi2(100)\n",
    "```"
   ]
  },
  {
   "cell_type": "markdown",
   "metadata": {
    "colab_type": "text",
    "id": "OHaPPceEKO3r"
   },
   "source": [
    "## `zip`, `enumerate`, `collect`"
   ]
  },
  {
   "cell_type": "markdown",
   "metadata": {
    "colab_type": "text",
    "id": "GBj2mvbiI9cP"
   },
   "source": [
    "The `zip()` function works much like in Python:"
   ]
  },
  {
   "cell_type": "code",
   "execution_count": 170,
   "metadata": {
    "colab": {
     "base_uri": "https://localhost:8080/",
     "height": 68
    },
    "colab_type": "code",
    "id": "-UsOasVeJCWe",
    "outputId": "73812428-29f8-4443-bb9f-c0ac43d60bc2"
   },
   "outputs": [
    {
     "name": "stdout",
     "output_type": "stream",
     "text": [
      "10: Ten\n",
      "11: Eleven\n",
      "12: Twelve\n"
     ]
    }
   ],
   "source": [
    "for (i, s) in zip(10:13, [\"Ten\", \"Eleven\", \"Twelve\"])\n",
    "    println(i, \": \", s)\n",
    "end"
   ]
  },
  {
   "cell_type": "markdown",
   "metadata": {
    "colab_type": "text",
    "id": "hu_eJ7okKolh"
   },
   "source": [
    "Notice that the parentheses in `for (i, s)` are required in Julia, as opposed to Python."
   ]
  },
  {
   "cell_type": "markdown",
   "metadata": {
    "colab_type": "text",
    "id": "3y2q4YhNJOQy"
   },
   "source": [
    "The `enumerate()` function also works like in Python, except of course it is 1-indexed:"
   ]
  },
  {
   "cell_type": "code",
   "execution_count": 171,
   "metadata": {
    "colab": {
     "base_uri": "https://localhost:8080/",
     "height": 68
    },
    "colab_type": "code",
    "id": "bCTejeu0Ji_8",
    "outputId": "c6c1ebf6-22ff-441b-d9a0-10b60ffe5dc2"
   },
   "outputs": [
    {
     "name": "stdout",
     "output_type": "stream",
     "text": [
      "1: One\n",
      "2: Two\n",
      "3: Three\n"
     ]
    }
   ],
   "source": [
    "for (i, s) in enumerate([\"One\", \"Two\", \"Three\"])\n",
    "    println(i, \": \", s)\n",
    "end"
   ]
  },
  {
   "cell_type": "markdown",
   "metadata": {
    "colab_type": "text",
    "id": "vs4_UjWnJy20"
   },
   "source": [
    "To pull the values of a generator into an array, use `collect()`:"
   ]
  },
  {
   "cell_type": "code",
   "execution_count": 172,
   "metadata": {
    "colab": {
     "base_uri": "https://localhost:8080/",
     "height": 119
    },
    "colab_type": "code",
    "id": "42T1NJKhKD1w",
    "outputId": "2d853d90-90f0-4e4a-aaba-9d3f4e2133e8"
   },
   "outputs": [
    {
     "data": {
      "text/plain": [
       "5-element Array{Int64,1}:\n",
       " 1\n",
       " 2\n",
       " 3\n",
       " 4\n",
       " 5"
      ]
     },
     "execution_count": 172,
     "metadata": {
      "tags": []
     },
     "output_type": "execute_result"
    }
   ],
   "source": [
    "collect(1:5)"
   ]
  },
  {
   "cell_type": "markdown",
   "metadata": {
    "colab_type": "text",
    "id": "MQMx3bjkKFpk"
   },
   "source": [
    "A shorter syntax for that is:"
   ]
  },
  {
   "cell_type": "code",
   "execution_count": 173,
   "metadata": {
    "colab": {
     "base_uri": "https://localhost:8080/",
     "height": 119
    },
    "colab_type": "code",
    "id": "2IEoo_TvKIDm",
    "outputId": "d2703258-5891-40eb-f0dd-9fa685079602"
   },
   "outputs": [
    {
     "data": {
      "text/plain": [
       "5-element Array{Int64,1}:\n",
       " 1\n",
       " 2\n",
       " 3\n",
       " 4\n",
       " 5"
      ]
     },
     "execution_count": 173,
     "metadata": {
      "tags": []
     },
     "output_type": "execute_result"
    }
   ],
   "source": [
    "[1:5;]"
   ]
  },
  {
   "cell_type": "markdown",
   "metadata": {
    "colab_type": "text",
    "id": "gbub1jhlKc0V"
   },
   "source": [
    "The equivalent Python code is:\n",
    "\n",
    "```python\n",
    "# PYTHON\n",
    "list(range(1, 6))\n",
    "```"
   ]
  },
  {
   "cell_type": "markdown",
   "metadata": {
    "colab_type": "text",
    "id": "CumclAQ4TTpq"
   },
   "source": [
    "## Generators\n",
    "In Python, you can easily write a generator function to create an object that will behave like an iterator. For example, let's create a generator for the Fibonacci sequence (where each number is the sum of the two previous numbers):\n",
    "\n",
    "```python\n",
    "def fibonacci(n):\n",
    "    a, b = 1, 1\n",
    "    for i in range(n):\n",
    "      yield a\n",
    "      a, b = b, a + b\n",
    "\n",
    "for f in fibonacci(10):\n",
    "    print(f)\n",
    "```\n"
   ]
  },
  {
   "cell_type": "markdown",
   "metadata": {
    "colab_type": "text",
    "id": "bfjsba6gFcMS"
   },
   "source": [
    "This is also quite easy in Julia:"
   ]
  },
  {
   "cell_type": "code",
   "execution_count": 174,
   "metadata": {
    "colab": {
     "base_uri": "https://localhost:8080/",
     "height": 187
    },
    "colab_type": "code",
    "id": "cQZ0cowPUC8x",
    "outputId": "9cdb577c-23ce-4c58-894d-642e9ddc5f33"
   },
   "outputs": [
    {
     "name": "stdout",
     "output_type": "stream",
     "text": [
      "1\n",
      "1\n",
      "2\n",
      "3\n",
      "5\n",
      "8\n",
      "13\n",
      "21\n",
      "34\n",
      "55\n"
     ]
    }
   ],
   "source": [
    "function fibonacci(n)\n",
    "    Channel() do ch\n",
    "        a, b = 1, 1\n",
    "        for i in 1:n\n",
    "            put!(ch, a)\n",
    "            a, b = b, a + b\n",
    "        end\n",
    "    end\n",
    "end\n",
    "\n",
    "for f in fibonacci(10)\n",
    "    println(f)\n",
    "end"
   ]
  },
  {
   "cell_type": "markdown",
   "metadata": {
    "colab_type": "text",
    "id": "VWkUE9FRFfQI"
   },
   "source": [
    "The `Channel` type is part of the API for tasks and coroutines. We'll discuss these later."
   ]
  },
  {
   "cell_type": "markdown",
   "metadata": {
    "colab_type": "text",
    "id": "lisTUktNlbQt"
   },
   "source": [
    "Now let's take a closer look at functions."
   ]
  },
  {
   "cell_type": "markdown",
   "metadata": {
    "colab_type": "text",
    "id": "jKpjTHMbao6r"
   },
   "source": [
    "# Functions"
   ]
  },
  {
   "cell_type": "markdown",
   "metadata": {
    "colab_type": "text",
    "id": "k-IIQF4vP7w9"
   },
   "source": [
    "## Arguments\n",
    "Julia functions supports positional arguments and default values:"
   ]
  },
  {
   "cell_type": "code",
   "execution_count": 175,
   "metadata": {
    "colab": {
     "base_uri": "https://localhost:8080/",
     "height": 34
    },
    "colab_type": "code",
    "id": "BnVg7UKNQQ4M",
    "outputId": "d67de002-08f7-494b-d9d3-0673fdda524d"
   },
   "outputs": [
    {
     "name": "stdout",
     "output_type": "stream",
     "text": [
      "x=10, y=20, width=30, height=4\n"
     ]
    }
   ],
   "source": [
    "function draw_face(x, y, width=3, height=4)\n",
    "    println(\"x=$x, y=$y, width=$width, height=$height\")\n",
    "end\n",
    "\n",
    "draw_face(10, 20, 30)"
   ]
  },
  {
   "cell_type": "markdown",
   "metadata": {
    "colab_type": "text",
    "id": "AmKSe9fYRMxb"
   },
   "source": [
    "However, unlike in Python, positional arguments must not be named when the function is called:"
   ]
  },
  {
   "cell_type": "code",
   "execution_count": 176,
   "metadata": {
    "colab": {
     "base_uri": "https://localhost:8080/",
     "height": 34
    },
    "colab_type": "code",
    "id": "fB1flNxMRAo4",
    "outputId": "f21970ce-232b-47ed-cfb5-6528728ca6ef"
   },
   "outputs": [
    {
     "data": {
      "text/plain": [
       "MethodError(var\"#draw_face##kw\"(), ((width = 30,), draw_face, 10, 20), 0x0000000000006a3e)"
      ]
     },
     "execution_count": 176,
     "metadata": {
      "tags": []
     },
     "output_type": "execute_result"
    }
   ],
   "source": [
    "try\n",
    "    draw_face(10, 20, width=30)\n",
    "catch ex\n",
    "    ex\n",
    "end"
   ]
  },
  {
   "cell_type": "markdown",
   "metadata": {
    "colab_type": "text",
    "id": "yBQOd8H6RUJs"
   },
   "source": [
    "Julia also supports a variable number of arguments (called \"varargs\") using the syntax `arg...`, which is the equivalent of Python's `*arg`:"
   ]
  },
  {
   "cell_type": "code",
   "execution_count": 177,
   "metadata": {
    "colab": {
     "base_uri": "https://localhost:8080/",
     "height": 34
    },
    "colab_type": "code",
    "id": "OS1U6AxeRYyb",
    "outputId": "67b7a86f-2498-487e-c204-944a0d7dfab0"
   },
   "outputs": [
    {
     "name": "stdout",
     "output_type": "stream",
     "text": [
      "target_dir=/tmp, paths=(\"a.txt\", \"b.txt\")\n"
     ]
    }
   ],
   "source": [
    "function copy_files(target_dir, paths...)\n",
    "    println(\"target_dir=$target_dir, paths=$paths\")\n",
    "end\n",
    "\n",
    "copy_files(\"/tmp\", \"a.txt\", \"b.txt\")"
   ]
  },
  {
   "cell_type": "markdown",
   "metadata": {
    "colab_type": "text",
    "id": "x8lJsP6wQujj"
   },
   "source": [
    "Keyword arguments are supported, after a semicolon `;`:"
   ]
  },
  {
   "cell_type": "code",
   "execution_count": 178,
   "metadata": {
    "colab": {
     "base_uri": "https://localhost:8080/",
     "height": 34
    },
    "colab_type": "code",
    "id": "R4XDHjftQwel",
    "outputId": "e975114d-f9c5-47d5-945d-5208563209ce"
   },
   "outputs": [
    {
     "name": "stdout",
     "output_type": "stream",
     "text": [
      "paths=(\"a.txt\", \"b.txt\"), confirm=false, /tmp\n"
     ]
    }
   ],
   "source": [
    "function copy_files2(paths...; confirm=false, target_dir)\n",
    "    println(\"paths=$paths, confirm=$confirm, $target_dir\")\n",
    "end\n",
    "\n",
    "copy_files2(\"a.txt\", \"b.txt\"; target_dir=\"/tmp\")"
   ]
  },
  {
   "cell_type": "markdown",
   "metadata": {
    "colab_type": "text",
    "id": "katU7ZypHZdc"
   },
   "source": [
    "Notes:\n",
    "* `target_dir` has no default value, so it is a required argument.\n",
    "* The order of the keyword arguments does not matter."
   ]
  },
  {
   "cell_type": "markdown",
   "metadata": {
    "colab_type": "text",
    "id": "c24CyL7PGE35"
   },
   "source": [
    "You can have another vararg in the keyword section. It corresponds to Python's `**kwargs`:"
   ]
  },
  {
   "cell_type": "code",
   "execution_count": 179,
   "metadata": {
    "colab": {
     "base_uri": "https://localhost:8080/",
     "height": 51
    },
    "colab_type": "code",
    "id": "m-u29GPoGP8l",
    "outputId": "e88ae578-c1bc-44bd-bdb6-6dddae845621"
   },
   "outputs": [
    {
     "name": "stdout",
     "output_type": "stream",
     "text": [
      "paths=(\"a.txt\", \"b.txt\"), confirm=false, /tmp\n",
      "verbose=true\n"
     ]
    }
   ],
   "source": [
    "function copy_files3(paths...; confirm=false, target_dir, options...)\n",
    "    println(\"paths=$paths, confirm=$confirm, $target_dir\")\n",
    "    verbose = options[:verbose]\n",
    "    println(\"verbose=$verbose\")\n",
    "end\n",
    "\n",
    "copy_files3(\"a.txt\", \"b.txt\"; target_dir=\"/tmp\", verbose=true, timeout=60)"
   ]
  },
  {
   "cell_type": "markdown",
   "metadata": {
    "colab_type": "text",
    "id": "UpbuZ0RYGsC2"
   },
   "source": [
    "The `options` vararg acts like a dictionary (we will discuss dictionaries later). The keys are **symbols**, e.g., `:verbose`. Symbols are like strings, less flexible but faster. They are typically used as keys or identifiers.\n",
    "\n",
    "|Julia|Python (3.8+ if `/` is used)\n",
    "|-----|------\n",
    "| `function foo(a, b=2, c=3)`<br />&nbsp;&nbsp;&nbsp;&nbsp;`...`<br />`end`<br /><br />`foo(1, 2) # positional only` | `def foo(a, b=2, c=3, /):`<br />&nbsp;&nbsp;&nbsp;&nbsp;`...`<br /><br />`foo(1, 2) # pos only because of /`\n",
    "| `function foo(;a=1, b, c=3)`<br />&nbsp;&nbsp;&nbsp;&nbsp;`...`<br />`end`<br /><br />`foo(c=30, b=2) # keyword only` | `def foo(*, a=1, b, c=3):`<br />&nbsp;&nbsp;&nbsp;&nbsp;`...`<br /><br />`foo(c=30, b=2) # kw only because of *`\n",
    "| `function foo(a, b=2; c=3, d)`<br />&nbsp;&nbsp;&nbsp;&nbsp;`...`<br />`end`<br /><br />`foo(1; d=4) # pos only; then keyword only` | `def foo(a, b=2, /, *, c=3, d):`<br />&nbsp;&nbsp;&nbsp;&nbsp;`...`<br /><br />`foo(1, d=4) # pos only then kw only`\n",
    "| `function foo(a, b=2, c...)`<br />&nbsp;&nbsp;&nbsp;&nbsp;`...`<br />`end`<br /><br />`foo(1, 2, 3, 4) # positional only` | `def foo(a, b=2, /, *c):`<br />&nbsp;&nbsp;&nbsp;&nbsp;`...`<br /><br />`foo(1, 2, 3, 4) # positional only`\n",
    "| `function foo(a, b=1, c...; d=1, e, f...)`<br />&nbsp;&nbsp;&nbsp;&nbsp;`...`<br />`end`<br /><br />`foo(1, 2, 3, 4, e=5, x=10, y=20)`<br /> | `def foo(a, b=1, /, *c, d=1, e, **f):`<br />&nbsp;&nbsp;&nbsp;&nbsp;`...`<br /><br />`foo(1, 2, 3, 4, e=5, x=10, y=20)`\n"
   ]
  },
  {
   "cell_type": "markdown",
   "metadata": {
    "colab_type": "text",
    "id": "JQsdtaYXDoNm"
   },
   "source": [
    "## Concise Functions\n",
    "\n",
    "In Julia, the following definition:"
   ]
  },
  {
   "cell_type": "code",
   "execution_count": 180,
   "metadata": {
    "colab": {
     "base_uri": "https://localhost:8080/",
     "height": 34
    },
    "colab_type": "code",
    "id": "PnB4hMDIkd_4",
    "outputId": "82921ec2-4bf4-4565-c811-bb6d72f7b02a"
   },
   "outputs": [
    {
     "data": {
      "text/plain": [
       "square (generic function with 1 method)"
      ]
     },
     "execution_count": 180,
     "metadata": {
      "tags": []
     },
     "output_type": "execute_result"
    }
   ],
   "source": [
    "square(x) = x^2"
   ]
  },
  {
   "cell_type": "markdown",
   "metadata": {
    "colab_type": "text",
    "id": "iXKsRqZUkk9O"
   },
   "source": [
    "is equivalent to:"
   ]
  },
  {
   "cell_type": "code",
   "execution_count": 181,
   "metadata": {
    "colab": {
     "base_uri": "https://localhost:8080/",
     "height": 34
    },
    "colab_type": "code",
    "id": "iaDlQ7Mzkong",
    "outputId": "8342d9fe-ad7f-4fae-bf76-f8196e229e79"
   },
   "outputs": [
    {
     "data": {
      "text/plain": [
       "square (generic function with 1 method)"
      ]
     },
     "execution_count": 181,
     "metadata": {
      "tags": []
     },
     "output_type": "execute_result"
    }
   ],
   "source": [
    "function square(x)\n",
    "    x^2\n",
    "end"
   ]
  },
  {
   "cell_type": "markdown",
   "metadata": {
    "colab_type": "text",
    "id": "Fjt5CFRfktfK"
   },
   "source": [
    "For example, here's a shorter way to define the `estimate_pi()` function in Julia:"
   ]
  },
  {
   "cell_type": "code",
   "execution_count": 182,
   "metadata": {
    "colab": {
     "base_uri": "https://localhost:8080/",
     "height": 34
    },
    "colab_type": "code",
    "id": "1_D5M-EFDymm",
    "outputId": "a8ff42f8-8093-4aa9-efd0-6766a3ca1d73"
   },
   "outputs": [
    {
     "data": {
      "text/plain": [
       "estimate_pi3 (generic function with 1 method)"
      ]
     },
     "execution_count": 182,
     "metadata": {
      "tags": []
     },
     "output_type": "execute_result"
    }
   ],
   "source": [
    "estimate_pi3(n) = 4 * sum((isodd(i) ? -1 : 1)/(2i+1) for i in 0:n)"
   ]
  },
  {
   "cell_type": "markdown",
   "metadata": {
    "colab_type": "text",
    "id": "ZGDMqjmBls35"
   },
   "source": [
    "To define a function on one line in Python, you need to use a `lambda` (but this is generally frowned upon, since the resulting function's name is `\"<lambda>\"`):\n",
    "\n",
    "```python\n",
    "# PYTHON\n",
    "square = lambda x: x**2\n",
    "assert square.__name__ == \"<lambda>\"\n",
    "```"
   ]
  },
  {
   "cell_type": "markdown",
   "metadata": {
    "colab_type": "text",
    "id": "pyLBXz8llVhu"
   },
   "source": [
    "This leads us to anonymous functions."
   ]
  },
  {
   "cell_type": "markdown",
   "metadata": {
    "colab_type": "text",
    "id": "UV29B5anEAFF"
   },
   "source": [
    "## Anonymous Functions\n",
    "Just like in Python, you can define anonymous functions:"
   ]
  },
  {
   "cell_type": "code",
   "execution_count": 183,
   "metadata": {
    "colab": {
     "base_uri": "https://localhost:8080/",
     "height": 102
    },
    "colab_type": "code",
    "id": "VAH0e6BjEJB2",
    "outputId": "289caecc-cdf7-4680-d5c4-f409a758b410"
   },
   "outputs": [
    {
     "data": {
      "text/plain": [
       "4-element Array{Int64,1}:\n",
       "  1\n",
       "  4\n",
       "  9\n",
       " 16"
      ]
     },
     "execution_count": 183,
     "metadata": {
      "tags": []
     },
     "output_type": "execute_result"
    }
   ],
   "source": [
    "map(x -> x^2, 1:4)"
   ]
  },
  {
   "cell_type": "markdown",
   "metadata": {
    "colab_type": "text",
    "id": "RLy4-8trawqM"
   },
   "source": [
    "Here is the equivalent Python code:\n",
    "\n",
    "```python\n",
    "list(map(lambda x: x**2, range(1, 5)))\n",
    "```\n",
    "\n",
    "Notes:\n",
    "* `map()` returns an array in Julia, instead of an iterator like in Python.\n",
    "* You could use a comprehension instead: `[x^2 for x in 1:4]`."
   ]
  },
  {
   "cell_type": "markdown",
   "metadata": {
    "colab_type": "text",
    "id": "7RcghJ-EEUjz"
   },
   "source": [
    "\n",
    "|Julia|Python\n",
    "|-----|------\n",
    "|`x -> x^2` | `lambda x: x**2`\n",
    "|`(x,y) -> x + y` | `lambda x,y: x + y `\n",
    "|`() -> println(\"yes\")` | `lambda: print(\"yes\")`\n"
   ]
  },
  {
   "cell_type": "markdown",
   "metadata": {
    "colab_type": "text",
    "id": "jSYEdqYvF6XH"
   },
   "source": [
    "In Python, lambda functions must be simple expressions. They cannot contain multiple statements. In Julia, they can be as long as you want. Indeed, you can create a multi-statement block using the syntax `(stmt_1; stmt_2; ...; stmt_n)`. The return value is the output of the last statement. For example:"
   ]
  },
  {
   "cell_type": "code",
   "execution_count": 184,
   "metadata": {
    "colab": {
     "base_uri": "https://localhost:8080/",
     "height": 170
    },
    "colab_type": "code",
    "id": "SnuJMFymEbPp",
    "outputId": "68dfd87e-df57-487e-d7bd-05c31957261d"
   },
   "outputs": [
    {
     "name": "stdout",
     "output_type": "stream",
     "text": [
      "Number 1\n",
      "Number 2\n",
      "Number 3\n",
      "Number 4\n"
     ]
    },
    {
     "data": {
      "text/plain": [
       "4-element Array{Int64,1}:\n",
       "  1\n",
       "  4\n",
       "  9\n",
       " 16"
      ]
     },
     "execution_count": 184,
     "metadata": {
      "tags": []
     },
     "output_type": "execute_result"
    }
   ],
   "source": [
    "map(x -> (println(\"Number $x\"); x^2), 1:4)"
   ]
  },
  {
   "cell_type": "markdown",
   "metadata": {
    "colab_type": "text",
    "id": "k1ztQt-VGz7p"
   },
   "source": [
    "This syntax can span multiple lines:"
   ]
  },
  {
   "cell_type": "code",
   "execution_count": 185,
   "metadata": {
    "colab": {
     "base_uri": "https://localhost:8080/",
     "height": 170
    },
    "colab_type": "code",
    "id": "H-XL-nysG67t",
    "outputId": "08670eb2-1d50-49c3-ec55-a68e54ca697d"
   },
   "outputs": [
    {
     "name": "stdout",
     "output_type": "stream",
     "text": [
      "Number 1\n",
      "Number 2\n",
      "Number 3\n",
      "Number 4\n"
     ]
    },
    {
     "data": {
      "text/plain": [
       "4-element Array{Int64,1}:\n",
       "  1\n",
       "  4\n",
       "  9\n",
       " 16"
      ]
     },
     "execution_count": 185,
     "metadata": {
      "tags": []
     },
     "output_type": "execute_result"
    }
   ],
   "source": [
    "map(x -> (\n",
    "  println(\"Number $x\");\n",
    "  x^2), 1:4)"
   ]
  },
  {
   "cell_type": "markdown",
   "metadata": {
    "colab_type": "text",
    "id": "YZUU9OLdHEUX"
   },
   "source": [
    "But in this case, it's probably clearer to use the `begin ... end` syntax instead:"
   ]
  },
  {
   "cell_type": "code",
   "execution_count": 186,
   "metadata": {
    "colab": {
     "base_uri": "https://localhost:8080/",
     "height": 170
    },
    "colab_type": "code",
    "id": "t3LUgpigHJ3Z",
    "outputId": "35e01573-bbcb-4ed0-b755-1d026a7a9f7f"
   },
   "outputs": [
    {
     "name": "stdout",
     "output_type": "stream",
     "text": [
      "Number 1\n",
      "Number 2\n",
      "Number 3\n",
      "Number 4\n"
     ]
    },
    {
     "data": {
      "text/plain": [
       "4-element Array{Int64,1}:\n",
       "  1\n",
       "  4\n",
       "  9\n",
       " 16"
      ]
     },
     "execution_count": 186,
     "metadata": {
      "tags": []
     },
     "output_type": "execute_result"
    }
   ],
   "source": [
    "map(x -> begin\n",
    "        println(\"Number $x\")\n",
    "        x^2\n",
    "    end, 1:4)"
   ]
  },
  {
   "cell_type": "markdown",
   "metadata": {
    "colab_type": "text",
    "id": "FQ5nX-AHIYUr"
   },
   "source": [
    "Notice that this syntax allows you to drop the semicolons `;` at the end of each line in the block.\n",
    "\n",
    "Yet another way to define an anonymous function is using the `function (args) ... end` syntax:"
   ]
  },
  {
   "cell_type": "code",
   "execution_count": 187,
   "metadata": {
    "colab": {
     "base_uri": "https://localhost:8080/",
     "height": 170
    },
    "colab_type": "code",
    "id": "vKAR1ucxIQzF",
    "outputId": "c6079a41-efe3-437d-fb99-51f1a605e205"
   },
   "outputs": [
    {
     "name": "stdout",
     "output_type": "stream",
     "text": [
      "Number 1\n",
      "Number 2\n",
      "Number 3\n",
      "Number 4\n"
     ]
    },
    {
     "data": {
      "text/plain": [
       "4-element Array{Int64,1}:\n",
       "  1\n",
       "  4\n",
       "  9\n",
       " 16"
      ]
     },
     "execution_count": 187,
     "metadata": {
      "tags": []
     },
     "output_type": "execute_result"
    }
   ],
   "source": [
    "map(function (x)\n",
    "        println(\"Number $x\")\n",
    "        x^2\n",
    "    end, 1:4)"
   ]
  },
  {
   "cell_type": "markdown",
   "metadata": {
    "colab_type": "text",
    "id": "SGBwAWJ7HQ78"
   },
   "source": [
    "Lastly, if you're passing the anonymous function as the first argument to a function (as is the case in this example), it's usually much preferable to define the anonymous function immediately after the function call, using the `do` syntax, like this:"
   ]
  },
  {
   "cell_type": "code",
   "execution_count": 188,
   "metadata": {
    "colab": {
     "base_uri": "https://localhost:8080/",
     "height": 170
    },
    "colab_type": "code",
    "id": "G60xP30UHW5F",
    "outputId": "2cae809c-a27b-4c6f-a384-b4dc4fea2539"
   },
   "outputs": [
    {
     "name": "stdout",
     "output_type": "stream",
     "text": [
      "Number 1\n",
      "Number 2\n",
      "Number 3\n",
      "Number 4\n"
     ]
    },
    {
     "data": {
      "text/plain": [
       "4-element Array{Int64,1}:\n",
       "  1\n",
       "  4\n",
       "  9\n",
       " 16"
      ]
     },
     "execution_count": 188,
     "metadata": {
      "tags": []
     },
     "output_type": "execute_result"
    }
   ],
   "source": [
    "map(1:4) do x\n",
    "  println(\"Number $x\")\n",
    "  x^2\n",
    "end"
   ]
  },
  {
   "cell_type": "markdown",
   "metadata": {
    "colab_type": "text",
    "id": "vtsXFsLTJTpD"
   },
   "source": [
    "This syntax lets you easily define constructs that feel like language extensions:"
   ]
  },
  {
   "cell_type": "code",
   "execution_count": 189,
   "metadata": {
    "colab": {
     "base_uri": "https://localhost:8080/",
     "height": 85
    },
    "colab_type": "code",
    "id": "03Hru6aqIIgY",
    "outputId": "ef9e2921-bac2-41c3-efa7-a3fda567100f"
   },
   "outputs": [
    {
     "name": "stdout",
     "output_type": "stream",
     "text": [
      "The square of 1 is 1\n",
      "The square of 2 is 4\n",
      "The square of 3 is 9\n",
      "The square of 4 is 16\n"
     ]
    }
   ],
   "source": [
    "function my_for(func, collection)\n",
    "    for i in collection\n",
    "        func(i)\n",
    "    end\n",
    "end\n",
    "\n",
    "my_for(1:4) do i\n",
    "    println(\"The square of $i is $(i^2)\")\n",
    "end"
   ]
  },
  {
   "cell_type": "markdown",
   "metadata": {
    "colab_type": "text",
    "id": "tFWXrW9z9q8f"
   },
   "source": [
    "In fact, Julia has a similar `foreach()` function."
   ]
  },
  {
   "cell_type": "markdown",
   "metadata": {
    "colab_type": "text",
    "id": "XXuNr-9iZJf4"
   },
   "source": [
    "The `do` syntax could be used to write a Domain Specific Language (DSL), for example an infrastructure automation DSL:"
   ]
  },
  {
   "cell_type": "code",
   "execution_count": 190,
   "metadata": {
    "colab": {
     "base_uri": "https://localhost:8080/",
     "height": 68
    },
    "colab_type": "code",
    "id": "sF1f2HsCZKoT",
    "outputId": "5eea1b83-4685-41c1-fd3f-8444ddd5c927"
   },
   "outputs": [
    {
     "name": "stdout",
     "output_type": "stream",
     "text": [
      "Starting web server\n",
      "Configuring server 1234...\n",
      "Creating HTML pages on server 1234...\n"
     ]
    }
   ],
   "source": [
    "function spawn_server(startup_func, server_type)\n",
    "    println(\"Starting $server_type server\")\n",
    "    server_id = 1234\n",
    "    println(\"Configuring server $server_id...\")\n",
    "    startup_func(server_id)\n",
    "end\n",
    "\n",
    "# This is the DSL part\n",
    "spawn_server(\"web\") do server_id\n",
    "    println(\"Creating HTML pages on server $server_id...\")\n",
    "end"
   ]
  },
  {
   "cell_type": "markdown",
   "metadata": {
    "colab_type": "text",
    "id": "9jRtJFU82wEO"
   },
   "source": [
    "It's also quite nice for event-driven code:"
   ]
  },
  {
   "cell_type": "code",
   "execution_count": 191,
   "metadata": {
    "colab": {
     "base_uri": "https://localhost:8080/",
     "height": 85
    },
    "colab_type": "code",
    "id": "lU-neWob2_As",
    "outputId": "fc63bf04-c752-48f0-c836-4bcebc4df21a"
   },
   "outputs": [
    {
     "name": "stdout",
     "output_type": "stream",
     "text": [
      "Mouse clicked at (x = 50, y = 20)\n",
      "Beep.\n",
      "Mouse clicked at (x = 120, y = 10)\n",
      "Beep.\n"
     ]
    }
   ],
   "source": [
    "handlers = []\n",
    "\n",
    "on_click(handler) = push!(handlers, handler)\n",
    "\n",
    "click(event) = foreach(handler->handler(event), handlers)\n",
    "\n",
    "on_click() do event\n",
    "    println(\"Mouse clicked at $event\")\n",
    "end\n",
    "\n",
    "on_click() do event\n",
    "    println(\"Beep.\")\n",
    "end\n",
    "\n",
    "click((x=50, y=20))\n",
    "click((x=120, y=10))"
   ]
  },
  {
   "cell_type": "markdown",
   "metadata": {
    "colab_type": "text",
    "id": "VclQwKNzajfP"
   },
   "source": [
    "It can also be used to create context managers, for example to automatically close an object after it has been used, even if an exception is raised:"
   ]
  },
  {
   "cell_type": "code",
   "execution_count": 192,
   "metadata": {
    "colab": {
     "base_uri": "https://localhost:8080/",
     "height": 68
    },
    "colab_type": "code",
    "id": "_fCFbtHJarew",
    "outputId": "a3ac7bc7-d301-474d-dd6f-3b89f9f8e881"
   },
   "outputs": [
    {
     "name": "stdout",
     "output_type": "stream",
     "text": [
      "Opening connection to database jobs\n",
      "I'm working with a db object for database jobs\n",
      "Closing connection to database jobs\n"
     ]
    }
   ],
   "source": [
    "function with_database(func, name)\n",
    "    println(\"Opening connection to database $name\")\n",
    "    db = \"a db object for database $name\"\n",
    "    try\n",
    "        func(db)\n",
    "    finally\n",
    "        println(\"Closing connection to database $name\")\n",
    "    end\n",
    "end\n",
    "\n",
    "with_database(\"jobs\") do db\n",
    "    println(\"I'm working with $db\")\n",
    "    #error(\"Oops\") # try uncommenting this line\n",
    "end"
   ]
  },
  {
   "cell_type": "markdown",
   "metadata": {
    "colab_type": "text",
    "id": "D17bqrJwbqS5"
   },
   "source": [
    "The equivalent code in Python would look like this:"
   ]
  },
  {
   "cell_type": "markdown",
   "metadata": {
    "colab_type": "text",
    "id": "YmCiwD0Ubslm"
   },
   "source": [
    "```python\n",
    "# PYTHON\n",
    "class Database:\n",
    "    def __init__(self, name):\n",
    "        self.name = name\n",
    "    def __enter__(self):\n",
    "        print(f\"Opening connection to database {self.name}\")\n",
    "        return f\"a db object for database {self.name}\"\n",
    "    def __exit__(self, type, value, traceback):\n",
    "        print(f\"Closing connection to database {self.name}\")\n",
    "\n",
    "with Database(\"jobs\") as db:\n",
    "    print(f\"I'm working with {db}\")\n",
    "    #raise Exception(\"Oops\") # try uncommenting this line\n",
    "```\n",
    "\n",
    "Or you could use `contextlib`:\n",
    "\n",
    "```python\n",
    "from contextlib import contextmanager\n",
    "\n",
    "@contextmanager\n",
    "def database(name):\n",
    "    print(f\"Opening connection to database {name}\")\n",
    "    db = f\"a db object for database {name}\"\n",
    "    try:\n",
    "        yield db\n",
    "    finally:\n",
    "        print(f\"Closing connection to database {name}\")\n",
    "\n",
    "with database(\"jobs\") as db:\n",
    "    print(f\"I'm working with {db}\")\n",
    "    #raise Exception(\"Oops\") # try uncommenting this line\n",
    "```"
   ]
  },
  {
   "cell_type": "code",
   "execution_count": 193,
   "metadata": {
    "colab": {},
    "colab_type": "code",
    "id": "NA9wxvDP444S"
   },
   "outputs": [],
   "source": []
  },
  {
   "cell_type": "markdown",
   "metadata": {
    "colab_type": "text",
    "id": "scEsYrSt2jpA"
   },
   "source": [
    "## Piping\n",
    "If you are used to the Object Oriented syntax `\"a b c\".upper().split()`, you may feel that writing `split(uppercase(\"a b c\"))` is a bit backwards. If so, the piping operation `|>` is for you:"
   ]
  },
  {
   "cell_type": "code",
   "execution_count": 194,
   "metadata": {
    "colab": {
     "base_uri": "https://localhost:8080/",
     "height": 85
    },
    "colab_type": "code",
    "id": "wRrmVEWG24_f",
    "outputId": "3656d9c2-e432-410d-84b5-a1c7bc05d740"
   },
   "outputs": [
    {
     "data": {
      "text/plain": [
       "3-element Array{SubString{String},1}:\n",
       " \"A\"\n",
       " \"B\"\n",
       " \"C\""
      ]
     },
     "execution_count": 194,
     "metadata": {
      "tags": []
     },
     "output_type": "execute_result"
    }
   ],
   "source": [
    "\"a b c\" |> uppercase |> split"
   ]
  },
  {
   "cell_type": "markdown",
   "metadata": {
    "colab_type": "text",
    "id": "c2Y1HRhG4S47"
   },
   "source": [
    "If you want to pass more than one argument to some of the functions, you can use anonymous functions:"
   ]
  },
  {
   "cell_type": "code",
   "execution_count": 195,
   "metadata": {
    "colab": {
     "base_uri": "https://localhost:8080/",
     "height": 34
    },
    "colab_type": "code",
    "id": "IzIFbaLQ4UCO",
    "outputId": "fef6b6c5-2bac-4de6-ffd3-8c6e7ca99312"
   },
   "outputs": [
    {
     "data": {
      "text/plain": [
       "\"A, B, C\""
      ]
     },
     "execution_count": 195,
     "metadata": {
      "tags": []
     },
     "output_type": "execute_result"
    }
   ],
   "source": [
    "\"a b c\" |> uppercase |> split |> tokens->join(tokens, \", \")"
   ]
  },
  {
   "cell_type": "markdown",
   "metadata": {
    "colab_type": "text",
    "id": "GcnKoRyHcGC6"
   },
   "source": [
    "The dotted version of the pipe operator works as you might expect, applying the _i_<sup>th</sup> function of the right array to the _i_<sup>th</sup> value in the left array:"
   ]
  },
  {
   "cell_type": "code",
   "execution_count": 196,
   "metadata": {
    "colab": {
     "base_uri": "https://localhost:8080/",
     "height": 85
    },
    "colab_type": "code",
    "id": "a7LytVDKbL_e",
    "outputId": "05e50ca3-b5c9-44eb-8d58-7d01c5d5896b"
   },
   "outputs": [
    {
     "data": {
      "text/plain": [
       "3-element Array{Real,1}:\n",
       "  1.0\n",
       "  5\n",
       " 16"
      ]
     },
     "execution_count": 196,
     "metadata": {
      "tags": []
     },
     "output_type": "execute_result"
    }
   ],
   "source": [
    "[π/2, \"hello\", 4] .|> [sin, length, x->x^2]"
   ]
  },
  {
   "cell_type": "markdown",
   "metadata": {
    "colab_type": "text",
    "id": "Czk5ZFOn3LDi"
   },
   "source": [
    "## Composition\n",
    "Julia also lets you compose functions like mathematicians do, using the composition operator ∘ (`\\circ<tab>` in the REPL or Jupyter, but not Colab):"
   ]
  },
  {
   "cell_type": "code",
   "execution_count": 197,
   "metadata": {
    "colab": {
     "base_uri": "https://localhost:8080/",
     "height": 34
    },
    "colab_type": "code",
    "id": "iK9UrlF2aU_y",
    "outputId": "ddc70e6c-2631-40e7-bec6-e77079b4cb04"
   },
   "outputs": [
    {
     "data": {
      "text/plain": [
       "true"
      ]
     },
     "execution_count": 197,
     "metadata": {
      "tags": []
     },
     "output_type": "execute_result"
    }
   ],
   "source": [
    "f = exp ∘ sin ∘ sqrt\n",
    "f(2.0) == exp(sin(sqrt(2.0)))"
   ]
  },
  {
   "cell_type": "markdown",
   "metadata": {
    "colab_type": "text",
    "id": "lQJKl9rD-BWj"
   },
   "source": [
    "# Methods\n",
    "Earlier, we discussed structs, which look a lot like Python classes, with instance variables and constructors, but they did not contain any methods (just the inner constructors). In Julia, methods are defined separately, like regular functions:"
   ]
  },
  {
   "cell_type": "code",
   "execution_count": 198,
   "metadata": {
    "colab": {
     "base_uri": "https://localhost:8080/",
     "height": 34
    },
    "colab_type": "code",
    "id": "axvF_XwJ-DJw",
    "outputId": "f98bf5d7-daf6-4584-fa43-6f8a05f35415"
   },
   "outputs": [
    {
     "name": "stdout",
     "output_type": "stream",
     "text": [
      "Hi, my name is Alice, I am 70 years old.\n"
     ]
    }
   ],
   "source": [
    "struct Person\n",
    "    name\n",
    "    age\n",
    "end\n",
    "\n",
    "function greetings(greeter)\n",
    "    println(\"Hi, my name is $(greeter.name), I am $(greeter.age) years old.\")\n",
    "end\n",
    "\n",
    "p = Person(\"Alice\", 70)\n",
    "greetings(p)"
   ]
  },
  {
   "cell_type": "markdown",
   "metadata": {
    "colab_type": "text",
    "id": "ylOha2mhCRgz"
   },
   "source": [
    "Since the `greetings()` method in Julia is not bound to any particular type, we can use it with any other type we want, as long as that type has a `name` and an `age` (i.e., if it quacks like a duck):"
   ]
  },
  {
   "cell_type": "code",
   "execution_count": 199,
   "metadata": {
    "colab": {
     "base_uri": "https://localhost:8080/",
     "height": 34
    },
    "colab_type": "code",
    "id": "vWkQqaEPCgeY",
    "outputId": "343b646f-c841-4e5c-d9ee-3d3acd46360f"
   },
   "outputs": [
    {
     "name": "stdout",
     "output_type": "stream",
     "text": [
      "Hi, my name is Auckland, I am 180 years old.\n"
     ]
    }
   ],
   "source": [
    "struct City\n",
    "    name\n",
    "    country\n",
    "    age\n",
    "end\n",
    "\n",
    "using Dates\n",
    "c = City(\"Auckland\", \"New Zealand\", year(now()) - 1840)\n",
    "\n",
    "greetings(c)"
   ]
  },
  {
   "cell_type": "markdown",
   "metadata": {
    "colab_type": "text",
    "id": "sRI9XAbrLA0t"
   },
   "source": [
    "You could code this the same way in Python if you wanted to:\n",
    "\n",
    "```python\n",
    "# PYTHON\n",
    "class Person:\n",
    "    def __init__(self, name, age):\n",
    "        self.name = name\n",
    "        self.age = age\n",
    "\n",
    "class City:\n",
    "    def __init__(self, name, country, age):\n",
    "        self.name = name\n",
    "        self.country = country\n",
    "        self.age = age\n",
    "\n",
    "def greetings(greeter):\n",
    "    print(f\"Hi there, my name is {greeter.name}, I am {greeter.age} years old.\")\n",
    "\n",
    "p = Person(\"Lucy\", 70)\n",
    "greetings(p)\n",
    " \n",
    "from datetime import date\n",
    "c = City(\"Auckland\", \"New Zealand\", date.today().year - 1840)\n",
    "greetings(c)\n",
    "```"
   ]
  },
  {
   "cell_type": "markdown",
   "metadata": {
    "colab_type": "text",
    "id": "qIcoroYhG5_Y"
   },
   "source": [
    "However, many Python programmers would use inheritance in this case:\n",
    "\n",
    "```python\n",
    "class Greeter:\n",
    "    def __init__(self, name, age):\n",
    "        self.name = name\n",
    "        self.age = age\n",
    "    def greetings(self):\n",
    "        print(f\"Hi there, my name is {self.name}, I am {self.age} years old.\")\n",
    "\n",
    "class Person(Greeter):\n",
    "    def __init__(self, name, age):\n",
    "        super().__init__(name, age)\n",
    "\n",
    "class City(Greeter):\n",
    "    def __init__(self, name, country, age):\n",
    "        super().__init__(name, age)\n",
    "        self.country = country\n",
    "\n",
    "p = Person(\"Lucy\", 70)\n",
    "p.greetings()\n",
    "\n",
    "from datetime import date\n",
    "c = City(\"Auckland\", \"New Zealand\", date.today().year - 1840)\n",
    "c.greetings()\n",
    "```\n"
   ]
  },
  {
   "cell_type": "markdown",
   "metadata": {
    "colab_type": "text",
    "id": "iRNLWOyURGGp"
   },
   "source": [
    "## Extending a Function\n",
    "One nice thing about having a class hierarchy is that you can override methods in subclasses to get specialized behavior for each class. For example, in Python you could override the `greetings()` method like this:\n",
    "\n",
    "```python\n",
    "# PYTHON\n",
    "class Developer(Person):\n",
    "    def __init__(self, name, age, language):\n",
    "        super().__init__(name, age)\n",
    "        self.language = language\n",
    "    def greetings(self):\n",
    "        print(f\"Hi there, my name is {self.name}, I am {self.age} years old.\")\n",
    "        print(f\"My favorite language is {self.language}.\")\n",
    "\n",
    "d = Developer(\"Amy\", 40, \"Julia\")\n",
    "d.greetings()\n",
    "```\n"
   ]
  },
  {
   "cell_type": "markdown",
   "metadata": {
    "colab_type": "text",
    "id": "srgbdxLxSWGG"
   },
   "source": [
    "Notice that the expression `d.greetings()` will call a different method if `d` is a `Person` or a `Developer`. This is called \"polymorphism\": the same method call behaves differently depending on the type of the object. The language chooses which actual method implementation to call, based on the type of `d`: this is called method \"dispatch\". More specifically, since it only depends on a single variable, it is called \"single dispatch\".\n",
    "\n",
    "The good news is that Julia can do single dispatch as well:"
   ]
  },
  {
   "cell_type": "code",
   "execution_count": 200,
   "metadata": {
    "colab": {
     "base_uri": "https://localhost:8080/",
     "height": 51
    },
    "colab_type": "code",
    "id": "j6fIldepUFA1",
    "outputId": "4efc855a-46e4-4108-bb67-e9f90ae52a70"
   },
   "outputs": [
    {
     "name": "stdout",
     "output_type": "stream",
     "text": [
      "Hi, my name is Amy, I am 40 years old.\n",
      "My favorite language is Julia.\n"
     ]
    }
   ],
   "source": [
    "struct Developer\n",
    "    name\n",
    "    age\n",
    "    language\n",
    "end\n",
    "\n",
    "function greetings(dev::Developer)\n",
    "    println(\"Hi, my name is $(dev.name), I am $(dev.age) years old.\")\n",
    "    println(\"My favorite language is $(dev.language).\")\n",
    "end\n",
    "\n",
    "d = Developer(\"Amy\", 40, \"Julia\")\n",
    "greetings(d)"
   ]
  },
  {
   "cell_type": "markdown",
   "metadata": {
    "colab_type": "text",
    "id": "2ji22KZNVHub"
   },
   "source": [
    "Notice that the `dev` argument is followed by `::Developer`, which means that this method will only be called if the argument has that type.\n",
    "\n",
    "We have **extended** the `greetings` **function**, so that it now has two different implementations, called **methods**, each for different argument types: namely, `greetings(dev::Developer)` for arguments of type `Developer`, and `greetings(greeter)` for values of any other type.\n",
    "\n",
    "You can easily get the list of all the methods of a given function:"
   ]
  },
  {
   "cell_type": "code",
   "execution_count": 201,
   "metadata": {
    "colab": {
     "base_uri": "https://localhost:8080/",
     "height": 80
    },
    "colab_type": "code",
    "id": "6yQgjmjST2xL",
    "outputId": "fa21698d-dc77-4d48-ba02-db355c68167b"
   },
   "outputs": [
    {
     "data": {
      "text/html": [
       "# 2 methods for generic function <b>greetings</b>:<ul><li> greetings(dev::<b>Developer</b>) in Main at In[200]:8</li> <li> greetings(greeter) in Main at In[198]:7</li> </ul>"
      ],
      "text/plain": [
       "# 2 methods for generic function \"greetings\":\n",
       "[1] greetings(dev::Developer) in Main at In[200]:8\n",
       "[2] greetings(greeter) in Main at In[198]:7"
      ]
     },
     "execution_count": 201,
     "metadata": {
      "tags": []
     },
     "output_type": "execute_result"
    }
   ],
   "source": [
    "methods(greetings)"
   ]
  },
  {
   "cell_type": "markdown",
   "metadata": {
    "colab_type": "text",
    "id": "iS7Byq8yd8uE"
   },
   "source": [
    "You can also get the list of all the methods which take a particular type as argument:"
   ]
  },
  {
   "cell_type": "code",
   "execution_count": 202,
   "metadata": {
    "colab": {
     "base_uri": "https://localhost:8080/",
     "height": 63
    },
    "colab_type": "code",
    "id": "ZxFaPzByd0qv",
    "outputId": "c7c6ddf6-8198-464f-e03d-bfaca514c19e"
   },
   "outputs": [
    {
     "data": {
      "text/html": [
       "1-element Array{Method,1}:<ul><li> greetings(dev::<b>Developer</b>) in Main at In[200]:8</ul>"
      ],
      "text/plain": [
       "[1] greetings(dev::Developer) in Main at In[200]:8"
      ]
     },
     "execution_count": 202,
     "metadata": {
      "tags": []
     },
     "output_type": "execute_result"
    }
   ],
   "source": [
    "methodswith(Developer)"
   ]
  },
  {
   "cell_type": "markdown",
   "metadata": {
    "colab_type": "text",
    "id": "ab4DP1-fT7dE"
   },
   "source": [
    "When you call the `greetings()` function, Julia automatically dispatches the call to the appropriate method, depending on the type of the argument. If Julia can determine at compile time what the type of the argument will be, then it optimizes the compiled code so that there's no choice to be made at runtime. This is called **static dispatch**, and it can significantly speed up the program. If the argument's type can't be determined at compile time, then Julia makes the choice at runtime, just like in Python: this is called **dynamic dispatch**."
   ]
  },
  {
   "cell_type": "markdown",
   "metadata": {
    "colab_type": "text",
    "id": "Y7U4rXr2GnFx"
   },
   "source": [
    "## Multiple Dispatch\n",
    "Julia actually looks at the types of _all_ the positional arguments, not just the first one. This is called **multiple dispatch**. For example:"
   ]
  },
  {
   "cell_type": "code",
   "execution_count": 203,
   "metadata": {
    "colab": {
     "base_uri": "https://localhost:8080/",
     "height": 34
    },
    "colab_type": "code",
    "id": "YE7pb7tHHEcb",
    "outputId": "6f9b264b-c471-4588-8c29-7beb45c6cc31"
   },
   "outputs": [
    {
     "data": {
      "text/plain": [
       "1"
      ]
     },
     "execution_count": 203,
     "metadata": {
      "tags": []
     },
     "output_type": "execute_result"
    }
   ],
   "source": [
    "multdisp(a::Int64, b::Int64) = 1\n",
    "multdisp(a::Int64, b::Float64) = 2\n",
    "multdisp(a::Float64, b::Int64) = 3\n",
    "multdisp(a::Float64, b::Float64) = 4\n",
    "\n",
    "multdisp(10, 20) # try changing the arguments to get each possible output"
   ]
  },
  {
   "cell_type": "markdown",
   "metadata": {
    "colab_type": "text",
    "id": "wJtjHEYGJr5B"
   },
   "source": [
    "Julia always chooses the most specific method it can, so the following method will only be called if the first argument is neither an `Int64` nor a `Float64`:"
   ]
  },
  {
   "cell_type": "code",
   "execution_count": 204,
   "metadata": {
    "colab": {
     "base_uri": "https://localhost:8080/",
     "height": 34
    },
    "colab_type": "code",
    "id": "SrZv6JZBKZGF",
    "outputId": "f0a03118-1981-4959-cfc0-b130245bade2"
   },
   "outputs": [
    {
     "data": {
      "text/plain": [
       "1"
      ]
     },
     "execution_count": 204,
     "metadata": {
      "tags": []
     },
     "output_type": "execute_result"
    }
   ],
   "source": [
    "multdisp(a::Any, b::Int64) = 5\n",
    "\n",
    "multdisp(10, 20)"
   ]
  },
  {
   "cell_type": "markdown",
   "metadata": {
    "colab_type": "text",
    "id": "BiwKlUcMKvbr"
   },
   "source": [
    "Julia will raise an exception if there is some ambiguity as to which method is the most specific:"
   ]
  },
  {
   "cell_type": "code",
   "execution_count": 205,
   "metadata": {
    "colab": {
     "base_uri": "https://localhost:8080/",
     "height": 34
    },
    "colab_type": "code",
    "id": "wnvxky-JJQxU",
    "outputId": "3f8cee18-f55b-4331-cd9d-70d35d3b0cf8"
   },
   "outputs": [
    {
     "data": {
      "text/plain": [
       "MethodError(ambig, (10, 20), 0x0000000000006a68)"
      ]
     },
     "execution_count": 205,
     "metadata": {
      "tags": []
     },
     "output_type": "execute_result"
    }
   ],
   "source": [
    "ambig(a::Int64, b) = 1\n",
    "ambig(a, b::Int64) = 2\n",
    "\n",
    "try\n",
    "    ambig(10, 20)\n",
    "catch ex\n",
    "    ex\n",
    "end"
   ]
  },
  {
   "cell_type": "markdown",
   "metadata": {
    "colab_type": "text",
    "id": "5Pb7CA7kK8UT"
   },
   "source": [
    "To solve this problem, you can explicitely define a method for the ambiguous case:"
   ]
  },
  {
   "cell_type": "code",
   "execution_count": 206,
   "metadata": {
    "colab": {
     "base_uri": "https://localhost:8080/",
     "height": 34
    },
    "colab_type": "code",
    "id": "mlr9q0GxLL-q",
    "outputId": "0ee54009-e527-4b6f-8aa7-c6f80f80d9d7"
   },
   "outputs": [
    {
     "data": {
      "text/plain": [
       "3"
      ]
     },
     "execution_count": 206,
     "metadata": {
      "tags": []
     },
     "output_type": "execute_result"
    }
   ],
   "source": [
    "ambig(a::Int64, b::Int64) = 3\n",
    "ambig(10, 20)"
   ]
  },
  {
   "cell_type": "markdown",
   "metadata": {
    "colab_type": "text",
    "id": "W19FsOf2GOcF"
   },
   "source": [
    "So you can have polymorphism in Julia, just like in Python. This means that you can write your algorithms in a generic way, without having to know the exact types of the values you are manipulating, and it will work fine, as long as these types act in the general way you expect (i.e., if they \"quack like ducks\"). For example:"
   ]
  },
  {
   "cell_type": "code",
   "execution_count": 207,
   "metadata": {
    "colab": {
     "base_uri": "https://localhost:8080/",
     "height": 102
    },
    "colab_type": "code",
    "id": "L_i8ksenUoz8",
    "outputId": "f375850f-5c2e-403f-a5a5-c287ea40a4c5"
   },
   "outputs": [
    {
     "name": "stdout",
     "output_type": "stream",
     "text": [
      "Hi, my name is Alice, I am 70 years old.\n",
      "How can I help?\n",
      "Hi, my name is Amy, I am 40 years old.\n",
      "My favorite language is Julia.\n",
      "How can I help?\n"
     ]
    }
   ],
   "source": [
    "function how_can_i_help(greeter)\n",
    "    greetings(greeter)\n",
    "    println(\"How can I help?\")\n",
    "end\n",
    "\n",
    "how_can_i_help(p) # called on a Person\n",
    "how_can_i_help(d) # called on a Developer"
   ]
  },
  {
   "cell_type": "markdown",
   "metadata": {
    "colab_type": "text",
    "id": "jZmax1CvVBKT"
   },
   "source": [
    "## Calling `super()`?\n",
    "You may have noticed that the `greetings(dev::Developer)` method could be improved, since it currently duplicates the implementation of the base method `greetings(greeter)`. In Python, you would get rid of this duplication by calling the base class's `greetings()` method, using `super()`:\n",
    "\n",
    "```python\n",
    "# PYTHON\n",
    "class Developer(Person):\n",
    "    def __init__(self, name, age, language):\n",
    "        super().__init__(name, age)\n",
    "        self.language = language\n",
    "    def greetings(self):\n",
    "        super().greetings() # <== THIS!\n",
    "        print(f\"My favorite language is {self.language}.\")\n",
    "\n",
    "d = Developer(\"Amy\", 40, \"Julia\")\n",
    "d.greetings()\n",
    "```\n",
    "\n",
    "In Julia, you can do something pretty similar, although you have to implement your own `super()` function, as it is not part of the language:"
   ]
  },
  {
   "cell_type": "code",
   "execution_count": 208,
   "metadata": {
    "colab": {
     "base_uri": "https://localhost:8080/",
     "height": 51
    },
    "colab_type": "code",
    "id": "8Oz-Xe4VmMRr",
    "outputId": "009132ab-6c34-4959-d844-437585ae7649"
   },
   "outputs": [
    {
     "name": "stdout",
     "output_type": "stream",
     "text": [
      "Hi, my name is Amy, I am 40 years old.\n",
      "My favorite language is Julia.\n"
     ]
    }
   ],
   "source": [
    "super(dev::Developer) = Person(dev.name, dev.age)\n",
    "\n",
    "function greetings(dev::Developer)\n",
    "    greetings(super(dev))\n",
    "    println(\"My favorite language is $(dev.language).\")\n",
    "end\n",
    "\n",
    "greetings(d)"
   ]
  },
  {
   "cell_type": "markdown",
   "metadata": {
    "colab_type": "text",
    "id": "WqtmgScLr3oz"
   },
   "source": [
    "However, this implementation creates a new `Person` instance when calling `super(dev)`, copying the `name` and `age` fields. That's okay for small objects, but it's not ideal for larger ones. Instead, you can explicitely call the specific method you want by using the `invoke()` function:"
   ]
  },
  {
   "cell_type": "code",
   "execution_count": 209,
   "metadata": {
    "colab": {
     "base_uri": "https://localhost:8080/",
     "height": 51
    },
    "colab_type": "code",
    "id": "XPlSZ5kaqz0l",
    "outputId": "5aa25818-d6b1-424c-d24c-b65234e1bea7"
   },
   "outputs": [
    {
     "name": "stdout",
     "output_type": "stream",
     "text": [
      "Hi, my name is Amy, I am 40 years old.\n",
      "My favorite language is Julia.\n"
     ]
    }
   ],
   "source": [
    "function greetings(dev::Developer)\n",
    "    invoke(greetings, Tuple{Any}, dev)\n",
    "    println(\"My favorite language is $(dev.language).\")\n",
    "end\n",
    "\n",
    "greetings(d)"
   ]
  },
  {
   "cell_type": "markdown",
   "metadata": {
    "colab_type": "text",
    "id": "Vrf7C_Cgsob2"
   },
   "source": [
    "The `invoke()` function expects the following arguments:\n",
    "* The first argument is the function to call.\n",
    "* The second argument is the type of the desired method's arguments tuple: `Tuple{TypeArg1, TypeArg2, etc.}`. In this case we want to call the base function, which takes a single `Any` argument (the `Any` type is implicit when no type is specified).\n",
    "* Lastly, it takes all the arguments to be passed to the method. In this case, there's just one: `dev`."
   ]
  },
  {
   "cell_type": "markdown",
   "metadata": {
    "colab_type": "text",
    "id": "emqToYz-ypOS"
   },
   "source": [
    "As you can see, we managed to get the same advantages Object-Oriented programming offers, without defining classes or using inheritance. This takes a bit of getting used to, but you might come to prefer this style of generic programming. Indeed, OO programming encourage you to bundle data and behavior together, but this is not always a good idea. Let's look at one example:\n",
    "\n",
    "```python\n",
    "# PYTHON\n",
    "class Rectangle:\n",
    "    def __init__(self, height, width):\n",
    "        self.height = height\n",
    "        self.width = width\n",
    "    def area(self):\n",
    "        return self.height * self.width\n",
    "\n",
    "class Square(Rectangle):\n",
    "    def __init__(self, length):\n",
    "        super().__init__(length, length)\n",
    "```\n",
    "\n",
    "It makes sense for the `Square` class to be a subclass of the `Rectangle` class, since a square **is a** special type of rectangle. It also makes sense for the `Square` class to inherit from all of the `Rectangle` class's behavior, such as the `area()` method. However, it does not really make sense for rectangles and squares to have the same memory representation: a `Rectangle` needs two numbers (`height` and `width`), while a `Square` only needs one (`length`).\n",
    "\n",
    "It's possible to work around this issue like this:\n",
    "\n",
    "```python\n",
    "# PYTHON\n",
    "class Rectangle:\n",
    "    def __init__(self, height, width):\n",
    "        self.height = height\n",
    "        self.width = width\n",
    "    def area(self):\n",
    "        return self.height * self.width\n",
    "\n",
    "class Square(Rectangle):\n",
    "    def __init__(self, length):\n",
    "        self.length = length\n",
    "    @property\n",
    "    def width(self):\n",
    "        return self.length\n",
    "    @property\n",
    "    def height(self):\n",
    "        return self.length\n",
    "```\n",
    "\n",
    "That's better: now, each square is only represented using a single number. We've inherited the behavior, but not the data.\n",
    "\n",
    "In Julia, you could code this like so:"
   ]
  },
  {
   "cell_type": "code",
   "execution_count": 210,
   "metadata": {
    "colab": {
     "base_uri": "https://localhost:8080/",
     "height": 34
    },
    "colab_type": "code",
    "id": "G7aHm-s_y92c",
    "outputId": "4479922f-ed16-4356-807b-26ba1bfe5640"
   },
   "outputs": [
    {
     "data": {
      "text/plain": [
       "height (generic function with 2 methods)"
      ]
     },
     "execution_count": 210,
     "metadata": {
      "tags": []
     },
     "output_type": "execute_result"
    }
   ],
   "source": [
    "struct Rectangle\n",
    "    width\n",
    "    height\n",
    "end\n",
    "\n",
    "width(rect::Rectangle) = rect.width\n",
    "height(rect::Rectangle) = rect.height\n",
    "\n",
    "area(rect) = width(rect) * height(rect)\n",
    "\n",
    "struct Square\n",
    "    length\n",
    "end\n",
    "\n",
    "width(sq::Square) = sq.length\n",
    "height(sq::Square) = sq.length"
   ]
  },
  {
   "cell_type": "code",
   "execution_count": 211,
   "metadata": {
    "colab": {
     "base_uri": "https://localhost:8080/",
     "height": 34
    },
    "colab_type": "code",
    "id": "1Ck-ML8CuOMm",
    "outputId": "8fee00cd-662a-4619-f5ff-e67a94defd07"
   },
   "outputs": [
    {
     "data": {
      "text/plain": [
       "25"
      ]
     },
     "execution_count": 211,
     "metadata": {
      "tags": []
     },
     "output_type": "execute_result"
    }
   ],
   "source": [
    "area(Square(5))"
   ]
  },
  {
   "cell_type": "markdown",
   "metadata": {
    "colab_type": "text",
    "id": "qUy8eU__-swA"
   },
   "source": [
    "Notice that the `area()` function relies on the getters `width()` and `height()`, rather than directly on the fields `width` and `height`. This way, the argument can be of any type at all, as long as it has these getters."
   ]
  },
  {
   "cell_type": "markdown",
   "metadata": {
    "colab_type": "text",
    "id": "iPtX04AJkXnI"
   },
   "source": [
    "## Abstract Types\n",
    "One nice thing about the class hierarchy we defined in Python is that it makes it clear that a square **is a** kind of rectangle. Any new function you define that takes a `Rectangle` as an argument will automatically accept a `Square` as well, but no other non-rectangle type. In contrast, our `area()` function currently accepts anything at all.\n",
    "\n",
    "In Julia, a concrete type like `Square` cannot extend another concrete type like `Rectangle`. However, any type can extend from an abstract type. Let's define some abstract types to create a type hierarchy for our `Square` and `Rectangle` types."
   ]
  },
  {
   "cell_type": "code",
   "execution_count": 212,
   "metadata": {
    "colab": {},
    "colab_type": "code",
    "id": "HgXYu8Y7kFf7"
   },
   "outputs": [],
   "source": [
    "abstract type AbstractShape end\n",
    "abstract type AbstractRectangle <: AbstractShape end  # <: means \"subtype of\"\n",
    "abstract type AbstractSquare <: AbstractRectangle end"
   ]
  },
  {
   "cell_type": "markdown",
   "metadata": {
    "colab_type": "text",
    "id": "s9jYhVkntUXo"
   },
   "source": [
    "The `<:` operator means \"subtype of\"."
   ]
  },
  {
   "cell_type": "markdown",
   "metadata": {
    "colab_type": "text",
    "id": "SFoq_2FUtjix"
   },
   "source": [
    "Now we can attach the `area()` function to the `AbstractRectangle` type, instead of any type at all:"
   ]
  },
  {
   "cell_type": "code",
   "execution_count": 213,
   "metadata": {
    "colab": {
     "base_uri": "https://localhost:8080/",
     "height": 34
    },
    "colab_type": "code",
    "id": "DpCEaRNytYNQ",
    "outputId": "6c788432-1cc2-439d-85a3-1c80c74eabef"
   },
   "outputs": [
    {
     "data": {
      "text/plain": [
       "area (generic function with 2 methods)"
      ]
     },
     "execution_count": 213,
     "metadata": {
      "tags": []
     },
     "output_type": "execute_result"
    }
   ],
   "source": [
    "area(rect::AbstractRectangle) = width(rect) * height(rect)"
   ]
  },
  {
   "cell_type": "markdown",
   "metadata": {
    "colab_type": "text",
    "id": "utwPa8jLt7bF"
   },
   "source": [
    "Now we can define the concrete types, as subtypes of `AbstractRectangle` and `AbstractSquare`:"
   ]
  },
  {
   "cell_type": "code",
   "execution_count": 214,
   "metadata": {
    "colab": {
     "base_uri": "https://localhost:8080/",
     "height": 34
    },
    "colab_type": "code",
    "id": "cHChkf1Mt0GN",
    "outputId": "c063caff-c730-4478-fdf5-a8c49498c3b1"
   },
   "outputs": [
    {
     "data": {
      "text/plain": [
       "height (generic function with 4 methods)"
      ]
     },
     "execution_count": 214,
     "metadata": {
      "tags": []
     },
     "output_type": "execute_result"
    }
   ],
   "source": [
    "struct Rectangle_v2 <: AbstractRectangle\n",
    "  width\n",
    "  height\n",
    "end\n",
    "\n",
    "width(rect::Rectangle_v2) = rect.width\n",
    "height(rect::Rectangle_v2) = rect.height\n",
    "\n",
    "struct Square_v2 <: AbstractSquare\n",
    "  length\n",
    "end\n",
    "\n",
    "width(sq::Square_v2) = sq.length\n",
    "height(sq::Square_v2) = sq.length"
   ]
  },
  {
   "cell_type": "markdown",
   "metadata": {
    "colab_type": "text",
    "id": "N6JklHCruNkP"
   },
   "source": [
    "In short, the Julian approach to type hierarchies looks like this:\n",
    "\n",
    "* Create a hierarchy of abstract types to represent the concepts you want to implement.\n",
    "* Write functions for these abstract types. Much of your implementation can be coded at that level, manipulating abstract concepts.\n",
    "* Lastly, create concrete types, and write the methods needed to give them the behavior that is expected by the generic algorithms you wrote."
   ]
  },
  {
   "cell_type": "markdown",
   "metadata": {
    "colab_type": "text",
    "id": "GZA6mB9hu3pg"
   },
   "source": [
    "This pattern is used everywhere in Julia's standard libraries. For example, here are the supertypes of `Float64` and `Int64`:"
   ]
  },
  {
   "cell_type": "code",
   "execution_count": 215,
   "metadata": {
    "colab": {
     "base_uri": "https://localhost:8080/",
     "height": 34
    },
    "colab_type": "code",
    "id": "No9X1dLtu-nj",
    "outputId": "07a0969d-e3f7-4890-ecfe-bfa0de14b298"
   },
   "outputs": [
    {
     "name": "stdout",
     "output_type": "stream",
     "text": [
      "Float64 <: AbstractFloat <: Real <: Number <: Any"
     ]
    }
   ],
   "source": [
    "Base.show_supertypes(Float64)"
   ]
  },
  {
   "cell_type": "code",
   "execution_count": 216,
   "metadata": {
    "colab": {
     "base_uri": "https://localhost:8080/",
     "height": 34
    },
    "colab_type": "code",
    "id": "RowhPCR_R-QG",
    "outputId": "7f898ce1-94e2-46e7-e18c-b7af2264ecf6"
   },
   "outputs": [
    {
     "name": "stdout",
     "output_type": "stream",
     "text": [
      "Int64 <: Signed <: Integer <: Real <: Number <: Any"
     ]
    }
   ],
   "source": [
    "Base.show_supertypes(Int64)"
   ]
  },
  {
   "cell_type": "markdown",
   "metadata": {
    "colab_type": "text",
    "id": "fTFddfq0CEyy"
   },
   "source": [
    "Note: Julia implicitly runs `using Core` and `using Base` when starting the REPL. However, the `show_supertypes()` function is not exported by the `Base` module, thus you cannot access it by just typing `show_supertypes(Float64)`. Instead, you have to specify the module name: `Base.show_supertypes(Float64)`."
   ]
  },
  {
   "cell_type": "markdown",
   "metadata": {
    "colab_type": "text",
    "id": "K-q4QCgI-rWI"
   },
   "source": [
    "And here is the whole hierarchy of `Number` types:"
   ]
  },
  {
   "cell_type": "code",
   "execution_count": 217,
   "metadata": {
    "colab": {
     "base_uri": "https://localhost:8080/",
     "height": 510
    },
    "colab_type": "code",
    "id": "6Gtn6IB0vQZv",
    "outputId": "45a8d743-ad97-48b7-d61f-0663aa10b75a"
   },
   "outputs": [
    {
     "name": "stdout",
     "output_type": "stream",
     "text": [
      "Number\n",
      "    Complex\n",
      "    Real\n",
      "        AbstractFloat\n",
      "            BigFloat\n",
      "            Float16\n",
      "            Float32\n",
      "            Float64\n",
      "        AbstractIrrational\n",
      "            Irrational\n",
      "        FixedPointNumbers.FixedPoint\n",
      "            FixedPointNumbers.Fixed\n",
      "            FixedPointNumbers.Normed\n",
      "        Integer\n",
      "            Bool\n",
      "            Signed\n",
      "                BigInt\n",
      "                Int128\n",
      "                Int16\n",
      "                Int32\n",
      "                Int64\n",
      "                Int8\n",
      "            Unsigned\n",
      "                UInt128\n",
      "                UInt16\n",
      "                UInt32\n",
      "                UInt64\n",
      "                UInt8\n",
      "        Rational\n"
     ]
    }
   ],
   "source": [
    "function show_hierarchy(root, indent=0)\n",
    "    println(repeat(\" \", indent * 4), root)\n",
    "    for subtype in subtypes(root)\n",
    "        show_hierarchy(subtype, indent + 1)\n",
    "    end\n",
    "end\n",
    "\n",
    "show_hierarchy(Number)"
   ]
  },
  {
   "cell_type": "markdown",
   "metadata": {
    "colab_type": "text",
    "id": "NdE0eLaKf_tM"
   },
   "source": [
    "## Iterator Interface\n",
    "You will sometimes want to provide a way to iterate over your custom types. In Python, this requires defining the `__iter__()` method which should return an object which implements the `__next__()` method. In Julia, you must define at least two functions:\n",
    "* `iterate(::YourIteratorType)`, which must return either `nothing` if there are no values in the sequence, or `(first_value, iterator_state)`.\n",
    "* `iterate(::YourIteratorType, state)`, which must return either `nothing` if there are no more values, or `(next_value, new_iterator_state)`.\n",
    "\n",
    "For example, let's create a simple iterator for the Fibonacci sequence:"
   ]
  },
  {
   "cell_type": "code",
   "execution_count": 218,
   "metadata": {
    "colab": {},
    "colab_type": "code",
    "id": "baemCHqZde4Y"
   },
   "outputs": [],
   "source": [
    "struct FibonacciIterator end"
   ]
  },
  {
   "cell_type": "code",
   "execution_count": 219,
   "metadata": {
    "colab": {
     "base_uri": "https://localhost:8080/",
     "height": 34
    },
    "colab_type": "code",
    "id": "yidgsJt9eBSk",
    "outputId": "70a596d3-cef3-4b07-da41-d68dce807284"
   },
   "outputs": [
    {
     "data": {
      "text/plain": [
       "iterate (generic function with 224 methods)"
      ]
     },
     "execution_count": 219,
     "metadata": {
      "tags": []
     },
     "output_type": "execute_result"
    }
   ],
   "source": [
    "import Base.iterate\n",
    "\n",
    "iterate(f::FibonacciIterator) = (1, (1, 1))\n",
    "\n",
    "function iterate(f::FibonacciIterator, state)\n",
    "    new_state = (state[2], state[1] + state[2])\n",
    "    (new_state[1], new_state)\n",
    "end"
   ]
  },
  {
   "cell_type": "markdown",
   "metadata": {
    "colab_type": "text",
    "id": "9CORRxR8hYrl"
   },
   "source": [
    "Now we can iterate over a `FibonacciIterator` instance:"
   ]
  },
  {
   "cell_type": "code",
   "execution_count": 220,
   "metadata": {
    "colab": {
     "base_uri": "https://localhost:8080/",
     "height": 136
    },
    "colab_type": "code",
    "id": "5W0QbY41fJGE",
    "outputId": "7cdc05b9-93e8-4308-99b6-116ea727c563"
   },
   "outputs": [
    {
     "name": "stdout",
     "output_type": "stream",
     "text": [
      "1\n",
      "1\n",
      "2\n",
      "3\n",
      "5\n",
      "8\n",
      "13\n"
     ]
    }
   ],
   "source": [
    "for f in FibonacciIterator()\n",
    "    println(f)\n",
    "    f > 10 && break\n",
    "end"
   ]
  },
  {
   "cell_type": "markdown",
   "metadata": {
    "colab_type": "text",
    "id": "RjEk9nRIhmwV"
   },
   "source": [
    "## Indexing Interface\n",
    "You can also create a type that will be indexable like an array (allowing syntax like `a[5] = 3`). In Python, this requires implementing the `__getitem__()` and `__setitem__()` methods. In Julia, you must implement the `getindex(A::YourType, i)`, `setindex!(A::YourType, v, i)`, `firstindex(A::YourType)` and `lastindex(A::YourType)` methods."
   ]
  },
  {
   "cell_type": "code",
   "execution_count": 221,
   "metadata": {
    "colab": {
     "base_uri": "https://localhost:8080/",
     "height": 34
    },
    "colab_type": "code",
    "id": "i-r1StLujBEL",
    "outputId": "0f1b3edb-f180-4802-a7cc-308201d319e3"
   },
   "outputs": [
    {
     "data": {
      "text/plain": [
       "100"
      ]
     },
     "execution_count": 221,
     "metadata": {
      "tags": []
     },
     "output_type": "execute_result"
    }
   ],
   "source": [
    "struct MySquares end\n",
    "\n",
    "import Base.getindex, Base.firstindex\n",
    "\n",
    "getindex(::MySquares, i) = i^2\n",
    "firstindex(::MySquares) = 0\n",
    "\n",
    "S = MySquares()\n",
    "S[10]"
   ]
  },
  {
   "cell_type": "code",
   "execution_count": 222,
   "metadata": {
    "colab": {
     "base_uri": "https://localhost:8080/",
     "height": 34
    },
    "colab_type": "code",
    "id": "p8zfJLvDjpSP",
    "outputId": "4220e2e1-8c2e-44e7-a9c2-6e7eb8889bce"
   },
   "outputs": [
    {
     "data": {
      "text/plain": [
       "0"
      ]
     },
     "execution_count": 222,
     "metadata": {
      "tags": []
     },
     "output_type": "execute_result"
    }
   ],
   "source": [
    "S[begin]"
   ]
  },
  {
   "cell_type": "code",
   "execution_count": 223,
   "metadata": {
    "colab": {
     "base_uri": "https://localhost:8080/",
     "height": 34
    },
    "colab_type": "code",
    "id": "n9y4Y2r2jzTG",
    "outputId": "b150c36d-1425-4c4c-8afe-e06b67cd2594"
   },
   "outputs": [
    {
     "data": {
      "text/plain": [
       "getindex (generic function with 228 methods)"
      ]
     },
     "execution_count": 223,
     "metadata": {
      "tags": []
     },
     "output_type": "execute_result"
    }
   ],
   "source": [
    "getindex(S::MySquares, r::UnitRange) = [S[i] for i in r]"
   ]
  },
  {
   "cell_type": "code",
   "execution_count": 224,
   "metadata": {
    "colab": {
     "base_uri": "https://localhost:8080/",
     "height": 102
    },
    "colab_type": "code",
    "id": "vk-gqI08jrQo",
    "outputId": "f1bec7fe-7114-41da-8b2b-8bcc517e4d47"
   },
   "outputs": [
    {
     "data": {
      "text/plain": [
       "4-element Array{Int64,1}:\n",
       "  1\n",
       "  4\n",
       "  9\n",
       " 16"
      ]
     },
     "execution_count": 224,
     "metadata": {
      "tags": []
     },
     "output_type": "execute_result"
    }
   ],
   "source": [
    "S[1:4]"
   ]
  },
  {
   "cell_type": "markdown",
   "metadata": {
    "colab_type": "text",
    "id": "1j3qxO4TkoVm"
   },
   "source": [
    "For more details on these interfaces, and to learn how to build full-blown array types with broadcasting and more, check out [this page](https://docs.julialang.org/en/v1/manual/interfaces/)."
   ]
  },
  {
   "cell_type": "markdown",
   "metadata": {
    "colab_type": "text",
    "id": "bD9gzH2XDlGL"
   },
   "source": [
    "## Creating a Number Type\n",
    "Let's create a `MyRational` struct and try to make it mimic the built-in `Rational` type:"
   ]
  },
  {
   "cell_type": "code",
   "execution_count": 225,
   "metadata": {
    "colab": {},
    "colab_type": "code",
    "id": "nwEtMyR1PB3C"
   },
   "outputs": [],
   "source": [
    "struct MyRational <: Real\n",
    "    num # numerator\n",
    "    den # denominator\n",
    "end"
   ]
  },
  {
   "cell_type": "code",
   "execution_count": 226,
   "metadata": {
    "colab": {
     "base_uri": "https://localhost:8080/",
     "height": 34
    },
    "colab_type": "code",
    "id": "cwCpLCW6PePs",
    "outputId": "b2d9f8da-f892-4407-fa5e-1b24a15197d4"
   },
   "outputs": [
    {
     "data": {
      "text/plain": [
       "MyRational(2, 3)"
      ]
     },
     "execution_count": 226,
     "metadata": {
      "tags": []
     },
     "output_type": "execute_result"
    }
   ],
   "source": [
    "MyRational(2, 3)"
   ]
  },
  {
   "cell_type": "markdown",
   "metadata": {
    "colab_type": "text",
    "id": "vbIz77VzST24"
   },
   "source": [
    "It would be more convenient and readable if we could type `2 ⨸ 3` to create a `MyRational`:"
   ]
  },
  {
   "cell_type": "code",
   "execution_count": 227,
   "metadata": {
    "colab": {
     "base_uri": "https://localhost:8080/",
     "height": 34
    },
    "colab_type": "code",
    "id": "VuitXq8eTL4G",
    "outputId": "7e812671-4ed8-4672-cb27-2f0ecd9594a9"
   },
   "outputs": [
    {
     "data": {
      "text/plain": [
       "⨸ (generic function with 1 method)"
      ]
     },
     "execution_count": 227,
     "metadata": {
      "tags": []
     },
     "output_type": "execute_result"
    }
   ],
   "source": [
    "function ⨸(num, den)\n",
    "    MyRational(num, den)\n",
    "end"
   ]
  },
  {
   "cell_type": "code",
   "execution_count": 228,
   "metadata": {
    "colab": {
     "base_uri": "https://localhost:8080/",
     "height": 34
    },
    "colab_type": "code",
    "id": "isQcJMAeTRi-",
    "outputId": "8ac2049a-7c6c-41cd-f9a2-610a86eb93aa"
   },
   "outputs": [
    {
     "data": {
      "text/plain": [
       "MyRational(2, 3)"
      ]
     },
     "execution_count": 228,
     "metadata": {
      "tags": []
     },
     "output_type": "execute_result"
    }
   ],
   "source": [
    "2 ⨸ 3"
   ]
  },
  {
   "cell_type": "markdown",
   "metadata": {
    "colab_type": "text",
    "id": "g594gvCpTTYB"
   },
   "source": [
    "I chose `⨸` because it's a symbol that Julia's parser treats as a binary operator, but which is otherwise not used by Julia (see the full [list of parsed symbols](https://github.com/JuliaLang/julia/blob/master/src/julia-parser.scm) and their priorities). This particular symbol will have the same priority as multiplication and division."
   ]
  },
  {
   "cell_type": "markdown",
   "metadata": {
    "colab_type": "text",
    "id": "3DKaUnqsUG0L"
   },
   "source": [
    "If you want to know how to type it and check that it is unused, type `?⨸` (copy/paste the symbol):"
   ]
  },
  {
   "cell_type": "code",
   "execution_count": 229,
   "metadata": {
    "colab": {
     "base_uri": "https://localhost:8080/",
     "height": 171
    },
    "colab_type": "code",
    "id": "km3KccbsUTnQ",
    "outputId": "17bc9bee-cd0e-4750-f084-87c3eca82cf6"
   },
   "outputs": [
    {
     "name": "stdout",
     "output_type": "stream",
     "text": [
      "\"\u001b[36m⨸\u001b[39m\" can be typed by \u001b[36m\\odiv<tab>\u001b[39m\n",
      "\n",
      "search: \u001b[0m\u001b[1m⨸\u001b[22m\n",
      "\n"
     ]
    },
    {
     "data": {
      "text/latex": [
       "No documentation found.\n",
       "\n",
       "\\texttt{⨸} is a \\texttt{Function}.\n",
       "\n",
       "\\begin{verbatim}\n",
       "# 1 method for generic function \"⨸\":\n",
       "[1] ⨸(num, den) in Main at In[227]:2\n",
       "\\end{verbatim}\n"
      ],
      "text/markdown": [
       "No documentation found.\n",
       "\n",
       "`⨸` is a `Function`.\n",
       "\n",
       "```\n",
       "# 1 method for generic function \"⨸\":\n",
       "[1] ⨸(num, den) in Main at In[227]:2\n",
       "```\n"
      ],
      "text/plain": [
       "  No documentation found.\n",
       "\n",
       "  \u001b[36m⨸\u001b[39m is a \u001b[36mFunction\u001b[39m.\n",
       "\n",
       "\u001b[36m  # 1 method for generic function \"⨸\":\u001b[39m\n",
       "\u001b[36m  [1] ⨸(num, den) in Main at In[227]:2\u001b[39m"
      ]
     },
     "execution_count": 229,
     "metadata": {
      "tags": []
     },
     "output_type": "execute_result"
    }
   ],
   "source": [
    "?⨸"
   ]
  },
  {
   "cell_type": "markdown",
   "metadata": {
    "colab_type": "text",
    "id": "eWzNstBqQckD"
   },
   "source": [
    "Now let's make it possible to add two `MyRational` values. We want it to be possible for our `MyRational` type to be used in existing algorithms which rely on `+`, so we must create a new method for the `Base.+` function:"
   ]
  },
  {
   "cell_type": "code",
   "execution_count": 230,
   "metadata": {
    "colab": {
     "base_uri": "https://localhost:8080/",
     "height": 34
    },
    "colab_type": "code",
    "id": "2T7MyjE2RhUW",
    "outputId": "39821e83-66d4-4d26-e02b-9bca538967b9"
   },
   "outputs": [
    {
     "data": {
      "text/plain": [
       "+ (generic function with 173 methods)"
      ]
     },
     "execution_count": 230,
     "metadata": {
      "tags": []
     },
     "output_type": "execute_result"
    }
   ],
   "source": [
    "import Base.+\n",
    "\n",
    "function +(r1::MyRational, r2::MyRational)\n",
    "    (r1.num * r2.den + r1.den * r2.num) ⨸ (r1.den * r2.den)\n",
    "end"
   ]
  },
  {
   "cell_type": "code",
   "execution_count": 231,
   "metadata": {
    "colab": {
     "base_uri": "https://localhost:8080/",
     "height": 34
    },
    "colab_type": "code",
    "id": "aFtoPHZRSNoU",
    "outputId": "3347bd2c-c3bb-42c8-bd83-88f1048fdafc"
   },
   "outputs": [
    {
     "data": {
      "text/plain": [
       "MyRational(19, 15)"
      ]
     },
     "execution_count": 231,
     "metadata": {
      "tags": []
     },
     "output_type": "execute_result"
    }
   ],
   "source": [
    "2 ⨸ 3 + 3 ⨸ 5"
   ]
  },
  {
   "cell_type": "markdown",
   "metadata": {
    "colab_type": "text",
    "id": "8--bQ8izR7_I"
   },
   "source": [
    "It's important to import `Base.+` first, or else you would just be defining a new `+` function in the current module (`Main`), which would not be called by existing algorithms."
   ]
  },
  {
   "cell_type": "markdown",
   "metadata": {
    "colab_type": "text",
    "id": "x79nFEHQYFfU"
   },
   "source": [
    "You can easily implement `*`, `^` and so on, in much the same way."
   ]
  },
  {
   "cell_type": "markdown",
   "metadata": {
    "colab_type": "text",
    "id": "GGTgc07sSR4w"
   },
   "source": [
    "Let's change the way `MyRational` values are printed, to make them look a bit nicer. For this, we must create a new method for the `Base.show(io::IO, x)` function:"
   ]
  },
  {
   "cell_type": "code",
   "execution_count": 232,
   "metadata": {
    "colab": {
     "base_uri": "https://localhost:8080/",
     "height": 34
    },
    "colab_type": "code",
    "id": "KQN5IqLxVzLF",
    "outputId": "09297302-3b04-4154-f239-331d47b55c9e"
   },
   "outputs": [
    {
     "data": {
      "text/plain": [
       "19 ⨸ 15"
      ]
     },
     "execution_count": 232,
     "metadata": {
      "tags": []
     },
     "output_type": "execute_result"
    }
   ],
   "source": [
    "import Base.show\n",
    "\n",
    "function show(io::IO, r::MyRational)\n",
    "    print(io, \"$(r.num) ⨸ $(r.den)\")\n",
    "end\n",
    "\n",
    "2 ⨸ 3 + 3 ⨸ 5"
   ]
  },
  {
   "cell_type": "markdown",
   "metadata": {
    "colab_type": "text",
    "id": "rJg_-ZYOXS4m"
   },
   "source": [
    "We can expand the `show()` function so it can provide an HTML representation for `MyRational` values. This will be called by the `display()` function in Jupyter or Colab:"
   ]
  },
  {
   "cell_type": "code",
   "execution_count": 233,
   "metadata": {
    "colab": {
     "base_uri": "https://localhost:8080/",
     "height": 40
    },
    "colab_type": "code",
    "id": "h6smoUzBWkNB",
    "outputId": "68d5cc1a-96fa-4c67-8cc8-102c91eefb1f"
   },
   "outputs": [
    {
     "data": {
      "text/html": [
       "<sup><b>19</b></sup>&frasl;<sub><b>15</b></sub>"
      ],
      "text/plain": [
       "19 ⨸ 15"
      ]
     },
     "execution_count": 233,
     "metadata": {
      "tags": []
     },
     "output_type": "execute_result"
    }
   ],
   "source": [
    "function show(io::IO, ::MIME\"text/html\", r::MyRational)\n",
    "    print(io, \"<sup><b>$(r.num)</b></sup>&frasl;<sub><b>$(r.den)</b></sub>\")\n",
    "end\n",
    "\n",
    "2 ⨸ 3 + 3 ⨸ 5"
   ]
  },
  {
   "cell_type": "markdown",
   "metadata": {
    "colab_type": "text",
    "id": "5bOKggSjX7hM"
   },
   "source": [
    "Next, we want to be able to perform any operation involving `MyRational` values and values of other `Number` types. For example, we may want to multiply integers and `MyRational` values. One option is to define a new method like this:"
   ]
  },
  {
   "cell_type": "code",
   "execution_count": 234,
   "metadata": {
    "colab": {
     "base_uri": "https://localhost:8080/",
     "height": 40
    },
    "colab_type": "code",
    "id": "dlW_pbUPZL_0",
    "outputId": "17cd6462-b547-4d0d-afe4-c759ad576d73"
   },
   "outputs": [
    {
     "data": {
      "text/html": [
       "<sup><b>10</b></sup>&frasl;<sub><b>3</b></sub>"
      ],
      "text/plain": [
       "10 ⨸ 3"
      ]
     },
     "execution_count": 234,
     "metadata": {
      "tags": []
     },
     "output_type": "execute_result"
    }
   ],
   "source": [
    "import Base.*\n",
    "\n",
    "function *(r::MyRational, i::Integer)\n",
    "    (r.num * i) ⨸ r.den\n",
    "end\n",
    "\n",
    "2 ⨸ 3 * 5"
   ]
  },
  {
   "cell_type": "markdown",
   "metadata": {
    "colab_type": "text",
    "id": "3Xr--hB-ZlDm"
   },
   "source": [
    "Since multiplication is commutative, we need the reverse method as well:"
   ]
  },
  {
   "cell_type": "code",
   "execution_count": 235,
   "metadata": {
    "colab": {
     "base_uri": "https://localhost:8080/",
     "height": 40
    },
    "colab_type": "code",
    "id": "3DkeVGqaZtNv",
    "outputId": "ba58fec5-be9e-4512-d256-c38a4bf3007a"
   },
   "outputs": [
    {
     "data": {
      "text/html": [
       "<sup><b>10</b></sup>&frasl;<sub><b>3</b></sub>"
      ],
      "text/plain": [
       "10 ⨸ 3"
      ]
     },
     "execution_count": 235,
     "metadata": {
      "tags": []
     },
     "output_type": "execute_result"
    }
   ],
   "source": [
    "function *(i::Integer, r::MyRational)\n",
    "    r * i # this will call the previous method\n",
    "end\n",
    "\n",
    "5 * (2 ⨸ 3) # we need the parentheses since * and ⨸ have the same priority"
   ]
  },
  {
   "cell_type": "markdown",
   "metadata": {
    "colab_type": "text",
    "id": "hzW07JkXggLo"
   },
   "source": [
    "It's cumbersome to have to define these methods for every operation. There's a better way, which we will explore in the next two sections."
   ]
  },
  {
   "cell_type": "markdown",
   "metadata": {
    "colab_type": "text",
    "id": "TWXZrND8N-nR"
   },
   "source": [
    "## Conversion\n",
    "It is possible to provide a way for integers to be automatically converted to `MyRational` values:"
   ]
  },
  {
   "cell_type": "code",
   "execution_count": 236,
   "metadata": {
    "colab": {
     "base_uri": "https://localhost:8080/",
     "height": 40
    },
    "colab_type": "code",
    "id": "SFIenX2Og0qY",
    "outputId": "8b8004d8-df1b-4526-ee73-801a2c2ce312"
   },
   "outputs": [
    {
     "data": {
      "text/html": [
       "<sup><b>42</b></sup>&frasl;<sub><b>1</b></sub>"
      ],
      "text/plain": [
       "42 ⨸ 1"
      ]
     },
     "execution_count": 236,
     "metadata": {
      "tags": []
     },
     "output_type": "execute_result"
    }
   ],
   "source": [
    "import Base.convert\n",
    "\n",
    "MyRational(x::Integer) = MyRational(x, 1)\n",
    "\n",
    "convert(::Type{MyRational}, x::Integer) = MyRational(x)\n",
    "\n",
    "convert(MyRational, 42)"
   ]
  },
  {
   "cell_type": "markdown",
   "metadata": {
    "colab_type": "text",
    "id": "n_gGRgRSwrkS"
   },
   "source": [
    "The `Type{MyRational}` type is a special type which has a single instance: the `MyRational` type itself. So this `convert()` method only accepts `MyRational` itself as its first argument (and we don't actually use the first argument, so we don't even need to give it a name in the function declaration)."
   ]
  },
  {
   "cell_type": "markdown",
   "metadata": {
    "colab_type": "text",
    "id": "5B9cNbV5lbHm"
   },
   "source": [
    "Now integers will be automatically converted to `MyRational` values when you assign them to an array whose element type if `MyRational`:"
   ]
  },
  {
   "cell_type": "code",
   "execution_count": 237,
   "metadata": {
    "colab": {
     "base_uri": "https://localhost:8080/",
     "height": 34
    },
    "colab_type": "code",
    "id": "YWdijh_2k7LU",
    "outputId": "f2c2ac2b-b966-4dca-8c2d-09fa4ece0ae8"
   },
   "outputs": [
    {
     "name": "stdout",
     "output_type": "stream",
     "text": [
      "MyRational[5 ⨸ 1, 6 ⨸ 1]\n"
     ]
    }
   ],
   "source": [
    "a = [2 ⨸ 3] # the element type is MyRational\n",
    "a[1] = 5    # convert(MyRational, 5) is called automatically\n",
    "push!(a, 6) # convert(MyRational, 6) is called automatically\n",
    "println(a)"
   ]
  },
  {
   "cell_type": "markdown",
   "metadata": {
    "colab_type": "text",
    "id": "ESWblH5olvOY"
   },
   "source": [
    "Conversion will also occur automatically in these cases:\n",
    "* `r::MyRational = 42`: assigning an integer to `r` where `r` is a local variable with a declared type of `MyRational`.\n",
    "* `s.b = 42` if `s` is a struct and `b` is a field of type `MyRational` (also when calling `new(42)` on that struct, assuming `b` is the first field).\n",
    "* `return 42` if the return type is declared as `MyRational` (e.g., `function f(x)::MyRational ... end`)."
   ]
  },
  {
   "cell_type": "markdown",
   "metadata": {
    "colab_type": "text",
    "id": "kIulkBomd5hy"
   },
   "source": [
    "However, there is no automatic conversion when calling functions:"
   ]
  },
  {
   "cell_type": "code",
   "execution_count": 238,
   "metadata": {
    "colab": {
     "base_uri": "https://localhost:8080/",
     "height": 34
    },
    "colab_type": "code",
    "id": "7Jf6rT8uhAtU",
    "outputId": "1ef6c1c2-b189-412e-b201-f0076d037c9d"
   },
   "outputs": [
    {
     "data": {
      "text/plain": [
       "MethodError(for_my_rationals_only, (42,), 0x0000000000006a8f)"
      ]
     },
     "execution_count": 238,
     "metadata": {
      "tags": []
     },
     "output_type": "execute_result"
    }
   ],
   "source": [
    "function for_my_rationals_only(x::MyRational)\n",
    "    println(\"It works:\", x)\n",
    "end\n",
    "\n",
    "try\n",
    "    for_my_rationals_only(42)\n",
    "catch ex\n",
    "    ex\n",
    "end"
   ]
  },
  {
   "cell_type": "markdown",
   "metadata": {
    "colab_type": "text",
    "id": "KhtxelSROzU_"
   },
   "source": [
    "## Promotion\n",
    "The `Base` functions `+`, `-`, `*`, `/`, `^`, etc. all use a \"promotion\" algorithm to convert the arguments to the appropriate type. For example, adding an integer and a float promotes the integer to a float before the addition takes place. These functions use the `promote()` function for this. For example, given several integers and a float, all integers get promoted to floats:"
   ]
  },
  {
   "cell_type": "code",
   "execution_count": 239,
   "metadata": {
    "colab": {
     "base_uri": "https://localhost:8080/",
     "height": 34
    },
    "colab_type": "code",
    "id": "BEa8TRPuokYN",
    "outputId": "757ea23a-2ff3-47ac-f078-e3dc19444b4c"
   },
   "outputs": [
    {
     "data": {
      "text/plain": [
       "(1.0, 2.0, 3.0, 4.0)"
      ]
     },
     "execution_count": 239,
     "metadata": {
      "tags": []
     },
     "output_type": "execute_result"
    }
   ],
   "source": [
    "promote(1, 2, 3, 4.0)"
   ]
  },
  {
   "cell_type": "markdown",
   "metadata": {
    "colab_type": "text",
    "id": "wDpLvwpMPP59"
   },
   "source": [
    "This is why a sum of integers and floats results in a float:"
   ]
  },
  {
   "cell_type": "code",
   "execution_count": 240,
   "metadata": {
    "colab": {
     "base_uri": "https://localhost:8080/",
     "height": 34
    },
    "colab_type": "code",
    "id": "grWU-hHHPI7v",
    "outputId": "f599c588-1656-4e92-cba5-2c121ad5d583"
   },
   "outputs": [
    {
     "data": {
      "text/plain": [
       "10.0"
      ]
     },
     "execution_count": 240,
     "metadata": {
      "tags": []
     },
     "output_type": "execute_result"
    }
   ],
   "source": [
    "1 + 2 + 3 + 4.0"
   ]
  },
  {
   "cell_type": "markdown",
   "metadata": {
    "colab_type": "text",
    "id": "pkrDanbRO7b2"
   },
   "source": [
    "The `promote()` function is also called when creating an array. For example, the following array is a `Float64` array:"
   ]
  },
  {
   "cell_type": "code",
   "execution_count": 241,
   "metadata": {
    "colab": {
     "base_uri": "https://localhost:8080/",
     "height": 102
    },
    "colab_type": "code",
    "id": "AeDsWTZjO-4d",
    "outputId": "17b3a01e-f162-48f6-dc22-791ac103b61b"
   },
   "outputs": [
    {
     "data": {
      "text/plain": [
       "4-element Array{Float64,1}:\n",
       " 1.0\n",
       " 2.0\n",
       " 3.0\n",
       " 4.0"
      ]
     },
     "execution_count": 241,
     "metadata": {
      "tags": []
     },
     "output_type": "execute_result"
    }
   ],
   "source": [
    "a = [1, 2, 3, 4.0]"
   ]
  },
  {
   "cell_type": "markdown",
   "metadata": {
    "colab_type": "text",
    "id": "JCdZ4NhMo505"
   },
   "source": [
    "What about the `MyRational` type? Rather than create new methods for the `promote()` function, the recommended approach is to create a new method for the `promote_rule()` function. It takes two types and returns the type to convert to:"
   ]
  },
  {
   "cell_type": "code",
   "execution_count": 242,
   "metadata": {
    "colab": {
     "base_uri": "https://localhost:8080/",
     "height": 34
    },
    "colab_type": "code",
    "id": "3xJTjr7XPgtx",
    "outputId": "102a8ee1-b785-44c8-be2e-f68ab1545e78"
   },
   "outputs": [
    {
     "data": {
      "text/plain": [
       "Float64"
      ]
     },
     "execution_count": 242,
     "metadata": {
      "tags": []
     },
     "output_type": "execute_result"
    }
   ],
   "source": [
    "promote_rule(Float64, Int64)"
   ]
  },
  {
   "cell_type": "markdown",
   "metadata": {
    "colab_type": "text",
    "id": "W68U2_SjPt_T"
   },
   "source": [
    "Let's implement a new method for this function, to make sure that any subtype of the `Integer` type will be promoted to `MyRational`:"
   ]
  },
  {
   "cell_type": "code",
   "execution_count": 243,
   "metadata": {
    "colab": {
     "base_uri": "https://localhost:8080/",
     "height": 34
    },
    "colab_type": "code",
    "id": "wjK9_3Bierna",
    "outputId": "02215c5f-c146-409e-884b-6183e7729752"
   },
   "outputs": [
    {
     "data": {
      "text/plain": [
       "promote_rule (generic function with 141 methods)"
      ]
     },
     "execution_count": 243,
     "metadata": {
      "tags": []
     },
     "output_type": "execute_result"
    }
   ],
   "source": [
    "import Base.promote_rule\n",
    "\n",
    "promote_rule(::Type{MyRational}, ::Type{T}) where {T <: Integer} = MyRational"
   ]
  },
  {
   "cell_type": "markdown",
   "metadata": {
    "colab_type": "text",
    "id": "OSXo1GaxwU9F"
   },
   "source": [
    "This method definition uses **parametric types**: the type `T` can be any type at all, as long as it is a subtype of the `Integer` abstract type. If you tried to define the method `promote_rule(::Type{MyRational}, ::Type{Integer})`, it would expect the type `Integer` itself as the second argument, which would not work, since the `promote_rule()` function will usually be called with concrete types like `Int64` as its arguments."
   ]
  },
  {
   "cell_type": "markdown",
   "metadata": {
    "colab_type": "text",
    "id": "Cn7m2aTTrC6X"
   },
   "source": [
    "Let's check that it works:"
   ]
  },
  {
   "cell_type": "code",
   "execution_count": 244,
   "metadata": {
    "colab": {
     "base_uri": "https://localhost:8080/",
     "height": 34
    },
    "colab_type": "code",
    "id": "bD7p0DHFfaCg",
    "outputId": "e5daf044-1e81-4e73-ad2d-315d4e08bed9"
   },
   "outputs": [
    {
     "data": {
      "text/plain": [
       "(5 ⨸ 1, 2 ⨸ 3)"
      ]
     },
     "execution_count": 244,
     "metadata": {
      "tags": []
     },
     "output_type": "execute_result"
    }
   ],
   "source": [
    "promote(5, 2 ⨸ 3)"
   ]
  },
  {
   "cell_type": "markdown",
   "metadata": {
    "colab_type": "text",
    "id": "WVRYV79ErH81"
   },
   "source": [
    "Yep! Now whenever we call `+`, `-`, etc., with an integer and a `MyRational` value, the integer will get automatically promoted to a `MyRational` value:"
   ]
  },
  {
   "cell_type": "code",
   "execution_count": 245,
   "metadata": {
    "colab": {
     "base_uri": "https://localhost:8080/",
     "height": 40
    },
    "colab_type": "code",
    "id": "lmjjo9lSegy9",
    "outputId": "425fb533-9bea-49da-c1b2-730a5df47d06"
   },
   "outputs": [
    {
     "data": {
      "text/html": [
       "<sup><b>17</b></sup>&frasl;<sub><b>3</b></sub>"
      ],
      "text/plain": [
       "17 ⨸ 3"
      ]
     },
     "execution_count": 245,
     "metadata": {
      "tags": []
     },
     "output_type": "execute_result"
    }
   ],
   "source": [
    "5 + 2 ⨸ 3"
   ]
  },
  {
   "cell_type": "markdown",
   "metadata": {
    "colab_type": "text",
    "id": "B6jVZiYXxuPJ"
   },
   "source": [
    "Under the hood:\n",
    "* this called `+(5, 2 ⨸ 3)`,\n",
    "  * which called the `+(::Number, ::Number)` method (thanks to multiple dispatch),\n",
    "    * which called `promote(5, 2 ⨸ 3)`,\n",
    "      * which called `promote_rule(Int64, MyRational)`,\n",
    "        * which called `promote_rule(::MyRational, ::T) where {T <: Integer}`,\n",
    "          * which returned `MyRational`,\n",
    "    * then the `+(::Number, ::Number)` method called `convert(MyRational, 5)`,\n",
    "      * which called `MyRational(5)`,\n",
    "        * which returned `MyRational(5, 1)`,\n",
    "    * and finally `+(::Number, ::Number)` called `+(MyRational(5, 1), MyRational(2, 3))`,\n",
    "      * which returned `MyRational(17, 3)`."
   ]
  },
  {
   "cell_type": "markdown",
   "metadata": {
    "colab_type": "text",
    "id": "d30Q7aANrik5"
   },
   "source": [
    "The benefit of this approach is that we only need to implement the `+`, `-`, etc. functions for pairs of `MyRational` values, not with all combinations of `MyRational` values and integers."
   ]
  },
  {
   "cell_type": "markdown",
   "metadata": {
    "colab_type": "text",
    "id": "GftnTFTyLchM"
   },
   "source": [
    "If your head hurts, it's perfectly normal. ;-) Writing a new type that is easy to use, flexible and plays nicely with existing types takes a bit of planning and work, but the point is that you will not write these every day, and once you have, they will make your life much easier."
   ]
  },
  {
   "cell_type": "markdown",
   "metadata": {
    "colab_type": "text",
    "id": "GSVv5YNisaxJ"
   },
   "source": [
    "Now let's handle the case where we want to execute operations with `MyRational` values and floats. In this case, we naturally want to promote the `MyRational` value to a float. We first need to define how to convert a `MyRational` value to any subtype of `AbstractFloat`:"
   ]
  },
  {
   "cell_type": "code",
   "execution_count": 246,
   "metadata": {
    "colab": {
     "base_uri": "https://localhost:8080/",
     "height": 34
    },
    "colab_type": "code",
    "id": "DZSFfORzrx4I",
    "outputId": "e58ea0ce-fc6a-4814-e460-bcea748e9f27"
   },
   "outputs": [
    {
     "data": {
      "text/plain": [
       "convert (generic function with 246 methods)"
      ]
     },
     "execution_count": 246,
     "metadata": {
      "tags": []
     },
     "output_type": "execute_result"
    }
   ],
   "source": [
    "convert(::Type{T}, x::MyRational) where {T <: AbstractFloat} = T(x.num / x.den)"
   ]
  },
  {
   "cell_type": "markdown",
   "metadata": {
    "colab_type": "text",
    "id": "XC5z7YxcMjJN"
   },
   "source": [
    "This `convert()` works with any type `T` which is a subtype of `AbstractFloat`. It just computes `x.num / x.den` and converts the result to type `T`. Let's try it:"
   ]
  },
  {
   "cell_type": "code",
   "execution_count": 247,
   "metadata": {
    "colab": {
     "base_uri": "https://localhost:8080/",
     "height": 34
    },
    "colab_type": "code",
    "id": "LxPjD04VMBXg",
    "outputId": "6d97bd75-63c7-4bac-bedf-587c47df1889"
   },
   "outputs": [
    {
     "data": {
      "text/plain": [
       "1.5"
      ]
     },
     "execution_count": 247,
     "metadata": {
      "tags": []
     },
     "output_type": "execute_result"
    }
   ],
   "source": [
    "convert(Float64, 3 ⨸ 2)"
   ]
  },
  {
   "cell_type": "markdown",
   "metadata": {
    "colab_type": "text",
    "id": "Iity08_TMyLa"
   },
   "source": [
    "Now let's define a `promote_rule()` method which will work for any type `T` which is a subtype of `AbstractFloat`, and which will give priority to `T` over `MyRational`:"
   ]
  },
  {
   "cell_type": "code",
   "execution_count": 248,
   "metadata": {
    "colab": {
     "base_uri": "https://localhost:8080/",
     "height": 34
    },
    "colab_type": "code",
    "id": "S2xlgBf8MGa8",
    "outputId": "56e8593d-a8f8-4e12-e499-41732b88f627"
   },
   "outputs": [
    {
     "data": {
      "text/plain": [
       "promote_rule (generic function with 142 methods)"
      ]
     },
     "execution_count": 248,
     "metadata": {
      "tags": []
     },
     "output_type": "execute_result"
    }
   ],
   "source": [
    "promote_rule(::Type{MyRational}, ::Type{T}) where {T <: AbstractFloat} = T"
   ]
  },
  {
   "cell_type": "code",
   "execution_count": 249,
   "metadata": {
    "colab": {
     "base_uri": "https://localhost:8080/",
     "height": 34
    },
    "colab_type": "code",
    "id": "5Xe9_k_GQZw0",
    "outputId": "d639f96e-ef73-4849-d040-39b05ed08118"
   },
   "outputs": [
    {
     "data": {
      "text/plain": [
       "(0.5, 4.0)"
      ]
     },
     "execution_count": 249,
     "metadata": {
      "tags": []
     },
     "output_type": "execute_result"
    }
   ],
   "source": [
    "promote(1 ⨸ 2, 4.0)"
   ]
  },
  {
   "cell_type": "markdown",
   "metadata": {
    "colab_type": "text",
    "id": "ZRQrziIuNONH"
   },
   "source": [
    "Now we can combine floats and `MyRational` values easily:"
   ]
  },
  {
   "cell_type": "code",
   "execution_count": 250,
   "metadata": {
    "colab": {
     "base_uri": "https://localhost:8080/",
     "height": 34
    },
    "colab_type": "code",
    "id": "ncZJSLjTsMsG",
    "outputId": "be4f7891-c455-440a-dfaa-46dd7f757222"
   },
   "outputs": [
    {
     "data": {
      "text/plain": [
       "1.5"
      ]
     },
     "execution_count": 250,
     "metadata": {
      "tags": []
     },
     "output_type": "execute_result"
    }
   ],
   "source": [
    "2.25 ^ (1 ⨸ 2)"
   ]
  },
  {
   "cell_type": "markdown",
   "metadata": {
    "colab_type": "text",
    "id": "p6msWOnrRwTO"
   },
   "source": [
    "## Parametric Types and Functions"
   ]
  },
  {
   "cell_type": "markdown",
   "metadata": {
    "colab_type": "text",
    "id": "6aNBefNARChe"
   },
   "source": [
    "Julia's `Rational` type is actually a **parametric type** which ensures that the numerator and denominator have the same type `T`, subtype of `Integer`. Here's a new version of our rational struct which enforces the same constraint:"
   ]
  },
  {
   "cell_type": "code",
   "execution_count": 251,
   "metadata": {
    "colab": {},
    "colab_type": "code",
    "id": "I0Vyf_ogRdy0"
   },
   "outputs": [],
   "source": [
    "struct MyRational2{T <: Integer}\n",
    "    num::T\n",
    "    den::T\n",
    "end"
   ]
  },
  {
   "cell_type": "markdown",
   "metadata": {
    "colab_type": "text",
    "id": "SHdhiFdlSwOd"
   },
   "source": [
    "To instantiate this type, we can specify the type `T`:"
   ]
  },
  {
   "cell_type": "code",
   "execution_count": 252,
   "metadata": {
    "colab": {
     "base_uri": "https://localhost:8080/",
     "height": 34
    },
    "colab_type": "code",
    "id": "FTfSXjQ4RseZ",
    "outputId": "5a8ceea0-2973-4926-c972-8c550e650883"
   },
   "outputs": [
    {
     "data": {
      "text/plain": [
       "MyRational2{BigInt}(2, 3)"
      ]
     },
     "execution_count": 252,
     "metadata": {
      "tags": []
     },
     "output_type": "execute_result"
    }
   ],
   "source": [
    "MyRational2{BigInt}(2, 3)"
   ]
  },
  {
   "cell_type": "markdown",
   "metadata": {
    "colab_type": "text",
    "id": "_dFuAINiTboo"
   },
   "source": [
    "Alternatively, we can use the `MyRational2` type's default constructor, with two integers of the same type:"
   ]
  },
  {
   "cell_type": "code",
   "execution_count": 253,
   "metadata": {
    "colab": {
     "base_uri": "https://localhost:8080/",
     "height": 34
    },
    "colab_type": "code",
    "id": "8Q8RWIB8Toq7",
    "outputId": "a57d9d62-5d86-485e-83f3-543de35aa568"
   },
   "outputs": [
    {
     "data": {
      "text/plain": [
       "MyRational2{Int64}(2, 3)"
      ]
     },
     "execution_count": 253,
     "metadata": {
      "tags": []
     },
     "output_type": "execute_result"
    }
   ],
   "source": [
    "MyRational2(2, 3)"
   ]
  },
  {
   "cell_type": "markdown",
   "metadata": {
    "colab_type": "text",
    "id": "8hhYRFcWXKkG"
   },
   "source": [
    "If we want to be able to construct a `MyRational2` with integers of different types, we must write an appropriate constructor which handles the promotion rule:"
   ]
  },
  {
   "cell_type": "code",
   "execution_count": 254,
   "metadata": {
    "colab": {
     "base_uri": "https://localhost:8080/",
     "height": 34
    },
    "colab_type": "code",
    "id": "BdRaOp44XS-I",
    "outputId": "f154cd7d-1cb0-41fc-8df8-cde2ffeff0e2"
   },
   "outputs": [
    {
     "data": {
      "text/plain": [
       "MyRational2"
      ]
     },
     "execution_count": 254,
     "metadata": {
      "tags": []
     },
     "output_type": "execute_result"
    }
   ],
   "source": [
    "function MyRational2(num::Integer, den::Integer)\n",
    "    MyRational2(promote(num, den)...)\n",
    "end"
   ]
  },
  {
   "cell_type": "markdown",
   "metadata": {
    "colab_type": "text",
    "id": "F1-HWooSXwRj"
   },
   "source": [
    "This constructor accepts two integers of potentially different types, and promotes them to the same type. Then it calls the default `MyRational2` constructor which expects two arguments of the same type. The syntax `f(args...)` is analog to Python's `f(*args)`."
   ]
  },
  {
   "cell_type": "markdown",
   "metadata": {
    "colab_type": "text",
    "id": "ui3Oe7CHYhKs"
   },
   "source": [
    "Let's see if this works:"
   ]
  },
  {
   "cell_type": "code",
   "execution_count": 255,
   "metadata": {
    "colab": {
     "base_uri": "https://localhost:8080/",
     "height": 34
    },
    "colab_type": "code",
    "id": "55PS-B4kXsMv",
    "outputId": "14e129bc-73a1-4170-e06c-c12b7428f546"
   },
   "outputs": [
    {
     "data": {
      "text/plain": [
       "MyRational2{BigInt}(2, 3)"
      ]
     },
     "execution_count": 255,
     "metadata": {
      "tags": []
     },
     "output_type": "execute_result"
    }
   ],
   "source": [
    "MyRational2(2, BigInt(3))"
   ]
  },
  {
   "cell_type": "markdown",
   "metadata": {
    "colab_type": "text",
    "id": "FYBh3sMgXvIy"
   },
   "source": [
    "Great!"
   ]
  },
  {
   "cell_type": "markdown",
   "metadata": {
    "colab_type": "text",
    "id": "TFB6iS8cYuwk"
   },
   "source": [
    "Note that all parametrized types such as `MyRational2{Int64}` or `MyRational2{BigInt}` are subtypes of `MyRational2`. So if a function accepts a `MyRational2` argument, you can pass it an instance of any specific, parametrized type:"
   ]
  },
  {
   "cell_type": "code",
   "execution_count": 256,
   "metadata": {
    "colab": {
     "base_uri": "https://localhost:8080/",
     "height": 51
    },
    "colab_type": "code",
    "id": "Xoe56vbfZXr8",
    "outputId": "b29faf99-5326-480f-c0b2-21f5bd933efb"
   },
   "outputs": [
    {
     "name": "stdout",
     "output_type": "stream",
     "text": [
      "MyRational2{BigInt}(1, 2)\n",
      "MyRational2{Int64}(1, 2)\n"
     ]
    }
   ],
   "source": [
    "function for_any_my_rational2(x::MyRational2)\n",
    "    println(x)\n",
    "end\n",
    "\n",
    "for_any_my_rational2(MyRational2{BigInt}(1, 2))\n",
    "for_any_my_rational2(MyRational2{Int64}(1, 2))"
   ]
  },
  {
   "cell_type": "markdown",
   "metadata": {
    "colab_type": "text",
    "id": "KK02R7mAazjo"
   },
   "source": [
    "A more explicit (but verbose) syntax for this function is:"
   ]
  },
  {
   "cell_type": "code",
   "execution_count": 257,
   "metadata": {
    "colab": {
     "base_uri": "https://localhost:8080/",
     "height": 34
    },
    "colab_type": "code",
    "id": "w9wLF0uYa377",
    "outputId": "4a3efe97-616d-40b2-a0d7-7278301933a8"
   },
   "outputs": [
    {
     "data": {
      "text/plain": [
       "for_any_my_rational2 (generic function with 1 method)"
      ]
     },
     "execution_count": 257,
     "metadata": {
      "tags": []
     },
     "output_type": "execute_result"
    }
   ],
   "source": [
    "function for_any_my_rational2(x::MyRational2{T}) where {T <: Integer}\n",
    "    println(x)\n",
    "end"
   ]
  },
  {
   "cell_type": "markdown",
   "metadata": {
    "colab_type": "text",
    "id": "HzrkuhIMT3rq"
   },
   "source": [
    "It's useful to think of types as sets. For example, the `Int64` type represents the set of all 64-bit integer values, so `42 isa Int64`:\n",
    "* When `x` is an instance of some type `T`, it is an element of the set `T` represents, and `x isa T`.\n",
    "* When `U` is a subtype of `V`, `U` is a subset of `V`, and `U <: V`.\n",
    "\n",
    "The `MyRational2` type itself (without any parameter) represents the set of all values of `MyRational2{T}` for all subtypes `T` of `Integer`. In other words, it is the union of all the `MyRational2{T}` types. This is called a `UnionAll` type, and indeed the type `MyRational2` itself is an instance of the `UnionAll` type:"
   ]
  },
  {
   "cell_type": "code",
   "execution_count": 258,
   "metadata": {
    "colab": {},
    "colab_type": "code",
    "id": "hGKucwR4Z78q"
   },
   "outputs": [],
   "source": [
    "@assert MyRational2{BigInt}(2, 3) isa MyRational2{BigInt}\n",
    "@assert MyRational2{BigInt}(2, 3) isa MyRational2\n",
    "@assert MyRational2 === (MyRational2{T} where {T <: Integer})\n",
    "@assert MyRational2{BigInt} <: MyRational2\n",
    "@assert MyRational2 isa UnionAll"
   ]
  },
  {
   "cell_type": "markdown",
   "metadata": {
    "colab_type": "text",
    "id": "Tv483WelU4It"
   },
   "source": [
    "If we dump the `MyRational2` type, we can see that it is a `UnionAll` instance, with a parameter type `T`, constrained to a subtype of the `Integer` type (since the upper bound `ub` is `Integer`):"
   ]
  },
  {
   "cell_type": "code",
   "execution_count": 259,
   "metadata": {
    "colab": {
     "base_uri": "https://localhost:8080/",
     "height": 153
    },
    "colab_type": "code",
    "id": "6Xzox_pwU1AA",
    "outputId": "d50d8b07-bf3f-4c11-f565-d69ea7197103"
   },
   "outputs": [
    {
     "name": "stdout",
     "output_type": "stream",
     "text": [
      "UnionAll\n",
      "  var: TypeVar\n",
      "    name: Symbol T\n",
      "    lb: Union{}\n",
      "    ub: Integer <: Real\n",
      "  body: MyRational2{T<:Integer} <: Any\n",
      "    num::T\n",
      "    den::T\n"
     ]
    }
   ],
   "source": [
    "dump(MyRational2)"
   ]
  },
  {
   "cell_type": "markdown",
   "metadata": {
    "colab_type": "text",
    "id": "eEpPNFJBcoag"
   },
   "source": [
    "There's a lot more to learn about Julia types. When you feel ready to explore this in more depth, check out [this page](https://docs.julialang.org/en/v1.4/manual/types/). You can also take a look at the [source code of Julia's rationals](https://github.com/JuliaLang/julia/blob/master/base/rational.jl)."
   ]
  },
  {
   "cell_type": "code",
   "execution_count": 411,
   "metadata": {
    "colab": {},
    "colab_type": "code",
    "id": "Z3IpBJjap9Sm"
   },
   "outputs": [],
   "source": []
  }
 ],
 "metadata": {
  "accelerator": "GPU",
  "colab": {
   "collapsed_sections": [],
   "name": "Julia_for_Pythonistas.ipynb",
   "provenance": [],
   "toc_visible": true
  },
  "kernelspec": {
   "display_name": "Julia 1.5.1",
   "language": "julia",
   "name": "julia-1.5"
  },
  "language_info": {
   "file_extension": ".jl",
   "mimetype": "application/julia",
   "name": "julia",
   "version": "1.5.3"
  }
 },
 "nbformat": 4,
 "nbformat_minor": 1
}
