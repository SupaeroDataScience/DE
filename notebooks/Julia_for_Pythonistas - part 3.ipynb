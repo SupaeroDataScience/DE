{
 "cells": [
  {
   "cell_type": "markdown",
   "metadata": {
    "colab_type": "text",
    "id": "tQ1r1bbb0yBv"
   },
   "source": [
    "# <img src=\"https://github.com/JuliaLang/julia-logo-graphics/raw/master/images/julia-logo-color.png\" height=\"100\" /> _for Pythonistas_\n",
    "\n",
    "> TL;DR: _Julia looks and feels a lot like Python, only much faster. It's dynamic, expressive, extensible, with batteries included, in particular for Data Science_.\n",
    "\n",
    "This notebook is an **introduction to Julia for Python programmers**.\n",
    "\n",
    "It will go through the most important Python features (such as functions, basic types, list comprehensions, exceptions, generators, modules, packages, and so on) and show you how to code them in Julia."
   ]
  },
  {
   "cell_type": "markdown",
   "metadata": {
    "colab_type": "text",
    "id": "f_1dr-2W5iSU"
   },
   "source": [
    "# Getting Started with Julia in Colab/Jupyter\n",
    "You can either run this notebook in Google Colab, or using Jupyter on your own machine."
   ]
  },
  {
   "cell_type": "markdown",
   "metadata": {
    "colab_type": "text",
    "id": "6ew60wXrZM0W"
   },
   "source": [
    "## Running on Google Colab\n",
    "1. Work on a copy of this notebook: _File_ > _Save a copy in Drive_ (you will need a Google account). Alternatively, you can download the notebook using _File_ > _Download .ipynb_, then upload it to [Colab](https://colab.research.google.com/).\n",
    "2. Execute the following cell (click on it and press Ctrl+Enter) to install Julia, IJulia (the Jupyter kernel for Julia) and other packages. You can update `JULIA_VERSION` and the other parameters, if you know what you're doing. Installation takes 2-3 minutes.\n",
    "3. Reload this page (press Ctrl+R, or ⌘+R, or the F5 key) and continue to the _Checking the Installation_ section.\n",
    "\n",
    "* _Note_: If your Colab Runtime gets reset (e.g., due to inactivity), repeat steps 2 and 3."
   ]
  },
  {
   "cell_type": "code",
   "execution_count": null,
   "metadata": {
    "colab": {
     "base_uri": "https://localhost:8080/",
     "height": 1000
    },
    "colab_type": "code",
    "id": "GIeFXS0F0zww",
    "outputId": "2a989c55-97da-41bc-ec61-d5663ca88c88"
   },
   "outputs": [
    {
     "name": "stdout",
     "output_type": "stream",
     "text": [
      "Installing Julia 1.4.2 on the current Colab Runtime...\n",
      "2020-07-02 00:00:58 URL:https://storage.googleapis.com/julialang2/bin/linux/x64/1.4/julia-1.4.2-linux-x86_64.tar.gz [99093958/99093958] -> \"/tmp/julia.tar.gz\" [1]\n",
      "Installing Julia package IJulia...\n",
      "    Cloning default registries into `~/.julia`\n",
      "    Cloning registry from \"https://github.com/JuliaRegistries/General.git\"\n",
      "\u001b[2K\u001b[?25h      Added registry `General` to `~/.julia/registries/General`\n",
      "  Resolving package versions...\n",
      "  Installed VersionParsing ── v1.2.0\n",
      "  Installed MbedTLS_jll ───── v2.16.6+0\n",
      "  Installed SoftGlobalScope ─ v1.0.10\n",
      "  Installed ZeroMQ_jll ────── v4.3.2+4\n",
      "  Installed Parsers ───────── v1.0.6\n",
      "  Installed Conda ─────────── v1.4.1\n",
      "  Installed JSON ──────────── v0.21.0\n",
      "  Installed IJulia ────────── v1.21.2\n",
      "  Installed ZMQ ───────────── v1.2.1\n",
      "  Installed MbedTLS ───────── v1.0.2\n",
      "Downloading artifact: MbedTLS\n",
      "######################################################################## 100.0%\n",
      "\u001b[1A\u001b[2K\u001b[?25hDownloading artifact: ZeroMQ\n",
      "######################################################################## 100.0%\n",
      "\u001b[1A\u001b[2K\u001b[?25h   Updating `~/.julia/environments/v1.4/Project.toml`\n",
      "  [7073ff75] + IJulia v1.21.2\n",
      "   Updating `~/.julia/environments/v1.4/Manifest.toml`\n",
      "  [8f4d0f93] + Conda v1.4.1\n",
      "  [7073ff75] + IJulia v1.21.2\n",
      "  [682c06a0] + JSON v0.21.0\n",
      "  [739be429] + MbedTLS v1.0.2\n",
      "  [c8ffd9c3] + MbedTLS_jll v2.16.6+0\n",
      "  [69de0a69] + Parsers v1.0.6\n",
      "  [b85f4697] + SoftGlobalScope v1.0.10\n",
      "  [81def892] + VersionParsing v1.2.0\n",
      "  [c2297ded] + ZMQ v1.2.1\n",
      "  [8f1865be] + ZeroMQ_jll v4.3.2+4\n",
      "  [2a0f44e3] + Base64 \n",
      "  [ade2ca70] + Dates \n",
      "  [8ba89e20] + Distributed \n",
      "  [7b1f6079] + FileWatching \n",
      "  [b77e0a4c] + InteractiveUtils \n",
      "  [76f85450] + LibGit2 \n",
      "  [8f399da3] + Libdl \n",
      "  [56ddb016] + Logging \n",
      "  [d6f4376e] + Markdown \n",
      "  [a63ad114] + Mmap \n",
      "  [44cfe95a] + Pkg \n",
      "  [de0858da] + Printf \n",
      "  [3fa0cd96] + REPL \n",
      "  [9a3f8284] + Random \n",
      "  [ea8e919c] + SHA \n",
      "  [9e88b42a] + Serialization \n",
      "  [6462fe0b] + Sockets \n",
      "  [8dfed614] + Test \n",
      "  [cf7118a7] + UUIDs \n",
      "  [4ec0a83e] + Unicode \n",
      "   Building Conda ─→ `~/.julia/packages/Conda/3rPhK/deps/build.log`\n",
      "   Building IJulia → `~/.julia/packages/IJulia/DrVMH/deps/build.log`\n",
      "Precompiling project...\n",
      "Installing Julia package BenchmarkTools...\n",
      "   Updating registry at `~/.julia/registries/General`\n",
      "   Updating git-repo `https://github.com/JuliaRegistries/General.git`\n",
      "\u001b[?25l\u001b[2K\u001b[?25h  Resolving package versions...\n",
      "  Installed BenchmarkTools ─ v0.5.0\n",
      "   Updating `~/.julia/environments/v1.4/Project.toml`\n",
      "  [6e4b80f9] + BenchmarkTools v0.5.0\n",
      "   Updating `~/.julia/environments/v1.4/Manifest.toml`\n",
      "  [6e4b80f9] + BenchmarkTools v0.5.0\n",
      "  [37e2e46d] + LinearAlgebra \n",
      "  [2f01184e] + SparseArrays \n",
      "  [10745b16] + Statistics \n",
      "Precompiling project...\n",
      "Installing Julia package PyCall...\n",
      "   Updating registry at `~/.julia/registries/General`\n",
      "   Updating git-repo `https://github.com/JuliaRegistries/General.git`\n",
      "\u001b[?25l\u001b[2K\u001b[?25h  Resolving package versions...\n",
      "  Installed MacroTools ─ v0.5.5\n",
      "  Installed PyCall ───── v1.91.4\n",
      "   Updating `~/.julia/environments/v1.4/Project.toml`\n",
      "  [438e738f] + PyCall v1.91.4\n",
      "   Updating `~/.julia/environments/v1.4/Manifest.toml`\n",
      "  [1914dd2f] + MacroTools v0.5.5\n",
      "  [438e738f] + PyCall v1.91.4\n",
      "   Building PyCall → `~/.julia/packages/PyCall/zqDXB/deps/build.log`\n",
      "Precompiling project...\n",
      "Installing Julia package PyPlot...\n",
      "   Updating registry at `~/.julia/registries/General`\n",
      "   Updating git-repo `https://github.com/JuliaRegistries/General.git`\n",
      "\u001b[?25l\u001b[2K\u001b[?25h  Resolving package versions...\n",
      "  Installed Reexport ────────── v0.2.0\n",
      "  Installed LaTeXStrings ────── v1.1.0\n",
      "  Installed PyPlot ──────────── v2.9.0\n",
      "  Installed FixedPointNumbers ─ v0.8.1\n",
      "  Installed ColorTypes ──────── v0.10.5\n",
      "  Installed Colors ──────────── v0.12.3\n",
      "   Updating `~/.julia/environments/v1.4/Project.toml`\n",
      "  [d330b81b] + PyPlot v2.9.0\n",
      "   Updating `~/.julia/environments/v1.4/Manifest.toml`\n",
      "  [3da002f7] + ColorTypes v0.10.5\n",
      "  [5ae59095] + Colors v0.12.3\n",
      "  [53c48c17] + FixedPointNumbers v0.8.1\n",
      "  [b964fa9f] + LaTeXStrings v1.1.0\n",
      "  [d330b81b] + PyPlot v2.9.0\n",
      "  [189a3867] + Reexport v0.2.0\n",
      "Precompiling project...\n",
      "Installing Julia package CUDA...\n",
      "   Updating registry at `~/.julia/registries/General`\n",
      "   Updating git-repo `https://github.com/JuliaRegistries/General.git`\n",
      "\u001b[?25l\u001b[2K\u001b[?25h  Resolving package versions...\n",
      "  Installed NNPACK_jll ───────── v2018.6.22+0\n",
      "  Installed Adapt ────────────── v2.0.2\n",
      "  Installed TimerOutputs ─────── v0.5.6\n",
      "  Installed GPUCompiler ──────── v0.4.1\n",
      "  Installed BinaryProvider ───── v0.5.10\n",
      "  Installed OrderedCollections ─ v1.2.0\n",
      "  Installed DataStructures ───── v0.17.19\n",
      "  Installed CUDA ─────────────── v1.0.2\n",
      "  Installed ExprTools ────────── v0.1.1\n",
      "  Installed Requires ─────────── v1.0.1\n",
      "  Installed CEnum ────────────── v0.4.1\n",
      "  Installed AbstractFFTs ─────── v0.5.0\n",
      "  Installed NNlib ────────────── v0.7.0\n",
      "  Installed GPUArrays ────────── v4.0.0\n",
      "  Installed LLVM ─────────────── v1.7.0\n",
      "Downloading artifact: NNPACK\n",
      "######################################################################## 100.0%\n",
      "\u001b[1A\u001b[2K\u001b[?25h   Updating `~/.julia/environments/v1.4/Project.toml`\n",
      "  [052768ef] + CUDA v1.0.2\n",
      "   Updating `~/.julia/environments/v1.4/Manifest.toml`\n",
      "  [621f4979] + AbstractFFTs v0.5.0\n",
      "  [79e6a3ab] + Adapt v2.0.2\n",
      "  [b99e7846] + BinaryProvider v0.5.10\n",
      "  [fa961155] + CEnum v0.4.1\n",
      "  [052768ef] + CUDA v1.0.2\n",
      "  [864edb3b] + DataStructures v0.17.19\n",
      "  [e2ba6199] + ExprTools v0.1.1\n",
      "  [0c68f7d7] + GPUArrays v4.0.0\n",
      "  [61eb1bfa] + GPUCompiler v0.4.1\n",
      "  [929cbde3] + LLVM v1.7.0\n",
      "  [a6bfbf70] + NNPACK_jll v2018.6.22+0\n",
      "  [872c559c] + NNlib v0.7.0\n",
      "  [bac558e1] + OrderedCollections v1.2.0\n",
      "  [ae029012] + Requires v1.0.1\n",
      "  [a759f4b9] + TimerOutputs v0.5.6\n",
      "Precompiling project...\n",
      "Installing IJulia kernel...\n",
      "[ Info: Installing julia kernelspec in /root/.local/share/jupyter/kernels/julia-1.4\n",
      "\n",
      "Successfully installed julia version 1.4.2!\n",
      "Please reload this page (press Ctrl+R, ⌘+R, or the F5 key) then\n",
      "jump to the 'Checking the Installation' section.\n"
     ]
    },
    {
     "data": {
      "text/plain": []
     },
     "execution_count": 1,
     "metadata": {
      "tags": []
     },
     "output_type": "execute_result"
    }
   ],
   "source": [
    "%%shell\n",
    "set -e\n",
    "\n",
    "#---------------------------------------------------#\n",
    "JULIA_VERSION=\"1.5.1\" # any version ≥ 0.7.0\n",
    "JULIA_PACKAGES=\"IJulia BenchmarkTools PyCall PyPlot\"\n",
    "JULIA_PACKAGES_IF_GPU=\"CUDA\"\n",
    "JULIA_NUM_THREADS=4\n",
    "#---------------------------------------------------#\n",
    "\n",
    "if [ -n \"$COLAB_GPU\" ] && [ -z `which julia` ]; then\n",
    "  # Install Julia\n",
    "  JULIA_VER=`cut -d '.' -f -2 <<< \"$JULIA_VERSION\"`\n",
    "  echo \"Installing Julia $JULIA_VERSION on the current Colab Runtime...\"\n",
    "  BASE_URL=\"https://julialang-s3.julialang.org/bin/linux/x64\"\n",
    "  URL=\"$BASE_URL/$JULIA_VER/julia-$JULIA_VERSION-linux-x86_64.tar.gz\"\n",
    "  wget -nv $URL -O /tmp/julia.tar.gz # -nv means \"not verbose\"\n",
    "  tar -x -f /tmp/julia.tar.gz -C /usr/local --strip-components 1\n",
    "  rm /tmp/julia.tar.gz\n",
    "\n",
    "  # Install Packages\n",
    "  if [ \"$COLAB_GPU\" = \"1\" ]; then\n",
    "      JULIA_PACKAGES=\"$JULIA_PACKAGES $JULIA_PACKAGES_IF_GPU\"\n",
    "  fi\n",
    "  for PKG in `echo $JULIA_PACKAGES`; do\n",
    "    echo \"Installing Julia package $PKG...\"\n",
    "    julia -e 'using Pkg; pkg\"add '$PKG'; precompile;\"'\n",
    "  done\n",
    "\n",
    "  # Install kernel and rename it to \"julia\"\n",
    "  echo \"Installing IJulia kernel...\"\n",
    "  julia -e 'using IJulia; IJulia.installkernel(\"julia\", env=Dict(\n",
    "      \"JULIA_NUM_THREADS\"=>\"'\"$JULIA_NUM_THREADS\"'\"))'\n",
    "  KERNEL_DIR=`julia -e \"using IJulia; print(IJulia.kerneldir())\"`\n",
    "  KERNEL_NAME=`ls -d \"$KERNEL_DIR\"/julia*`\n",
    "  mv -f $KERNEL_NAME \"$KERNEL_DIR\"/julia  \n",
    "\n",
    "  echo ''\n",
    "  echo \"Successfully installed `julia -v`!\"\n",
    "  echo \"Please reload this page (press Ctrl+R, ⌘+R, or the F5 key) then\"\n",
    "  echo \"jump to the 'Checking the Installation' section.\"\n",
    "fi"
   ]
  },
  {
   "cell_type": "markdown",
   "metadata": {
    "colab_type": "text",
    "id": "2ZvetMlVYKXY"
   },
   "source": [
    "## Running This Notebook Locally\n",
    "If you prefer to run this notebook on your machine instead of Google Colab:\n",
    "\n",
    "* Download this notebook (File > Download .ipynb)\n",
    "* Install [Julia](https://julialang.org/downloads/)\n",
    "* Run the following command in a terminal to install `IJulia` (the Jupyter kernel for Julia), and a few packages we will use:\n",
    "```bash\n",
    "julia -e 'using Pkg\n",
    "            pkg\"add IJulia; precompile;\"\n",
    "            pkg\"add BenchmarkTools; precompile;\"\n",
    "            pkg\"add PyCall; precompile;\"\n",
    "            pkg\"add PyPlot; precompile;\"'\n",
    "```\n",
    "\n",
    "* Next, go to the directory containing this notebook:\n",
    "\n",
    "    ```julia\n",
    "cd /path/to/notebook/directory\n",
    "```\n",
    "\n",
    "* Start Jupyter Notebook:\n",
    "\n",
    "    ```bash\n",
    "julia -e 'using IJulia; IJulia.notebook()'\n",
    "```\n",
    "\n",
    "    Or replace `notebook()` with `jupyterlab()` if you prefer JupyterLab.\n",
    "\n",
    "    If you do not already have [Jupyter](https://jupyter.org/install) installed, IJulia will propose to install it. If you agree, it will automatically install a private Miniconda (just for Julia), and install Jupyter and Python inside it.\n",
    "\n",
    "* Lastly, open this notebook and skip directly to the next section."
   ]
  },
  {
   "cell_type": "markdown",
   "metadata": {
    "colab_type": "text",
    "id": "-OS3Ac017T1i"
   },
   "source": [
    "## Checking the Installation\n",
    "The `versioninfo()` function should print your Julia version and some other info about the system (if you ever ask for help or file an issue about Julia, you should always provide this information)."
   ]
  },
  {
   "cell_type": "code",
   "execution_count": 1,
   "metadata": {
    "colab": {
     "base_uri": "https://localhost:8080/",
     "height": 187
    },
    "colab_type": "code",
    "id": "EEzvvzCl1i0F",
    "outputId": "2ee483c8-0392-48c9-fec9-d25fe9ba7e94"
   },
   "outputs": [
    {
     "name": "stdout",
     "output_type": "stream",
     "text": [
      "Julia Version 1.4.2\n",
      "Commit 44fa15b150* (2020-05-23 18:35 UTC)\n",
      "Platform Info:\n",
      "  OS: Linux (x86_64-pc-linux-gnu)\n",
      "  CPU: Intel(R) Xeon(R) CPU @ 2.20GHz\n",
      "  WORD_SIZE: 64\n",
      "  LIBM: libopenlibm\n",
      "  LLVM: libLLVM-8.0.1 (ORCJIT, broadwell)\n",
      "Environment:\n",
      "  JULIA_NUM_THREADS = 4\n"
     ]
    }
   ],
   "source": [
    "versioninfo()"
   ]
  },
  {
   "cell_type": "markdown",
   "metadata": {
    "colab_type": "text",
    "id": "KmT7ZJEMJ2Vv"
   },
   "source": [
    "# Writing/Reading Files\n",
    "The `do` syntax we saw earlier is helpful when using the `open()` function:\n"
   ]
  },
  {
   "cell_type": "code",
   "execution_count": 260,
   "metadata": {
    "colab": {
     "base_uri": "https://localhost:8080/",
     "height": 51
    },
    "colab_type": "code",
    "id": "oGW3LMvkJ6JM",
    "outputId": "214a9b64-f3d7-4e6a-ee09-24842bf981d7"
   },
   "outputs": [
    {
     "name": "stdout",
     "output_type": "stream",
     "text": [
      "[This is a test.]\n",
      "[I repeat, this is a test.]\n"
     ]
    }
   ],
   "source": [
    "open(\"test.txt\", \"w\") do f\n",
    "    write(f, \"This is a test.\\n\")\n",
    "    write(f, \"I repeat, this is a test.\\n\")\n",
    "end\n",
    "\n",
    "open(\"test.txt\") do f\n",
    "    for line in eachline(f)\n",
    "        println(\"[$line]\")\n",
    "    end\n",
    "end"
   ]
  },
  {
   "cell_type": "markdown",
   "metadata": {
    "colab_type": "text",
    "id": "f6XIenvgKdzR"
   },
   "source": [
    "The `open()` function automatically closes the file at the end of the block. Notice that the line feeds `\\n` at the end of each line are not returned by the `eachline()` function. So the equivalent Python code is:\n",
    "\n",
    "```python\n",
    "# PYTHON\n",
    "with open(\"test.txt\", \"w\") as f:\n",
    "    f.write(\"This is a test.\\n\")\n",
    "    f.write(\"I repeat, this is a test.\\n\")\n",
    "\n",
    "with open(\"test.txt\") as f:\n",
    "    for line in f.readlines():\n",
    "        line = line.rstrip(\"\\n\")\n",
    "        print(f\"[{line}]\")\n",
    "```"
   ]
  },
  {
   "cell_type": "markdown",
   "metadata": {
    "colab_type": "text",
    "id": "SQg2lDpRW_2R"
   },
   "source": [
    "Alternatively, you can read the whole file into a string:"
   ]
  },
  {
   "cell_type": "code",
   "execution_count": 261,
   "metadata": {
    "colab": {
     "base_uri": "https://localhost:8080/",
     "height": 34
    },
    "colab_type": "code",
    "id": "FKRtde6dXDpe",
    "outputId": "942eca55-240e-408c-a6f7-042237376d14"
   },
   "outputs": [
    {
     "data": {
      "text/plain": [
       "\"This is a test.\\nI repeat, this is a test.\\n\""
      ]
     },
     "execution_count": 261,
     "metadata": {
      "tags": []
     },
     "output_type": "execute_result"
    }
   ],
   "source": [
    "open(\"test.txt\") do f\n",
    "    s = read(f, String)\n",
    "end"
   ]
  },
  {
   "cell_type": "markdown",
   "metadata": {
    "colab_type": "text",
    "id": "5vxOQnwucbIW"
   },
   "source": [
    "Or more concisely:"
   ]
  },
  {
   "cell_type": "code",
   "execution_count": 262,
   "metadata": {
    "colab": {
     "base_uri": "https://localhost:8080/",
     "height": 34
    },
    "colab_type": "code",
    "id": "2s-SRVw7cc5G",
    "outputId": "61cf6d91-2bb3-4a02-b254-b578f36a4bb7"
   },
   "outputs": [
    {
     "data": {
      "text/plain": [
       "\"This is a test.\\nI repeat, this is a test.\\n\""
      ]
     },
     "execution_count": 262,
     "metadata": {
      "tags": []
     },
     "output_type": "execute_result"
    }
   ],
   "source": [
    "s = read(\"test.txt\", String)"
   ]
  },
  {
   "cell_type": "markdown",
   "metadata": {
    "colab_type": "text",
    "id": "dHb_f2lWXM0Z"
   },
   "source": [
    "The Python equivalent is:\n",
    "\n",
    "```python\n",
    "# PYTHON\n",
    "with open(\"test.txt\") as f:\n",
    "    s = f.read()\n",
    "```"
   ]
  },
  {
   "cell_type": "markdown",
   "metadata": {
    "colab_type": "text",
    "id": "EmBI1zY8DAvT"
   },
   "source": [
    "# Exceptions\n",
    "\n",
    "Julia's exceptions behave very much like in Python:"
   ]
  },
  {
   "cell_type": "code",
   "execution_count": 263,
   "metadata": {
    "colab": {
     "base_uri": "https://localhost:8080/",
     "height": 34
    },
    "colab_type": "code",
    "id": "z-dXwra9cvYD",
    "outputId": "8d2f4d10-c214-4e4d-8aae-695c1c0f800a"
   },
   "outputs": [
    {
     "name": "stdout",
     "output_type": "stream",
     "text": [
      "[1, 2, 3, 5]\n"
     ]
    }
   ],
   "source": [
    "a = [1]\n",
    "try\n",
    "    push!(a, 2)\n",
    "    #throw(\"Oops\") # try uncommenting this line\n",
    "    push!(a, 3)\n",
    "catch ex\n",
    "    println(ex)\n",
    "    push!(a, 4)\n",
    "finally\n",
    "    push!(a, 5)\n",
    "end\n",
    "println(a)"
   ]
  },
  {
   "cell_type": "markdown",
   "metadata": {
    "colab_type": "text",
    "id": "kt2mWkKFfd8I"
   },
   "source": [
    "The equivalent Python code is:\n",
    "\n",
    "```python\n",
    "# PYTHON\n",
    "a = [1]\n",
    "try:\n",
    "    a.append(2)\n",
    "    #raise Exception(\"Oops\") # try uncommenting this line\n",
    "    a.append(3)\n",
    "except Exception as ex:\n",
    "    print(ex)\n",
    "    a.append(4)\n",
    "finally:\n",
    "    a.append(5)\n",
    "\n",
    "print(a)\n",
    "```"
   ]
  },
  {
   "cell_type": "markdown",
   "metadata": {
    "colab_type": "text",
    "id": "19zE5t7nhtCJ"
   },
   "source": [
    "There is a whole hierarchy of standard exceptions which can be thrown, just like in Python. For example:"
   ]
  },
  {
   "cell_type": "code",
   "execution_count": 264,
   "metadata": {
    "colab": {
     "base_uri": "https://localhost:8080/",
     "height": 34
    },
    "colab_type": "code",
    "id": "71J-OuM5h9cr",
    "outputId": "cdbd922d-fdac-442f-ab06-696e47865559"
   },
   "outputs": [
    {
     "name": "stdout",
     "output_type": "stream",
     "text": [
      "Oops. System error #2 (opening file \"/foo/bar/i_dont_exist.txt\")\n"
     ]
    }
   ],
   "source": [
    "choice = 1 # try changing this value (from 1 to 4)\n",
    "try\n",
    "    choice == 1 && open(\"/foo/bar/i_dont_exist.txt\")\n",
    "    choice == 2 && sqrt(-1)\n",
    "    choice == 3 && push!(a, \"Oops\")\n",
    "    println(\"Everything worked like a charm\")\n",
    "catch ex\n",
    "    if ex isa SystemError\n",
    "        println(\"Oops. System error #$(ex.errnum) ($(ex.prefix))\")\n",
    "    elseif ex isa DomainError\n",
    "        println(\"Oh no, I could not compute sqrt(-1)\")\n",
    "    else\n",
    "        println(\"I got an unexpected error: $ex\")\n",
    "    end\n",
    "end"
   ]
  },
  {
   "cell_type": "markdown",
   "metadata": {
    "colab_type": "text",
    "id": "0IegY5XckWET"
   },
   "source": [
    "Compare this with Python's equivalent code:\n",
    "\n",
    "```python\n",
    "# PYTHON\n",
    "choice = 3 # try changing this value (from 1 to 4)\n",
    "try:\n",
    "  if choice == 1:\n",
    "      open(\"/foo/bar/i_dont_exist.txt\")\n",
    "  if choice == 2:\n",
    "      math.sqrt(-1)\n",
    "  if choice == 3:\n",
    "      #a.append(\"Ok\") # this would actually work\n",
    "      raise TypeError(\"Oops\") # so let's fail manually\n",
    "  print(\"Everything worked like a charm\")\n",
    "except OSError as ex:\n",
    "    print(f\"Oops. OS error (#{ex.errno} ({ex.strerror})\")\n",
    "except ValueError:\n",
    "    print(\"Oh no, I could not compute sqrt(-1)\")\n",
    "except Exception as ex:\n",
    "    print(f\"I got an unexpected error: {ex}\")\n",
    "```\n"
   ]
  },
  {
   "cell_type": "markdown",
   "metadata": {
    "colab_type": "text",
    "id": "jD6j5HsCHXzo"
   },
   "source": [
    "A few things to note here:\n",
    "\n",
    "* Julia only allows a single `catch` block which handles all possible exceptions.\n",
    "* `obj isa SomeClass` is a shorthand for `isa(obj, SomeClass)` which is equivalent to Python's `isinstance(obj, SomeClass)`.\n",
    "\n",
    "|Julia|Python\n",
    "|-----|------\n",
    "|`try`<br />&nbsp;&nbsp;&nbsp;&nbsp;`...`<br />`catch ex`<br />&nbsp;&nbsp;&nbsp;&nbsp;`if ex isa SomeError`<br />&nbsp;&nbsp;&nbsp;&nbsp;&nbsp;&nbsp;&nbsp;&nbsp;`...`<br />&nbsp;&nbsp;&nbsp;&nbsp;`else`<br />&nbsp;&nbsp;&nbsp;&nbsp;&nbsp;&nbsp;&nbsp;&nbsp;`...`<br />&nbsp;&nbsp;&nbsp;&nbsp;`end`<br />`finally`<br />&nbsp;&nbsp;&nbsp;&nbsp;`...`<br />`end` | `try:`<br />&nbsp;&nbsp;&nbsp;&nbsp;`...`<br />`except SomeException as ex:`<br />&nbsp;&nbsp;&nbsp;&nbsp;`...`<br />`except Exception as ex:`<br />&nbsp;&nbsp;&nbsp;&nbsp;`...`<br />`finally:`<br />&nbsp;&nbsp;&nbsp;&nbsp;`...`\n",
    "|`throw any_value` | `raise SomeException(...)`\n",
    "| `obj isa SomeType`<br />or<br /> `isa(obj, SomeType`) | `isinstance(obj, SomeType)`"
   ]
  },
  {
   "cell_type": "markdown",
   "metadata": {
    "colab_type": "text",
    "id": "lFGQZmkfQg6K"
   },
   "source": [
    "Note that Julia does not support the equivalent of Python's `try / catch / else` construct. You need to write something like this:"
   ]
  },
  {
   "cell_type": "code",
   "execution_count": 265,
   "metadata": {
    "colab": {
     "base_uri": "https://localhost:8080/",
     "height": 85
    },
    "colab_type": "code",
    "id": "P2qPhf-EQ4WW",
    "outputId": "52bf12b1-e0eb-4d62-9218-14dfc0242af2"
   },
   "outputs": [
    {
     "name": "stdout",
     "output_type": "stream",
     "text": [
      "Try something\n",
      "No error occurred\n",
      "The end\n",
      "After the end\n"
     ]
    }
   ],
   "source": [
    "catch_exception = true\n",
    "try\n",
    "    println(\"Try something\")\n",
    "    #error(\"ERROR: Catch me!\") # try uncommenting this line\n",
    "    catch_exception = false\n",
    "    #error(\"ERROR: Don't catch me!\") # try uncommenting this line\n",
    "    println(\"No error occurred\")\n",
    "catch ex\n",
    "    if catch_exception\n",
    "        println(\"I caught this exception: $ex\")\n",
    "    else\n",
    "        throw(ex)\n",
    "    end\n",
    "finally\n",
    "    println(\"The end\")\n",
    "end\n",
    "println(\"After the end\")"
   ]
  },
  {
   "cell_type": "markdown",
   "metadata": {
    "colab_type": "text",
    "id": "XNyuFEVER7-p"
   },
   "source": [
    "The equivalent Python code is shorter, but it's fairly uncommon:\n",
    "\n",
    "```python\n",
    "# PYTHON\n",
    "try:\n",
    "    print(\"Try something\")\n",
    "    raise Exception(\"Catch me!\") # try uncommenting this line\n",
    "except Exception as ex:\n",
    "    print(f\"I caught this exception: {ex}\")\n",
    "else:\n",
    "    raise Exception(\"Don't catch me!\") # try uncommenting this line\n",
    "    print(\"No error occured\")\n",
    "finally:\n",
    "    print(\"The end\")\n",
    "\n",
    "print(\"After the end\")\n",
    "```"
   ]
  },
  {
   "cell_type": "markdown",
   "metadata": {
    "colab_type": "text",
    "id": "Ieqz4vrxEAQb"
   },
   "source": [
    "# Docstrings\n",
    "It's good practice to add docstrings to every function you export. The docstring is placed just _before_ the definition of the function:"
   ]
  },
  {
   "cell_type": "code",
   "execution_count": 266,
   "metadata": {
    "colab": {
     "base_uri": "https://localhost:8080/",
     "height": 34
    },
    "colab_type": "code",
    "id": "OgwehsQjNj8Y",
    "outputId": "5349c1fc-aacd-4686-a1de-88e601b6de0d"
   },
   "outputs": [
    {
     "data": {
      "text/plain": [
       "square"
      ]
     },
     "execution_count": 266,
     "metadata": {
      "tags": []
     },
     "output_type": "execute_result"
    }
   ],
   "source": [
    "\"Compute the square of number x\"\n",
    "square(x::Number) = x^2"
   ]
  },
  {
   "cell_type": "markdown",
   "metadata": {
    "colab_type": "text",
    "id": "B9vmLpLpO6ix"
   },
   "source": [
    "You can retrieve a function's docstring using the `@doc` macro:"
   ]
  },
  {
   "cell_type": "code",
   "execution_count": 267,
   "metadata": {
    "colab": {
     "base_uri": "https://localhost:8080/",
     "height": 46
    },
    "colab_type": "code",
    "id": "rYR63pL1NsWU",
    "outputId": "ace0c6ee-c670-4d87-8bb3-8246975e265d"
   },
   "outputs": [
    {
     "data": {
      "text/latex": [
       "Compute the square of number x\n",
       "\n"
      ],
      "text/markdown": [
       "Compute the square of number x\n"
      ],
      "text/plain": [
       "  Compute the square of number x"
      ]
     },
     "execution_count": 267,
     "metadata": {
      "tags": []
     },
     "output_type": "execute_result"
    }
   ],
   "source": [
    "@doc square"
   ]
  },
  {
   "cell_type": "markdown",
   "metadata": {
    "colab_type": "text",
    "id": "HcKzENGnO-8z"
   },
   "source": [
    "The docstring is displayed when asking for help:"
   ]
  },
  {
   "cell_type": "code",
   "execution_count": 268,
   "metadata": {
    "colab": {
     "base_uri": "https://localhost:8080/",
     "height": 80
    },
    "colab_type": "code",
    "id": "O9xkw7uvNw9A",
    "outputId": "210e08e5-6f9b-4836-8eab-94f32a9ba133"
   },
   "outputs": [
    {
     "name": "stdout",
     "output_type": "stream",
     "text": [
      "search: \u001b[0m\u001b[1ms\u001b[22m\u001b[0m\u001b[1mq\u001b[22m\u001b[0m\u001b[1mu\u001b[22m\u001b[0m\u001b[1ma\u001b[22m\u001b[0m\u001b[1mr\u001b[22m\u001b[0m\u001b[1me\u001b[22m \u001b[0m\u001b[1mS\u001b[22m\u001b[0m\u001b[1mq\u001b[22m\u001b[0m\u001b[1mu\u001b[22m\u001b[0m\u001b[1ma\u001b[22m\u001b[0m\u001b[1mr\u001b[22m\u001b[0m\u001b[1me\u001b[22m \u001b[0m\u001b[1mS\u001b[22m\u001b[0m\u001b[1mq\u001b[22m\u001b[0m\u001b[1mu\u001b[22m\u001b[0m\u001b[1ma\u001b[22m\u001b[0m\u001b[1mr\u001b[22m\u001b[0m\u001b[1me\u001b[22m_v2 My\u001b[0m\u001b[1mS\u001b[22m\u001b[0m\u001b[1mq\u001b[22m\u001b[0m\u001b[1mu\u001b[22m\u001b[0m\u001b[1ma\u001b[22m\u001b[0m\u001b[1mr\u001b[22m\u001b[0m\u001b[1me\u001b[22ms Ab\u001b[0m\u001b[1ms\u001b[22mtractS\u001b[0m\u001b[1mq\u001b[22m\u001b[0m\u001b[1mu\u001b[22m\u001b[0m\u001b[1ma\u001b[22m\u001b[0m\u001b[1mr\u001b[22m\u001b[0m\u001b[1me\u001b[22m la\u001b[0m\u001b[1ms\u001b[22mtdayof\u001b[0m\u001b[1mq\u001b[22m\u001b[0m\u001b[1mu\u001b[22m\u001b[0m\u001b[1ma\u001b[22m\u001b[0m\u001b[1mr\u001b[22mt\u001b[0m\u001b[1me\u001b[22mr\n",
      "\n"
     ]
    },
    {
     "data": {
      "text/latex": [
       "Compute the square of number x\n",
       "\n"
      ],
      "text/markdown": [
       "Compute the square of number x\n"
      ],
      "text/plain": [
       "  Compute the square of number x"
      ]
     },
     "execution_count": 268,
     "metadata": {
      "tags": []
     },
     "output_type": "execute_result"
    }
   ],
   "source": [
    "?square"
   ]
  },
  {
   "cell_type": "markdown",
   "metadata": {
    "colab_type": "text",
    "id": "wte1Y76jPKpd"
   },
   "source": [
    "Docstrings follow the [Markdown format](https://en.wikipedia.org/wiki/Markdown#:~:text=Markdown%20is%20a%20lightweight%20markup,using%20a%20plain%20text%20editor.).\n",
    "A typical docstring starts with the signature of the function, indented by 4 spaces, so it will get syntax highlighted as Julia code.\n",
    "It also includes an `Examples` section with Julia REPL outputs:"
   ]
  },
  {
   "cell_type": "code",
   "execution_count": 269,
   "metadata": {
    "colab": {
     "base_uri": "https://localhost:8080/",
     "height": 34
    },
    "colab_type": "code",
    "id": "xucdR5ywNzTf",
    "outputId": "67f1a5e1-9d41-459e-ee2e-31ca5f90993f"
   },
   "outputs": [
    {
     "data": {
      "text/plain": [
       "cube"
      ]
     },
     "execution_count": 269,
     "metadata": {
      "tags": []
     },
     "output_type": "execute_result"
    }
   ],
   "source": [
    "\"\"\"\n",
    "    cube(x::Number)\n",
    "\n",
    "Compute the cube of `x`.\n",
    "\n",
    "# Examples\n",
    "```julia-repl\n",
    "julia> cube(5)\n",
    "125\n",
    "julia> cube(im)\n",
    "0 - 1im\n",
    "```\n",
    "\"\"\"\n",
    "cube(x) = x^3"
   ]
  },
  {
   "cell_type": "markdown",
   "metadata": {
    "colab_type": "text",
    "id": "b2aSKGYkaN7D"
   },
   "source": [
    "Instead of using `julia-repl` code blocks for the examples, you can use `jldoctest` to mark these examples as doctests (similar to Python's doctests)."
   ]
  },
  {
   "cell_type": "markdown",
   "metadata": {
    "colab_type": "text",
    "id": "gJt_pU7oQFzT"
   },
   "source": [
    "The help gets nicely formatted:"
   ]
  },
  {
   "cell_type": "code",
   "execution_count": 270,
   "metadata": {
    "colab": {
     "base_uri": "https://localhost:8080/",
     "height": 216
    },
    "colab_type": "code",
    "id": "FolAC9NdOYlH",
    "outputId": "3795d4f9-532a-40a3-d3ef-4fd9f002b182"
   },
   "outputs": [
    {
     "name": "stdout",
     "output_type": "stream",
     "text": [
      "search: \u001b[0m\u001b[1mc\u001b[22m\u001b[0m\u001b[1mu\u001b[22m\u001b[0m\u001b[1mb\u001b[22m\u001b[0m\u001b[1me\u001b[22m \u001b[0m\u001b[1mC\u001b[22mdo\u001b[0m\u001b[1mu\u001b[22m\u001b[0m\u001b[1mb\u001b[22ml\u001b[0m\u001b[1me\u001b[22m\n",
      "\n"
     ]
    },
    {
     "data": {
      "text/latex": [
       "\\begin{verbatim}\n",
       "cube(x::Number)\n",
       "\\end{verbatim}\n",
       "Compute the cube of \\texttt{x}.\n",
       "\n",
       "\\section{Examples}\n",
       "\\begin{verbatim}\n",
       "julia> cube(5)\n",
       "125\n",
       "julia> cube(im)\n",
       "0 - 1im\n",
       "\\end{verbatim}\n"
      ],
      "text/markdown": [
       "```\n",
       "cube(x::Number)\n",
       "```\n",
       "\n",
       "Compute the cube of `x`.\n",
       "\n",
       "# Examples\n",
       "\n",
       "```julia-repl\n",
       "julia> cube(5)\n",
       "125\n",
       "julia> cube(im)\n",
       "0 - 1im\n",
       "```\n"
      ],
      "text/plain": [
       "\u001b[36m  cube(x::Number)\u001b[39m\n",
       "\n",
       "  Compute the cube of \u001b[36mx\u001b[39m.\n",
       "\n",
       "\u001b[1m  Examples\u001b[22m\n",
       "\u001b[1m  ≡≡≡≡≡≡≡≡≡≡\u001b[22m\n",
       "\n",
       "\u001b[36m  julia> cube(5)\u001b[39m\n",
       "\u001b[36m  125\u001b[39m\n",
       "\u001b[36m  julia> cube(im)\u001b[39m\n",
       "\u001b[36m  0 - 1im\u001b[39m"
      ]
     },
     "execution_count": 270,
     "metadata": {
      "tags": []
     },
     "output_type": "execute_result"
    }
   ],
   "source": [
    "?cube"
   ]
  },
  {
   "cell_type": "markdown",
   "metadata": {
    "colab_type": "text",
    "id": "bT28xCa9QMcq"
   },
   "source": [
    "When there are several methods for a given function, it is common to give general information about the function in the first method (usually the most generic), and only add docstrings to other methods if they add useful information (without repeating the general info).\n",
    "\n",
    "Alternatively, you may attach the general information to the function itself:"
   ]
  },
  {
   "cell_type": "code",
   "execution_count": 271,
   "metadata": {
    "colab": {
     "base_uri": "https://localhost:8080/",
     "height": 34
    },
    "colab_type": "code",
    "id": "mi3rw1dYQmkT",
    "outputId": "76e38aee-a63a-4f21-bcec-d1fee9d4b5b1"
   },
   "outputs": [
    {
     "data": {
      "text/plain": [
       "foo"
      ]
     },
     "execution_count": 271,
     "metadata": {
      "tags": []
     },
     "output_type": "execute_result"
    }
   ],
   "source": [
    "\"\"\"\n",
    "    foo(x)\n",
    "\n",
    "Compute the foo of the bar\n",
    "\"\"\"\n",
    "function foo end  # declares the foo function\n",
    "\n",
    "# foo(x::Number) behaves normally, no need for a docstring\n",
    "foo(x::Number) = \"baz\"\n",
    "\n",
    "\"\"\"\n",
    "    foo(x::String)\n",
    "\n",
    "For strings, compute the qux of the bar instead.\n",
    "\"\"\"\n",
    "foo(x::String) = \"qux\""
   ]
  },
  {
   "cell_type": "code",
   "execution_count": 272,
   "metadata": {
    "colab": {
     "base_uri": "https://localhost:8080/",
     "height": 153
    },
    "colab_type": "code",
    "id": "ffQK0fnPTXsH",
    "outputId": "d965f686-f6fd-4b7a-8be1-328b79095d71"
   },
   "outputs": [
    {
     "name": "stdout",
     "output_type": "stream",
     "text": [
      "search: \u001b[0m\u001b[1mf\u001b[22m\u001b[0m\u001b[1mo\u001b[22m\u001b[0m\u001b[1mo\u001b[22m \u001b[0m\u001b[1mf\u001b[22ml\u001b[0m\u001b[1mo\u001b[22m\u001b[0m\u001b[1mo\u001b[22mr pointer_\u001b[0m\u001b[1mf\u001b[22mr\u001b[0m\u001b[1mo\u001b[22mm_\u001b[0m\u001b[1mo\u001b[22mbjref wait\u001b[0m\u001b[1mf\u001b[22m\u001b[0m\u001b[1mo\u001b[22mrbutt\u001b[0m\u001b[1mo\u001b[22mnpress Over\u001b[0m\u001b[1mf\u001b[22ml\u001b[0m\u001b[1mo\u001b[22mwErr\u001b[0m\u001b[1mo\u001b[22mr\n",
      "\n"
     ]
    },
    {
     "data": {
      "text/latex": [
       "\\begin{verbatim}\n",
       "foo(x)\n",
       "\\end{verbatim}\n",
       "Compute the foo of the bar\n",
       "\n",
       "\\rule{\\textwidth}{1pt}\n",
       "\\begin{verbatim}\n",
       "foo(x::String)\n",
       "\\end{verbatim}\n",
       "For strings, compute the qux of the bar instead.\n",
       "\n"
      ],
      "text/markdown": [
       "```\n",
       "foo(x)\n",
       "```\n",
       "\n",
       "Compute the foo of the bar\n",
       "\n",
       "---\n",
       "\n",
       "```\n",
       "foo(x::String)\n",
       "```\n",
       "\n",
       "For strings, compute the qux of the bar instead.\n"
      ],
      "text/plain": [
       "\u001b[36m  foo(x)\u001b[39m\n",
       "\n",
       "  Compute the foo of the bar\n",
       "\n",
       "  ────────────────────────────────────────────────────────────────────────────\n",
       "\n",
       "\u001b[36m  foo(x::String)\u001b[39m\n",
       "\n",
       "  For strings, compute the qux of the bar instead."
      ]
     },
     "execution_count": 272,
     "metadata": {
      "tags": []
     },
     "output_type": "execute_result"
    }
   ],
   "source": [
    "?foo"
   ]
  },
  {
   "cell_type": "markdown",
   "metadata": {
    "colab_type": "text",
    "id": "K80HBr5oGzo7"
   },
   "source": [
    "# Macros"
   ]
  },
  {
   "cell_type": "markdown",
   "metadata": {
    "colab_type": "text",
    "id": "QObp7sGRu6UJ"
   },
   "source": [
    "We have seen a few macros already: `@which`, `@assert`, `@time`, `@benchmark`, `@btime` and `@doc`. You guessed it: all macros start with an `@` sign.\n",
    "\n",
    "What is a macro? It is a function which can fully inspect the expression that follows it, and apply any transformation to that code at parse time, before compilation.\n",
    "\n",
    "This makes it possible for anyone to effectively extend the language in any way they please. Whereas C/C++ macros just do simple text replacement, **Julia macros are powerful meta-programming tools**.\n",
    "\n",
    "On the flip side, this also means that **each macro has its own syntax and behavior**.\n",
    "\n",
    "**A personal opinion**: in my experience, languages that provide great flexibility typically attract a community of programmers with a tinkering mindset, who will _love_ to experiment with all the fun features the language has to offer. This is great for creativity, but it can also be a nuisance if the community ends up producing too much experimental code, without much care for code reliability, API stability, or even for simplicity. By all means, let's be creative, let's experiment, but _with great power comes great responsibility_: let's also value reliability, stability and simplicity.\n",
    "\n",
    "That said, to give you an idea of what macro definitions look like in Julia, here's a simple toy macro that replaces `a + b` expressions with `a - b`, and leaves other expressions alone."
   ]
  },
  {
   "cell_type": "code",
   "execution_count": 273,
   "metadata": {
    "colab": {
     "base_uri": "https://localhost:8080/",
     "height": 34
    },
    "colab_type": "code",
    "id": "piHUqhKBZGqu",
    "outputId": "09931592-399f-42d2-ec4d-6441e5e0efe8"
   },
   "outputs": [
    {
     "data": {
      "text/plain": [
       "8"
      ]
     },
     "execution_count": 273,
     "metadata": {
      "tags": []
     },
     "output_type": "execute_result"
    }
   ],
   "source": [
    "macro addtosub(x)\n",
    "  if x.head == :call && x.args[1] == :+ && length(x.args) == 3\n",
    "    Expr(:call, :-, x.args[2], x.args[3])\n",
    "  else\n",
    "    x\n",
    "  end\n",
    "end\n",
    "\n",
    "@addtosub 10 + 2"
   ]
  },
  {
   "cell_type": "markdown",
   "metadata": {
    "colab_type": "text",
    "id": "7rJOpjunbOFk"
   },
   "source": [
    "In this macro definition, `:call`, `:+` and `:-` are **symbols**. These are similar to strings, only more efficient and less flexible. They are typically used as identifiers, such as keys in dictionaries."
   ]
  },
  {
   "cell_type": "markdown",
   "metadata": {
    "colab_type": "text",
    "id": "MaXNB30jZ0o9"
   },
   "source": [
    "If you're curious, the macro works because the parser converts `10 + 2` to `Expr(:call, :+, 10, 2)` and passes this expression to the macro (before compilation). The `if` statement checks that the expression is a function call, where the called function is the `+` function, with two arguments. If so, then the macro returns a new expression, corresponding to a call to the `-` function, with the same arguments. So `a + b` becomes `a - b`."
   ]
  },
  {
   "cell_type": "markdown",
   "metadata": {
    "colab_type": "text",
    "id": "tDEx5z5thmJG"
   },
   "source": [
    "For more info, check out [this page](https://docs.julialang.org/en/v1/manual/metaprogramming/)."
   ]
  },
  {
   "cell_type": "markdown",
   "metadata": {
    "colab_type": "text",
    "id": "MKMAu-SPGaEp"
   },
   "source": [
    "## Special Prefixed Strings"
   ]
  },
  {
   "cell_type": "markdown",
   "metadata": {
    "colab_type": "text",
    "id": "RiczKNd3Evgz"
   },
   "source": [
    "`py\"...\"` strings are defined by the `PyCall` module. Writing `py\"something\"` is equivalent to writing `@py_str \"something\"`. In other words, anyone can write a macro that defines a new kind of prefixed string. For example, if you write the `@ok_str` macro, it will be called when you write `ok\"something\"`.\n",
    "\n",
    "Another example is the `Pkg` module which defines the `@pkg_str` macro: this is why you can use `pkg\"...\"` to interact with the `Pkg` module. This is how `pkg\"add PyCall; precompile;\"` worked (at the end of the very first cell). This downloaded, installed and precompiled the `PyCall` module."
   ]
  },
  {
   "cell_type": "markdown",
   "metadata": {
    "colab_type": "text",
    "id": "V2DqnxfIS47B"
   },
   "source": [
    "# Modules\n",
    "In Python, a module must be defined in a dedicated file. In Julia, modules are independent from the file system. You can define several modules per file, or define one module across multiple files, it's up to you. Let's create a simple module containing two submodules, each containing a variable and a function:"
   ]
  },
  {
   "cell_type": "code",
   "execution_count": 274,
   "metadata": {
    "colab": {
     "base_uri": "https://localhost:8080/",
     "height": 34
    },
    "colab_type": "code",
    "id": "u9tQpD0JS_gm",
    "outputId": "e1106b20-10c7-455a-b566-82d42c361166"
   },
   "outputs": [
    {
     "data": {
      "text/plain": [
       "Main.ModA"
      ]
     },
     "execution_count": 274,
     "metadata": {
      "tags": []
     },
     "output_type": "execute_result"
    }
   ],
   "source": [
    "module ModA\n",
    "    pi = 3.14\n",
    "    square(x) = x^2\n",
    "\n",
    "    module ModB\n",
    "        e = 2.718\n",
    "        cube(x) = x^3\n",
    "    end\n",
    "\n",
    "    module ModC\n",
    "        root2 = √2\n",
    "        relu(x) = max(0, x)\n",
    "    end\n",
    "end"
   ]
  },
  {
   "cell_type": "markdown",
   "metadata": {
    "colab_type": "text",
    "id": "olgUIIbvYBQq"
   },
   "source": [
    "The default module is `Main`, so whatever we define is put in this module (except when defining a package, as we will see). This is why the `ModA`'s full name is `Main.ModA`."
   ]
  },
  {
   "cell_type": "markdown",
   "metadata": {
    "colab_type": "text",
    "id": "bnP_rALhVlw3"
   },
   "source": [
    "We can now access the contents of these modules by providing the full paths:"
   ]
  },
  {
   "cell_type": "code",
   "execution_count": 275,
   "metadata": {
    "colab": {
     "base_uri": "https://localhost:8080/",
     "height": 34
    },
    "colab_type": "code",
    "id": "IFOTvRKXXVNr",
    "outputId": "0194dada-f2f6-46a4-b087-4901019e99cd"
   },
   "outputs": [
    {
     "data": {
      "text/plain": [
       "1.4142135623730951"
      ]
     },
     "execution_count": 275,
     "metadata": {
      "tags": []
     },
     "output_type": "execute_result"
    }
   ],
   "source": [
    "Main.ModA.ModC.root2"
   ]
  },
  {
   "cell_type": "markdown",
   "metadata": {
    "colab_type": "text",
    "id": "Z-ooQk9zYY1N"
   },
   "source": [
    "Since our code runs in the `Main` module, we can leave out the `Main.` part:"
   ]
  },
  {
   "cell_type": "code",
   "execution_count": 276,
   "metadata": {
    "colab": {
     "base_uri": "https://localhost:8080/",
     "height": 34
    },
    "colab_type": "code",
    "id": "JnnhVg1eYhLz",
    "outputId": "f1cbd512-b738-4956-dde6-6bfbd8a36c66"
   },
   "outputs": [
    {
     "data": {
      "text/plain": [
       "1.4142135623730951"
      ]
     },
     "execution_count": 276,
     "metadata": {
      "tags": []
     },
     "output_type": "execute_result"
    }
   ],
   "source": [
    "ModA.ModC.root2"
   ]
  },
  {
   "cell_type": "markdown",
   "metadata": {
    "colab_type": "text",
    "id": "7liRTwI2Xd5e"
   },
   "source": [
    "Alternatively, you can use `import`:"
   ]
  },
  {
   "cell_type": "code",
   "execution_count": 277,
   "metadata": {
    "colab": {
     "base_uri": "https://localhost:8080/",
     "height": 34
    },
    "colab_type": "code",
    "id": "DxT44ZvnXoGN",
    "outputId": "54a982de-807e-42c6-abaa-e40a9e6e91e7"
   },
   "outputs": [
    {
     "data": {
      "text/plain": [
       "1.4142135623730951"
      ]
     },
     "execution_count": 277,
     "metadata": {
      "tags": []
     },
     "output_type": "execute_result"
    }
   ],
   "source": [
    "import Main.ModA.ModC.root2\n",
    "\n",
    "root2"
   ]
  },
  {
   "cell_type": "markdown",
   "metadata": {
    "colab_type": "text",
    "id": "TpOjKGi8Ymmu"
   },
   "source": [
    "Or we can use `import` with a relative path. In this case, we need to prefix `ModA` with a dot `.` to indicate that we want the module `ModA` located in the current module:"
   ]
  },
  {
   "cell_type": "code",
   "execution_count": 278,
   "metadata": {
    "colab": {
     "base_uri": "https://localhost:8080/",
     "height": 34
    },
    "colab_type": "code",
    "id": "9kqmiNNTYpQY",
    "outputId": "688dcfaa-213e-44bc-db30-f57aa1297b2a"
   },
   "outputs": [
    {
     "data": {
      "text/plain": [
       "1.4142135623730951"
      ]
     },
     "execution_count": 278,
     "metadata": {
      "tags": []
     },
     "output_type": "execute_result"
    }
   ],
   "source": [
    "import .ModA.ModC.root2\n",
    "\n",
    "root2"
   ]
  },
  {
   "cell_type": "markdown",
   "metadata": {
    "colab_type": "text",
    "id": "U1jBsBSyYshg"
   },
   "source": [
    "Alternatively, we can `import` the submodule:"
   ]
  },
  {
   "cell_type": "code",
   "execution_count": 279,
   "metadata": {
    "colab": {
     "base_uri": "https://localhost:8080/",
     "height": 34
    },
    "colab_type": "code",
    "id": "5Xui2RQEZROC",
    "outputId": "26799e98-bd8d-4918-d51c-b79a86cd9ed2"
   },
   "outputs": [
    {
     "data": {
      "text/plain": [
       "1.4142135623730951"
      ]
     },
     "execution_count": 279,
     "metadata": {
      "tags": []
     },
     "output_type": "execute_result"
    }
   ],
   "source": [
    "import .ModA.ModC\n",
    "\n",
    "ModC.root2"
   ]
  },
  {
   "cell_type": "markdown",
   "metadata": {
    "colab_type": "text",
    "id": "8mz_KKlAZXPH"
   },
   "source": [
    "When you want to import more than one name from a module, you can use this syntax:"
   ]
  },
  {
   "cell_type": "code",
   "execution_count": 280,
   "metadata": {
    "colab": {},
    "colab_type": "code",
    "id": "qtmDevYgZh5I"
   },
   "outputs": [],
   "source": [
    "import .ModA.ModC: root2, relu"
   ]
  },
  {
   "cell_type": "markdown",
   "metadata": {
    "colab_type": "text",
    "id": "T1nyVSefZotn"
   },
   "source": [
    "This is equivalent to this more verbose syntax:"
   ]
  },
  {
   "cell_type": "code",
   "execution_count": 281,
   "metadata": {
    "colab": {},
    "colab_type": "code",
    "id": "s-i-7QIGZrQn"
   },
   "outputs": [],
   "source": [
    "import .ModA.ModC.root2, .ModA.ModC.relu"
   ]
  },
  {
   "cell_type": "markdown",
   "metadata": {
    "colab_type": "text",
    "id": "rJSA9aljZ3BN"
   },
   "source": [
    "Nested modules do <u>not</u> automatically have access to names in enclosing modules. To import names from a parent module, use `..x`. From a grand-parent module, use `...x`, and so on."
   ]
  },
  {
   "cell_type": "code",
   "execution_count": 282,
   "metadata": {
    "colab": {
     "base_uri": "https://localhost:8080/",
     "height": 85
    },
    "colab_type": "code",
    "id": "NvRtf5SWZ_Wk",
    "outputId": "16ae8e50-882e-4e5e-e891-32be64d2aed5"
   },
   "outputs": [
    {
     "name": "stdout",
     "output_type": "stream",
     "text": [
      "UndefVarError(:d)\n",
      "2\n",
      "1\n"
     ]
    },
    {
     "data": {
      "text/plain": [
       "Main.ModD"
      ]
     },
     "execution_count": 282,
     "metadata": {
      "tags": []
     },
     "output_type": "execute_result"
    }
   ],
   "source": [
    "module ModD\n",
    "    d = 1\n",
    "    module ModE\n",
    "        try\n",
    "            println(d)\n",
    "        catch ex\n",
    "            println(ex)\n",
    "        end\n",
    "    end\n",
    "    module ModF\n",
    "        f = 2\n",
    "        module ModG\n",
    "            import ..f\n",
    "            import ...d\n",
    "            println(f)\n",
    "            println(d)\n",
    "        end\n",
    "    end\n",
    "end"
   ]
  },
  {
   "cell_type": "markdown",
   "metadata": {
    "colab_type": "text",
    "id": "y_YxkO1ebZEb"
   },
   "source": [
    "Instead of `import`, you can use `using`. It is analog to Python's `from foo import *`. It only gives access to names which were explicitly exported using `export` (similar to the way `from foo import *` in Python only imports names listed in the module's `__all__` list):"
   ]
  },
  {
   "cell_type": "code",
   "execution_count": 283,
   "metadata": {
    "colab": {
     "base_uri": "https://localhost:8080/",
     "height": 34
    },
    "colab_type": "code",
    "id": "CNDHFWv2blSk",
    "outputId": "b7194f79-c367-4da5-dff3-7a34634738bf"
   },
   "outputs": [
    {
     "data": {
      "text/plain": [
       "Main.ModH"
      ]
     },
     "execution_count": 283,
     "metadata": {
      "tags": []
     },
     "output_type": "execute_result"
    }
   ],
   "source": [
    "module ModH\n",
    "    h1 = 1\n",
    "    h2 = 2\n",
    "    export h1\n",
    "end"
   ]
  },
  {
   "cell_type": "code",
   "execution_count": 284,
   "metadata": {
    "colab": {
     "base_uri": "https://localhost:8080/",
     "height": 51
    },
    "colab_type": "code",
    "id": "TrlkNAZjcDpv",
    "outputId": "5ead6b73-e64e-4ab9-e540-4fa9d4936781"
   },
   "outputs": [
    {
     "name": "stdout",
     "output_type": "stream",
     "text": [
      "1\n"
     ]
    },
    {
     "data": {
      "text/plain": [
       "UndefVarError(:h2)"
      ]
     },
     "execution_count": 284,
     "metadata": {
      "tags": []
     },
     "output_type": "execute_result"
    }
   ],
   "source": [
    "using .ModH\n",
    "\n",
    "println(h1)\n",
    "\n",
    "try\n",
    "    println(h2)\n",
    "catch ex\n",
    "    ex\n",
    "end"
   ]
  },
  {
   "cell_type": "markdown",
   "metadata": {
    "colab_type": "text",
    "id": "XA-8xz9XBkFr"
   },
   "source": [
    "Note that `using Foo` not only imports all exported names (like Python's `from foo import *`), it also imports `Foo` itself (similarly, `using Foo.Bar` imports `Bar` itself):\n"
   ]
  },
  {
   "cell_type": "code",
   "execution_count": 285,
   "metadata": {
    "colab": {
     "base_uri": "https://localhost:8080/",
     "height": 34
    },
    "colab_type": "code",
    "id": "b2j0lGheB4DK",
    "outputId": "4a679c87-c9fe-4c4c-ef15-d770baae456e"
   },
   "outputs": [
    {
     "data": {
      "text/plain": [
       "Main.ModH"
      ]
     },
     "execution_count": 285,
     "metadata": {
      "tags": []
     },
     "output_type": "execute_result"
    }
   ],
   "source": [
    "ModH"
   ]
  },
  {
   "cell_type": "markdown",
   "metadata": {
    "colab_type": "text",
    "id": "ZJr74QBRzuEo"
   },
   "source": [
    "Even if a name is not exported, you can always access it using its full path, or using `import`:"
   ]
  },
  {
   "cell_type": "code",
   "execution_count": 286,
   "metadata": {
    "colab": {
     "base_uri": "https://localhost:8080/",
     "height": 34
    },
    "colab_type": "code",
    "id": "yjCkh4voz44p",
    "outputId": "03910d94-bbb5-4736-b796-fd305d5dcd08"
   },
   "outputs": [
    {
     "data": {
      "text/plain": [
       "2"
      ]
     },
     "execution_count": 286,
     "metadata": {
      "tags": []
     },
     "output_type": "execute_result"
    }
   ],
   "source": [
    "ModH.h2"
   ]
  },
  {
   "cell_type": "code",
   "execution_count": 287,
   "metadata": {
    "colab": {
     "base_uri": "https://localhost:8080/",
     "height": 34
    },
    "colab_type": "code",
    "id": "SAL1D1dRz7oy",
    "outputId": "e1273670-5827-4035-e7dd-fc78c52fbca0"
   },
   "outputs": [
    {
     "data": {
      "text/plain": [
       "2"
      ]
     },
     "execution_count": 287,
     "metadata": {
      "tags": []
     },
     "output_type": "execute_result"
    }
   ],
   "source": [
    "import .ModH.h2\n",
    "\n",
    "h2"
   ]
  },
  {
   "cell_type": "markdown",
   "metadata": {
    "colab_type": "text",
    "id": "1UfcZp6fcNdT"
   },
   "source": [
    "You can also import individual names like this:"
   ]
  },
  {
   "cell_type": "code",
   "execution_count": 288,
   "metadata": {
    "colab": {
     "base_uri": "https://localhost:8080/",
     "height": 51
    },
    "colab_type": "code",
    "id": "fQPAWJMRzOmj",
    "outputId": "a9c9c21a-89af-45ee-a63c-11dfbface9d7"
   },
   "outputs": [
    {
     "name": "stdout",
     "output_type": "stream",
     "text": [
      "1\n",
      "2\n"
     ]
    }
   ],
   "source": [
    "module ModG\n",
    "    g1 = 1\n",
    "    g2 = 2\n",
    "    export g2\n",
    "end\n",
    "\n",
    "using .ModG: g1, g2\n",
    "\n",
    "println(g1)\n",
    "println(g2)"
   ]
  },
  {
   "cell_type": "markdown",
   "metadata": {
    "colab_type": "text",
    "id": "Y5ToJpN_0RMa"
   },
   "source": [
    "Notice that this syntax gives you access to any name you want, whether or not it was exported. In other words, whether a name is exported or not only affects the `using Foo` syntax."
   ]
  },
  {
   "cell_type": "markdown",
   "metadata": {
    "colab_type": "text",
    "id": "yzXfmlAg0diH"
   },
   "source": [
    "Importantly, when you want to expand a function which is defined in a module, you must import the function using `import`, or you must specify the function's path:"
   ]
  },
  {
   "cell_type": "code",
   "execution_count": 289,
   "metadata": {
    "colab": {
     "base_uri": "https://localhost:8080/",
     "height": 102
    },
    "colab_type": "code",
    "id": "BfOgteoF0m4X",
    "outputId": "63381892-8b35-4b50-f2fa-2f029ebad3f7"
   },
   "outputs": [
    {
     "name": "stdout",
     "output_type": "stream",
     "text": [
      "4\n",
      "TwoTwo\n",
      "9\n",
      "ThreeThreeThree\n"
     ]
    },
    {
     "name": "stderr",
     "output_type": "stream",
     "text": [
      "WARNING: replacing module ModH.\n"
     ]
    }
   ],
   "source": [
    "module ModH\n",
    "    double(x) = x * 2\n",
    "    triple(x) = x * 3\n",
    "end\n",
    "\n",
    "import .ModH: double\n",
    "double(x::AbstractString) = repeat(x, 2)\n",
    "\n",
    "ModH.triple(x::AbstractString) = repeat(x, 3)\n",
    "\n",
    "println(double(2))\n",
    "println(double(\"Two\"))\n",
    "\n",
    "println(ModH.triple(3))\n",
    "println(ModH.triple(\"Three\"))"
   ]
  },
  {
   "cell_type": "markdown",
   "metadata": {
    "colab_type": "text",
    "id": "c4c2yTaS7fvj"
   },
   "source": [
    "You must never extend a function imported with `using`, unless you provide the function's path:"
   ]
  },
  {
   "cell_type": "code",
   "execution_count": 290,
   "metadata": {
    "colab": {
     "base_uri": "https://localhost:8080/",
     "height": 51
    },
    "colab_type": "code",
    "id": "18mmhRsP18o_",
    "outputId": "6530b3f2-ecbd-4406-d2ca-36f704d9f253"
   },
   "outputs": [
    {
     "name": "stdout",
     "output_type": "stream",
     "text": [
      "16\n",
      "FourFourFourFour\n"
     ]
    }
   ],
   "source": [
    "module ModI\n",
    "    quadruple(x) = x * 4\n",
    "    export quadruple\n",
    "end\n",
    "\n",
    "using .ModI\n",
    "ModI.quadruple(x::AbstractString) = repeat(x, 4) # OK\n",
    "println(quadruple(4))\n",
    "println(quadruple(\"Four\"))\n",
    "\n",
    "#quadruple(x::AbstractString) = repeat(x, 4) # uncomment to see the error"
   ]
  },
  {
   "cell_type": "markdown",
   "metadata": {
    "colab_type": "text",
    "id": "0gwWiNqfD-Pp"
   },
   "source": [
    "There is no equivalent of Python's `import foo as x` ([yet](https://github.com/JuliaLang/julia/issues/1255)), but you can do something like this:"
   ]
  },
  {
   "cell_type": "code",
   "execution_count": 291,
   "metadata": {
    "colab": {
     "base_uri": "https://localhost:8080/",
     "height": 34
    },
    "colab_type": "code",
    "id": "2eGsfHqkEViW",
    "outputId": "1a1bcc2d-4e56-4fc2-c7dd-5ceebd57742f"
   },
   "outputs": [
    {
     "data": {
      "text/plain": [
       "quadruple (generic function with 2 methods)"
      ]
     },
     "execution_count": 291,
     "metadata": {
      "tags": []
     },
     "output_type": "execute_result"
    }
   ],
   "source": [
    "import .ModI: quadruple\n",
    "x = quadruple"
   ]
  },
  {
   "cell_type": "markdown",
   "metadata": {
    "colab_type": "text",
    "id": "pB4HxazHyNiF"
   },
   "source": [
    "In general, a module named `Foo` will be defined in a file named `Foo.jl` (along with its submodules). However, if the module becomes too big for a single file, you can split it into multiple files and include these files in `Foo.jl` using the `include()` function.\n",
    "\n",
    "For example, let's create three files: `Awesome.jl`, `great.jl` and `amazing/Fantastic.jl`, where:\n",
    "* `Awesome.jl` defines the `Awesome` module and includes the other two files\n",
    "* `great.jl` just defines a function\n",
    "* `amazing/Fantastic.jl` defines the `Fantastic` submodule"
   ]
  },
  {
   "cell_type": "code",
   "execution_count": 292,
   "metadata": {
    "colab": {
     "base_uri": "https://localhost:8080/",
     "height": 34
    },
    "colab_type": "code",
    "id": "A9iOU4XWundK",
    "outputId": "30f28135-d90d-44ea-b3bd-937c9aa59f96"
   },
   "outputs": [
    {
     "data": {
      "text/plain": [
       "38"
      ]
     },
     "execution_count": 292,
     "metadata": {
      "tags": []
     },
     "output_type": "execute_result"
    }
   ],
   "source": [
    "code_awesome = \"\"\"\n",
    "module Awesome\n",
    "include(\"great.jl\")\n",
    "include(\"amazing/Fantastic.jl\")\n",
    "end\n",
    "\"\"\"\n",
    "\n",
    "code_great = \"\"\"\n",
    "great() = \"This is great!\"\n",
    "\"\"\"\n",
    "\n",
    "code_fantastic = \"\"\"\n",
    "module Fantastic\n",
    "fantastic = true\n",
    "end\n",
    "\"\"\"\n",
    "\n",
    "open(f->write(f, code_awesome), \"Awesome.jl\", \"w\")\n",
    "open(f->write(f, code_great), \"great.jl\", \"w\")\n",
    "mkdir(\"amazing\")\n",
    "open(f->write(f, code_fantastic), \"amazing/Fantastic.jl\", \"w\")"
   ]
  },
  {
   "cell_type": "markdown",
   "metadata": {
    "colab_type": "text",
    "id": "3OYEv-P-xGHg"
   },
   "source": [
    "If we try to execute `import Awesome` now, it won't work since Julia does not search in the current directory by default. Let's change this:"
   ]
  },
  {
   "cell_type": "code",
   "execution_count": 293,
   "metadata": {
    "colab": {
     "base_uri": "https://localhost:8080/",
     "height": 102
    },
    "colab_type": "code",
    "id": "Zz-JHOzXxZj5",
    "outputId": "4220de9f-7bcc-4f30-8fed-5a4755b5408e"
   },
   "outputs": [
    {
     "data": {
      "text/plain": [
       "4-element Array{String,1}:\n",
       " \".\"\n",
       " \"@\"\n",
       " \"@v#.#\"\n",
       " \"@stdlib\""
      ]
     },
     "execution_count": 293,
     "metadata": {
      "tags": []
     },
     "output_type": "execute_result"
    }
   ],
   "source": [
    "pushfirst!(LOAD_PATH, \".\")"
   ]
  },
  {
   "cell_type": "markdown",
   "metadata": {
    "colab_type": "text",
    "id": "L8H2XLMAww7g"
   },
   "source": [
    "Now when we import the `Awesome` module, Julia will look for a file named `Awesome.jl` in the current directory, or for `Awesome/src/Awesome.jl`, or for `Awesome.jl/src/Awesome.jl`. If it does not find any of these, it will look in the other places listed in the `LOAD_PATH` array (we will discuss this in more details in the \"Package Management\" section)."
   ]
  },
  {
   "cell_type": "code",
   "execution_count": 294,
   "metadata": {
    "colab": {
     "base_uri": "https://localhost:8080/",
     "height": 85
    },
    "colab_type": "code",
    "id": "V4crjErQvuYf",
    "outputId": "62e8cfbe-5445-43b1-8c7a-8ea5853892bd"
   },
   "outputs": [
    {
     "name": "stderr",
     "output_type": "stream",
     "text": [
      "┌ Info: Precompiling Awesome [top-level]\n",
      "└ @ Base loading.jl:1260\n"
     ]
    },
    {
     "name": "stdout",
     "output_type": "stream",
     "text": [
      "This is great!\n",
      "Is fantastic? true\n"
     ]
    }
   ],
   "source": [
    "import Awesome\n",
    "println(Awesome.great())\n",
    "println(\"Is fantastic? \", Awesome.Fantastic.fantastic)"
   ]
  },
  {
   "cell_type": "markdown",
   "metadata": {
    "colab_type": "text",
    "id": "zpLsSNQbttj1"
   },
   "source": [
    "Let's restore the original `LOAD_PATH`:"
   ]
  },
  {
   "cell_type": "code",
   "execution_count": 295,
   "metadata": {
    "colab": {
     "base_uri": "https://localhost:8080/",
     "height": 34
    },
    "colab_type": "code",
    "id": "zV4wd4Natxw7",
    "outputId": "3a8a67c3-a839-4bc2-9101-84cbac482d27"
   },
   "outputs": [
    {
     "data": {
      "text/plain": [
       "\".\""
      ]
     },
     "execution_count": 295,
     "metadata": {
      "tags": []
     },
     "output_type": "execute_result"
    }
   ],
   "source": [
    "popfirst!(LOAD_PATH)"
   ]
  },
  {
   "cell_type": "markdown",
   "metadata": {
    "colab_type": "text",
    "id": "Jz7_FaJcaZn-"
   },
   "source": [
    "In short:\n",
    "\n",
    "|Julia | Python\n",
    "|------|-------\n",
    "|`import Foo` | `import foo`\n",
    "|`import Foo.Bar` | `from foo import bar`\n",
    "|`import Foo.Bar: a, b` | `from foo.bar import a, b`\n",
    "|`import Foo.Bar.a, Foo.Bar.b` | `from foo.bar import a, b`\n",
    "|`import .Foo` | `import .foo`\n",
    "|`import ..Foo.Bar` | `from ..foo import bar`\n",
    "|`import ...Foo.Bar` | `from ...foo import bar`\n",
    "|`import .Foo: a, b` | `from .foo import a, b`\n",
    "||\n",
    "|`using Foo` | `from foo import *; import foo`\n",
    "|`using Foo.Bar` | `from foo.bar import *; from foo import bar `\n",
    "|`using Foo.Bar: a, b` | `from foo.bar import a, b`\n",
    "\n",
    "|Extending function `Foo.f()` | Result\n",
    "|-----------------------------|--------\n",
    "|`import Foo.f  # or Foo: f` <br />`f(x::Int64) = ...`  | OK\n",
    "|`import Foo`<br />`Foo.f(x::Int64) = ...` | OK\n",
    "|`using Foo`<br />`Foo.f(x::Int64) = ...` | OK\n",
    "|`import Foo.f # or Foo: f`<br />`Foo.f(x::Int64) = ...` | `ERROR: Foo not defined`\n",
    "|`using Foo`<br />`f(x::Int64) = ...` | `ERROR: Foo.f must be explicitly imported`\n",
    "|`using Foo: f`<br />`f(x::Int64) = ...` | `ERROR: Foo.f must be explicitly imported`"
   ]
  },
  {
   "cell_type": "markdown",
   "metadata": {
    "colab_type": "text",
    "id": "Inpk8qS3HL_u"
   },
   "source": [
    "# Scopes\n",
    "Julia has two types of scopes: global and local.\n",
    "\n",
    "Every module has its own global scope, independent from all other global scopes. There is no overarching global scope.\n",
    "\n",
    "Modules, macros and types (including structs) can only be defined in a global scope.\n",
    "\n",
    "Most code blocks, including `function`, `struct`, `for`, `while`, etc., have their own local scope. For example:"
   ]
  },
  {
   "cell_type": "code",
   "execution_count": 296,
   "metadata": {
    "colab": {
     "base_uri": "https://localhost:8080/",
     "height": 85
    },
    "colab_type": "code",
    "id": "q3Lm3T1DG6St",
    "outputId": "a3b4f4c0-05e5-4106-ac55-61febecae8d8"
   },
   "outputs": [
    {
     "name": "stdout",
     "output_type": "stream",
     "text": [
      "1\n",
      "2\n",
      "3\n"
     ]
    },
    {
     "data": {
      "text/plain": [
       "UndefVarError(:q)"
      ]
     },
     "execution_count": 296,
     "metadata": {
      "tags": []
     },
     "output_type": "execute_result"
    }
   ],
   "source": [
    "for q in 1:3\n",
    "    println(q)\n",
    "end\n",
    "\n",
    "try\n",
    "    println(q) # q is not available here\n",
    "catch ex\n",
    "    ex\n",
    "end"
   ]
  },
  {
   "cell_type": "markdown",
   "metadata": {
    "colab_type": "text",
    "id": "Wh6xa4fyJLYY"
   },
   "source": [
    "A local scope inherits from its parent scope:"
   ]
  },
  {
   "cell_type": "code",
   "execution_count": 297,
   "metadata": {
    "colab": {
     "base_uri": "https://localhost:8080/",
     "height": 68
    },
    "colab_type": "code",
    "id": "IeLfjf4ZJQ41",
    "outputId": "42f67475-7b56-41c0-b8b0-e571744f3761"
   },
   "outputs": [
    {
     "name": "stdout",
     "output_type": "stream",
     "text": [
      "50\n",
      "100\n",
      "150\n"
     ]
    }
   ],
   "source": [
    "z = 5\n",
    "for i in 1:3\n",
    "    w = 10\n",
    "    println(i * w * z) # i and w are local, z is from the parent scope\n",
    "end"
   ]
  },
  {
   "cell_type": "markdown",
   "metadata": {
    "colab_type": "text",
    "id": "OQLfwoD3NoC_"
   },
   "source": [
    "An inner scope can assign to a variable in the parent scope, if the parent scope is not global:"
   ]
  },
  {
   "cell_type": "code",
   "execution_count": 298,
   "metadata": {
    "colab": {
     "base_uri": "https://localhost:8080/",
     "height": 68
    },
    "colab_type": "code",
    "id": "fwN1C2BhNxyZ",
    "outputId": "ac857f21-52f6-438b-f1cc-913f14656200"
   },
   "outputs": [
    {
     "name": "stdout",
     "output_type": "stream",
     "text": [
      "5\n",
      "5\n",
      "5\n"
     ]
    }
   ],
   "source": [
    "for i in 1:3\n",
    "    s = 0\n",
    "    for j in 1:5\n",
    "        s = j # variable s is from the parent scope\n",
    "    end\n",
    "    println(s)\n",
    "end"
   ]
  },
  {
   "cell_type": "markdown",
   "metadata": {
    "colab_type": "text",
    "id": "0m3aoj8UKxS4"
   },
   "source": [
    "You can force a variable to be local by using the `local` keyword:"
   ]
  },
  {
   "cell_type": "code",
   "execution_count": 299,
   "metadata": {
    "colab": {
     "base_uri": "https://localhost:8080/",
     "height": 68
    },
    "colab_type": "code",
    "id": "hlireAo6K3eS",
    "outputId": "ce809c18-28c7-41c4-aa8c-7caf19fd37c6"
   },
   "outputs": [
    {
     "name": "stdout",
     "output_type": "stream",
     "text": [
      "0\n",
      "0\n",
      "0\n"
     ]
    }
   ],
   "source": [
    "for i in 1:3\n",
    "    s = 0\n",
    "    for j in 1:5\n",
    "        local s = j # variable s is local now\n",
    "    end\n",
    "    println(s)\n",
    "end"
   ]
  },
  {
   "cell_type": "markdown",
   "metadata": {
    "colab_type": "text",
    "id": "qwo2DWNIN8oR"
   },
   "source": [
    "To assign to a global variable, you must declare the variable as `global` in the local scope:"
   ]
  },
  {
   "cell_type": "code",
   "execution_count": 300,
   "metadata": {
    "colab": {
     "base_uri": "https://localhost:8080/",
     "height": 34
    },
    "colab_type": "code",
    "id": "rPnibZjLOFHv",
    "outputId": "3eef23d4-e01a-4478-dd25-74337c690ee4"
   },
   "outputs": [
    {
     "data": {
      "text/plain": [
       "3"
      ]
     },
     "execution_count": 300,
     "metadata": {
      "tags": []
     },
     "output_type": "execute_result"
    }
   ],
   "source": [
    "for i in 1:3\n",
    "    global p\n",
    "    p = i\n",
    "end\n",
    "p"
   ]
  },
  {
   "cell_type": "markdown",
   "metadata": {
    "colab_type": "text",
    "id": "tL5AgzVjOKuo"
   },
   "source": [
    "There is one exception to this rule: when executing code directly in the REPL (since Julia 1.5) or in IJulia, you do not need to declare a variable as `global` if the global variable already exists:"
   ]
  },
  {
   "cell_type": "code",
   "execution_count": 301,
   "metadata": {
    "colab": {
     "base_uri": "https://localhost:8080/",
     "height": 34
    },
    "colab_type": "code",
    "id": "PKZPY8XOOlT9",
    "outputId": "94fd1821-1915-4a3b-a95c-bf7d512f4ebf"
   },
   "outputs": [
    {
     "data": {
      "text/plain": [
       "3"
      ]
     },
     "execution_count": 301,
     "metadata": {
      "tags": []
     },
     "output_type": "execute_result"
    }
   ],
   "source": [
    "s = 0\n",
    "for i in 1:3\n",
    "    s = i # implicitly global s: only in REPL Julia 1.5+ or IJulia\n",
    "end\n",
    "s"
   ]
  },
  {
   "cell_type": "markdown",
   "metadata": {
    "colab_type": "text",
    "id": "Ne7zn3qgPo6M"
   },
   "source": [
    "In functions, assigning to a variable which is not explicitly declared as global always makes it local (even in the REPL and IJulia):"
   ]
  },
  {
   "cell_type": "code",
   "execution_count": 302,
   "metadata": {
    "colab": {
     "base_uri": "https://localhost:8080/",
     "height": 51
    },
    "colab_type": "code",
    "id": "RJgKv_6oPhH2",
    "outputId": "45ce3760-16b6-490f-87bb-45b0d8c4cbac"
   },
   "outputs": [
    {
     "name": "stdout",
     "output_type": "stream",
     "text": [
      "20\n",
      "1\n"
     ]
    }
   ],
   "source": [
    "s, t = 1, 2 # globals\n",
    "\n",
    "function foo()\n",
    "   s = 10 * t # s is local, t is global\n",
    "end\n",
    "\n",
    "println(foo())\n",
    "println(s)"
   ]
  },
  {
   "cell_type": "markdown",
   "metadata": {
    "colab_type": "text",
    "id": "DhnbEml6SiTG"
   },
   "source": [
    "Just like in Python, functions can capture variables from the enclosing scope (not from the scope the function is called from):"
   ]
  },
  {
   "cell_type": "code",
   "execution_count": 303,
   "metadata": {
    "colab": {
     "base_uri": "https://localhost:8080/",
     "height": 34
    },
    "colab_type": "code",
    "id": "B1lAq94XS6yX",
    "outputId": "1575ff87-d051-429a-dfe8-7e577d2b681e"
   },
   "outputs": [
    {
     "name": "stdout",
     "output_type": "stream",
     "text": [
      "1\n"
     ]
    }
   ],
   "source": [
    "t = 1\n",
    "\n",
    "foo() = t # foo() captures t from the global scope\n",
    "\n",
    "function bar()\n",
    "    t = 5 # this is a new local variable\n",
    "    println(foo()) # foo() still uses t from the global scope\n",
    "end\n",
    "\n",
    "bar()"
   ]
  },
  {
   "cell_type": "code",
   "execution_count": 304,
   "metadata": {
    "colab": {
     "base_uri": "https://localhost:8080/",
     "height": 34
    },
    "colab_type": "code",
    "id": "a460UCKFTXt7",
    "outputId": "cc99ed02-d064-4436-deaf-cac4cc16d7ca"
   },
   "outputs": [
    {
     "name": "stdout",
     "output_type": "stream",
     "text": [
      "5\n"
     ]
    }
   ],
   "source": [
    "function quz()\n",
    "    global t\n",
    "    t = 5 # we change the global t\n",
    "    println(foo()) # and this affects foo()\n",
    "end\n",
    "\n",
    "quz()"
   ]
  },
  {
   "cell_type": "markdown",
   "metadata": {
    "colab_type": "text",
    "id": "MKsqCB48UxiU"
   },
   "source": [
    "Closures work much like in Python:"
   ]
  },
  {
   "cell_type": "code",
   "execution_count": 305,
   "metadata": {
    "colab": {
     "base_uri": "https://localhost:8080/",
     "height": 34
    },
    "colab_type": "code",
    "id": "CvyNc-ksT22C",
    "outputId": "0f6c7325-32e8-43a9-e5c6-00b001e553a7"
   },
   "outputs": [
    {
     "data": {
      "text/plain": [
       "10"
      ]
     },
     "execution_count": 305,
     "metadata": {
      "tags": []
     },
     "output_type": "execute_result"
    }
   ],
   "source": [
    "function create_multiplier(n)\n",
    "    function mul(x)\n",
    "        x * n # variable n is captured from the parent scope\n",
    "    end\n",
    "end\n",
    "\n",
    "mul2 = create_multiplier(2)\n",
    "mul2(5)"
   ]
  },
  {
   "cell_type": "markdown",
   "metadata": {
    "colab_type": "text",
    "id": "5qAMInDsUtJN"
   },
   "source": [
    "An inner function can modify variables from its parent scope:"
   ]
  },
  {
   "cell_type": "code",
   "execution_count": 306,
   "metadata": {
    "colab": {
     "base_uri": "https://localhost:8080/",
     "height": 51
    },
    "colab_type": "code",
    "id": "s0JpWoqcU9-P",
    "outputId": "791fef4f-5b9e-45db-8246-fc585f55dbcc"
   },
   "outputs": [
    {
     "name": "stdout",
     "output_type": "stream",
     "text": [
      "1\n",
      "2\n"
     ]
    }
   ],
   "source": [
    "function create_counter()\n",
    "    c = 0\n",
    "    inc() = c += 1 # this inner function modifies the c from the outer function\n",
    "end\n",
    "\n",
    "cnt = create_counter()\n",
    "println(cnt())\n",
    "println(cnt())"
   ]
  },
  {
   "cell_type": "markdown",
   "metadata": {
    "colab_type": "text",
    "id": "4ai7b0ZAlrjT"
   },
   "source": [
    "Consider the following code, and see if you can figure out why it prints the same result multiple times:"
   ]
  },
  {
   "cell_type": "code",
   "execution_count": 307,
   "metadata": {
    "colab": {
     "base_uri": "https://localhost:8080/",
     "height": 102
    },
    "colab_type": "code",
    "id": "eEe2LtvSl0Ea",
    "outputId": "7b0b09c6-46ed-49cb-cf23-0f2e28d54f76"
   },
   "outputs": [
    {
     "name": "stdout",
     "output_type": "stream",
     "text": [
      "36\n",
      "36\n",
      "36\n",
      "36\n",
      "36\n"
     ]
    }
   ],
   "source": [
    "funcs = []\n",
    "i = 1\n",
    "while i ≤ 5\n",
    "    push!(funcs, ()->i^2)\n",
    "    global i += 1\n",
    "end\n",
    "for fn in funcs\n",
    "    println(fn())\n",
    "end"
   ]
  },
  {
   "cell_type": "markdown",
   "metadata": {
    "colab_type": "text",
    "id": "ryvtm8pImQlB"
   },
   "source": [
    "The answer is that there is a single variable `i`, which is captured by all 5 closures. By the time these closures are executed, the value of `i` is 6, so the square is 36, for every closure."
   ]
  },
  {
   "cell_type": "markdown",
   "metadata": {
    "colab_type": "text",
    "id": "PWkRl2Yfm4A8"
   },
   "source": [
    "If we use a `for` loop, we don't have this problem, since a new local variable is created at every iteration:"
   ]
  },
  {
   "cell_type": "code",
   "execution_count": 308,
   "metadata": {
    "colab": {
     "base_uri": "https://localhost:8080/",
     "height": 102
    },
    "colab_type": "code",
    "id": "zRrKzMHjnBD_",
    "outputId": "89ef2aee-5968-45f0-9b74-f1e36609ce55"
   },
   "outputs": [
    {
     "name": "stdout",
     "output_type": "stream",
     "text": [
      "1\n",
      "4\n",
      "9\n",
      "16\n",
      "25\n"
     ]
    }
   ],
   "source": [
    "funcs = []\n",
    "for i in 1:5\n",
    "    push!(funcs, ()->i^2)\n",
    "end\n",
    "for fn in funcs\n",
    "    println(fn())\n",
    "end"
   ]
  },
  {
   "cell_type": "markdown",
   "metadata": {
    "colab_type": "text",
    "id": "URV8meLypzMG"
   },
   "source": [
    "Any local variable created within a `for` loop, a `while` loop or a comprehension also get a new copy at each iteration. So we could code the above example like this:"
   ]
  },
  {
   "cell_type": "code",
   "execution_count": 309,
   "metadata": {
    "colab": {
     "base_uri": "https://localhost:8080/",
     "height": 102
    },
    "colab_type": "code",
    "id": "xjXXASVEqBim",
    "outputId": "c9600ed5-fdfc-4aaa-b783-e5fe4f700e69"
   },
   "outputs": [
    {
     "name": "stdout",
     "output_type": "stream",
     "text": [
      "1\n",
      "4\n",
      "9\n",
      "16\n",
      "25\n"
     ]
    }
   ],
   "source": [
    "funcs = []\n",
    "i = 1\n",
    "while i ≤ 5  # since we are in a while loop...\n",
    "    global i\n",
    "    local j = i # ...and j is created here, it's a new `j` at each iteration\n",
    "    push!(funcs, ()->j^2)\n",
    "    i += 1\n",
    "end\n",
    "for fn in funcs\n",
    "    println(fn())\n",
    "end"
   ]
  },
  {
   "cell_type": "markdown",
   "metadata": {
    "colab_type": "text",
    "id": "Vazl0dRDnLpk"
   },
   "source": [
    "Another way to get the same result is to use a `let` block, which also creates a new local variable every time it is executed:"
   ]
  },
  {
   "cell_type": "code",
   "execution_count": 310,
   "metadata": {
    "colab": {
     "base_uri": "https://localhost:8080/",
     "height": 102
    },
    "colab_type": "code",
    "id": "X-HuxLIdnSgB",
    "outputId": "79ebe39c-80e4-4c9a-9366-1ca3609eb83b"
   },
   "outputs": [
    {
     "name": "stdout",
     "output_type": "stream",
     "text": [
      "0\n",
      "1\n",
      "4\n",
      "9\n",
      "16\n"
     ]
    }
   ],
   "source": [
    "funcs = []\n",
    "i = 0\n",
    "while i < 5\n",
    "    let i=i\n",
    "        push!(funcs, ()->i^2)\n",
    "    end\n",
    "    global i += 1\n",
    "end\n",
    "for fn in funcs\n",
    "    println(fn())\n",
    "end"
   ]
  },
  {
   "cell_type": "markdown",
   "metadata": {
    "colab_type": "text",
    "id": "fXEf0zs0no--"
   },
   "source": [
    "This `let i=i` block defines a new local variable `i` at every iteration, and initializes it with the value of `i` from the parent scope. Therefore each closure captures a different local variable `i`."
   ]
  },
  {
   "cell_type": "markdown",
   "metadata": {
    "colab_type": "text",
    "id": "TKWWfJacoDU0"
   },
   "source": [
    "Variables in a `let` block are initialized from left to right, so they can access variables on their left:"
   ]
  },
  {
   "cell_type": "code",
   "execution_count": 311,
   "metadata": {
    "colab": {
     "base_uri": "https://localhost:8080/",
     "height": 34
    },
    "colab_type": "code",
    "id": "HPXugdyUoH6R",
    "outputId": "504dde14-cfdb-4a51-c470-4d69111ad700"
   },
   "outputs": [
    {
     "name": "stdout",
     "output_type": "stream",
     "text": [
      "a=2, b=2\n"
     ]
    }
   ],
   "source": [
    "a = 1\n",
    "let a=a+1, b=a\n",
    "    println(\"a=$a, b=$b\")\n",
    "end"
   ]
  },
  {
   "cell_type": "markdown",
   "metadata": {
    "colab_type": "text",
    "id": "S9-frzGloRln"
   },
   "source": [
    "In this example, the local variable `a` is initialized with the value of `a + 1`, where `a` comes from the parent scope (i.e., it's the global `a` in this case). However, `b` is initialized with the value of the local `a`, since it now hides the variable `a` from the parent scope."
   ]
  },
  {
   "cell_type": "markdown",
   "metadata": {
    "colab_type": "text",
    "id": "SEI5E2xbgYHl"
   },
   "source": [
    "Default values in function arguments also have this left-to-right scoping logic:"
   ]
  },
  {
   "cell_type": "code",
   "execution_count": 312,
   "metadata": {
    "colab": {
     "base_uri": "https://localhost:8080/",
     "height": 34
    },
    "colab_type": "code",
    "id": "S-E8aGtPgBCx",
    "outputId": "b63d16dc-bd39-451d-ba15-e6789018e6fa"
   },
   "outputs": [
    {
     "data": {
      "text/plain": [
       "a=2, b=2\n",
       "a=5, b=5"
      ]
     },
     "execution_count": 312,
     "metadata": {
      "tags": []
     },
     "output_type": "execute_result"
    }
   ],
   "source": [
    "a = 1\n",
    "foobar(a=a+1, b=a) = println(\"a=$a, b=$b\")\n",
    "foobar()\n",
    "foobar(5)"
   ]
  },
  {
   "cell_type": "markdown",
   "metadata": {
    "colab_type": "text",
    "id": "PzqwY5FngkML"
   },
   "source": [
    "In this example, the first argument's default value is `a + 1`, where `a` comes from the parent scope (i.e., the global `a` in this case). However, the second argument's default value is `a`, where `a` in this case is the value of the first argument (<u>not</u> the parent scope's `a`)."
   ]
  },
  {
   "cell_type": "markdown",
   "metadata": {
    "colab_type": "text",
    "id": "Au3RUzMsHWw8"
   },
   "source": [
    "Note that `if` blocks and `begin` blocks do <u>not</u> have their own local scope, they just use the parent scope:"
   ]
  },
  {
   "cell_type": "code",
   "execution_count": 313,
   "metadata": {
    "colab": {
     "base_uri": "https://localhost:8080/",
     "height": 34
    },
    "colab_type": "code",
    "id": "iARzIFgtpOfB",
    "outputId": "6bac95a0-afba-4718-d571-a8655b3256ed"
   },
   "outputs": [
    {
     "data": {
      "text/plain": [
       "2"
      ]
     },
     "execution_count": 313,
     "metadata": {
      "tags": []
     },
     "output_type": "execute_result"
    }
   ],
   "source": [
    "a = 1\n",
    "if true\n",
    "    a = 2 # same `a` as above\n",
    "end\n",
    "a"
   ]
  },
  {
   "cell_type": "code",
   "execution_count": 314,
   "metadata": {
    "colab": {
     "base_uri": "https://localhost:8080/",
     "height": 34
    },
    "colab_type": "code",
    "id": "kO5v8sfCHogx",
    "outputId": "429f8249-d067-4568-f39f-8feb0daaca24"
   },
   "outputs": [
    {
     "data": {
      "text/plain": [
       "2"
      ]
     },
     "execution_count": 314,
     "metadata": {
      "tags": []
     },
     "output_type": "execute_result"
    }
   ],
   "source": [
    "a = 1\n",
    "begin\n",
    "    a = 2  # same `a` as above\n",
    "end\n",
    "a"
   ]
  },
  {
   "cell_type": "markdown",
   "metadata": {
    "colab_type": "text",
    "id": "2ME2_ryels7L"
   },
   "source": [
    "# Package Management\n"
   ]
  },
  {
   "cell_type": "markdown",
   "metadata": {
    "colab_type": "text",
    "id": "hsT_nU1gB6-r"
   },
   "source": [
    "## Basic Workflow\n",
    "The simplest way to write a Julia program is to create a `.jl` file somewhere and run it using `julia`. You would usually do this with your favorite editor, but in this notebook we must do this programmatically. For example:"
   ]
  },
  {
   "cell_type": "code",
   "execution_count": 315,
   "metadata": {
    "colab": {
     "base_uri": "https://localhost:8080/",
     "height": 34
    },
    "colab_type": "code",
    "id": "sRL8oZDaC0PX",
    "outputId": "2576e9a6-37ab-4208-ce71-98089f4a671b"
   },
   "outputs": [
    {
     "data": {
      "text/plain": [
       "23"
      ]
     },
     "execution_count": 315,
     "metadata": {
      "tags": []
     },
     "output_type": "execute_result"
    }
   ],
   "source": [
    "code = \"\"\"\n",
    "println(\"Hello world\")\n",
    "\"\"\"\n",
    "\n",
    "open(f->write(f, code), \"my_program1.jl\", \"w\")"
   ]
  },
  {
   "cell_type": "markdown",
   "metadata": {
    "colab_type": "text",
    "id": "I3LsIKh47R99"
   },
   "source": [
    "Then let's run the program using a shell command:"
   ]
  },
  {
   "cell_type": "code",
   "execution_count": 316,
   "metadata": {
    "colab": {
     "base_uri": "https://localhost:8080/",
     "height": 34
    },
    "colab_type": "code",
    "id": "UvfGZxERDv6c",
    "outputId": "370bae01-5114-4d5f-f71e-a7d498f9bbdb"
   },
   "outputs": [
    {
     "name": "stdout",
     "output_type": "stream",
     "text": [
      "Hello world\n"
     ]
    }
   ],
   "source": [
    ";julia my_program1.jl"
   ]
  },
  {
   "cell_type": "markdown",
   "metadata": {
    "colab_type": "text",
    "id": "KmDPtknrD0Al"
   },
   "source": [
    "If you need to use a package which is not part of the standard library, such as `PyCall`, you first need to install it using Julia's package manager `Pkg`:"
   ]
  },
  {
   "cell_type": "code",
   "execution_count": 317,
   "metadata": {
    "colab": {
     "base_uri": "https://localhost:8080/",
     "height": 136
    },
    "colab_type": "code",
    "id": "doKyY1qWEMZV",
    "outputId": "8548893b-dd0c-40ee-c915-f6bb9219ee64"
   },
   "outputs": [
    {
     "name": "stderr",
     "output_type": "stream",
     "text": [
      "\u001b[32m\u001b[1m   Updating\u001b[22m\u001b[39m registry at `~/.julia/registries/General`\n"
     ]
    },
    {
     "name": "stdout",
     "output_type": "stream",
     "text": [
      "\u001b[?25l\u001b[2K"
     ]
    },
    {
     "name": "stderr",
     "output_type": "stream",
     "text": [
      "\u001b[32m\u001b[1m   Updating\u001b[22m\u001b[39m git-repo `https://github.com/JuliaRegistries/General.git`\n"
     ]
    },
    {
     "name": "stdout",
     "output_type": "stream",
     "text": [
      "\u001b[?25h"
     ]
    },
    {
     "name": "stderr",
     "output_type": "stream",
     "text": [
      "\u001b[32m\u001b[1m  Resolving\u001b[22m\u001b[39m package versions...\n",
      "\u001b[32m\u001b[1m   Updating\u001b[22m\u001b[39m `~/.julia/environments/v1.4/Project.toml`\n",
      "\u001b[90m [no changes]\u001b[39m\n",
      "\u001b[32m\u001b[1m   Updating\u001b[22m\u001b[39m `~/.julia/environments/v1.4/Manifest.toml`\n",
      "\u001b[90m [no changes]\u001b[39m\n"
     ]
    }
   ],
   "source": [
    "using Pkg\n",
    "Pkg.add(\"PyCall\")"
   ]
  },
  {
   "cell_type": "markdown",
   "metadata": {
    "colab_type": "text",
    "id": "iQj8OgUKERBz"
   },
   "source": [
    "Alternatively, in interactive mode, you can enter the `Pkg` mode by typing `]`, then type a command:"
   ]
  },
  {
   "cell_type": "code",
   "execution_count": 318,
   "metadata": {
    "colab": {
     "base_uri": "https://localhost:8080/",
     "height": 102
    },
    "colab_type": "code",
    "id": "KGyakk8GEf84",
    "outputId": "0b0dd9f6-827c-4784-fcda-af476aa14d61"
   },
   "outputs": [
    {
     "name": "stderr",
     "output_type": "stream",
     "text": [
      "\u001b[32m\u001b[1m  Resolving\u001b[22m\u001b[39m package versions...\n",
      "\u001b[32m\u001b[1m   Updating\u001b[22m\u001b[39m `~/.julia/environments/v1.4/Project.toml`\n",
      "\u001b[90m [no changes]\u001b[39m\n",
      "\u001b[32m\u001b[1m   Updating\u001b[22m\u001b[39m `~/.julia/environments/v1.4/Manifest.toml`\n",
      "\u001b[90m [no changes]\u001b[39m\n"
     ]
    }
   ],
   "source": [
    "]add PyCall"
   ]
  },
  {
   "cell_type": "markdown",
   "metadata": {
    "colab_type": "text",
    "id": "AsGGVOPzEkj9"
   },
   "source": [
    "You can also precompile the new package to avoid the compilation delay when the package is first used:"
   ]
  },
  {
   "cell_type": "code",
   "execution_count": 319,
   "metadata": {
    "colab": {
     "base_uri": "https://localhost:8080/",
     "height": 119
    },
    "colab_type": "code",
    "id": "GqYovSwVEihb",
    "outputId": "bf601d8f-18d5-4fe4-8171-051751acc833"
   },
   "outputs": [
    {
     "name": "stderr",
     "output_type": "stream",
     "text": [
      "\u001b[32m\u001b[1m  Resolving\u001b[22m\u001b[39m package versions...\n",
      "\u001b[32m\u001b[1m   Updating\u001b[22m\u001b[39m `~/.julia/environments/v1.4/Project.toml`\n",
      "\u001b[90m [no changes]\u001b[39m\n",
      "\u001b[32m\u001b[1m   Updating\u001b[22m\u001b[39m `~/.julia/environments/v1.4/Manifest.toml`\n",
      "\u001b[90m [no changes]\u001b[39m\n",
      "\u001b[32m\u001b[1mPrecompiling\u001b[22m\u001b[39m project...\n"
     ]
    }
   ],
   "source": [
    "]add PyCall; precompile;"
   ]
  },
  {
   "cell_type": "markdown",
   "metadata": {
    "colab_type": "text",
    "id": "JMwXNbzGExCn"
   },
   "source": [
    "One last alternative is to use `pkg\"...\"` strings to run commands in your programs:"
   ]
  },
  {
   "cell_type": "code",
   "execution_count": 320,
   "metadata": {
    "colab": {
     "base_uri": "https://localhost:8080/",
     "height": 119
    },
    "colab_type": "code",
    "id": "tx5hdeO9E71F",
    "outputId": "f13fa111-68bc-4374-b068-4c8457abcfe5"
   },
   "outputs": [
    {
     "name": "stderr",
     "output_type": "stream",
     "text": [
      "\u001b[32m\u001b[1m  Resolving\u001b[22m\u001b[39m package versions...\n",
      "\u001b[32m\u001b[1m   Updating\u001b[22m\u001b[39m `~/.julia/environments/v1.4/Project.toml`\n",
      "\u001b[90m [no changes]\u001b[39m\n",
      "\u001b[32m\u001b[1m   Updating\u001b[22m\u001b[39m `~/.julia/environments/v1.4/Manifest.toml`\n",
      "\u001b[90m [no changes]\u001b[39m\n",
      "\u001b[32m\u001b[1mPrecompiling\u001b[22m\u001b[39m project...\n"
     ]
    }
   ],
   "source": [
    "pkg\"add PyCall; precompile;\""
   ]
  },
  {
   "cell_type": "markdown",
   "metadata": {
    "colab_type": "text",
    "id": "fEIWFBgnFC6c"
   },
   "source": [
    "Now you can import `PyCall` in any of your Julia programs:"
   ]
  },
  {
   "cell_type": "code",
   "execution_count": 321,
   "metadata": {
    "colab": {
     "base_uri": "https://localhost:8080/",
     "height": 34
    },
    "colab_type": "code",
    "id": "9kTp497AFJuT",
    "outputId": "65610125-ecae-4be5-cc93-96d50c2ab203"
   },
   "outputs": [
    {
     "data": {
      "text/plain": [
       "41"
      ]
     },
     "execution_count": 321,
     "metadata": {
      "tags": []
     },
     "output_type": "execute_result"
    }
   ],
   "source": [
    "code = \"\"\"\n",
    "using PyCall\n",
    "py\"print('1 + 2 =', 1 + 2)\"\n",
    "\"\"\"\n",
    "\n",
    "open(f->write(f, code), \"my_program2.jl\", \"w\")"
   ]
  },
  {
   "cell_type": "code",
   "execution_count": 322,
   "metadata": {
    "colab": {
     "base_uri": "https://localhost:8080/",
     "height": 34
    },
    "colab_type": "code",
    "id": "unfHQR31FVf1",
    "outputId": "4b147b47-cf3e-43a3-ec79-4ff062e8b59e"
   },
   "outputs": [
    {
     "name": "stdout",
     "output_type": "stream",
     "text": [
      "1 + 2 = 3\n"
     ]
    }
   ],
   "source": [
    ";julia my_program2.jl"
   ]
  },
  {
   "cell_type": "markdown",
   "metadata": {
    "colab_type": "text",
    "id": "7Cd3wPG9PH-p"
   },
   "source": [
    "You can also add packages by providing their URL (typically on github). This is useful when you want to use a package which is not in the [official Julia Package registry](https://github.com/JuliaRegistries/General), or when you want the very latest version of a package:"
   ]
  },
  {
   "cell_type": "code",
   "execution_count": 323,
   "metadata": {
    "colab": {
     "base_uri": "https://localhost:8080/",
     "height": 136
    },
    "colab_type": "code",
    "id": "cW6k8F91PT23",
    "outputId": "b5ce446f-43a0-4b09-f19c-cdbc03a9a113"
   },
   "outputs": [
    {
     "name": "stdout",
     "output_type": "stream",
     "text": [
      "\u001b[?25l    "
     ]
    },
    {
     "name": "stderr",
     "output_type": "stream",
     "text": [
      "\u001b[32m\u001b[1m    Cloning\u001b[22m\u001b[39m git-repo `https://github.com/JuliaLang/Example.jl`\n"
     ]
    },
    {
     "name": "stdout",
     "output_type": "stream",
     "text": [
      "\u001b[2K\u001b[?25h\u001b[?25l    "
     ]
    },
    {
     "name": "stderr",
     "output_type": "stream",
     "text": [
      "\u001b[32m\u001b[1m   Updating\u001b[22m\u001b[39m git-repo `https://github.com/JuliaLang/Example.jl`\n"
     ]
    },
    {
     "name": "stdout",
     "output_type": "stream",
     "text": [
      "\u001b[2K\u001b[?25h"
     ]
    },
    {
     "name": "stderr",
     "output_type": "stream",
     "text": [
      "\u001b[32m\u001b[1m  Resolving\u001b[22m\u001b[39m package versions...\n",
      "\u001b[32m\u001b[1m   Updating\u001b[22m\u001b[39m `~/.julia/environments/v1.4/Project.toml`\n",
      " \u001b[90m [7876af07]\u001b[39m\u001b[92m + Example v0.5.4 #master (https://github.com/JuliaLang/Example.jl)\u001b[39m\n",
      "\u001b[32m\u001b[1m   Updating\u001b[22m\u001b[39m `~/.julia/environments/v1.4/Manifest.toml`\n",
      " \u001b[90m [7876af07]\u001b[39m\u001b[92m + Example v0.5.4 #master (https://github.com/JuliaLang/Example.jl)\u001b[39m\n"
     ]
    }
   ],
   "source": [
    "]add https://github.com/JuliaLang/Example.jl"
   ]
  },
  {
   "cell_type": "markdown",
   "metadata": {
    "colab_type": "text",
    "id": "HtRAtwWkD3Ao"
   },
   "source": [
    "You can install a specific package version like this:"
   ]
  },
  {
   "cell_type": "code",
   "execution_count": 324,
   "metadata": {
    "colab": {
     "base_uri": "https://localhost:8080/",
     "height": 136
    },
    "colab_type": "code",
    "id": "CceFEwcTCAWG",
    "outputId": "75678658-ea0b-460a-8b30-7642aff97288"
   },
   "outputs": [
    {
     "name": "stderr",
     "output_type": "stream",
     "text": [
      "\u001b[32m\u001b[1m  Resolving\u001b[22m\u001b[39m package versions...\n",
      "\u001b[32m\u001b[1m  Installed\u001b[22m\u001b[39m PyCall ─ v1.91.3\n",
      "\u001b[32m\u001b[1m   Updating\u001b[22m\u001b[39m `~/.julia/environments/v1.4/Project.toml`\n",
      " \u001b[90m [438e738f]\u001b[39m\u001b[95m ↓ PyCall v1.91.4 ⇒ v1.91.3\u001b[39m\n",
      "\u001b[32m\u001b[1m   Updating\u001b[22m\u001b[39m `~/.julia/environments/v1.4/Manifest.toml`\n",
      " \u001b[90m [438e738f]\u001b[39m\u001b[95m ↓ PyCall v1.91.4 ⇒ v1.91.3\u001b[39m\n",
      "\u001b[32m\u001b[1m   Building\u001b[22m\u001b[39m PyCall → `~/.julia/packages/PyCall/kAhnQ/deps/build.log`\n"
     ]
    }
   ],
   "source": [
    "]add PyCall@1.91.3"
   ]
  },
  {
   "cell_type": "markdown",
   "metadata": {
    "colab_type": "text",
    "id": "AlN_f9jpGPO1"
   },
   "source": [
    "If you only specify version `1` or version `1.91`, Julia will get the latest version with that prefix. For example, `]add PyCall@0.91` would install the latest version `0.91.x`."
   ]
  },
  {
   "cell_type": "markdown",
   "metadata": {
    "colab_type": "text",
    "id": "TDixUMn7DDri"
   },
   "source": [
    "You can also update a package to its latest version:"
   ]
  },
  {
   "cell_type": "code",
   "execution_count": 325,
   "metadata": {
    "colab": {
     "base_uri": "https://localhost:8080/",
     "height": 119
    },
    "colab_type": "code",
    "id": "0EQofpkzD4xq",
    "outputId": "59075dfb-d549-4323-cf58-a2311c546266"
   },
   "outputs": [
    {
     "name": "stderr",
     "output_type": "stream",
     "text": [
      "\u001b[32m\u001b[1m   Updating\u001b[22m\u001b[39m registry at `~/.julia/registries/General`\n"
     ]
    },
    {
     "name": "stdout",
     "output_type": "stream",
     "text": [
      "\u001b[?25l\u001b[2K"
     ]
    },
    {
     "name": "stderr",
     "output_type": "stream",
     "text": [
      "\u001b[32m\u001b[1m   Updating\u001b[22m\u001b[39m git-repo `https://github.com/JuliaRegistries/General.git`\n"
     ]
    },
    {
     "name": "stdout",
     "output_type": "stream",
     "text": [
      "\u001b[?25h"
     ]
    },
    {
     "name": "stderr",
     "output_type": "stream",
     "text": [
      "\u001b[32m\u001b[1m   Updating\u001b[22m\u001b[39m `~/.julia/environments/v1.4/Project.toml`\n",
      " \u001b[90m [438e738f]\u001b[39m\u001b[93m ↑ PyCall v1.91.3 ⇒ v1.91.4\u001b[39m\n",
      "\u001b[32m\u001b[1m   Updating\u001b[22m\u001b[39m `~/.julia/environments/v1.4/Manifest.toml`\n",
      " \u001b[90m [438e738f]\u001b[39m\u001b[93m ↑ PyCall v1.91.3 ⇒ v1.91.4\u001b[39m\n"
     ]
    }
   ],
   "source": [
    "]update PyCall"
   ]
  },
  {
   "cell_type": "markdown",
   "metadata": {
    "colab_type": "text",
    "id": "lgeDVp26DI7_"
   },
   "source": [
    "You can update all packages to their latest versions:"
   ]
  },
  {
   "cell_type": "code",
   "execution_count": 326,
   "metadata": {
    "colab": {
     "base_uri": "https://localhost:8080/",
     "height": 136
    },
    "colab_type": "code",
    "id": "S3Mi-zgLDOVw",
    "outputId": "56b9f42b-5005-483f-dd06-8b3bb69e9904"
   },
   "outputs": [
    {
     "name": "stderr",
     "output_type": "stream",
     "text": [
      "\u001b[32m\u001b[1m   Updating\u001b[22m\u001b[39m registry at `~/.julia/registries/General`\n"
     ]
    },
    {
     "name": "stdout",
     "output_type": "stream",
     "text": [
      "\u001b[?25l\u001b[2K"
     ]
    },
    {
     "name": "stderr",
     "output_type": "stream",
     "text": [
      "\u001b[32m\u001b[1m   Updating\u001b[22m\u001b[39m git-repo `https://github.com/JuliaRegistries/General.git`\n"
     ]
    },
    {
     "name": "stdout",
     "output_type": "stream",
     "text": [
      "\u001b[?25h\u001b[?25l\u001b[2K"
     ]
    },
    {
     "name": "stderr",
     "output_type": "stream",
     "text": [
      "\u001b[32m\u001b[1m   Updating\u001b[22m\u001b[39m git-repo `https://github.com/JuliaLang/Example.jl`\n"
     ]
    },
    {
     "name": "stdout",
     "output_type": "stream",
     "text": [
      "\u001b[?25h"
     ]
    },
    {
     "name": "stderr",
     "output_type": "stream",
     "text": [
      "\u001b[32m\u001b[1m   Updating\u001b[22m\u001b[39m `~/.julia/environments/v1.4/Project.toml`\n",
      "\u001b[90m [no changes]\u001b[39m\n",
      "\u001b[32m\u001b[1m   Updating\u001b[22m\u001b[39m `~/.julia/environments/v1.4/Manifest.toml`\n",
      "\u001b[90m [no changes]\u001b[39m\n"
     ]
    }
   ],
   "source": [
    "]update"
   ]
  },
  {
   "cell_type": "markdown",
   "metadata": {
    "colab_type": "text",
    "id": "1C6nNERsDa_M"
   },
   "source": [
    "If you don't want a particular package to be updated the next time you call `]update`, you can pin it:"
   ]
  },
  {
   "cell_type": "code",
   "execution_count": 327,
   "metadata": {
    "colab": {
     "base_uri": "https://localhost:8080/",
     "height": 85
    },
    "colab_type": "code",
    "id": "Nht6o2uCDiiL",
    "outputId": "b5b859c1-c753-48db-cdc1-4145bf4a00b9"
   },
   "outputs": [
    {
     "name": "stderr",
     "output_type": "stream",
     "text": [
      "\u001b[32m\u001b[1m   Updating\u001b[22m\u001b[39m `~/.julia/environments/v1.4/Project.toml`\n",
      " \u001b[90m [438e738f]\u001b[39m\u001b[93m ~ PyCall v1.91.4 ⇒ v1.91.4 ⚲\u001b[39m\n",
      "\u001b[32m\u001b[1m   Updating\u001b[22m\u001b[39m `~/.julia/environments/v1.4/Manifest.toml`\n",
      " \u001b[90m [438e738f]\u001b[39m\u001b[93m ~ PyCall v1.91.4 ⇒ v1.91.4 ⚲\u001b[39m\n"
     ]
    }
   ],
   "source": [
    "]pin PyCall"
   ]
  },
  {
   "cell_type": "markdown",
   "metadata": {
    "colab_type": "text",
    "id": "Qp9v2d7tDxjH"
   },
   "source": [
    "To unpin the package:"
   ]
  },
  {
   "cell_type": "code",
   "execution_count": 328,
   "metadata": {
    "colab": {
     "base_uri": "https://localhost:8080/",
     "height": 85
    },
    "colab_type": "code",
    "id": "3i9JoQimDl7I",
    "outputId": "3684dacf-3105-49df-a84f-8dcfe11310ae"
   },
   "outputs": [
    {
     "name": "stderr",
     "output_type": "stream",
     "text": [
      "\u001b[32m\u001b[1m   Updating\u001b[22m\u001b[39m `~/.julia/environments/v1.4/Project.toml`\n",
      " \u001b[90m [438e738f]\u001b[39m\u001b[93m ~ PyCall v1.91.4 ⚲ ⇒ v1.91.4\u001b[39m\n",
      "\u001b[32m\u001b[1m   Updating\u001b[22m\u001b[39m `~/.julia/environments/v1.4/Manifest.toml`\n",
      " \u001b[90m [438e738f]\u001b[39m\u001b[93m ~ PyCall v1.91.4 ⚲ ⇒ v1.91.4\u001b[39m\n"
     ]
    }
   ],
   "source": [
    "]free PyCall"
   ]
  },
  {
   "cell_type": "markdown",
   "metadata": {
    "colab_type": "text",
    "id": "Asr1snFp609f"
   },
   "source": [
    "You can also run the tests defined in a package:"
   ]
  },
  {
   "cell_type": "code",
   "execution_count": 329,
   "metadata": {
    "colab": {
     "base_uri": "https://localhost:8080/",
     "height": 238
    },
    "colab_type": "code",
    "id": "XlmKnEvf67zi",
    "outputId": "2eaedf96-f0b6-4841-d46a-620aae16ecd9"
   },
   "outputs": [
    {
     "name": "stderr",
     "output_type": "stream",
     "text": [
      "\u001b[32m\u001b[1m    Testing\u001b[22m\u001b[39m Example\n",
      "\u001b[32m\u001b[1mStatus\u001b[22m\u001b[39m `/tmp/jl_2kZjcq/Manifest.toml`\n",
      " \u001b[90m [7876af07]\u001b[39m\u001b[37m Example v0.5.4 #master (https://github.com/JuliaLang/Example.jl)\u001b[39m\n",
      " \u001b[90m [2a0f44e3]\u001b[39m\u001b[37m Base64 \u001b[39m\n",
      " \u001b[90m [8ba89e20]\u001b[39m\u001b[37m Distributed \u001b[39m\n",
      " \u001b[90m [b77e0a4c]\u001b[39m\u001b[37m InteractiveUtils \u001b[39m\n",
      " \u001b[90m [56ddb016]\u001b[39m\u001b[37m Logging \u001b[39m\n",
      " \u001b[90m [d6f4376e]\u001b[39m\u001b[37m Markdown \u001b[39m\n",
      " \u001b[90m [9a3f8284]\u001b[39m\u001b[37m Random \u001b[39m\n",
      " \u001b[90m [9e88b42a]\u001b[39m\u001b[37m Serialization \u001b[39m\n",
      " \u001b[90m [6462fe0b]\u001b[39m\u001b[37m Sockets \u001b[39m\n",
      " \u001b[90m [8dfed614]\u001b[39m\u001b[37m Test \u001b[39m\n",
      "\u001b[32m\u001b[1m    Testing\u001b[22m\u001b[39m Example tests passed \n"
     ]
    }
   ],
   "source": [
    "]test Example"
   ]
  },
  {
   "cell_type": "markdown",
   "metadata": {
    "colab_type": "text",
    "id": "lHAXzij6ZPPs"
   },
   "source": [
    "Of course, you can remove a package:"
   ]
  },
  {
   "cell_type": "code",
   "execution_count": 330,
   "metadata": {
    "colab": {
     "base_uri": "https://localhost:8080/",
     "height": 85
    },
    "colab_type": "code",
    "id": "2fuEjhjzZROg",
    "outputId": "8b10f6ba-994d-47d9-ab50-1284ca582ea4"
   },
   "outputs": [
    {
     "name": "stderr",
     "output_type": "stream",
     "text": [
      "\u001b[32m\u001b[1m   Updating\u001b[22m\u001b[39m `~/.julia/environments/v1.4/Project.toml`\n",
      " \u001b[90m [7876af07]\u001b[39m\u001b[91m - Example v0.5.4 #master (https://github.com/JuliaLang/Example.jl)\u001b[39m\n",
      "\u001b[32m\u001b[1m   Updating\u001b[22m\u001b[39m `~/.julia/environments/v1.4/Manifest.toml`\n",
      " \u001b[90m [7876af07]\u001b[39m\u001b[91m - Example v0.5.4 #master (https://github.com/JuliaLang/Example.jl)\u001b[39m\n"
     ]
    }
   ],
   "source": [
    "]rm Example"
   ]
  },
  {
   "cell_type": "markdown",
   "metadata": {
    "colab_type": "text",
    "id": "eeTA6D33CHTv"
   },
   "source": [
    "Lastly, you can check which packages are installed using `]status` (or `]st` for short):"
   ]
  },
  {
   "cell_type": "code",
   "execution_count": 331,
   "metadata": {
    "colab": {
     "base_uri": "https://localhost:8080/",
     "height": 119
    },
    "colab_type": "code",
    "id": "lSqzm_yECL6Y",
    "outputId": "329baf41-b7c2-4ed5-de58-a326a969a2dc"
   },
   "outputs": [
    {
     "name": "stdout",
     "output_type": "stream",
     "text": [
      "\u001b[32m\u001b[1mStatus\u001b[22m\u001b[39m `~/.julia/environments/v1.4/Project.toml`\n",
      " \u001b[90m [6e4b80f9]\u001b[39m\u001b[37m BenchmarkTools v0.5.0\u001b[39m\n",
      " \u001b[90m [052768ef]\u001b[39m\u001b[37m CUDA v1.0.2\u001b[39m\n",
      " \u001b[90m [7073ff75]\u001b[39m\u001b[37m IJulia v1.21.2\u001b[39m\n",
      " \u001b[90m [438e738f]\u001b[39m\u001b[37m PyCall v1.91.4\u001b[39m\n",
      " \u001b[90m [d330b81b]\u001b[39m\u001b[37m PyPlot v2.9.0\u001b[39m\n"
     ]
    }
   ],
   "source": [
    "]st"
   ]
  },
  {
   "cell_type": "markdown",
   "metadata": {
    "colab_type": "text",
    "id": "VVwtyjNJlL5j"
   },
   "source": [
    "For more `Pkg` commands, type `]help`."
   ]
  },
  {
   "cell_type": "markdown",
   "metadata": {
    "colab_type": "text",
    "id": "rQY6BRiBvdbU"
   },
   "source": [
    "|Julia (in interactive mode) | Python (in a terminal)\n",
    "|-----|------\n",
    "|`]status` | `pip freeze`<br />or<br />`conda list`\n",
    "|`]add Foo` | `pip install foo`<br />or<br />`conda install foo`\n",
    "|`]add Foo@1.2` | `pip install foo==1.2`<br />or<br />`conda install foo=1.2`\n",
    "|`]update Foo` | `pip install --upgrade foo`<br />or<br />`conda update foo`\n",
    "|`]pin Foo` | `foo==<version>` in `requirements.txt`<br /> or<br />`foo=<version>` in `environment.yml`\n",
    "|`]free Foo` | `foo` in `requirements.txt`<br />or<br />`foo` in `environment.yml`\n",
    "|`]test Foo` | `python -m unittest foo`\n",
    "|`]rm Foo` | `pip uninstall foo`<br />or<br />`conda remove foo`\n",
    "|`]help` | `pip --help`\n"
   ]
  },
  {
   "cell_type": "markdown",
   "metadata": {
    "colab_type": "text",
    "id": "o6KvuaMcFx2N"
   },
   "source": [
    "This workflow is fairly simple, but it means that all of your programs will be using the same version of each package. This is analog to installing packages using `pip install` without using virtual environments."
   ]
  },
  {
   "cell_type": "markdown",
   "metadata": {
    "colab_type": "text",
    "id": "CaJvX0RcqukU"
   },
   "source": [
    "\n",
    "## Projects\n",
    "\n",
    "If you want to have multiple projects, each with different libraries and library versions, you should define **projects**. These are analog to Python virtual environments.\n",
    "\n",
    "A project is just a directory containing a `Project.toml` file and a `Manifest.toml` file:\n",
    "\n",
    "```\n",
    "my_project/\n",
    "    Project.toml\n",
    "    Manifest.toml\n",
    "```\n",
    "\n",
    "* `Project.toml` is similar to a `requirements.txt` file (for pip) or `environment.yml` (for conda): it lists the dependencies of the project, and compatibility constraints (e.g., `SomeDependency = 2.5`).\n",
    "* `Manifest.toml` is an automatically generated file which lists the exact versions and unique IDs (UUIDs) of all the packages that Julia found, based on `Project.toml`. It includes all the implicit dependencies of the project's packages. This is useful to reproduce an environment precisely. Analog to the output of `pip --freeze`.\n",
    "\n",
    "By default, the active project is located in `~/.julia/environments/v#.#` (where `#.#` is the Julia version you are using, such as 1.4). You can set a different project when starting Julia:\n",
    "\n",
    "```bash\n",
    "# BASH\n",
    "julia --project=/path/to/my_project\n",
    "```\n",
    "\n",
    "Or you can set the `JULIA_PROJECT` environment variable:\n",
    "\n",
    "```bash\n",
    "# BASH\n",
    "export JULIA_PROJECT=/path/to/my_project\n",
    "julia\n",
    "```"
   ]
  },
  {
   "cell_type": "markdown",
   "metadata": {
    "colab_type": "text",
    "id": "84iGO38zM3Cz"
   },
   "source": [
    "Or you can just activate a project directly in Julia (this is analog to running `source my_project/env/bin/activate` when using virtualenv):"
   ]
  },
  {
   "cell_type": "code",
   "execution_count": 332,
   "metadata": {
    "colab": {
     "base_uri": "https://localhost:8080/",
     "height": 34
    },
    "colab_type": "code",
    "id": "tuXofzisM-bW",
    "outputId": "9bf468ff-da50-4cfd-96c3-12343e16a107"
   },
   "outputs": [
    {
     "name": "stderr",
     "output_type": "stream",
     "text": [
      "\u001b[32m\u001b[1m Activating\u001b[22m\u001b[39m new environment at `/content/my_project/Project.toml`\n"
     ]
    }
   ],
   "source": [
    "Pkg.activate(\"my_project\")"
   ]
  },
  {
   "cell_type": "markdown",
   "metadata": {
    "colab_type": "text",
    "id": "wOPtEC3UNTsh"
   },
   "source": [
    "The `my_project` directory does not exist yet, but it gets created automatically, along with the `Project.toml` and `Manifest.toml` files, when you first add a package:"
   ]
  },
  {
   "cell_type": "code",
   "execution_count": 333,
   "metadata": {
    "colab": {
     "base_uri": "https://localhost:8080/",
     "height": 442
    },
    "colab_type": "code",
    "id": "yLuWH7U8g84W",
    "outputId": "de641ac5-5502-4095-cf86-48b64414ecbd"
   },
   "outputs": [
    {
     "name": "stderr",
     "output_type": "stream",
     "text": [
      "\u001b[32m\u001b[1m  Resolving\u001b[22m\u001b[39m package versions...\n",
      "\u001b[32m\u001b[1m   Updating\u001b[22m\u001b[39m `/content/my_project/Project.toml`\n",
      " \u001b[90m [438e738f]\u001b[39m\u001b[92m + PyCall v1.91.4\u001b[39m\n",
      "\u001b[32m\u001b[1m   Updating\u001b[22m\u001b[39m `/content/my_project/Manifest.toml`\n",
      " \u001b[90m [8f4d0f93]\u001b[39m\u001b[92m + Conda v1.4.1\u001b[39m\n",
      " \u001b[90m [682c06a0]\u001b[39m\u001b[92m + JSON v0.21.0\u001b[39m\n",
      " \u001b[90m [1914dd2f]\u001b[39m\u001b[92m + MacroTools v0.5.5\u001b[39m\n",
      " \u001b[90m [69de0a69]\u001b[39m\u001b[92m + Parsers v1.0.6\u001b[39m\n",
      " \u001b[90m [438e738f]\u001b[39m\u001b[92m + PyCall v1.91.4\u001b[39m\n",
      " \u001b[90m [81def892]\u001b[39m\u001b[92m + VersionParsing v1.2.0\u001b[39m\n",
      " \u001b[90m [2a0f44e3]\u001b[39m\u001b[92m + Base64 \u001b[39m\n",
      " \u001b[90m [ade2ca70]\u001b[39m\u001b[92m + Dates \u001b[39m\n",
      " \u001b[90m [8ba89e20]\u001b[39m\u001b[92m + Distributed \u001b[39m\n",
      " \u001b[90m [b77e0a4c]\u001b[39m\u001b[92m + InteractiveUtils \u001b[39m\n",
      " \u001b[90m [8f399da3]\u001b[39m\u001b[92m + Libdl \u001b[39m\n",
      " \u001b[90m [37e2e46d]\u001b[39m\u001b[92m + LinearAlgebra \u001b[39m\n",
      " \u001b[90m [56ddb016]\u001b[39m\u001b[92m + Logging \u001b[39m\n",
      " \u001b[90m [d6f4376e]\u001b[39m\u001b[92m + Markdown \u001b[39m\n",
      " \u001b[90m [a63ad114]\u001b[39m\u001b[92m + Mmap \u001b[39m\n",
      " \u001b[90m [de0858da]\u001b[39m\u001b[92m + Printf \u001b[39m\n",
      " \u001b[90m [9a3f8284]\u001b[39m\u001b[92m + Random \u001b[39m\n",
      " \u001b[90m [9e88b42a]\u001b[39m\u001b[92m + Serialization \u001b[39m\n",
      " \u001b[90m [6462fe0b]\u001b[39m\u001b[92m + Sockets \u001b[39m\n",
      " \u001b[90m [8dfed614]\u001b[39m\u001b[92m + Test \u001b[39m\n",
      " \u001b[90m [4ec0a83e]\u001b[39m\u001b[92m + Unicode \u001b[39m\n"
     ]
    }
   ],
   "source": [
    "]add PyCall"
   ]
  },
  {
   "cell_type": "markdown",
   "metadata": {
    "colab_type": "text",
    "id": "KS6OJjVpTcKX"
   },
   "source": [
    "You can also add a package via its URL:"
   ]
  },
  {
   "cell_type": "code",
   "execution_count": 334,
   "metadata": {
    "colab": {
     "base_uri": "https://localhost:8080/",
     "height": 119
    },
    "colab_type": "code",
    "id": "ydZSoyULOlwV",
    "outputId": "2923c9fd-bac0-4f4f-b17b-bb915874f56a"
   },
   "outputs": [
    {
     "name": "stdout",
     "output_type": "stream",
     "text": [
      "\u001b[?25l\u001b[2K"
     ]
    },
    {
     "name": "stderr",
     "output_type": "stream",
     "text": [
      "\u001b[32m\u001b[1m   Updating\u001b[22m\u001b[39m git-repo `https://github.com/JuliaLang/Example.jl`\n"
     ]
    },
    {
     "name": "stdout",
     "output_type": "stream",
     "text": [
      "\u001b[?25h"
     ]
    },
    {
     "name": "stderr",
     "output_type": "stream",
     "text": [
      "\u001b[32m\u001b[1m  Resolving\u001b[22m\u001b[39m package versions...\n",
      "\u001b[32m\u001b[1m   Updating\u001b[22m\u001b[39m `/content/my_project/Project.toml`\n",
      " \u001b[90m [7876af07]\u001b[39m\u001b[92m + Example v0.5.4 #master (https://github.com/JuliaLang/Example.jl)\u001b[39m\n",
      "\u001b[32m\u001b[1m   Updating\u001b[22m\u001b[39m `/content/my_project/Manifest.toml`\n",
      " \u001b[90m [7876af07]\u001b[39m\u001b[92m + Example v0.5.4 #master (https://github.com/JuliaLang/Example.jl)\u001b[39m\n"
     ]
    }
   ],
   "source": [
    "]add https://github.com/JuliaLang/Example.jl"
   ]
  },
  {
   "cell_type": "markdown",
   "metadata": {
    "colab_type": "text",
    "id": "JKr9G4fDGGLv"
   },
   "source": [
    "Let's also add a package with a specific version:"
   ]
  },
  {
   "cell_type": "code",
   "execution_count": 335,
   "metadata": {
    "colab": {
     "base_uri": "https://localhost:8080/",
     "height": 119
    },
    "colab_type": "code",
    "id": "xM8l4uR2GJsM",
    "outputId": "7ebb9997-153b-4fbb-98d1-773d74a32f12"
   },
   "outputs": [
    {
     "name": "stderr",
     "output_type": "stream",
     "text": [
      "\u001b[32m\u001b[1m  Resolving\u001b[22m\u001b[39m package versions...\n",
      "\u001b[32m\u001b[1m  Installed\u001b[22m\u001b[39m Example ─ v0.3.3\n",
      "\u001b[32m\u001b[1m   Updating\u001b[22m\u001b[39m `/content/my_project/Project.toml`\n",
      " \u001b[90m [7876af07]\u001b[39m\u001b[95m ↓ Example v0.5.4 #master (https://github.com/JuliaLang/Example.jl) ⇒ v0.3.3\u001b[39m\n",
      "\u001b[32m\u001b[1m   Updating\u001b[22m\u001b[39m `/content/my_project/Manifest.toml`\n",
      " \u001b[90m [7876af07]\u001b[39m\u001b[95m ↓ Example v0.5.4 #master (https://github.com/JuliaLang/Example.jl) ⇒ v0.3.3\u001b[39m\n"
     ]
    }
   ],
   "source": [
    "]add Example@0.3"
   ]
  },
  {
   "cell_type": "markdown",
   "metadata": {
    "colab_type": "text",
    "id": "RCZ-eWicTmVx"
   },
   "source": [
    "Now the `Project.toml` and `Manifest.toml` files were created:"
   ]
  },
  {
   "cell_type": "code",
   "execution_count": 336,
   "metadata": {
    "colab": {
     "base_uri": "https://localhost:8080/",
     "height": 68
    },
    "colab_type": "code",
    "id": "CPbncHi09yFJ",
    "outputId": "8f9d4bb4-e3f1-42bc-88e8-b5af5c34f0bd"
   },
   "outputs": [
    {
     "name": "stdout",
     "output_type": "stream",
     "text": [
      "my_project\n",
      "my_project/Manifest.toml\n",
      "my_project/Project.toml\n"
     ]
    }
   ],
   "source": [
    ";find my_project"
   ]
  },
  {
   "cell_type": "markdown",
   "metadata": {
    "colab_type": "text",
    "id": "Jw-VCU41Ua7A"
   },
   "source": [
    "Notice that the packages we added to the project were _not_ placed in the `my_project` directory itself. They were saved in the `~/.julia/packages` directory, the compiled files were placed in `~/.julia/compiled` director, logs were written to `~/.julia/logs` and so on.\n",
    "\n",
    "If several projects use the same package, it will only be downloaded and built once (well, once per version). The `~/.julia/packages` directory can hold multiple versions of the same package, so it's fine if different projects use different versions of the same package. There will be no conflict, no \"dependency hell\".\n"
   ]
  },
  {
   "cell_type": "markdown",
   "metadata": {
    "colab_type": "text",
    "id": "o9yjyihUisIK"
   },
   "source": [
    "The `Project.toml` just says that the project depends on `PyCall` and `Example`, and it specifies the UUID of this package:"
   ]
  },
  {
   "cell_type": "code",
   "execution_count": 337,
   "metadata": {
    "colab": {
     "base_uri": "https://localhost:8080/",
     "height": 68
    },
    "colab_type": "code",
    "id": "Gz8KscpIhIX4",
    "outputId": "db96f24f-931b-483c-eb7f-cdfead0195d5"
   },
   "outputs": [
    {
     "name": "stdout",
     "output_type": "stream",
     "text": [
      "[deps]\n",
      "Example = \"7876af07-990d-54b4-ab0e-23690620f79a\"\n",
      "PyCall = \"438e738f-606a-5dbb-bf0a-cddfbfd45ab0\"\n"
     ]
    }
   ],
   "source": [
    "print(read(\"my_project/Project.toml\", String))"
   ]
  },
  {
   "cell_type": "markdown",
   "metadata": {
    "colab_type": "text",
    "id": "IpxulMt32SFf"
   },
   "source": [
    "UUIDs are useful to avoid name conflicts. If several people name their package `CoolStuff`, then the UUID will clarify which one we are referring to."
   ]
  },
  {
   "cell_type": "markdown",
   "metadata": {
    "colab_type": "text",
    "id": "-_mbX8HUi7Qg"
   },
   "source": [
    "The `Manifest.toml` file is much longer, since it contains all the packages which `PyCall` and `Example` depend on, along with their versions (except for the standard library packages), and the dependency graph. This file should never be modified manually:\n"
   ]
  },
  {
   "cell_type": "code",
   "execution_count": 338,
   "metadata": {
    "colab": {
     "base_uri": "https://localhost:8080/",
     "height": 1000
    },
    "colab_type": "code",
    "id": "28qXSoSwhOgm",
    "outputId": "7ee5c474-9d2e-432d-95c1-5a09023de43e"
   },
   "outputs": [
    {
     "name": "stdout",
     "output_type": "stream",
     "text": [
      "# This file is machine-generated - editing it directly is not advised\n",
      "\n",
      "[[Base64]]\n",
      "uuid = \"2a0f44e3-6c83-55bd-87e4-b1978d98bd5f\"\n",
      "\n",
      "[[Conda]]\n",
      "deps = [\"JSON\", \"VersionParsing\"]\n",
      "git-tree-sha1 = \"7a58bb32ce5d85f8bf7559aa7c2842f9aecf52fc\"\n",
      "uuid = \"8f4d0f93-b110-5947-807f-2305c1781a2d\"\n",
      "version = \"1.4.1\"\n",
      "\n",
      "[[Dates]]\n",
      "deps = [\"Printf\"]\n",
      "uuid = \"ade2ca70-3891-5945-98fb-dc099432e06a\"\n",
      "\n",
      "[[Distributed]]\n",
      "deps = [\"Random\", \"Serialization\", \"Sockets\"]\n",
      "uuid = \"8ba89e20-285c-5b6f-9357-94700520ee1b\"\n",
      "\n",
      "[[Example]]\n",
      "git-tree-sha1 = \"276fa06109ac5c80035cff711b0a18ad5b3117cc\"\n",
      "uuid = \"7876af07-990d-54b4-ab0e-23690620f79a\"\n",
      "version = \"0.3.3\"\n",
      "\n",
      "[[InteractiveUtils]]\n",
      "deps = [\"Markdown\"]\n",
      "uuid = \"b77e0a4c-d291-57a0-90e8-8db25a27a240\"\n",
      "\n",
      "[[JSON]]\n",
      "deps = [\"Dates\", \"Mmap\", \"Parsers\", \"Unicode\"]\n",
      "git-tree-sha1 = \"b34d7cef7b337321e97d22242c3c2b91f476748e\"\n",
      "uuid = \"682c06a0-de6a-54ab-a142-c8b1cf79cde6\"\n",
      "version = \"0.21.0\"\n",
      "\n",
      "[[Libdl]]\n",
      "uuid = \"8f399da3-3557-5675-b5ff-fb832c97cbdb\"\n",
      "\n",
      "[[LinearAlgebra]]\n",
      "deps = [\"Libdl\"]\n",
      "uuid = \"37e2e46d-f89d-539d-b4ee-838fcccc9c8e\"\n",
      "\n",
      "[[Logging]]\n",
      "uuid = \"56ddb016-857b-54e1-b83d-db4d58db5568\"\n",
      "\n",
      "[[MacroTools]]\n",
      "deps = [\"Markdown\", \"Random\"]\n",
      "git-tree-sha1 = \"f7d2e3f654af75f01ec49be82c231c382214223a\"\n",
      "uuid = \"1914dd2f-81c6-5fcd-8719-6d5c9610ff09\"\n",
      "version = \"0.5.5\"\n",
      "\n",
      "[[Markdown]]\n",
      "deps = [\"Base64\"]\n",
      "uuid = \"d6f4376e-aef5-505a-96c1-9c027394607a\"\n",
      "\n",
      "[[Mmap]]\n",
      "uuid = \"a63ad114-7e13-5084-954f-fe012c677804\"\n",
      "\n",
      "[[Parsers]]\n",
      "deps = [\"Dates\", \"Test\"]\n",
      "git-tree-sha1 = \"20ef902ea02f7000756a4bc19f7b9c24867c6211\"\n",
      "uuid = \"69de0a69-1ddd-5017-9359-2bf0b02dc9f0\"\n",
      "version = \"1.0.6\"\n",
      "\n",
      "[[Printf]]\n",
      "deps = [\"Unicode\"]\n",
      "uuid = \"de0858da-6303-5e67-8744-51eddeeeb8d7\"\n",
      "\n",
      "[[PyCall]]\n",
      "deps = [\"Conda\", \"Dates\", \"Libdl\", \"LinearAlgebra\", \"MacroTools\", \"Serialization\", \"VersionParsing\"]\n",
      "git-tree-sha1 = \"3a3fdb9000d35958c9ba2323ca7c4958901f115d\"\n",
      "uuid = \"438e738f-606a-5dbb-bf0a-cddfbfd45ab0\"\n",
      "version = \"1.91.4\"\n",
      "\n",
      "[[Random]]\n",
      "deps = [\"Serialization\"]\n",
      "uuid = \"9a3f8284-a2c9-5f02-9a11-845980a1fd5c\"\n",
      "\n",
      "[[Serialization]]\n",
      "uuid = \"9e88b42a-f829-5b0c-bbe9-9e923198166b\"\n",
      "\n",
      "[[Sockets]]\n",
      "uuid = \"6462fe0b-24de-5631-8697-dd941f90decc\"\n",
      "\n",
      "[[Test]]\n",
      "deps = [\"Distributed\", \"InteractiveUtils\", \"Logging\", \"Random\"]\n",
      "uuid = \"8dfed614-e22c-5e08-85e1-65c5234f0b40\"\n",
      "\n",
      "[[Unicode]]\n",
      "uuid = \"4ec0a83e-493e-50e2-b9ac-8f72acf5a8f5\"\n",
      "\n",
      "[[VersionParsing]]\n",
      "git-tree-sha1 = \"80229be1f670524750d905f8fc8148e5a8c4537f\"\n",
      "uuid = \"81def892-9a0e-5fdd-b105-ffc91e053289\"\n",
      "version = \"1.2.0\"\n"
     ]
    }
   ],
   "source": [
    "print(read(\"my_project/Manifest.toml\", String))"
   ]
  },
  {
   "cell_type": "markdown",
   "metadata": {
    "colab_type": "text",
    "id": "P1JJXmuz1LPl"
   },
   "source": [
    "Note that `Manifest.toml` contains the precise version of the `Example` package that was installed, but the `Project.toml` file does not specify that version `0.3` is required. That's because Julia cannot know whether your project is supposed to work only with any version `0.3.x`, or whether it could work with other versions as well. So if you want to specify a version constraint for the `Example` package, you must add it manually in `Project.toml`. You would normally use your favorite editor to do this, but in this notebook we'll update `Project.toml` programmatically:"
   ]
  },
  {
   "cell_type": "code",
   "execution_count": 339,
   "metadata": {
    "colab": {
     "base_uri": "https://localhost:8080/",
     "height": 34
    },
    "colab_type": "code",
    "id": "tgddc3M_1iyG",
    "outputId": "b5b5fd32-facb-4cbd-def6-5d6161c7ca44"
   },
   "outputs": [
    {
     "data": {
      "text/plain": [
       "26"
      ]
     },
     "execution_count": 339,
     "metadata": {
      "tags": []
     },
     "output_type": "execute_result"
    }
   ],
   "source": [
    "append_config = \"\"\"\n",
    "\n",
    "[compat]\n",
    "Example = \"0.3\"\n",
    "\"\"\"\n",
    "\n",
    "open(f->write(f, append_config), \"my_project/Project.toml\", \"a\")"
   ]
  },
  {
   "cell_type": "markdown",
   "metadata": {
    "colab_type": "text",
    "id": "BD4rgzAT2GGs"
   },
   "source": [
    "Here is the updated `Project.toml` file:"
   ]
  },
  {
   "cell_type": "code",
   "execution_count": 340,
   "metadata": {
    "colab": {
     "base_uri": "https://localhost:8080/",
     "height": 119
    },
    "colab_type": "code",
    "id": "XNAC8q0H17mI",
    "outputId": "85e08912-3818-4498-dfd7-d44ec9a74b13"
   },
   "outputs": [
    {
     "name": "stdout",
     "output_type": "stream",
     "text": [
      "[deps]\n",
      "Example = \"7876af07-990d-54b4-ab0e-23690620f79a\"\n",
      "PyCall = \"438e738f-606a-5dbb-bf0a-cddfbfd45ab0\"\n",
      "\n",
      "[compat]\n",
      "Example = \"0.3\"\n"
     ]
    }
   ],
   "source": [
    "print(read(\"my_project/Project.toml\", String))"
   ]
  },
  {
   "cell_type": "markdown",
   "metadata": {
    "colab_type": "text",
    "id": "VyWAJoEq6GZs"
   },
   "source": [
    "Now if we try to replace `Example` 0.3 with version 0.2, we get an error:"
   ]
  },
  {
   "cell_type": "code",
   "execution_count": 341,
   "metadata": {
    "colab": {
     "base_uri": "https://localhost:8080/",
     "height": 51
    },
    "colab_type": "code",
    "id": "qgBa7Y0x6NUm",
    "outputId": "b4e03b71-d3e3-4d6f-8bfa-544ec23920ab"
   },
   "outputs": [
    {
     "name": "stderr",
     "output_type": "stream",
     "text": [
      "\u001b[32m\u001b[1m  Resolving\u001b[22m\u001b[39m package versions...\n"
     ]
    },
    {
     "data": {
      "text/plain": [
       "Pkg.Resolve.ResolverError(\"empty intersection between Example@0.2 and project compatibility 0.3\", nothing)"
      ]
     },
     "execution_count": 341,
     "metadata": {
      "tags": []
     },
     "output_type": "execute_result"
    }
   ],
   "source": [
    "try\n",
    "    pkg\"add Example@0.2\"\n",
    "catch ex\n",
    "    ex\n",
    "end"
   ]
  },
  {
   "cell_type": "markdown",
   "metadata": {
    "colab_type": "text",
    "id": "R3zvTUWSH4Sa"
   },
   "source": [
    "Now you can run a program based on this project, and it will have the possibility to use all the packages which have been added to this project, with their specific versions. If you import a package which was not explicitly added to this project, Julia will fallback to the default project:"
   ]
  },
  {
   "cell_type": "code",
   "execution_count": 342,
   "metadata": {
    "colab": {
     "base_uri": "https://localhost:8080/",
     "height": 34
    },
    "colab_type": "code",
    "id": "XnSjhJSyISzT",
    "outputId": "b2676e79-f354-4908-f9f1-6e41a81d7351"
   },
   "outputs": [
    {
     "data": {
      "text/plain": [
       "117"
      ]
     },
     "execution_count": 342,
     "metadata": {
      "tags": []
     },
     "output_type": "execute_result"
    }
   ],
   "source": [
    "code = \"\"\"\n",
    "import PyCall # found in the project\n",
    "import PyPlot # not found, so falls back to default project\n",
    "println(\"Success!\")\n",
    "\"\"\"\n",
    "\n",
    "open(f->write(f, code), \"my_program3.jl\", \"w\")"
   ]
  },
  {
   "cell_type": "code",
   "execution_count": 343,
   "metadata": {
    "colab": {
     "base_uri": "https://localhost:8080/",
     "height": 34
    },
    "colab_type": "code",
    "id": "eM4yXtogIc5d",
    "outputId": "172e5e76-59c5-4898-fca6-d1858082bc33"
   },
   "outputs": [
    {
     "name": "stdout",
     "output_type": "stream",
     "text": [
      "Success!\n"
     ]
    }
   ],
   "source": [
    ";julia --project=my_project my_program3.jl"
   ]
  },
  {
   "cell_type": "markdown",
   "metadata": {
    "colab_type": "text",
    "id": "U3C_z11CDXzJ"
   },
   "source": [
    "## Packages\n",
    "Falling back to the default project is fine, as long as you run the code on your own machine, but if you want to share your code with other people, it would be brittle to count on packages installed in _their_ default project. Instead, if you plan to share your code, you should clearly specify which packages it depends on, and use only these packages. Such a shareable project is called a **package**."
   ]
  },
  {
   "cell_type": "markdown",
   "metadata": {
    "colab_type": "text",
    "id": "7cLqsDTlMRM9"
   },
   "source": [
    "A package is a regular project (as defined above), but with a few extras:\n",
    "* the `Project.toml` file must specify a `name`, a `version` and a `uuid`.\n",
    "* there must be a `src/PackageName.jl` file containing a module named `PackageName`.\n",
    "* you generally want to specify the `authors` and `description`, and maybe also the `license`, `repository` (e.g., the package's github URL), and some `keywords`, but all of these are optional.\n",
    "\n",
    "It is very easy to create a new package using the `]generate` command. To define the `authors` field, `Pkg` will look up the `user.name` and `user.email` git config entries, so let's define them before we generate the package:"
   ]
  },
  {
   "cell_type": "code",
   "execution_count": 344,
   "metadata": {
    "colab": {},
    "colab_type": "code",
    "id": "-lrw9Diey5Jw"
   },
   "outputs": [],
   "source": [
    ";git config --global user.name \"Alice Bob\""
   ]
  },
  {
   "cell_type": "code",
   "execution_count": 345,
   "metadata": {
    "colab": {},
    "colab_type": "code",
    "id": "jHImoacOzHyR"
   },
   "outputs": [],
   "source": [
    ";git config --global user.email \"alice.bob@example.com\""
   ]
  },
  {
   "cell_type": "code",
   "execution_count": 346,
   "metadata": {
    "colab": {
     "base_uri": "https://localhost:8080/",
     "height": 68
    },
    "colab_type": "code",
    "id": "bTw_L-4-ls4H",
    "outputId": "c13f7a4a-9cad-4212-c9bc-b59c6088fc86"
   },
   "outputs": [
    {
     "name": "stderr",
     "output_type": "stream",
     "text": [
      "\u001b[32m\u001b[1m Generating\u001b[22m\u001b[39m  project Hello:\n",
      "    MyPackages/Hello/Project.toml\n",
      "    MyPackages/Hello/src/Hello.jl\n"
     ]
    }
   ],
   "source": [
    "]generate MyPackages/Hello"
   ]
  },
  {
   "cell_type": "markdown",
   "metadata": {
    "colab_type": "text",
    "id": "_OvnM3tBpW9X"
   },
   "source": [
    "This generated the `MyPackages/Hello/Project.toml` file (along with the enclosing directories) and the `MyPackages/Hello/src/Hello.jl` file. Let's take a look at the `Project.toml` file:"
   ]
  },
  {
   "cell_type": "code",
   "execution_count": 347,
   "metadata": {
    "colab": {
     "base_uri": "https://localhost:8080/",
     "height": 85
    },
    "colab_type": "code",
    "id": "wQqVtTh5qkhm",
    "outputId": "49fe342c-0d1e-483b-e2fe-dc5db18310b4"
   },
   "outputs": [
    {
     "name": "stdout",
     "output_type": "stream",
     "text": [
      "name = \"Hello\"\n",
      "uuid = \"b1200148-98bf-43d1-9bb1-85f7b4552217\"\n",
      "authors = [\"Alice Bob <alice.bob@example.com>\"]\n",
      "version = \"0.1.0\"\n"
     ]
    }
   ],
   "source": [
    "print(read(\"MyPackages/Hello/Project.toml\", String))"
   ]
  },
  {
   "cell_type": "markdown",
   "metadata": {
    "colab_type": "text",
    "id": "j1IL7fuyiAtb"
   },
   "source": [
    "Notice that the project has no dependencies yet, but it has a name, a unique UUID, and a version (plus an author)."
   ]
  },
  {
   "cell_type": "markdown",
   "metadata": {
    "colab_type": "text",
    "id": "Pgs4xop1qr1z"
   },
   "source": [
    "Note: if `Pkg` does not find a your name or email in the git config, it falls back to environment variables (`GIT_AUTHOR_NAME`, `GIT_COMMITTER_NAME`, `USER`, `USERNAME`, `NAME` and `GIT_AUTHOR_EMAIL`, `GIT_COMMITTER_EMAIL`, `EMAIL`)."
   ]
  },
  {
   "cell_type": "markdown",
   "metadata": {
    "colab_type": "text",
    "id": "VSyvL2-I0S_t"
   },
   "source": [
    "And let's look at the `src/Hello.jl` file:"
   ]
  },
  {
   "cell_type": "code",
   "execution_count": 348,
   "metadata": {
    "colab": {
     "base_uri": "https://localhost:8080/",
     "height": 102
    },
    "colab_type": "code",
    "id": "Y4DvJfrC0W_u",
    "outputId": "d8a7a483-2d15-4e89-b3f3-91bef30c2d89"
   },
   "outputs": [
    {
     "name": "stdout",
     "output_type": "stream",
     "text": [
      "module Hello\n",
      "\n",
      "greet() = print(\"Hello World!\")\n",
      "\n",
      "end # module\n"
     ]
    }
   ],
   "source": [
    "print(read(\"MyPackages/Hello/src/Hello.jl\", String))"
   ]
  },
  {
   "cell_type": "markdown",
   "metadata": {
    "colab_type": "text",
    "id": "6orcK-WH1dv8"
   },
   "source": [
    "Let's try to use the `greet()` function from the `Hello` package:"
   ]
  },
  {
   "cell_type": "code",
   "execution_count": 349,
   "metadata": {
    "colab": {
     "base_uri": "https://localhost:8080/",
     "height": 54
    },
    "colab_type": "code",
    "id": "9ASQUXed1jR9",
    "outputId": "759e1526-6d65-450b-d88f-bb7ce29588ea"
   },
   "outputs": [
    {
     "data": {
      "text/plain": [
       "ArgumentError(\"Package Hello not found in current path:\\n- Run `import Pkg; Pkg.add(\\\"Hello\\\")` to install the Hello package.\\n\")"
      ]
     },
     "execution_count": 349,
     "metadata": {
      "tags": []
     },
     "output_type": "execute_result"
    }
   ],
   "source": [
    "try\n",
    "    import Hello\n",
    "    Hello.greet()\n",
    "catch ex\n",
    "    ex\n",
    "end"
   ]
  },
  {
   "cell_type": "markdown",
   "metadata": {
    "colab_type": "text",
    "id": "Ehdlz0d51pRY"
   },
   "source": [
    "Julia could not find the `Hello` package. When you're working on a package, don't forget to activate it first!"
   ]
  },
  {
   "cell_type": "code",
   "execution_count": 350,
   "metadata": {
    "colab": {
     "base_uri": "https://localhost:8080/",
     "height": 34
    },
    "colab_type": "code",
    "id": "geOkTHsh10es",
    "outputId": "91dfa66e-2235-4eb0-a334-acb5124d1cf8"
   },
   "outputs": [
    {
     "name": "stderr",
     "output_type": "stream",
     "text": [
      "\u001b[32m\u001b[1m Activating\u001b[22m\u001b[39m environment at `/content/MyPackages/Hello/Project.toml`\n"
     ]
    }
   ],
   "source": [
    "]activate MyPackages/Hello"
   ]
  },
  {
   "cell_type": "code",
   "execution_count": 351,
   "metadata": {
    "colab": {
     "base_uri": "https://localhost:8080/",
     "height": 68
    },
    "colab_type": "code",
    "id": "aN3bg65b137-",
    "outputId": "8b9e5264-cd19-48d3-ab46-7b497163ae23"
   },
   "outputs": [
    {
     "name": "stderr",
     "output_type": "stream",
     "text": [
      "┌ Info: Precompiling Hello [b1200148-98bf-43d1-9bb1-85f7b4552217]\n",
      "└ @ Base loading.jl:1260\n"
     ]
    },
    {
     "name": "stdout",
     "output_type": "stream",
     "text": [
      "Hello World!"
     ]
    }
   ],
   "source": [
    "import Hello\n",
    "Hello.greet()"
   ]
  },
  {
   "cell_type": "markdown",
   "metadata": {
    "colab_type": "text",
    "id": "WxXCSYwIE9Eo"
   },
   "source": [
    "It works!\n",
    "\n",
    "If the `Hello` package depends on other packages, we must add them:"
   ]
  },
  {
   "cell_type": "code",
   "execution_count": 352,
   "metadata": {
    "colab": {
     "base_uri": "https://localhost:8080/",
     "height": 493
    },
    "colab_type": "code",
    "id": "cZfLcJO3-m9D",
    "outputId": "31c7a045-67ca-431a-fe50-012f29e05835"
   },
   "outputs": [
    {
     "name": "stderr",
     "output_type": "stream",
     "text": [
      "\u001b[32m\u001b[1m  Resolving\u001b[22m\u001b[39m package versions...\n",
      "\u001b[32m\u001b[1m  Installed\u001b[22m\u001b[39m Example ─ v0.5.3\n",
      "\u001b[32m\u001b[1m   Updating\u001b[22m\u001b[39m `/content/MyPackages/Hello/Project.toml`\n",
      " \u001b[90m [7876af07]\u001b[39m\u001b[92m + Example v0.5.3\u001b[39m\n",
      " \u001b[90m [438e738f]\u001b[39m\u001b[92m + PyCall v1.91.4\u001b[39m\n",
      "\u001b[32m\u001b[1m   Updating\u001b[22m\u001b[39m `/content/MyPackages/Hello/Manifest.toml`\n",
      " \u001b[90m [8f4d0f93]\u001b[39m\u001b[92m + Conda v1.4.1\u001b[39m\n",
      " \u001b[90m [7876af07]\u001b[39m\u001b[92m + Example v0.5.3\u001b[39m\n",
      " \u001b[90m [682c06a0]\u001b[39m\u001b[92m + JSON v0.21.0\u001b[39m\n",
      " \u001b[90m [1914dd2f]\u001b[39m\u001b[92m + MacroTools v0.5.5\u001b[39m\n",
      " \u001b[90m [69de0a69]\u001b[39m\u001b[92m + Parsers v1.0.6\u001b[39m\n",
      " \u001b[90m [438e738f]\u001b[39m\u001b[92m + PyCall v1.91.4\u001b[39m\n",
      " \u001b[90m [81def892]\u001b[39m\u001b[92m + VersionParsing v1.2.0\u001b[39m\n",
      " \u001b[90m [2a0f44e3]\u001b[39m\u001b[92m + Base64 \u001b[39m\n",
      " \u001b[90m [ade2ca70]\u001b[39m\u001b[92m + Dates \u001b[39m\n",
      " \u001b[90m [8ba89e20]\u001b[39m\u001b[92m + Distributed \u001b[39m\n",
      " \u001b[90m [b77e0a4c]\u001b[39m\u001b[92m + InteractiveUtils \u001b[39m\n",
      " \u001b[90m [8f399da3]\u001b[39m\u001b[92m + Libdl \u001b[39m\n",
      " \u001b[90m [37e2e46d]\u001b[39m\u001b[92m + LinearAlgebra \u001b[39m\n",
      " \u001b[90m [56ddb016]\u001b[39m\u001b[92m + Logging \u001b[39m\n",
      " \u001b[90m [d6f4376e]\u001b[39m\u001b[92m + Markdown \u001b[39m\n",
      " \u001b[90m [a63ad114]\u001b[39m\u001b[92m + Mmap \u001b[39m\n",
      " \u001b[90m [de0858da]\u001b[39m\u001b[92m + Printf \u001b[39m\n",
      " \u001b[90m [9a3f8284]\u001b[39m\u001b[92m + Random \u001b[39m\n",
      " \u001b[90m [9e88b42a]\u001b[39m\u001b[92m + Serialization \u001b[39m\n",
      " \u001b[90m [6462fe0b]\u001b[39m\u001b[92m + Sockets \u001b[39m\n",
      " \u001b[90m [8dfed614]\u001b[39m\u001b[92m + Test \u001b[39m\n",
      " \u001b[90m [4ec0a83e]\u001b[39m\u001b[92m + Unicode \u001b[39m\n"
     ]
    }
   ],
   "source": [
    "]add PyCall Example"
   ]
  },
  {
   "cell_type": "markdown",
   "metadata": {
    "colab_type": "text",
    "id": "IcipxHQW91lp"
   },
   "source": [
    "You must not use any package which has not been added to the project. If you do, you will get a warning."
   ]
  },
  {
   "cell_type": "markdown",
   "metadata": {
    "colab_type": "text",
    "id": "9MyUldzLAFZn"
   },
   "source": [
    "Once you are happy with your package, you can deploy it to github (or anywhere else). Then you can add it to your own projects just like any other package.\n",
    "\n",
    "If you want to make your package available to the world via the official Julia registry, you just need to send a Pull Request to https://github.com/JuliaRegistries/General. However, it's highly recommended to automate this using the [Registrator.jl](https://github.com/JuliaRegistries/Registrator.jl) github app.\n",
    "\n",
    "If you want to use other registries (including private registries), check out [this page](https://julialang.github.io/Pkg.jl/v1.4/registries/#)."
   ]
  },
  {
   "cell_type": "markdown",
   "metadata": {
    "colab_type": "text",
    "id": "nNd3-22NIkfB"
   },
   "source": [
    "Also check out the [`PkgTemplate`](https://github.com/invenia/PkgTemplates.jl) package, which provides more sophisticated templates for creating new packages, for example with continuous integration, code coverage tests, etc."
   ]
  },
  {
   "cell_type": "markdown",
   "metadata": {
    "colab_type": "text",
    "id": "NeVc0WCoJ_yl"
   },
   "source": [
    "## Fixing Issues in a Dependency\n",
    "Sometimes you may run into an issue inside one of the packages your project depends on. When this happens, you can use `Pkg`'s `dev` command to fix the issue. For example, let's pretend the `Example` package has a bug:"
   ]
  },
  {
   "cell_type": "code",
   "execution_count": 353,
   "metadata": {
    "colab": {
     "base_uri": "https://localhost:8080/",
     "height": 119
    },
    "colab_type": "code",
    "id": "HwIRORxQKcxn",
    "outputId": "13b7ff24-6d98-482a-d864-8586ade4d55c"
   },
   "outputs": [
    {
     "name": "stdout",
     "output_type": "stream",
     "text": [
      "\u001b[?25l    "
     ]
    },
    {
     "name": "stderr",
     "output_type": "stream",
     "text": [
      "\u001b[32m\u001b[1m    Cloning\u001b[22m\u001b[39m git-repo `https://github.com/JuliaLang/Example.jl.git`\n"
     ]
    },
    {
     "name": "stdout",
     "output_type": "stream",
     "text": [
      "\u001b[2K\u001b[?25h"
     ]
    },
    {
     "name": "stderr",
     "output_type": "stream",
     "text": [
      "\u001b[32m\u001b[1m  Resolving\u001b[22m\u001b[39m package versions...\n",
      "\u001b[32m\u001b[1m   Updating\u001b[22m\u001b[39m `/content/MyPackages/Hello/Project.toml`\n",
      " \u001b[90m [7876af07]\u001b[39m\u001b[93m ↑ Example v0.5.3 ⇒ v0.5.4 [`~/.julia/dev/Example`]\u001b[39m\n",
      "\u001b[32m\u001b[1m   Updating\u001b[22m\u001b[39m `/content/MyPackages/Hello/Manifest.toml`\n",
      " \u001b[90m [7876af07]\u001b[39m\u001b[93m ↑ Example v0.5.3 ⇒ v0.5.4 [`~/.julia/dev/Example`]\u001b[39m\n"
     ]
    }
   ],
   "source": [
    "]dev Example"
   ]
  },
  {
   "cell_type": "markdown",
   "metadata": {
    "colab_type": "text",
    "id": "7e63oY5HKgVD"
   },
   "source": [
    "This command cloned the repo into `~/.julia/dev/Example`:"
   ]
  },
  {
   "cell_type": "code",
   "execution_count": 354,
   "metadata": {
    "colab": {
     "base_uri": "https://localhost:8080/",
     "height": 51
    },
    "colab_type": "code",
    "id": "WV77BYAPK-ff",
    "outputId": "30c24d7a-8d2e-44d1-9e58-ebb3cce523cc"
   },
   "outputs": [
    {
     "name": "stdout",
     "output_type": "stream",
     "text": [
      "total 4\n",
      "drwxr-xr-x 7 root root 4096 Jul  2 00:06 Example\n"
     ]
    }
   ],
   "source": [
    ";ls -l \"~/.julia/dev\""
   ]
  },
  {
   "cell_type": "markdown",
   "metadata": {
    "colab_type": "text",
    "id": "pB4nAoM2MmlI"
   },
   "source": [
    "It also updated the `Hello` package's `Manifest.toml` file to ensure the package now uses the `Example` clone. You can see this using `]status`:"
   ]
  },
  {
   "cell_type": "code",
   "execution_count": 355,
   "metadata": {
    "colab": {
     "base_uri": "https://localhost:8080/",
     "height": 85
    },
    "colab_type": "code",
    "id": "UldZNewDMYaf",
    "outputId": "af7efd7a-61b0-4ce4-986b-f770d81016c0"
   },
   "outputs": [
    {
     "name": "stdout",
     "output_type": "stream",
     "text": [
      "\u001b[36m\u001b[1mProject \u001b[22m\u001b[39mHello v0.1.0\n",
      "\u001b[32m\u001b[1mStatus\u001b[22m\u001b[39m `/content/MyPackages/Hello/Project.toml`\n",
      " \u001b[90m [7876af07]\u001b[39m\u001b[37m Example v0.5.4 [`~/.julia/dev/Example`]\u001b[39m\n",
      " \u001b[90m [438e738f]\u001b[39m\u001b[37m PyCall v1.91.4\u001b[39m\n"
     ]
    }
   ],
   "source": [
    "]st"
   ]
  },
  {
   "cell_type": "markdown",
   "metadata": {
    "colab_type": "text",
    "id": "OY080wXKK85W"
   },
   "source": [
    "So you would now go ahead and edit the clone and fix the bug. Of course, you would also want to send a PR to the package's owners so the source package gets fixed. Once that happens, you can go back to the official `Example` package easily:"
   ]
  },
  {
   "cell_type": "code",
   "execution_count": 356,
   "metadata": {
    "colab": {
     "base_uri": "https://localhost:8080/",
     "height": 85
    },
    "colab_type": "code",
    "id": "6Ju_ehk6K4fi",
    "outputId": "51bc760e-8583-4897-a32a-b61abbdc6427"
   },
   "outputs": [
    {
     "name": "stderr",
     "output_type": "stream",
     "text": [
      "\u001b[32m\u001b[1m   Updating\u001b[22m\u001b[39m `/content/MyPackages/Hello/Project.toml`\n",
      " \u001b[90m [7876af07]\u001b[39m\u001b[95m ↓ Example v0.5.4 [`~/.julia/dev/Example`] ⇒ v0.5.3\u001b[39m\n",
      "\u001b[32m\u001b[1m   Updating\u001b[22m\u001b[39m `/content/MyPackages/Hello/Manifest.toml`\n",
      " \u001b[90m [7876af07]\u001b[39m\u001b[95m ↓ Example v0.5.4 [`~/.julia/dev/Example`] ⇒ v0.5.3\u001b[39m\n"
     ]
    }
   ],
   "source": [
    "]free Example"
   ]
  },
  {
   "cell_type": "code",
   "execution_count": 357,
   "metadata": {
    "colab": {
     "base_uri": "https://localhost:8080/",
     "height": 85
    },
    "colab_type": "code",
    "id": "gZNtvkp0NdQt",
    "outputId": "aebe4d82-7ca0-4b23-d80a-c7f482ee86f2"
   },
   "outputs": [
    {
     "name": "stdout",
     "output_type": "stream",
     "text": [
      "\u001b[36m\u001b[1mProject \u001b[22m\u001b[39mHello v0.1.0\n",
      "\u001b[32m\u001b[1mStatus\u001b[22m\u001b[39m `/content/MyPackages/Hello/Project.toml`\n",
      " \u001b[90m [7876af07]\u001b[39m\u001b[37m Example v0.5.3\u001b[39m\n",
      " \u001b[90m [438e738f]\u001b[39m\u001b[37m PyCall v1.91.4\u001b[39m\n"
     ]
    }
   ],
   "source": [
    "]st"
   ]
  },
  {
   "cell_type": "markdown",
   "metadata": {
    "colab_type": "text",
    "id": "bjk0y4x4X3OC"
   },
   "source": [
    "## Instantiating a Project\n",
    "If you want to run someone else's project and you want to make sure you are using the exact same package versions, you can clone the project, and assuming it has a `Manifest.toml` file, you can activate the project and run `]instantiate` to install all the appropriate packages. For example, let's instantiate the `Registrator.jl` project:"
   ]
  },
  {
   "cell_type": "code",
   "execution_count": 358,
   "metadata": {
    "colab": {
     "base_uri": "https://localhost:8080/",
     "height": 34
    },
    "colab_type": "code",
    "id": "ukq2x0oKYUzv",
    "outputId": "e1da02e2-81d4-4703-9859-aa7547cc3ffc"
   },
   "outputs": [
    {
     "name": "stderr",
     "output_type": "stream",
     "text": [
      "Cloning into 'Registrator.jl'...\n"
     ]
    }
   ],
   "source": [
    ";git clone https://github.com/JuliaRegistries/Registrator.jl"
   ]
  },
  {
   "cell_type": "code",
   "execution_count": 359,
   "metadata": {
    "colab": {
     "base_uri": "https://localhost:8080/",
     "height": 34
    },
    "colab_type": "code",
    "id": "eP8xWq-lYqIe",
    "outputId": "44d501cc-1fcf-48b9-f926-9097278fbfe1"
   },
   "outputs": [
    {
     "name": "stderr",
     "output_type": "stream",
     "text": [
      "\u001b[32m\u001b[1m Activating\u001b[22m\u001b[39m environment at `/content/Registrator.jl/Project.toml`\n"
     ]
    }
   ],
   "source": [
    "]activate Registrator.jl"
   ]
  },
  {
   "cell_type": "code",
   "execution_count": 360,
   "metadata": {
    "colab": {
     "base_uri": "https://localhost:8080/",
     "height": 459
    },
    "colab_type": "code",
    "id": "mWTuYYjPYtRV",
    "outputId": "bf51d7bd-4f9d-4bac-fa99-7269d84e9e35"
   },
   "outputs": [
    {
     "name": "stderr",
     "output_type": "stream",
     "text": [
      "\u001b[32m\u001b[1m  Installed\u001b[22m\u001b[39m TableTraits ───────────────── v1.0.0\n",
      "\u001b[32m\u001b[1m  Installed\u001b[22m\u001b[39m AutoHashEquals ────────────── v0.2.0\n",
      "\u001b[32m\u001b[1m  Installed\u001b[22m\u001b[39m Hiccup ────────────────────── v0.2.2\n",
      "\u001b[32m\u001b[1m  Installed\u001b[22m\u001b[39m DataAPI ───────────────────── v1.2.0\n",
      "\u001b[32m\u001b[1m  Installed\u001b[22m\u001b[39m Lazy ──────────────────────── v0.14.0\n",
      "\u001b[32m\u001b[1m  Installed\u001b[22m\u001b[39m WebSockets ────────────────── v1.5.2\n",
      "\u001b[32m\u001b[1m  Installed\u001b[22m\u001b[39m JSON2 ─────────────────────── v0.3.1\n",
      "\u001b[32m\u001b[1m  Installed\u001b[22m\u001b[39m HTTP ──────────────────────── v0.8.14\n",
      "\u001b[32m\u001b[1m  Installed\u001b[22m\u001b[39m IniFile ───────────────────── v0.5.0\n",
      "\u001b[32m\u001b[1m  Installed\u001b[22m\u001b[39m ZMQ ───────────────────────── v1.2.0\n",
      "\u001b[32m\u001b[1m  Installed\u001b[22m\u001b[39m GitForge ──────────────────── v0.1.5\n",
      "\u001b[32m\u001b[1m  Installed\u001b[22m\u001b[39m AssetRegistry ─────────────── v0.1.0\n",
      "\u001b[32m\u001b[1m  Installed\u001b[22m\u001b[39m TimeToLive ────────────────── v0.3.0\n",
      "\u001b[32m\u001b[1m  Installed\u001b[22m\u001b[39m DataValueInterfaces ───────── v1.0.0\n",
      "\u001b[32m\u001b[1m  Installed\u001b[22m\u001b[39m IteratorInterfaceExtensions ─ v1.0.0\n",
      "\u001b[32m\u001b[1m  Installed\u001b[22m\u001b[39m ZeroMQ_jll ────────────────── v4.3.2+2\n",
      "\u001b[32m\u001b[1m  Installed\u001b[22m\u001b[39m Tables ────────────────────── v1.0.4\n",
      "\u001b[32m\u001b[1m  Installed\u001b[22m\u001b[39m Mux ───────────────────────── v0.7.1\n",
      "\u001b[32m\u001b[1m  Installed\u001b[22m\u001b[39m Parsers ───────────────────── v1.0.2\n",
      "\u001b[32m\u001b[1m  Installed\u001b[22m\u001b[39m MbedTLS_jll ───────────────── v2.16.0+2\n",
      "\u001b[32m\u001b[1m  Installed\u001b[22m\u001b[39m Mustache ──────────────────── v1.0.2\n",
      "\u001b[32m\u001b[1m  Installed\u001b[22m\u001b[39m Pidfile ───────────────────── v1.1.0\n",
      "\u001b[32m\u001b[1m  Installed\u001b[22m\u001b[39m GitHub ────────────────────── v5.1.5\n",
      "\u001b[32m\u001b[1m  Installed\u001b[22m\u001b[39m RegistryTools ─────────────── v1.5.0\n",
      "######################################################################### 100.0%\n",
      "######################################################################### 100.0%\n"
     ]
    }
   ],
   "source": [
    "]instantiate"
   ]
  },
  {
   "cell_type": "markdown",
   "metadata": {
    "colab_type": "text",
    "id": "UoMg99bTtFDp"
   },
   "source": [
    "Usually, that's all you need to know about projects and packages, but let's look at bit under the hood, so you can handle less common cases."
   ]
  },
  {
   "cell_type": "markdown",
   "metadata": {
    "colab_type": "text",
    "id": "V8Y6A_IuepPI"
   },
   "source": [
    "## Load Path\n",
    "When you import a package, Julia searches for it in the environments listed in the `LOAD_PATH` array. An **environment** can be a project or a directory containing a bunch of packages directly. By default, the `LOAD_PATH` array contains three elements:"
   ]
  },
  {
   "cell_type": "code",
   "execution_count": 361,
   "metadata": {
    "colab": {
     "base_uri": "https://localhost:8080/",
     "height": 85
    },
    "colab_type": "code",
    "id": "wpSWi2epgdpk",
    "outputId": "a49e47d2-2c00-4ea4-9ccf-906848f171c8"
   },
   "outputs": [
    {
     "data": {
      "text/plain": [
       "3-element Array{String,1}:\n",
       " \"@\"\n",
       " \"@v#.#\"\n",
       " \"@stdlib\""
      ]
     },
     "execution_count": 361,
     "metadata": {
      "tags": []
     },
     "output_type": "execute_result"
    }
   ],
   "source": [
    "LOAD_PATH"
   ]
  },
  {
   "cell_type": "markdown",
   "metadata": {
    "colab_type": "text",
    "id": "hH-S7BL9iuN4"
   },
   "source": [
    "Here's what these elements mean:\n",
    "* `\"@\"` represents the active project, if any: that's the project activated via `--project`, `JULIA_PROJECT`, `]activate` or `Pkg.activate()`.\n",
    "* `\"@v#.#\"` represents the default shared project for the version of Julia we are running. That's why it is used by default when there is no active project.\n",
    "* `\"@stdlib\"` represents the standard library. This is not a project: it's a directory containing many packages."
   ]
  },
  {
   "cell_type": "markdown",
   "metadata": {
    "colab_type": "text",
    "id": "QHbG_HsOP8O7"
   },
   "source": [
    "If you want to see the actual paths, you can call `Base.load_path()`:"
   ]
  },
  {
   "cell_type": "code",
   "execution_count": 362,
   "metadata": {
    "colab": {
     "base_uri": "https://localhost:8080/",
     "height": 85
    },
    "colab_type": "code",
    "id": "oGya8XxwQDJz",
    "outputId": "4920e872-0a7f-44d6-f033-c8ef06ab03ee"
   },
   "outputs": [
    {
     "data": {
      "text/plain": [
       "3-element Array{String,1}:\n",
       " \"/content/Registrator.jl/Project.toml\"\n",
       " \"/root/.julia/environments/v1.4/Project.toml\"\n",
       " \"/usr/local/share/julia/stdlib/v1.4\""
      ]
     },
     "execution_count": 362,
     "metadata": {
      "tags": []
     },
     "output_type": "execute_result"
    }
   ],
   "source": [
    "Base.load_path()"
   ]
  },
  {
   "cell_type": "markdown",
   "metadata": {
    "colab_type": "text",
    "id": "ZaIw9vRxLVVt"
   },
   "source": [
    "You can change the load path if you want to. For example, if you want Julia to look only in the active project and in the standard library, without looking in the default project, then you can set the `JULIA_LOAD_PATH` environment variable to `\"@:@stdlib\"`."
   ]
  },
  {
   "cell_type": "markdown",
   "metadata": {
    "colab_type": "text",
    "id": "8EScSOrdb3ha"
   },
   "source": [
    "If you try to run `my_program3.jl` this way, it will successfully import `PyCall`, but it will fail to import `PyPlot`, since it is not listed in `Project.toml` (however, it would successfully import any package from the standard library):"
   ]
  },
  {
   "cell_type": "code",
   "execution_count": 363,
   "metadata": {
    "colab": {
     "base_uri": "https://localhost:8080/",
     "height": 187
    },
    "colab_type": "code",
    "id": "sN2NunpdLgKR",
    "outputId": "ed0993d7-2459-4ed3-9ef4-34776cbc33ed"
   },
   "outputs": [
    {
     "name": "stderr",
     "output_type": "stream",
     "text": [
      "ERROR: LoadError: ArgumentError: Package PyPlot not found in current path:\n",
      "- Run `import Pkg; Pkg.add(\"PyPlot\")` to install the PyPlot package.\n",
      "\n",
      "Stacktrace:\n",
      " [1] require(::Module, ::Symbol) at ./loading.jl:892\n",
      " [2] include(::Module, ::String) at ./Base.jl:377\n",
      " [3] exec_options(::Base.JLOptions) at ./client.jl:288\n",
      " [4] _start() at ./client.jl:484\n",
      "in expression starting at /content/my_program3.jl:2\n"
     ]
    },
    {
     "data": {
      "text/plain": [
       "ProcessFailedException(Base.Process[Process(`\u001b[4mjulia\u001b[24m \u001b[4m--project=my_project\u001b[24m \u001b[4mmy_program3.jl\u001b[24m`, ProcessExited(1))])"
      ]
     },
     "execution_count": 363,
     "metadata": {
      "tags": []
     },
     "output_type": "execute_result"
    }
   ],
   "source": [
    "try\n",
    "    withenv(\"JULIA_LOAD_PATH\"=>\"@:@stdlib\") do\n",
    "        run(`julia --project=my_project my_program3.jl`)\n",
    "    end\n",
    "catch ex\n",
    "    ex\n",
    "end"
   ]
  },
  {
   "cell_type": "markdown",
   "metadata": {
    "colab_type": "text",
    "id": "FrLpiVS2UG9S"
   },
   "source": [
    "You can also modify the `LOAD_PATH` array programmatically, for example to make all the packages in the `my_packages/` directory available to the project:"
   ]
  },
  {
   "cell_type": "code",
   "execution_count": 364,
   "metadata": {
    "colab": {
     "base_uri": "https://localhost:8080/",
     "height": 102
    },
    "colab_type": "code",
    "id": "8kGSkqsVULfC",
    "outputId": "46a6184a-8cd7-49c6-99bc-2544e8e63a1c"
   },
   "outputs": [
    {
     "data": {
      "text/plain": [
       "4-element Array{String,1}:\n",
       " \"@\"\n",
       " \"@v#.#\"\n",
       " \"@stdlib\"\n",
       " \"my_packages\""
      ]
     },
     "execution_count": 364,
     "metadata": {
      "tags": []
     },
     "output_type": "execute_result"
    }
   ],
   "source": [
    "push!(LOAD_PATH, \"my_packages\")"
   ]
  },
  {
   "cell_type": "markdown",
   "metadata": {
    "colab_type": "text",
    "id": "1_fpeCNoRARJ"
   },
   "source": [
    "Now any package added to this directory will be directly available to us:"
   ]
  },
  {
   "cell_type": "code",
   "execution_count": 365,
   "metadata": {
    "colab": {
     "base_uri": "https://localhost:8080/",
     "height": 68
    },
    "colab_type": "code",
    "id": "3C42rrfKQ01y",
    "outputId": "d9454fb2-aa21-461d-fc3d-73073dfb8ec5"
   },
   "outputs": [
    {
     "name": "stderr",
     "output_type": "stream",
     "text": [
      "\u001b[32m\u001b[1m Generating\u001b[22m\u001b[39m  project Hello2:\n",
      "    my_packages/Hello2/Project.toml\n",
      "    my_packages/Hello2/src/Hello2.jl\n"
     ]
    }
   ],
   "source": [
    "]generate my_packages/Hello2"
   ]
  },
  {
   "cell_type": "code",
   "execution_count": 366,
   "metadata": {
    "colab": {
     "base_uri": "https://localhost:8080/",
     "height": 68
    },
    "colab_type": "code",
    "id": "ClgC-rhWQ9XP",
    "outputId": "8a52d053-3168-4e99-d804-1e724df99618"
   },
   "outputs": [
    {
     "name": "stderr",
     "output_type": "stream",
     "text": [
      "┌ Info: Precompiling Hello2 [b76a3422-75bc-4a82-ad3b-dff89fdf93f4]\n",
      "└ @ Base loading.jl:1260\n"
     ]
    },
    {
     "name": "stdout",
     "output_type": "stream",
     "text": [
      "Hello World!"
     ]
    }
   ],
   "source": [
    "using Hello2\n",
    "Hello2.greet()"
   ]
  },
  {
   "cell_type": "markdown",
   "metadata": {
    "colab_type": "text",
    "id": "-kkX-WKARP0l"
   },
   "source": [
    "This is a convenience for development, as we didn't have to push this package to a repository or even add it to the project. However, it's just for development: once you're happy with your package, make sure to push it to a repo, and add it to the project normally."
   ]
  },
  {
   "cell_type": "markdown",
   "metadata": {
    "colab_type": "text",
    "id": "C1V5pYziAzWG"
   },
   "source": [
    "## Depots\n",
    "As we saw earlier, new packages you add to a project are placed in the `~/.julia/packages` directory, logs are placed in `~/.julia/logs`, and so on.\n",
    "\n",
    "A directory like `~/.julia` which contains `Pkg` related content is called a **depot**. Julia installs all new packages in the default depot, which is the first directory in the `DEPOT_PATH` array (this array can be modified manually in Julia, or set via the `JULIA_DEPOT_PATH` environment variable):"
   ]
  },
  {
   "cell_type": "code",
   "execution_count": 367,
   "metadata": {
    "colab": {
     "base_uri": "https://localhost:8080/",
     "height": 85
    },
    "colab_type": "code",
    "id": "r4y3Uarp-VXi",
    "outputId": "bc820ca0-9126-4423-c1a6-d05ddf04b858"
   },
   "outputs": [
    {
     "data": {
      "text/plain": [
       "3-element Array{String,1}:\n",
       " \"/root/.julia\"\n",
       " \"/usr/local/local/share/julia\"\n",
       " \"/usr/local/share/julia\""
      ]
     },
     "execution_count": 367,
     "metadata": {
      "tags": []
     },
     "output_type": "execute_result"
    }
   ],
   "source": [
    "DEPOT_PATH"
   ]
  },
  {
   "cell_type": "markdown",
   "metadata": {
    "colab_type": "text",
    "id": "pg_JLf9R-geB"
   },
   "source": [
    "The default depot needs to be writeable for the current user, since that's where new packages will be written to (as well as logs and other stuff). The other depots can be read-only: they're typically used for private package registries."
   ]
  },
  {
   "cell_type": "markdown",
   "metadata": {
    "colab_type": "text",
    "id": "lAJBZg_RXUqj"
   },
   "source": [
    "You can occasionally run the `]gc` command, which will remove all unused package versions (`Pkg` will use the logs to located existing projects)."
   ]
  },
  {
   "cell_type": "markdown",
   "metadata": {
    "colab_type": "text",
    "id": "1uhHgsN2WUG_"
   },
   "source": [
    "In summary: when some code runs `using Foo` or `import Foo`, the `LOAD_PATH` is used to determine _which_ specific package `Foo` refers to, while the `DEPOT_PATH` is used to determine _where_ it is. The exception is when the `LOAD_PATH` contains directories which directly contain packages: for these packages, the `DEPOT_PATH` is not used."
   ]
  },
  {
   "cell_type": "markdown",
   "metadata": {
    "colab_type": "text",
    "id": "jgeH4A06IIX4"
   },
   "source": [
    "# Parallel Computing\n",
    "Julia supports coroutines (aka green threads), multithreading (without a [GIL](https://en.wikipedia.org/wiki/Global_interpreter_lock#:~:text=A%20global%20interpreter%20lock%20(GIL,on%20a%20multi%2Dcore%20processor.) like CPython!), multiprocessing and distributed computing."
   ]
  },
  {
   "cell_type": "markdown",
   "metadata": {
    "colab_type": "text",
    "id": "oVCHhzbYFUv5"
   },
   "source": [
    "## Coroutines\n",
    "Let's go back to the `fibonacci()` generator function:"
   ]
  },
  {
   "cell_type": "code",
   "execution_count": 368,
   "metadata": {
    "colab": {
     "base_uri": "https://localhost:8080/",
     "height": 187
    },
    "colab_type": "code",
    "id": "LHQ6czbxItEw",
    "outputId": "d2570925-32ed-486c-ccb7-53fd06b6ee2c"
   },
   "outputs": [
    {
     "name": "stdout",
     "output_type": "stream",
     "text": [
      "1\n",
      "1\n",
      "2\n",
      "3\n",
      "5\n",
      "8\n",
      "13\n",
      "21\n",
      "34\n",
      "55\n"
     ]
    }
   ],
   "source": [
    "function fibonacci(n)\n",
    "    Channel() do ch\n",
    "        a, b = 1, 1\n",
    "        for i in 1:n\n",
    "            put!(ch, a)\n",
    "            a, b = b, a + b\n",
    "        end\n",
    "    end\n",
    "end\n",
    "\n",
    "for f in fibonacci(10)\n",
    "    println(f)\n",
    "end"
   ]
  },
  {
   "cell_type": "markdown",
   "metadata": {
    "colab_type": "text",
    "id": "mgDS2AjiVljr"
   },
   "source": [
    "Under the hood, `Channel() do ... end` creates a `Channel` object, and spawns an asynchronous `Task` to execute the code in the `do ... end` block. The task is scheduled to execute immediately, but when it calls the `put!()` function on the channel to yield a value, it blocks until another task calls the `take!()` function to grab that value. You do not see the `take!()` function explicitly in this code example, since it is executed automatically in the `for` loop, in the main task. To demonstrate this, we can just call the `take!()` function 10 times to get all the items from the channel:"
   ]
  },
  {
   "cell_type": "code",
   "execution_count": 369,
   "metadata": {
    "colab": {
     "base_uri": "https://localhost:8080/",
     "height": 187
    },
    "colab_type": "code",
    "id": "-tff7DpqbK-J",
    "outputId": "cc371eca-0c65-4501-e84f-ab9b3e55c737"
   },
   "outputs": [
    {
     "name": "stdout",
     "output_type": "stream",
     "text": [
      "1\n",
      "1\n",
      "2\n",
      "3\n",
      "5\n",
      "8\n",
      "13\n",
      "21\n",
      "34\n",
      "55\n"
     ]
    }
   ],
   "source": [
    "ch = fibonacci(10)\n",
    "for i in 1:10\n",
    "    println(take!(ch))\n",
    "end"
   ]
  },
  {
   "cell_type": "markdown",
   "metadata": {
    "colab_type": "text",
    "id": "pUZjr1wHdc5y"
   },
   "source": [
    "This channel is bound to the task, therefore it is automatically closed when the task ends. So if we try to get one more element, we will get an exception:"
   ]
  },
  {
   "cell_type": "code",
   "execution_count": 370,
   "metadata": {
    "colab": {
     "base_uri": "https://localhost:8080/",
     "height": 34
    },
    "colab_type": "code",
    "id": "9eJjrbrHdU33",
    "outputId": "7c9de9c3-a345-4ef1-bc19-417d3798a92f"
   },
   "outputs": [
    {
     "data": {
      "text/plain": [
       "InvalidStateException(\"Channel is closed.\", :closed)"
      ]
     },
     "execution_count": 370,
     "metadata": {
      "tags": []
     },
     "output_type": "execute_result"
    }
   ],
   "source": [
    "try\n",
    "    take!(ch)\n",
    "catch ex\n",
    "    ex\n",
    "end"
   ]
  },
  {
   "cell_type": "markdown",
   "metadata": {
    "colab_type": "text",
    "id": "VLvvfxZznXps"
   },
   "source": [
    "Here is a more explicit version of the `fibonacci()` function:"
   ]
  },
  {
   "cell_type": "code",
   "execution_count": 371,
   "metadata": {
    "colab": {
     "base_uri": "https://localhost:8080/",
     "height": 34
    },
    "colab_type": "code",
    "id": "FSP1vZjheZDJ",
    "outputId": "1969105f-4b28-4d3d-df88-b1b4ff4fbffa"
   },
   "outputs": [
    {
     "data": {
      "text/plain": [
       "fibonacci (generic function with 1 method)"
      ]
     },
     "execution_count": 371,
     "metadata": {
      "tags": []
     },
     "output_type": "execute_result"
    }
   ],
   "source": [
    "function fibonacci(n)\n",
    "  function generator_func(ch, n)\n",
    "    a, b = 1, 1\n",
    "    for i in 1:n\n",
    "        put!(ch, a)\n",
    "        a, b = b, a + b\n",
    "    end\n",
    "  end\n",
    "  ch = Channel()\n",
    "  task = @task generator_func(ch, n) # creates a task without starting it\n",
    "  bind(ch, task) # the channel will be closed when the task ends\n",
    "  schedule(task) # start running the task asynchronously\n",
    "  ch\n",
    "end"
   ]
  },
  {
   "cell_type": "markdown",
   "metadata": {
    "colab_type": "text",
    "id": "-KnzQbUGonIJ"
   },
   "source": [
    "And here is a more explicit version of the `for` loop:"
   ]
  },
  {
   "cell_type": "code",
   "execution_count": 372,
   "metadata": {
    "colab": {
     "base_uri": "https://localhost:8080/",
     "height": 187
    },
    "colab_type": "code",
    "id": "ir3FUJAEoD5j",
    "outputId": "3e862089-d9a0-40b8-bb82-91a24480c88c"
   },
   "outputs": [
    {
     "name": "stdout",
     "output_type": "stream",
     "text": [
      "1\n",
      "1\n",
      "2\n",
      "3\n",
      "5\n",
      "8\n",
      "13\n",
      "21\n",
      "34\n",
      "55\n"
     ]
    }
   ],
   "source": [
    "ch = fibonacci(10)\n",
    "while isopen(ch)\n",
    "  value = take!(ch)\n",
    "  println(value)\n",
    "end"
   ]
  },
  {
   "cell_type": "markdown",
   "metadata": {
    "colab_type": "text",
    "id": "YTwMO7gxpCSa"
   },
   "source": [
    "Note that asynchronous tasks (also called \"coroutines\" or \"green threads\") are not actually run in parallel: they cooperate to alternate execution. Some functions, such as `put!()`, `take!()`, and many I/O functions, interrupt the current task's execution, at which point it lets Julia's scheduler decide which task should resume its execution. This is just like Python's coroutines."
   ]
  },
  {
   "cell_type": "markdown",
   "metadata": {
    "colab_type": "text",
    "id": "yTiiI6ZfbKKQ"
   },
   "source": [
    "For more details on coroutines and tasks, see [the manual](https://docs.julialang.org/en/v1/manual/control-flow/#man-tasks-1)."
   ]
  },
  {
   "cell_type": "markdown",
   "metadata": {
    "colab_type": "text",
    "id": "N9dzuKC2qFRL"
   },
   "source": [
    "## Multithreading\n",
    "Julia also supports multithreading. Currently, you need to specify the number of O.S. threads upon startup, by setting the `JULIA_NUM_THREADS` environment variable (or setting the `-t` argument in Julia 1.5+). In the first cell, we configured the IJulia kernel so that set environment variable is set:"
   ]
  },
  {
   "cell_type": "code",
   "execution_count": 373,
   "metadata": {
    "colab": {
     "base_uri": "https://localhost:8080/",
     "height": 34
    },
    "colab_type": "code",
    "id": "mBYUWpQpDBzS",
    "outputId": "4b93ccaf-a04c-43d1-d32f-f0558fc9fc91"
   },
   "outputs": [
    {
     "data": {
      "text/plain": [
       "\"4\""
      ]
     },
     "execution_count": 373,
     "metadata": {
      "tags": []
     },
     "output_type": "execute_result"
    }
   ],
   "source": [
    "ENV[\"JULIA_NUM_THREADS\"]"
   ]
  },
  {
   "cell_type": "markdown",
   "metadata": {
    "colab_type": "text",
    "id": "8AK8aRLqEhJt"
   },
   "source": [
    "The actual number of threads started by Julia may be lower than that, as it is limited to the number of available cores on the machine (thanks to hyperthreading, each physical core may run two threads). Here is the number of threads that were actually started:"
   ]
  },
  {
   "cell_type": "code",
   "execution_count": 374,
   "metadata": {
    "colab": {
     "base_uri": "https://localhost:8080/",
     "height": 34
    },
    "colab_type": "code",
    "id": "KjEv4FOwEQhl",
    "outputId": "8c14d637-f9fd-43b6-85b0-a8667cf2bece"
   },
   "outputs": [
    {
     "data": {
      "text/plain": [
       "2"
      ]
     },
     "execution_count": 374,
     "metadata": {
      "tags": []
     },
     "output_type": "execute_result"
    }
   ],
   "source": [
    "using Base.Threads\n",
    "nthreads()"
   ]
  },
  {
   "cell_type": "markdown",
   "metadata": {
    "colab_type": "text",
    "id": "tc3bXp57DINZ"
   },
   "source": [
    "Now let's run 10 tasks across these threads:"
   ]
  },
  {
   "cell_type": "code",
   "execution_count": 375,
   "metadata": {
    "colab": {
     "base_uri": "https://localhost:8080/",
     "height": 357
    },
    "colab_type": "code",
    "id": "ic1ecJ-1qatN",
    "outputId": "55fd971f-c402-4f49-ad4e-0909723fc04c"
   },
   "outputs": [
    {
     "name": "stdout",
     "output_type": "stream",
     "text": [
      "thread #1 is starting task #1\n",
      "thread #2 is starting task #6\n",
      "thread #2 is finished\n",
      "thread #2 is starting task #7\n",
      "thread #1 is finished\n",
      "thread #1 is starting task #2\n",
      "thread #2 is finished\n",
      "thread #2 is starting task #8\n",
      "thread #1 is finished\n",
      "thread #1 is starting task #3\n",
      "thread #1 is finished\n",
      "thread #1 is starting task #4\n",
      "thread #2 is finished\n",
      "thread #2 is starting task #9\n",
      "thread #1 is finished\n",
      "thread #1 is starting task #5\n",
      "thread #1 is finished\n",
      "thread #2 is finished\n",
      "thread #2 is starting task #10\n",
      "thread #2 is finished\n"
     ]
    }
   ],
   "source": [
    "@threads for i in 1:10\n",
    "    println(\"thread #\", threadid(), \" is starting task #$i\")\n",
    "    sleep(rand()) # pretend we're actually working\n",
    "    println(\"thread #\", threadid(), \" is finished\")\n",
    "end"
   ]
  },
  {
   "cell_type": "markdown",
   "metadata": {
    "colab_type": "text",
    "id": "SHpLG3h7LVMm"
   },
   "source": [
    "Here is a multithreaded version of the `estimate_pi()` function. Each thread computes part of the sum, and the parts are added at the end:"
   ]
  },
  {
   "cell_type": "code",
   "execution_count": 376,
   "metadata": {
    "colab": {
     "base_uri": "https://localhost:8080/",
     "height": 51
    },
    "colab_type": "code",
    "id": "mDHzyNqdJswG",
    "outputId": "40f3533e-59ad-4796-dde7-e71e771f72a3"
   },
   "outputs": [
    {
     "name": "stdout",
     "output_type": "stream",
     "text": [
      "  128.853 ms (16 allocations: 1.63 KiB)\n"
     ]
    },
    {
     "data": {
      "text/plain": [
       "3.1415926635894196"
      ]
     },
     "execution_count": 376,
     "metadata": {
      "tags": []
     },
     "output_type": "execute_result"
    }
   ],
   "source": [
    "function parallel_estimate_pi(n)\n",
    "    s = zeros(nthreads())\n",
    "    nt = n ÷ nthreads()\n",
    "    @threads for t in 1:nthreads()\n",
    "        for i in (1:nt) .+ nt*(t - 1)\n",
    "          @inbounds s[t] += (isodd(i) ? -1 : 1) / (2i + 1)\n",
    "        end\n",
    "    end\n",
    "    return 4.0 * (1.0 + sum(s))\n",
    "end\n",
    "\n",
    "@btime parallel_estimate_pi(100_000_000)"
   ]
  },
  {
   "cell_type": "markdown",
   "metadata": {
    "colab_type": "text",
    "id": "3Ql0KLRNSqNg"
   },
   "source": [
    "The `@inbounds` macro is an optimization: it tells the Julia compiler not to add any bounds check when accessing the array. It's safe in this case since the `s` array has one element per thread, and `t` varies from `1` to `nthreads()`, so there is no risk for `s[t]` to be out of bounds."
   ]
  },
  {
   "cell_type": "markdown",
   "metadata": {
    "colab_type": "text",
    "id": "tVftN7gXQCOh"
   },
   "source": [
    "Let's compare this with the single-threaded implementation:"
   ]
  },
  {
   "cell_type": "code",
   "execution_count": 377,
   "metadata": {
    "colab": {
     "base_uri": "https://localhost:8080/",
     "height": 51
    },
    "colab_type": "code",
    "id": "F2Yfz67kK2xX",
    "outputId": "f1dee2aa-984b-48e7-cd8a-eebd2e8e224e"
   },
   "outputs": [
    {
     "name": "stdout",
     "output_type": "stream",
     "text": [
      "  134.263 ms (0 allocations: 0 bytes)\n"
     ]
    },
    {
     "data": {
      "text/plain": [
       "3.141592663589326"
      ]
     },
     "execution_count": 377,
     "metadata": {
      "tags": []
     },
     "output_type": "execute_result"
    }
   ],
   "source": [
    "@btime estimate_pi(100_000_000)"
   ]
  },
  {
   "cell_type": "markdown",
   "metadata": {
    "colab_type": "text",
    "id": "BnOKCxlNQX01"
   },
   "source": [
    "If you are running this notebook on Colab, the parallel implementation is probably no faster than the single-threaded one. That's because the Colab Runtime only has a single CPU, so there is no benefit from multithreading (plus there is a bit of overhead for managing threads). However, on my 8-core machine, using 16 threads, the parallel implementation is about 6 times faster than the single-threaded one."
   ]
  },
  {
   "cell_type": "markdown",
   "metadata": {
    "colab_type": "text",
    "id": "nOUeRI6DRbmo"
   },
   "source": [
    "Julia has a `mapreduce()` function which makes it easy to implement functions like `parallel_estimate_pi()`:"
   ]
  },
  {
   "cell_type": "code",
   "execution_count": 378,
   "metadata": {
    "colab": {
     "base_uri": "https://localhost:8080/",
     "height": 34
    },
    "colab_type": "code",
    "id": "c04i5fsvO5m5",
    "outputId": "6058add9-2f60-4408-f951-6a2bbe613687"
   },
   "outputs": [
    {
     "data": {
      "text/plain": [
       "parallel_estimate_pi2 (generic function with 1 method)"
      ]
     },
     "execution_count": 378,
     "metadata": {
      "tags": []
     },
     "output_type": "execute_result"
    }
   ],
   "source": [
    "function parallel_estimate_pi2(n)\n",
    "    4.0 * mapreduce(i -> (isodd(i) ? -1 : 1) / (2i + 1), +, 0:n)\n",
    "end"
   ]
  },
  {
   "cell_type": "code",
   "execution_count": 379,
   "metadata": {
    "colab": {
     "base_uri": "https://localhost:8080/",
     "height": 51
    },
    "colab_type": "code",
    "id": "ZHKduTA-PW5T",
    "outputId": "6276a5dd-8855-4383-d47e-cd942eac79b5"
   },
   "outputs": [
    {
     "name": "stdout",
     "output_type": "stream",
     "text": [
      "  106.664 ms (0 allocations: 0 bytes)\n"
     ]
    },
    {
     "data": {
      "text/plain": [
       "3.1415926635897917"
      ]
     },
     "execution_count": 379,
     "metadata": {
      "tags": []
     },
     "output_type": "execute_result"
    }
   ],
   "source": [
    "@btime parallel_estimate_pi2(100_000_000)"
   ]
  },
  {
   "cell_type": "markdown",
   "metadata": {
    "colab_type": "text",
    "id": "1Lwb_H7vTeCg"
   },
   "source": [
    "The `mapreduce()` function is well optimized, so it's about twice faster than `parallel_estimate_pi()`."
   ]
  },
  {
   "cell_type": "markdown",
   "metadata": {
    "colab_type": "text",
    "id": "g0PXPosbamtW"
   },
   "source": [
    "You can also spawn a task using `Threads.@spawn`. It will get executed on any one of the running threads (it will not start a new thread):"
   ]
  },
  {
   "cell_type": "code",
   "execution_count": 380,
   "metadata": {
    "colab": {
     "base_uri": "https://localhost:8080/",
     "height": 85
    },
    "colab_type": "code",
    "id": "w2YYrw3IYX4v",
    "outputId": "fef92ece-9ee0-40b2-a1c0-5b11d7d0d8c3"
   },
   "outputs": [
    {
     "name": "stdout",
     "output_type": "stream",
     "text": [
      "Hello!\n",
      "Thread starting\n",
      "Thread stopping\n",
      "The result is: 42\n"
     ]
    }
   ],
   "source": [
    "task = Threads.@spawn begin\n",
    "    println(\"Thread starting\")\n",
    "    sleep(1)\n",
    "    println(\"Thread stopping\")\n",
    "    42 # result\n",
    "end\n",
    "\n",
    "println(\"Hello!\")\n",
    "\n",
    "println(\"The result is: \", fetch(task))\n"
   ]
  },
  {
   "cell_type": "markdown",
   "metadata": {
    "colab_type": "text",
    "id": "pbv40Ib7bF7v"
   },
   "source": [
    "The `fetch()` function waits for the thread to finish, and fetches the result. You can also just call `wait()` if you don't need the result."
   ]
  },
  {
   "cell_type": "markdown",
   "metadata": {
    "colab_type": "text",
    "id": "OsK9bt-Hb2IS"
   },
   "source": [
    "Last but not least, you can use channels to synchronize and communicate across tasks, even if they are running across separate threads:"
   ]
  },
  {
   "cell_type": "code",
   "execution_count": 381,
   "metadata": {
    "colab": {
     "base_uri": "https://localhost:8080/",
     "height": 136
    },
    "colab_type": "code",
    "id": "sgdNzgkaceEz",
    "outputId": "370dea30-fb7e-4d53-df11-d2a94658101f"
   },
   "outputs": [
    {
     "name": "stdout",
     "output_type": "stream",
     "text": [
      "Received 1\n",
      "Received 4\n",
      "Received 9\n",
      "Received 16\n",
      "Finished sending!\n",
      "Received 25\n",
      "Finished receiving!\n"
     ]
    }
   ],
   "source": [
    "ch = Channel()\n",
    "task1 = Threads.@spawn begin\n",
    "    for i in 1:5\n",
    "        sleep(rand())\n",
    "        put!(ch, i^2)\n",
    "    end\n",
    "    println(\"Finished sending!\")\n",
    "    close(ch)\n",
    "end\n",
    "\n",
    "task2 = Threads.@spawn begin\n",
    "    foreach(v->println(\"Received $v\"), ch)\n",
    "    println(\"Finished receiving!\")\n",
    "end\n",
    "\n",
    "wait(task2)"
   ]
  },
  {
   "cell_type": "markdown",
   "metadata": {
    "colab_type": "text",
    "id": "eLOdUrTcV1Lh"
   },
   "source": [
    "For more details about multithreading, check out [this page](https://docs.julialang.org/en/v1/manual/parallel-computing/#man-multithreading-1)."
   ]
  },
  {
   "cell_type": "markdown",
   "metadata": {
    "colab_type": "text",
    "id": "0JfyJjTXX1AM"
   },
   "source": [
    "## Multiprocessing & Distributed Programming\n",
    "Julia can spawn multiple Julia processes upon startup if you specify the number of processes via the `-p` argument. You can also spawn extra processes from Julia itself:"
   ]
  },
  {
   "cell_type": "code",
   "execution_count": 382,
   "metadata": {
    "colab": {
     "base_uri": "https://localhost:8080/",
     "height": 102
    },
    "colab_type": "code",
    "id": "JtqG4qIhX5Sw",
    "outputId": "9c68c284-3dcf-4f85-f7fe-6023015eac56"
   },
   "outputs": [
    {
     "data": {
      "text/plain": [
       "4-element Array{Int64,1}:\n",
       " 2\n",
       " 3\n",
       " 4\n",
       " 5"
      ]
     },
     "execution_count": 382,
     "metadata": {
      "tags": []
     },
     "output_type": "execute_result"
    }
   ],
   "source": [
    "using Distributed\n",
    "addprocs(4)\n",
    "workers() # array of worker process ids"
   ]
  },
  {
   "cell_type": "markdown",
   "metadata": {
    "colab_type": "text",
    "id": "WD9hcmhGfraw"
   },
   "source": [
    "The main process has id 1:"
   ]
  },
  {
   "cell_type": "code",
   "execution_count": 383,
   "metadata": {
    "colab": {
     "base_uri": "https://localhost:8080/",
     "height": 34
    },
    "colab_type": "code",
    "id": "TlsjSMFZe3Ae",
    "outputId": "61f1816e-079c-4113-ff93-d349ed13f792"
   },
   "outputs": [
    {
     "data": {
      "text/plain": [
       "1"
      ]
     },
     "execution_count": 383,
     "metadata": {
      "tags": []
     },
     "output_type": "execute_result"
    }
   ],
   "source": [
    "myid()"
   ]
  },
  {
   "cell_type": "markdown",
   "metadata": {
    "colab_type": "text",
    "id": "lAS3Q8ohfvwg"
   },
   "source": [
    "The `@everywhere` macro lets you run any code on all workers:"
   ]
  },
  {
   "cell_type": "code",
   "execution_count": 384,
   "metadata": {
    "colab": {
     "base_uri": "https://localhost:8080/",
     "height": 102
    },
    "colab_type": "code",
    "id": "lmhHLhtbenY5",
    "outputId": "90f1d535-9a9e-4856-98a6-d2fa9245809a"
   },
   "outputs": [
    {
     "name": "stdout",
     "output_type": "stream",
     "text": [
      "Hi! I'm worker 1\n",
      "      From worker 4:\tHi! I'm worker 4\n",
      "      From worker 3:\tHi! I'm worker 3\n",
      "      From worker 2:\tHi! I'm worker 2\n",
      "      From worker 5:\tHi! I'm worker 5\n"
     ]
    }
   ],
   "source": [
    "@everywhere println(\"Hi! I'm worker $(myid())\")"
   ]
  },
  {
   "cell_type": "markdown",
   "metadata": {
    "colab_type": "text",
    "id": "cyQQ0Td2hAuQ"
   },
   "source": [
    "You can also execute code on a particular worker by using `@spawnat <worker id> <statement>`:"
   ]
  },
  {
   "cell_type": "code",
   "execution_count": 385,
   "metadata": {
    "colab": {
     "base_uri": "https://localhost:8080/",
     "height": 34
    },
    "colab_type": "code",
    "id": "Mmc1-zfBgsur",
    "outputId": "4b2a4b2b-f060-40ea-b86e-ce54835dc80a"
   },
   "outputs": [
    {
     "data": {
      "text/plain": [
       "Future(3, 1, 14, nothing)"
      ]
     },
     "execution_count": 385,
     "metadata": {
      "tags": []
     },
     "output_type": "execute_result"
    }
   ],
   "source": [
    "@spawnat 3 println(\"Hi! I'm worker $(myid())\")"
   ]
  },
  {
   "cell_type": "markdown",
   "metadata": {
    "colab_type": "text",
    "id": "nZaV4ptbk4sB"
   },
   "source": [
    "If you specify `:any` instead of a worker id, Julia chooses the worker for you:"
   ]
  },
  {
   "cell_type": "code",
   "execution_count": 386,
   "metadata": {
    "colab": {
     "base_uri": "https://localhost:8080/",
     "height": 51
    },
    "colab_type": "code",
    "id": "i6C7ydoBkyln",
    "outputId": "bdce4dc3-fbec-42f8-a270-6676e69ed3c0"
   },
   "outputs": [
    {
     "name": "stdout",
     "output_type": "stream",
     "text": [
      "      From worker 3:\tHi! I'm worker 3\n"
     ]
    },
    {
     "data": {
      "text/plain": [
       "Future(2, 1, 15, nothing)"
      ]
     },
     "execution_count": 386,
     "metadata": {
      "tags": []
     },
     "output_type": "execute_result"
    }
   ],
   "source": [
    "@spawnat :any println(\"Hi! I'm worker $(myid())\")"
   ]
  },
  {
   "cell_type": "markdown",
   "metadata": {
    "colab_type": "text",
    "id": "fZMDIATZg9Ug"
   },
   "source": [
    "Both `@everywhere` and `@spawnat` return immediately. The output of `@spawnat` is a `Future` object. You can call `fetch()` on this object to wait for the result:"
   ]
  },
  {
   "cell_type": "code",
   "execution_count": 387,
   "metadata": {
    "colab": {
     "base_uri": "https://localhost:8080/",
     "height": 34
    },
    "colab_type": "code",
    "id": "Ml5TBZLQf2oY",
    "outputId": "91af772e-3491-44d4-9146-9b81a13ebac0"
   },
   "outputs": [
    {
     "data": {
      "text/plain": [
       "10"
      ]
     },
     "execution_count": 387,
     "metadata": {
      "tags": []
     },
     "output_type": "execute_result"
    }
   ],
   "source": [
    "result = @spawnat 3 1+2+3+4\n",
    "fetch(result)"
   ]
  },
  {
   "cell_type": "markdown",
   "metadata": {
    "colab_type": "text",
    "id": "f8rR6jBdhuvT"
   },
   "source": [
    "If you import some package in the main process, it is <u>not</u> automatically imported in the workers. For example, the following code fails because the worker does not know what `pyimport` is:"
   ]
  },
  {
   "cell_type": "code",
   "execution_count": 388,
   "metadata": {
    "colab": {
     "base_uri": "https://localhost:8080/",
     "height": 71
    },
    "colab_type": "code",
    "id": "s89GQtv5iNfP",
    "outputId": "361aa179-938b-4c80-bce3-f9ddd01f35dd"
   },
   "outputs": [
    {
     "name": "stdout",
     "output_type": "stream",
     "text": [
      "      From worker 2:\tHi! I'm worker 2\n"
     ]
    },
    {
     "data": {
      "text/plain": [
       "RemoteException(4, CapturedException(UndefVarError(:pyimport), Any[(#121 at macros.jl:87, 1), (#101 at process_messages.jl:290, 1), (run_work_thunk at process_messages.jl:79, 1), (run_work_thunk at process_messages.jl:88, 1), (#94 at task.jl:358, 1)]))"
      ]
     },
     "execution_count": 388,
     "metadata": {
      "tags": []
     },
     "output_type": "execute_result"
    }
   ],
   "source": [
    "using PyCall\n",
    "\n",
    "result = @spawnat 4 (np = pyimport(\"numpy\"); np.log(10))\n",
    "\n",
    "try\n",
    "    fetch(result)\n",
    "catch ex\n",
    "    ex\n",
    "end"
   ]
  },
  {
   "cell_type": "markdown",
   "metadata": {
    "colab_type": "text",
    "id": "N-wFnpu7inDg"
   },
   "source": [
    "You must use `@everywhere` or `@spawnat` to import the packages you need in each worker:"
   ]
  },
  {
   "cell_type": "code",
   "execution_count": 389,
   "metadata": {
    "colab": {
     "base_uri": "https://localhost:8080/",
     "height": 34
    },
    "colab_type": "code",
    "id": "eseDsHvzna1R",
    "outputId": "3c9d9bad-d2d5-465e-f2b5-bd68e35f7b3e"
   },
   "outputs": [
    {
     "data": {
      "text/plain": [
       "2.302585092994046"
      ]
     },
     "execution_count": 389,
     "metadata": {
      "tags": []
     },
     "output_type": "execute_result"
    }
   ],
   "source": [
    "@everywhere using PyCall\n",
    "\n",
    "result = @spawnat 4 (np = pyimport(\"numpy\"); np.log(10))\n",
    "\n",
    "fetch(result)"
   ]
  },
  {
   "cell_type": "markdown",
   "metadata": {
    "colab_type": "text",
    "id": "Nzk3gbLOnqTx"
   },
   "source": [
    "Similarly, if you define a function in the main process, it is <u>not</u> automatically available in the workers. You must define the function in every worker:"
   ]
  },
  {
   "cell_type": "code",
   "execution_count": 390,
   "metadata": {
    "colab": {
     "base_uri": "https://localhost:8080/",
     "height": 34
    },
    "colab_type": "code",
    "id": "vrvbWhDMnzdX",
    "outputId": "8f7103d8-4095-4f66-88d7-06854b21cc3e"
   },
   "outputs": [
    {
     "data": {
      "text/plain": [
       "42"
      ]
     },
     "execution_count": 390,
     "metadata": {
      "tags": []
     },
     "output_type": "execute_result"
    }
   ],
   "source": [
    "@everywhere addtwo(n) = n + 2\n",
    "result = @spawnat 4 addtwo(40)\n",
    "fetch(result)"
   ]
  },
  {
   "cell_type": "markdown",
   "metadata": {
    "colab_type": "text",
    "id": "9skIo6pnoikr"
   },
   "source": [
    "You can pass a `Future` to `@everywhere` or `@spawnat`, as long as you wrap it in a `fetch()` function:"
   ]
  },
  {
   "cell_type": "code",
   "execution_count": 391,
   "metadata": {
    "colab": {
     "base_uri": "https://localhost:8080/",
     "height": 119
    },
    "colab_type": "code",
    "id": "IjovCqk7n_cu",
    "outputId": "8c28e447-69cf-4b5b-aa73-ea57e8ec57cd"
   },
   "outputs": [
    {
     "data": {
      "text/plain": [
       "5-element Array{Float64,1}:\n",
       " 4.475589942138973\n",
       " 3.7844448153428067\n",
       " 6.199227766558075\n",
       " 8.66410018066203\n",
       " 3.364462310811107"
      ]
     },
     "execution_count": 391,
     "metadata": {
      "tags": []
     },
     "output_type": "execute_result"
    }
   ],
   "source": [
    "M = @spawnat 2 rand(5)\n",
    "result = @spawnat 3 fetch(M) .* 10.0\n",
    "fetch(result)"
   ]
  },
  {
   "cell_type": "markdown",
   "metadata": {
    "colab_type": "text",
    "id": "H4YeovYto60s"
   },
   "source": [
    "In this example, worker 2 creates a random array, then worker 3 fetches this array and multiplies each element by 10, then the main process fetches the result and displays it."
   ]
  },
  {
   "cell_type": "markdown",
   "metadata": {
    "colab_type": "text",
    "id": "nUl0Nj9dV-IW"
   },
   "source": [
    "## GPU\n",
    "Julia has excellent GPU support. As you may know, GPUs are devices which can run thousands of threads in parallel. Each thread is slower and more limited than on a CPU, but there are so many of them that plenty of tasks can be executed much faster on a GPU than on a CPU, provided these tasks can be parallelized.\n",
    "\n",
    "Let's check which GPU device is installed:"
   ]
  },
  {
   "cell_type": "code",
   "execution_count": 392,
   "metadata": {
    "colab": {
     "base_uri": "https://localhost:8080/",
     "height": 357
    },
    "colab_type": "code",
    "id": "DTKc9IFB-eum",
    "outputId": "f6c373d7-9597-4c6f-dca5-d869af5a1f31"
   },
   "outputs": [
    {
     "name": "stdout",
     "output_type": "stream",
     "text": [
      "Thu Jul  2 00:08:11 2020       \n",
      "+-----------------------------------------------------------------------------+\n",
      "| NVIDIA-SMI 450.36.06    Driver Version: 418.67       CUDA Version: 10.1     |\n",
      "|-------------------------------+----------------------+----------------------+\n",
      "| GPU  Name        Persistence-M| Bus-Id        Disp.A | Volatile Uncorr. ECC |\n",
      "| Fan  Temp  Perf  Pwr:Usage/Cap|         Memory-Usage | GPU-Util  Compute M. |\n",
      "|                               |                      |               MIG M. |\n",
      "|===============================+======================+======================|\n",
      "|   0  Tesla P100-PCIE...  Off  | 00000000:00:04.0 Off |                    0 |\n",
      "| N/A   33C    P0    26W / 250W |      0MiB / 16280MiB |      0%      Default |\n",
      "|                               |                      |                 ERR! |\n",
      "+-------------------------------+----------------------+----------------------+\n",
      "                                                                               \n",
      "+-----------------------------------------------------------------------------+\n",
      "| Processes:                                                                  |\n",
      "|  GPU   GI   CI        PID   Type   Process name                  GPU Memory |\n",
      "|        ID   ID                                                   Usage      |\n",
      "|=============================================================================|\n",
      "|  No running processes found                                                 |\n",
      "+-----------------------------------------------------------------------------+\n"
     ]
    }
   ],
   "source": [
    ";nvidia-smi"
   ]
  },
  {
   "cell_type": "markdown",
   "metadata": {
    "colab_type": "text",
    "id": "ULS7Jn6vws2-"
   },
   "source": [
    "If you're running on Colab, your runtime will generally have an Nvidia Tesla K80 GPU with 12GB of RAM installed, but sometimes other GPUs like Nvidia Tesla T4 16GB, or Nvidia Tesla P100).\n",
    "\n",
    "If no GPU is detected, go to _Runtime_ > _Change runtime type_, set _Hardware accelerator_ to _GPU_, then go to _Runtime_ > _Factory reset runtime_, then reinstall Julia by running the first cell again, then reload the page and come back here). If you're running on your own machine, make sure you have a compatible GPU card installed, with the appropriate drivers."
   ]
  },
  {
   "cell_type": "markdown",
   "metadata": {
    "colab_type": "text",
    "id": "HzVnsDN--gRr"
   },
   "source": [
    "Now let's create a large matrix and time how long it takes to square it on the CPU:"
   ]
  },
  {
   "cell_type": "code",
   "execution_count": 393,
   "metadata": {
    "colab": {
     "base_uri": "https://localhost:8080/",
     "height": 34
    },
    "colab_type": "code",
    "id": "-rbfON6gWYwe",
    "outputId": "8fd49f1d-187d-48f8-b642-dbb9fbc69371"
   },
   "outputs": [
    {
     "name": "stdout",
     "output_type": "stream",
     "text": [
      "  436.690 ms (2 allocations: 32.00 MiB)\n"
     ]
    }
   ],
   "source": [
    "using BenchmarkTools\n",
    "\n",
    "M = rand(2^11, 2^11)\n",
    "\n",
    "function benchmark_matmul_cpu(M)\n",
    "    M * M\n",
    "    return\n",
    "end\n",
    "\n",
    "benchmark_matmul_cpu(M) # warm up\n",
    "@btime benchmark_matmul_cpu($M)"
   ]
  },
  {
   "cell_type": "markdown",
   "metadata": {
    "colab_type": "text",
    "id": "LRO3dOh1lnVg"
   },
   "source": [
    "Notes:\n",
    "* For benchmarking, we wrapped the operation in a function which returns `nothing`.\n",
    "* Why do we have a \"warm up\" line? Well, since Julia compiles code on the fly the first time it is executed, it's good practice to execute the operation we want to benchmark at least once before starting the benchmark, or else the benchmark will include the compilation time.\n",
    "* We used `$M` instead of `M` on the last line. This is a feature of the `@btime` macro: it evaluates `M` before benchmarking takes place, to avoid the extra delay that is incurred when [benchmarking with global variables](https://docs.julialang.org/en/latest/manual/performance-tips/#Avoid-global-variables-1)."
   ]
  },
  {
   "cell_type": "markdown",
   "metadata": {
    "colab_type": "text",
    "id": "x-nbiuYDtGlb"
   },
   "source": [
    "Now let's benchmark this same operation on the GPU: "
   ]
  },
  {
   "cell_type": "code",
   "execution_count": 394,
   "metadata": {
    "colab": {
     "base_uri": "https://localhost:8080/",
     "height": 187
    },
    "colab_type": "code",
    "id": "3hIWY1O_WE6a",
    "outputId": "0f953737-6706-4338-b508-38bff61587c0"
   },
   "outputs": [
    {
     "name": "stdout",
     "output_type": "stream",
     "text": [
      "\u001b[32m\u001b[1mDownloading\u001b[22m\u001b[39m artifact: CUDA10.1\n",
      "\u001b[?25l"
     ]
    },
    {
     "name": "stderr",
     "output_type": "stream",
     "text": [
      "######################################################################### 100.0%\n"
     ]
    },
    {
     "name": "stdout",
     "output_type": "stream",
     "text": [
      "\u001b[1A\u001b[2K\u001b[?25h\u001b[32m\u001b[1mDownloading\u001b[22m\u001b[39m artifact: CUDNN+CUDA10.1\n",
      "\u001b[?25l"
     ]
    },
    {
     "name": "stderr",
     "output_type": "stream",
     "text": [
      "######################################################################### 100.0%\n"
     ]
    },
    {
     "name": "stdout",
     "output_type": "stream",
     "text": [
      "\u001b[1A\u001b[2K\u001b[?25h\u001b[32m\u001b[1mDownloading\u001b[22m\u001b[39m artifact: CUTENSOR+CUDA10.1\n",
      "\u001b[?25l"
     ]
    },
    {
     "name": "stderr",
     "output_type": "stream",
     "text": [
      "######################################################################### 100.0%\n"
     ]
    },
    {
     "name": "stdout",
     "output_type": "stream",
     "text": [
      "\u001b[1A\u001b[2K\u001b[?25h"
     ]
    },
    {
     "name": "stderr",
     "output_type": "stream",
     "text": [
      "┌ Warning: `haskey(::TargetIterator, name::String)` is deprecated, use `Target(; name = name) !== nothing` instead.\n",
      "│   caller = llvm_compat(::VersionNumber) at compatibility.jl:181\n",
      "└ @ CUDA /root/.julia/packages/CUDA/42B9G/deps/compatibility.jl:181\n"
     ]
    },
    {
     "name": "stdout",
     "output_type": "stream",
     "text": [
      "  2.360 ms (9 allocations: 368 bytes)\n"
     ]
    }
   ],
   "source": [
    "using CUDA\n",
    "\n",
    "# Copy the data to the GPU. Creates a CuArray:\n",
    "M_on_gpu = cu(M)\n",
    "\n",
    "# Alternatively, create a new random matrix directly on the GPU:\n",
    "#M_on_gpu = CUDA.CURAND.rand(2^11, 2^11)\n",
    "\n",
    "function benchmark_matmul_gpu(M)\n",
    "    CUDA.@sync M * M\n",
    "    return\n",
    "end\n",
    "\n",
    "benchmark_matmul_gpu(M_on_gpu) # warm up\n",
    "@btime benchmark_matmul_gpu($M_on_gpu)"
   ]
  },
  {
   "cell_type": "markdown",
   "metadata": {
    "colab_type": "text",
    "id": "jFEBz1hkZ6Ox"
   },
   "source": [
    "That's _much_ faster (185x faster in my test on Colab with an NVidia Tesla P100 GPU)."
   ]
  },
  {
   "cell_type": "markdown",
   "metadata": {
    "colab_type": "text",
    "id": "EbjxRKWc1-nR"
   },
   "source": [
    "Importantly:\n",
    "* Before the GPU can work on some data, it needs to be copied to the GPU (or generated there directly).\n",
    "* the `CUDA.@sync` macro waits for the GPU operation to complete. Without it, the operation would happen in parallel on the GPU, while execution would continue on the CPU. So we would just be timing how long it takes to _start_ the operation, not how long it takes to complete.\n",
    "* In general, you don't need `CUDA.@sync`, since many operations (including `cu()`) call it implicitly, and it's usually a good idea to let the CPU and GPU work in parallel. Typically, the GPU will be working on the current batch of data while the CPU works on preparing the next batch."
   ]
  },
  {
   "cell_type": "markdown",
   "metadata": {
    "colab_type": "text",
    "id": "lja576nUWXLU"
   },
   "source": [
    "Of course, the speed up will vary depending on the matrix size and the GPU type. Moreover, copying the data from the CPU to the GPU is often the slowest part of the operation, but we only benchmarked the matrix multiplication itself. Let's see what we get if we include the data transfer in the benchmark:"
   ]
  },
  {
   "cell_type": "markdown",
   "metadata": {
    "colab_type": "text",
    "id": "LMegVhMzBtPz"
   },
   "source": [
    "That's still much faster than on the CPU."
   ]
  },
  {
   "cell_type": "markdown",
   "metadata": {
    "colab_type": "text",
    "id": "WdvtwJAu3aOU"
   },
   "source": [
    "Let's check how much RAM we have left on the GPU:"
   ]
  },
  {
   "cell_type": "code",
   "execution_count": 395,
   "metadata": {
    "colab": {
     "base_uri": "https://localhost:8080/",
     "height": 68
    },
    "colab_type": "code",
    "id": "599aiP0s3c4y",
    "outputId": "e3297190-a7c6-49d4-d460-8f14a5133185"
   },
   "outputs": [
    {
     "name": "stdout",
     "output_type": "stream",
     "text": [
      "Effective GPU memory usage: 99.93% (15.888 GiB/15.899 GiB)\n",
      "CUDA allocator usage: 15.594 GiB\n",
      "BinnedPool usage: 15.594 GiB (16.000 MiB allocated, 15.578 GiB cached)\n"
     ]
    }
   ],
   "source": [
    "CUDA.memory_status()"
   ]
  },
  {
   "cell_type": "markdown",
   "metadata": {
    "colab_type": "text",
    "id": "86XHVDDrDJjp"
   },
   "source": [
    "Julia's Garbage Collector will free CUDA arrays like any other object, when there's no more reference to it. However, `CUDA.jl` uses a memory pool to make allocations faster on the GPU, so don't be surprised if the allocated memory on the GPU does not go down immediately. Moreover, IJulia keeps a reference to the output of each cell, so if you let any cell output a `CuArray`, it will only be released when you execute `Out[<cell number>]=0`. If you want to force the Garbage Collector to run, you an run `GC.gc()`. To reclaim memory from the memory pool, use `CUDA.reclaim()`:"
   ]
  },
  {
   "cell_type": "code",
   "execution_count": 396,
   "metadata": {
    "colab": {
     "base_uri": "https://localhost:8080/",
     "height": 34
    },
    "colab_type": "code",
    "id": "VPoO6-h_tVBE",
    "outputId": "ca8e192e-2d45-4dbd-c60f-cdfbdc31018a"
   },
   "outputs": [
    {
     "data": {
      "text/plain": [
       "16726884352"
      ]
     },
     "execution_count": 396,
     "metadata": {
      "tags": []
     },
     "output_type": "execute_result"
    }
   ],
   "source": [
    "GC.gc()\n",
    "CUDA.reclaim()"
   ]
  },
  {
   "cell_type": "markdown",
   "metadata": {
    "colab_type": "text",
    "id": "ndcNywPSE0D9"
   },
   "source": [
    "Many other operations are implemented for `CuArray` (`+`,  `-`, etc.) and dotted operations (`.+`, `exp.()`, etc). Importantly, loop fusion also works on the GPU. For example, if we want to compute `M .* M .+ M`, without loop fusion the GPU would first compute `M .* M` and create a temporary array, then it would add `M` to that array, like this:"
   ]
  },
  {
   "cell_type": "code",
   "execution_count": 397,
   "metadata": {
    "colab": {
     "base_uri": "https://localhost:8080/",
     "height": 34
    },
    "colab_type": "code",
    "id": "psC2K-M_F0w9",
    "outputId": "2831edea-a646-43d8-d272-35fa13b92093"
   },
   "outputs": [
    {
     "name": "stdout",
     "output_type": "stream",
     "text": [
      "  676.534 μs (140 allocations: 4.30 KiB)\n"
     ]
    }
   ],
   "source": [
    "function benchmark_without_fusion(M)\n",
    "    P = M .* M\n",
    "    CUDA.@sync P .+ M\n",
    "    return\n",
    "end\n",
    "\n",
    "benchmark_without_fusion(M_on_gpu) # warm up\n",
    "@btime benchmark_without_fusion($M_on_gpu)"
   ]
  },
  {
   "cell_type": "markdown",
   "metadata": {
    "colab_type": "text",
    "id": "DTbDFRdJIO9M"
   },
   "source": [
    "Instead, loop fusion ensures that the array is only traversed once, without the need for a temporary array:"
   ]
  },
  {
   "cell_type": "code",
   "execution_count": 398,
   "metadata": {
    "colab": {
     "base_uri": "https://localhost:8080/",
     "height": 34
    },
    "colab_type": "code",
    "id": "zHQI4nkHGkLx",
    "outputId": "1ea3c80d-f87b-44f7-b19a-b00b32c8c201"
   },
   "outputs": [
    {
     "name": "stdout",
     "output_type": "stream",
     "text": [
      "  387.141 μs (87 allocations: 3.36 KiB)\n"
     ]
    }
   ],
   "source": [
    "function benchmark_with_fusion(M)\n",
    "    CUDA.@sync M .* M .+ M\n",
    "    return\n",
    "end\n",
    "\n",
    "benchmark_with_fusion(M_on_gpu) # warm up\n",
    "@btime benchmark_with_fusion($M_on_gpu)"
   ]
  },
  {
   "cell_type": "markdown",
   "metadata": {
    "colab_type": "text",
    "id": "ln5b2NykQCsD"
   },
   "source": [
    "That's _much_ faster (75% faster in my test on Colab). 😃"
   ]
  },
  {
   "cell_type": "markdown",
   "metadata": {
    "colab_type": "text",
    "id": "9HAHfceIa3U5"
   },
   "source": [
    "Lastly, you can actually **write your own GPU kernels in Julia**! In other words, rather than using GPU operations implemented in the `CUDA.jl` package (or others), you can write Julia code that will be compiled for the GPU, and executed there. This can occasionally be useful to speed up some algorithms where the standard kernels don't suffice. For example, here's a GPU kernel which implements `u .+= v`, where `u` and `v` are two (large) vectors:"
   ]
  },
  {
   "cell_type": "code",
   "execution_count": 399,
   "metadata": {
    "colab": {
     "base_uri": "https://localhost:8080/",
     "height": 34
    },
    "colab_type": "code",
    "id": "lnbRTzgWX0gx",
    "outputId": "40701458-9b62-4947-8f59-f7a86e1270c1"
   },
   "outputs": [
    {
     "data": {
      "text/plain": [
       "gpu_add! (generic function with 1 method)"
      ]
     },
     "execution_count": 399,
     "metadata": {
      "tags": []
     },
     "output_type": "execute_result"
    }
   ],
   "source": [
    "function worker_gpu_add!(u, v)\n",
    "    index = (blockIdx().x - 1) * blockDim().x + threadIdx().x\n",
    "    index ≤ length(u) && (@inbounds u[index] += v[index])\n",
    "    return\n",
    "end\n",
    "\n",
    "function gpu_add!(u, v)\n",
    "    numblocks = ceil(Int, length(u) / 256)\n",
    "    @cuda threads=256 blocks=numblocks worker_gpu_add!(u, v)\n",
    "    return u\n",
    "end"
   ]
  },
  {
   "cell_type": "markdown",
   "metadata": {
    "colab_type": "text",
    "id": "WEnX1i4ooQiN"
   },
   "source": [
    "This code example is adapted from the [`CUDA.jl` package's documentation](https://juliagpu.gitlab.io/CUDA.jl/tutorials/introduction/), which I highly encourage you to check out if you're interested in writing your own kernels. Here are the key parts to understand this example, starting from the end:\n",
    "* The `gpu_add!()` function first calculates `numblocks`, the number of blocks of threads to start, then it uses the `@cuda` macro to spawn `numblocks` blocks of GPU threads, each with 256 threads, and each thread runs `worker_gpu_add!(u, v)`.\n",
    "* The `worker_gpu_add!()` function computes `u[index] += v[index]` for a single value of `index`: in other words, each thread will just update a single value in the vector! Let's see how the index is computed:\n",
    "  * The `@cuda` macro spawned many blocks of 256 threads each. These blocks are organized in a grid, which is one-dimensional by default, but it can be up to three-dimensional. Therefore each thread and each block have an `(x, y, z)` coordinate in this grid. See this diagram from the [Nvidia blog post](https://developer.nvidia.com/blog/even-easier-introduction-cuda/):<br />\n",
    "<img src=\"https://juliagpu.gitlab.io/CUDA.jl/tutorials/intro1.png\" width=\"600\"/>.\n",
    "  * `threadIdx().x` returns the current GPU thread's `x` coordinate within its block (one difference with the diagram is that Julia is 1-indexed).\n",
    "  * `blockIdx().x` returns the current block's `x` coordinate in the grid.\n",
    "  * `blockDim().x` returns the block size along the `x` axis (in this example, it's 256).\n",
    "  * `gridDim().x` returns the number of blocks in the grid, along the `x` axis (in this example it's `numblocks`).\n",
    "  * So the `index` that each thread must update in the array is `(blockIdx().x - 1) * blockDim().x + threadIdx().x`.\n",
    "* As explained earlier, the `@inbounds` macro is an optimization that tells Julia that the index is guaranteed to be inbounds, so there's no need for it to check.\n",
    "\n",
    "Now writing your own GPU kernel won't seem like something only top experts with advanced C++ skills can do: you can do it too!"
   ]
  },
  {
   "cell_type": "markdown",
   "metadata": {
    "colab_type": "text",
    "id": "gf6-5tJXRCm0"
   },
   "source": [
    "Let's check that the kernel works as expected:"
   ]
  },
  {
   "cell_type": "code",
   "execution_count": 400,
   "metadata": {
    "colab": {},
    "colab_type": "code",
    "id": "l7mGsSWYL2iW"
   },
   "outputs": [],
   "source": [
    "u = rand(2^20)\n",
    "v = rand(2^20)\n",
    "\n",
    "u_on_gpu = cu(u)\n",
    "v_on_gpu = cu(v)\n",
    "\n",
    "u .+= v\n",
    "gpu_add!(u_on_gpu, v_on_gpu)\n",
    "\n",
    "@assert Array(u_on_gpu) ≈ u"
   ]
  },
  {
   "cell_type": "markdown",
   "metadata": {
    "colab_type": "text",
    "id": "GCZyhpbwNeLQ"
   },
   "source": [
    "Yes, it works well!\n",
    "\n",
    "Note: the `≈` operator checks whether the operands are approximately equal within the float precision limit."
   ]
  },
  {
   "cell_type": "markdown",
   "metadata": {
    "colab_type": "text",
    "id": "Koqs9GrqRHeW"
   },
   "source": [
    "Let's benchmark our custom kernel:"
   ]
  },
  {
   "cell_type": "code",
   "execution_count": 401,
   "metadata": {
    "colab": {
     "base_uri": "https://localhost:8080/",
     "height": 34
    },
    "colab_type": "code",
    "id": "g2_7SawNR4Jb",
    "outputId": "c33eb08e-4eb3-493a-f0bb-e2b4bf4e8717"
   },
   "outputs": [
    {
     "name": "stdout",
     "output_type": "stream",
     "text": [
      "  98.689 μs (52 allocations: 1.31 KiB)\n"
     ]
    }
   ],
   "source": [
    "function benchmark_custom_assign_add!(u, v)\n",
    "    CUDA.@sync gpu_add!(u, v)\n",
    "    return\n",
    "end\n",
    "\n",
    "benchmark_custom_assign_add!(u_on_gpu, v_on_gpu)\n",
    "@btime benchmark_custom_assign_add!($u_on_gpu, $v_on_gpu)"
   ]
  },
  {
   "cell_type": "markdown",
   "metadata": {
    "colab_type": "text",
    "id": "hl0_1Km9SyD7"
   },
   "source": [
    "Let's see how this compares to `CUDA.jl`'s implementation:"
   ]
  },
  {
   "cell_type": "code",
   "execution_count": 402,
   "metadata": {
    "colab": {
     "base_uri": "https://localhost:8080/",
     "height": 34
    },
    "colab_type": "code",
    "id": "vogLKdtEO9l6",
    "outputId": "fc8d07e3-1499-4a11-c2a6-b65cf08f22b9"
   },
   "outputs": [
    {
     "name": "stdout",
     "output_type": "stream",
     "text": [
      "  137.072 μs (70 allocations: 1.89 KiB)\n"
     ]
    }
   ],
   "source": [
    "function benchmark_assign_add!(u, v)\n",
    "    CUDA.@sync u .+= v\n",
    "    return\n",
    "end\n",
    "\n",
    "benchmark_assign_add!(u_on_gpu, v_on_gpu)\n",
    "@btime benchmark_assign_add!($u_on_gpu, $v_on_gpu)"
   ]
  },
  {
   "cell_type": "markdown",
   "metadata": {
    "colab_type": "text",
    "id": "IKRNLPIRcbCd"
   },
   "source": [
    "How about that? Our custom kernel is faster than `CUDA.jl`'s kernel! But to be fair, our kernel would not work with huge vectors, since there's a limit to the number of blocks & threads you can spawn (see [Table 15](https://docs.nvidia.com/cuda/cuda-c-programming-guide/index.html#features-and-technical-specifications) in CUDA's documentation). To support such huge vectors, we need each worker to run a loop like this:"
   ]
  },
  {
   "cell_type": "code",
   "execution_count": 403,
   "metadata": {
    "colab": {
     "base_uri": "https://localhost:8080/",
     "height": 34
    },
    "colab_type": "code",
    "id": "Zi8-UvGocWOK",
    "outputId": "367b633c-7a83-4f4a-b379-c35c095ca698"
   },
   "outputs": [
    {
     "data": {
      "text/plain": [
       "worker_gpu_add! (generic function with 1 method)"
      ]
     },
     "execution_count": 403,
     "metadata": {
      "tags": []
     },
     "output_type": "execute_result"
    }
   ],
   "source": [
    "function worker_gpu_add!(u, v)\n",
    "    index = (blockIdx().x - 1) * blockDim().x + threadIdx().x\n",
    "    stride = blockDim().x * gridDim().x\n",
    "    for i = index:stride:length(u)\n",
    "        @inbounds u[i] += v[i]\n",
    "    end\n",
    "    return\n",
    "end"
   ]
  },
  {
   "cell_type": "markdown",
   "metadata": {
    "colab_type": "text",
    "id": "YtQNhlw1c3zo"
   },
   "source": [
    "This way, if `@cuda` is executed with a smaller number of blocks than needed to have one thread per array item, the workers will loop appropriately.\n",
    "\n",
    "This should get you started! For more info, check out [`CUDA.jl`'s documentation](https://juliagpu.gitlab.io/CUDA.jl/)."
   ]
  },
  {
   "cell_type": "markdown",
   "metadata": {
    "colab_type": "text",
    "id": "FA9DFoEuiGib"
   },
   "source": [
    "# Command Line Arguments"
   ]
  },
  {
   "cell_type": "markdown",
   "metadata": {
    "colab_type": "text",
    "id": "I1nlKvCZhVo7"
   },
   "source": [
    "Command line arguments are available via `ARGS`:\n",
    "\n"
   ]
  },
  {
   "cell_type": "code",
   "execution_count": 404,
   "metadata": {
    "colab": {
     "base_uri": "https://localhost:8080/",
     "height": 51
    },
    "colab_type": "code",
    "id": "Ysg_6WElhY7-",
    "outputId": "3a6206a7-c577-4a59-e118-650ea75bcdcd"
   },
   "outputs": [
    {
     "data": {
      "text/plain": [
       "1-element Array{String,1}:\n",
       " \"/root/.local/share/jupyter/runtime/kernel-4b7aa9c6-4581-4d7b-acea-4e4dfaf036c8.json\""
      ]
     },
     "execution_count": 404,
     "metadata": {
      "tags": []
     },
     "output_type": "execute_result"
    }
   ],
   "source": [
    "ARGS"
   ]
  },
  {
   "cell_type": "markdown",
   "metadata": {
    "colab_type": "text",
    "id": "jRe_1ovZhdqh"
   },
   "source": [
    "Unlike Python's `sys.argv`, the first element of this array is <u>not</u> the program name. If you need the program name, use `PROGRAM_FILE` instead:"
   ]
  },
  {
   "cell_type": "code",
   "execution_count": 405,
   "metadata": {
    "colab": {
     "base_uri": "https://localhost:8080/",
     "height": 34
    },
    "colab_type": "code",
    "id": "2z3obYZghrHL",
    "outputId": "5bf9f50f-f126-4f72-b9e9-8dfbbdb258d5"
   },
   "outputs": [
    {
     "data": {
      "text/plain": [
       "\"/root/.julia/packages/IJulia/DrVMH/src/kernel.jl\""
      ]
     },
     "execution_count": 405,
     "metadata": {
      "tags": []
     },
     "output_type": "execute_result"
    }
   ],
   "source": [
    "PROGRAM_FILE"
   ]
  },
  {
   "cell_type": "markdown",
   "metadata": {
    "colab_type": "text",
    "id": "UnKMaPm8r1XC"
   },
   "source": [
    "You can get the current module, directory, file or line number:"
   ]
  },
  {
   "cell_type": "code",
   "execution_count": 406,
   "metadata": {
    "colab": {
     "base_uri": "https://localhost:8080/",
     "height": 34
    },
    "colab_type": "code",
    "id": "ZIou0Kgbr5mu",
    "outputId": "2367725b-00d2-4f7e-dbd4-ed6657474b0e"
   },
   "outputs": [
    {
     "data": {
      "text/plain": [
       "(Main, \"/content\", \"In[406]\", 1)"
      ]
     },
     "execution_count": 406,
     "metadata": {
      "tags": []
     },
     "output_type": "execute_result"
    }
   ],
   "source": [
    "@__MODULE__, @__DIR__, @__FILE__, @__LINE__"
   ]
  },
  {
   "cell_type": "markdown",
   "metadata": {
    "colab_type": "text",
    "id": "ahpsLiV_hBLi"
   },
   "source": [
    "The equivalent of Python's `if __name__ == \"__main__\"` is:"
   ]
  },
  {
   "cell_type": "code",
   "execution_count": 407,
   "metadata": {
    "colab": {},
    "colab_type": "code",
    "id": "hPUUlZG6g_A5"
   },
   "outputs": [],
   "source": [
    "if abspath(PROGRAM_FILE) == @__FILE__\n",
    "    println(\"Starting of the program\")\n",
    "end"
   ]
  },
  {
   "cell_type": "markdown",
   "metadata": {
    "colab_type": "text",
    "id": "8g43x6YYiKLf"
   },
   "source": [
    "# Memory Management"
   ]
  },
  {
   "cell_type": "markdown",
   "metadata": {
    "colab_type": "text",
    "id": "o-YehjM8iMmn"
   },
   "source": [
    "Let's check how many megabytes of RAM are available:"
   ]
  },
  {
   "cell_type": "code",
   "execution_count": 408,
   "metadata": {
    "colab": {
     "base_uri": "https://localhost:8080/",
     "height": 34
    },
    "colab_type": "code",
    "id": "O80YQtSciPvV",
    "outputId": "d8466741-c6b3-4cb6-ba7f-381e9bae51be"
   },
   "outputs": [
    {
     "name": "stdout",
     "output_type": "stream",
     "text": [
      "Available RAM: 3120 MB\n"
     ]
    }
   ],
   "source": [
    "free() = println(\"Available RAM: \", Sys.free_memory() ÷ 10^6, \" MB\")\n",
    "\n",
    "free()"
   ]
  },
  {
   "cell_type": "markdown",
   "metadata": {
    "colab_type": "text",
    "id": "bxKvaTpfdO5j"
   },
   "source": [
    "If a variable holds a large object that you don't need anymore, you can either wait until the variable falls out of scope, or set it to `nothing`. Either way, the memory will only be freed when the Garbage Collector does its magic, which may not be immediate. In general, you don't have to worry about that, but if you want, you can always call the GC directly:"
   ]
  },
  {
   "cell_type": "code",
   "execution_count": 409,
   "metadata": {
    "colab": {
     "base_uri": "https://localhost:8080/",
     "height": 51
    },
    "colab_type": "code",
    "id": "j0M8Oka3fod6",
    "outputId": "83f7da65-406c-4a0e-fb79-5627e81f2b44"
   },
   "outputs": [
    {
     "name": "stdout",
     "output_type": "stream",
     "text": [
      "sum(M)=4.9997184380985916e7\n",
      "sum(M)=5.000422876376158e7\n"
     ]
    }
   ],
   "source": [
    "function use_ram()\n",
    "    M = rand(10000, 10000) # use 400+MB of RAM\n",
    "    println(\"sum(M)=$(sum(M))\")\n",
    "end # M will be freed by the GC eventually after this\n",
    "\n",
    "use_ram()\n",
    "\n",
    "M = rand(10000, 10000) # use 400+MB of RAM\n",
    "println(\"sum(M)=$(sum(M))\")\n",
    "M = nothing\n",
    "\n",
    "GC.gc() # rarely needed"
   ]
  },
  {
   "cell_type": "code",
   "execution_count": 410,
   "metadata": {
    "colab": {
     "base_uri": "https://localhost:8080/",
     "height": 34
    },
    "colab_type": "code",
    "id": "O8Fbip9OpRyD",
    "outputId": "1879a5e1-1209-4752-b86f-66a085ec64b8"
   },
   "outputs": [
    {
     "name": "stdout",
     "output_type": "stream",
     "text": [
      "Available RAM: 1528 MB\n"
     ]
    }
   ],
   "source": [
    "free()"
   ]
  },
  {
   "cell_type": "markdown",
   "metadata": {
    "colab_type": "text",
    "id": "EsYZBLwwpqEG"
   },
   "source": [
    "# Thanks!"
   ]
  },
  {
   "cell_type": "markdown",
   "metadata": {
    "colab_type": "text",
    "id": "0QOVcDKLptgh"
   },
   "source": [
    "I hope you enjoyed this introduction to Julia! I recommend you join the friendly and helpful Julia community on Slack or Discourse.\n",
    "\n",
    "Cheers!\n",
    "\n",
    "Aurélien Geron"
   ]
  },
  {
   "cell_type": "code",
   "execution_count": 411,
   "metadata": {
    "colab": {},
    "colab_type": "code",
    "id": "Z3IpBJjap9Sm"
   },
   "outputs": [],
   "source": []
  }
 ],
 "metadata": {
  "accelerator": "GPU",
  "colab": {
   "collapsed_sections": [],
   "name": "Julia_for_Pythonistas.ipynb",
   "provenance": [],
   "toc_visible": true
  },
  "kernelspec": {
   "display_name": "Julia 1.5.1",
   "language": "julia",
   "name": "julia-1.5"
  },
  "language_info": {
   "file_extension": ".jl",
   "mimetype": "application/julia",
   "name": "julia",
   "version": "1.5.3"
  }
 },
 "nbformat": 4,
 "nbformat_minor": 1
}
