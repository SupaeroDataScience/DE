{
 "cells": [
  {
   "cell_type": "markdown",
   "metadata": {},
   "source": [
    "# Deploying a Dask Hub"
   ]
  },
  {
   "cell_type": "markdown",
   "metadata": {},
   "source": [
    "All this material is taken from the following docs:\n",
    "- https://docs.dask.org/en/latest/setup/kubernetes-helm.html\n",
    "- https://gateway.dask.org/install-kube.html\n",
    "- https://zero-to-jupyterhub.readthedocs.io/en/latest/kubernetes/setup-kubernetes.html\n",
    "- https://zero-to-jupyterhub.readthedocs.io/en/latest/kubernetes/setup-helm.html"
   ]
  },
  {
   "cell_type": "markdown",
   "metadata": {},
   "source": [
    "## Creating a Kubernetes Cluster"
   ]
  },
  {
   "cell_type": "markdown",
   "metadata": {},
   "source": [
    "First, you need to enable the Kubernetes and Compute APIs if not already done:\n",
    "1. Go to console.cloud.google.com\n",
    "2. Select the Kubernetes Engine in the menu: https://console.cloud.google.com/marketplace/product/google/container.googleapis.com\n",
    "3. Enable the API if not already done.\n",
    "4. Do the same for Compute Engine."
   ]
  },
  {
   "cell_type": "markdown",
   "metadata": {},
   "source": [
    "Then you'll need a terminal with __gcloud__ and __kubectl__. The easiest is to just use the Google Cloud Shell from console.cloud.google.com. If you prefer, you can follow the links above to find how to install everything on your computer."
   ]
  },
  {
   "cell_type": "markdown",
   "metadata": {},
   "source": [
    "Ask Google Cloud to create a managed Kubernetes cluster and a default node pool to get nodes (VMs) from:\n",
    "\n",
    "```\n",
    "gcloud container clusters create \\\n",
    "  --machine-type n1-standard-4 \\\n",
    "  --enable-autoscaling \\\n",
    "  --min-nodes 1 \\\n",
    "  --max-nodes 10 \\\n",
    "  --num-nodes 1 \\\n",
    "  --zone europe-west4-b \\\n",
    "  dask-hub-k8s\n",
    "```"
   ]
  },
  {
   "cell_type": "markdown",
   "metadata": {},
   "source": [
    "Yhis will take a few minutes (up to about 5).\n",
    "```\n",
    "gcloud container clusters list\n",
    "```\n",
    "\n",
    "You can then test if the cluster is running:\n",
    "```\n",
    "kubectl get node\n",
    "```"
   ]
  },
  {
   "cell_type": "markdown",
   "metadata": {},
   "source": [
    "Then get permissions to perform all administrative actions needed. \n",
    "\n",
    "**⚠️Don't forget to replace your email below.⚠️**\n",
    "\n",
    "```\n",
    "kubectl create clusterrolebinding cluster-admin-binding \\\n",
    "  --clusterrole=cluster-admin \\\n",
    "  --user=<GOOGLE-EMAIL-ACCOUNT>\n",
    "```"
   ]
  },
  {
   "cell_type": "markdown",
   "metadata": {},
   "source": [
    "## Setting up Helm"
   ]
  },
  {
   "cell_type": "markdown",
   "metadata": {},
   "source": [
    "From your Google Cloud Shell or terminal:\n",
    "\n",
    "```\n",
    "curl https://raw.githubusercontent.com/helm/helm/master/scripts/get-helm-3 | bash\n",
    "helm list\n",
    "```\n",
    "\n",
    "should return:\n",
    "```\n",
    "NAME    NAMESPACE       REVISION        UPDATED STATUS  CHART   APP VERSION\n",
    "```\n"
   ]
  },
  {
   "cell_type": "markdown",
   "metadata": {},
   "source": [
    "## Helm install a Dask Hub"
   ]
  },
  {
   "cell_type": "markdown",
   "metadata": {},
   "source": [
    "We'll use the default configuration for Daskhub, which means installing Jupyterhub and Dask Gateway on top of it. Jupyterhub and Dask Gateway are made for multiple users of a single instance, but it is easier to install as it is the default."
   ]
  },
  {
   "cell_type": "markdown",
   "metadata": {},
   "source": [
    "Verify that you’ve set up a Kubernetes cluster and added Dask’s helm charts:\n",
    "\n",
    "```\n",
    "helm repo add dask https://helm.dask.org/\n",
    "helm repo update\n",
    "```"
   ]
  },
  {
   "cell_type": "markdown",
   "metadata": {},
   "source": [
    "Generate tokens to configure Jupyterhub and Dask Gateway service:\n",
    "\n",
    "```\n",
    "openssl rand -hex 32  # generate token-1\n",
    "openssl rand -hex 32  # generate token-2\n",
    "```"
   ]
  },
  {
   "cell_type": "markdown",
   "metadata": {},
   "source": [
    "Create the file below (for example using vim or cloud shell editor) and **⚠️substitute the token-1 and token-2 values⚠️**.\n",
    "\n",
    "```yaml\n",
    "# file: daskhub-config.yaml\n",
    "jupyterhub:\n",
    "  proxy:\n",
    "    secretToken: \"token 1\"\n",
    "  hub:\n",
    "    services:\n",
    "      dask-gateway:\n",
    "        apiToken: \"token 2\"\n",
    "  scheduling:\n",
    "    podPriority:\n",
    "      enabled: true\n",
    "    userPlaceholder:\n",
    "      replicas: 1\n",
    "    userScheduler:\n",
    "      enabled: true\n",
    "  singleuser:\n",
    "    image:\n",
    "      name: \"pangeo/pytorch-notebook\"\n",
    "      tag: \"2024.01.03\"\n",
    "\n",
    "dask-gateway:\n",
    "  gateway:\n",
    "    auth:\n",
    "      jupyterhub:\n",
    "        apiToken: \"token 2\"\n",
    "    extraConfig:\n",
    "      optionHandler: |\n",
    "        from dask_gateway_server.options import Options, Integer, Float, String\n",
    "\n",
    "        def options_handler(options):\n",
    "          if \":\" not in options.image:\n",
    "            raise ValueError(\"When specifying an image you must also provide a tag\")\n",
    "          return {\n",
    "            \"worker_cores\": options.worker_cores,\n",
    "            \"worker_memory\": int(options.worker_memory * 2 ** 30),\n",
    "            \"image\": options.image,\n",
    "          }\n",
    "\n",
    "        c.Backend.cluster_options = Options(\n",
    "          Integer(\"worker_cores\", default=1, min=1, max=4, label=\"Worker Cores\"),\n",
    "          Float(\"worker_memory\", default=4, min=1, max=8, label=\"Worker Memory (GiB)\"),\n",
    "          String(\"image\", default=\"pangeo/pytorch-notebook:2024.01.03\", label=\"Image\"),\n",
    "          handler=options_handler,\n",
    "        )\n",
    "\n",
    "```\n"
   ]
  },
  {
   "attachments": {},
   "cell_type": "markdown",
   "metadata": {},
   "source": [
    "Now we just install Dask Hub:\n",
    "```\n",
    "helm upgrade --wait --install --render-subchart-notes \\\n",
    "    --namespace daskhub \\\n",
    "    --create-namespace \\\n",
    "    dhub dask/daskhub \\\n",
    "    --values=daskhub-config.yaml\n",
    "```\n",
    "\n",
    "This will again take a few minutes.\n",
    "```\n",
    "helm list -n daskhub\n",
    "```"
   ]
  },
  {
   "cell_type": "markdown",
   "metadata": {},
   "source": [
    "## Check install and go to Jupyter!"
   ]
  },
  {
   "cell_type": "markdown",
   "metadata": {},
   "source": [
    "To get the public IP of your hub deployment:\n",
    "```\n",
    "kubectl --namespace=daskhub get service proxy-public\n",
    "```"
   ]
  },
  {
   "cell_type": "markdown",
   "metadata": {},
   "source": [
    "Get the external IP, and open it in your browser. You should be able to login with any username/password."
   ]
  },
  {
   "cell_type": "markdown",
   "metadata": {},
   "source": [
    "# Ensure Dask is working, and K8S mecanisms too!\n",
    "\n",
    "## Create a dask-gateway cluster\n",
    "\n",
    "Using Dask Gateway API."
   ]
  },
  {
   "cell_type": "code",
   "execution_count": null,
   "metadata": {},
   "outputs": [],
   "source": [
    "from dask_gateway import Gateway\n",
    "gateway = Gateway()"
   ]
  },
  {
   "cell_type": "markdown",
   "metadata": {},
   "source": [
    "Is there any existing Dask cluster in there?"
   ]
  },
  {
   "cell_type": "code",
   "execution_count": null,
   "metadata": {},
   "outputs": [],
   "source": [
    "gateway.list_clusters()"
   ]
  },
  {
   "cell_type": "markdown",
   "metadata": {},
   "source": [
    "### Launch a Dask cluster"
   ]
  },
  {
   "cell_type": "code",
   "execution_count": null,
   "metadata": {},
   "outputs": [],
   "source": [
    "cluster = gateway.new_cluster(worker_cores=1, worker_memory=3.0)\n",
    "cluster"
   ]
  },
  {
   "cell_type": "markdown",
   "metadata": {},
   "source": [
    "This should display a fancy widget. You can open the Dask Dashboard from here. \n",
    "\n",
    "Now connect to the cluster, and scale it to get Dask workers."
   ]
  },
  {
   "cell_type": "code",
   "execution_count": null,
   "metadata": {},
   "outputs": [],
   "source": [
    "client = cluster.get_client()\n",
    "cluster.scale(20)"
   ]
  },
  {
   "cell_type": "markdown",
   "metadata": {},
   "source": [
    "#### _What's happening in your K8S cluster after some minutes?_"
   ]
  },
  {
   "cell_type": "markdown",
   "metadata": {},
   "source": [
    "### Launch some computation, what about Pi?\n",
    "\n",
    "We'll use Dask array, a Numpy extension for this:"
   ]
  },
  {
   "cell_type": "code",
   "execution_count": null,
   "metadata": {},
   "outputs": [],
   "source": [
    "import dask.array as da\n",
    "\n",
    "sample = 10_000_000_000  # <- this is huge!\n",
    "xxyy = da.random.uniform(-1, 1, size=(2, sample))\n",
    "norm = da.linalg.norm(xxyy, axis=0)\n",
    "summ = da.sum(norm <= 1)\n",
    "insiders = summ.compute()\n",
    "pi = 4 * insiders / sample\n",
    "print(\"pi ~= {}\".format(pi))"
   ]
  },
  {
   "attachments": {},
   "cell_type": "markdown",
   "metadata": {},
   "source": [
    "You can watch the workers activities on your DaskDashboard/workers"
   ]
  },
  {
   "cell_type": "markdown",
   "metadata": {},
   "source": [
    "#### _How many workers did you get? Why?_"
   ]
  },
  {
   "cell_type": "markdown",
   "metadata": {},
   "source": [
    "Some hints to find out\n",
    "```\n",
    "kubectl get pod -n daskhub\n",
    "```\n",
    "```\n",
    "kubectl describe pod <YOUR_POD_NAME> -n daskhub\n",
    "```"
   ]
  },
  {
   "cell_type": "markdown",
   "metadata": {},
   "source": [
    "Now just close the cluster."
   ]
  },
  {
   "cell_type": "code",
   "execution_count": null,
   "metadata": {},
   "outputs": [],
   "source": [
    "cluster.close()"
   ]
  },
  {
   "cell_type": "markdown",
   "metadata": {},
   "source": [
    "#### _What happens after a few minutes?_"
   ]
  },
  {
   "cell_type": "markdown",
   "metadata": {},
   "source": [
    "## Deleting a Kubernetes Cluster"
   ]
  },
  {
   "attachments": {},
   "cell_type": "markdown",
   "metadata": {},
   "source": [
    "Get your cluster name and region\n",
    "```\n",
    "gcloud container clusters list\n",
    "```\n",
    "Delete your kubernetes cluster\n",
    "```\n",
    "gcloud container clusters delete <YOUR_CLUSTER_NAME> --region <YOUR_CLUSTER_REGION>\n",
    "```\n"
   ]
  },
  {
   "cell_type": "markdown",
   "metadata": {},
   "source": [
    "## Access GCS Data\n",
    "\n",
    "Just to check this is working well..."
   ]
  },
  {
   "cell_type": "code",
   "execution_count": null,
   "metadata": {},
   "outputs": [],
   "source": [
    "import pandas as pd\n",
    "df = pd.read_csv('gs://obd-dask/train.csv', nrows = 1_000_000)\n",
    "df"
   ]
  },
  {
   "cell_type": "markdown",
   "metadata": {},
   "source": [
    "# Backup : If you're behind a corporate proxy (like me)\n",
    "\n",
    "Try to enable SSL (https).\n",
    "That does not work with dask-gateway."
   ]
  },
  {
   "cell_type": "markdown",
   "metadata": {},
   "source": [
    "Generate a self signed certificate, and put it inside Kubernetes secrets:\n",
    "\n",
    "```bash\n",
    "openssl req -newkey rsa:2048 -nodes -keyout domain.key -x509 -days 365 -out domain.crt\n",
    "kubectl --namespace daskhub create secret tls domain-tls --key=\"domain.key\" --cert=\"domain.crt\"\n",
    "```"
   ]
  },
  {
   "cell_type": "markdown",
   "metadata": {},
   "source": [
    "Update the yaml configuration file, in the jupyterhub.proxy section, enabling https and pointing to your certificate:\n",
    "```yaml\n",
    "jupyterhub:\n",
    "  proxy:\n",
    "    https:\n",
    "      enabled: true\n",
    "      #      hosts:\n",
    "      #  - 34.140.104.238\n",
    "      type: secret\n",
    "      secret:\n",
    "        name: domain-tls\n",
    "```"
   ]
  },
  {
   "cell_type": "markdown",
   "metadata": {},
   "source": [
    "Refresh helm deployment:\n",
    "\n",
    "```bash\n",
    "helm upgrade --cleanup-on-fail --render-subchart-notes \\\n",
    "    --namespace daskhub \\\n",
    "    --create-namespace \\\n",
    "    dhub dask/daskhub \\\n",
    "    --values=daskhub-config.yaml\n",
    "```"
   ]
  }
 ],
 "metadata": {
  "kernelspec": {
   "display_name": "Python 3",
   "language": "python",
   "name": "python3"
  },
  "language_info": {
   "codemirror_mode": {
    "name": "ipython",
    "version": 3
   },
   "file_extension": ".py",
   "mimetype": "text/x-python",
   "name": "python",
   "nbconvert_exporter": "python",
   "pygments_lexer": "ipython3",
   "version": "3.8.5"
  },
  "vscode": {
   "interpreter": {
    "hash": "9650cb4e16cdd4a8e8e2d128bf38d875813998db22a3c986335f89e0cb4d7bb2"
   }
  }
 },
 "nbformat": 4,
 "nbformat_minor": 4
}
