{
 "cells": [
  {
   "cell_type": "markdown",
   "metadata": {
    "colab_type": "text",
    "id": "tQ1r1bbb0yBv"
   },
   "source": [
    "# <img src=\"https://github.com/JuliaLang/julia-logo-graphics/raw/master/images/julia-logo-color.png\" height=\"100\" /> _for Pythonistas_\n",
    "\n",
    "> TL;DR: _Julia looks and feels a lot like Python, only much faster. It's dynamic, expressive, extensible, with batteries included, in particular for Data Science_.\n",
    "\n",
    "This notebook is an **introduction to Julia for Python programmers**.\n",
    "\n",
    "It will go through the most important Python features (such as functions, basic types, list comprehensions, exceptions, generators, modules, packages, and so on) and show you how to code them in Julia."
   ]
  },
  {
   "cell_type": "markdown",
   "metadata": {
    "colab_type": "text",
    "id": "f_1dr-2W5iSU"
   },
   "source": [
    "# Getting Started with Julia in Colab/Jupyter\n",
    "You can either run this notebook in Google Colab, or using Jupyter on your own machine."
   ]
  },
  {
   "cell_type": "markdown",
   "metadata": {
    "colab_type": "text",
    "id": "6ew60wXrZM0W"
   },
   "source": [
    "## Running on Google Colab\n",
    "1. Work on a copy of this notebook: _File_ > _Save a copy in Drive_ (you will need a Google account). Alternatively, you can download the notebook using _File_ > _Download .ipynb_, then upload it to [Colab](https://colab.research.google.com/).\n",
    "2. Execute the following cell (click on it and press Ctrl+Enter) to install Julia, IJulia (the Jupyter kernel for Julia) and other packages. You can update `JULIA_VERSION` and the other parameters, if you know what you're doing. Installation takes 2-3 minutes.\n",
    "3. Reload this page (press Ctrl+R, or ⌘+R, or the F5 key) and continue to the _Checking the Installation_ section.\n",
    "\n",
    "* _Note_: If your Colab Runtime gets reset (e.g., due to inactivity), repeat steps 2 and 3."
   ]
  },
  {
   "cell_type": "code",
   "execution_count": null,
   "metadata": {
    "colab": {
     "base_uri": "https://localhost:8080/",
     "height": 1000
    },
    "colab_type": "code",
    "id": "GIeFXS0F0zww",
    "outputId": "2a989c55-97da-41bc-ec61-d5663ca88c88"
   },
   "outputs": [
    {
     "name": "stdout",
     "output_type": "stream",
     "text": [
      "Installing Julia 1.4.2 on the current Colab Runtime...\n",
      "2020-07-02 00:00:58 URL:https://storage.googleapis.com/julialang2/bin/linux/x64/1.4/julia-1.4.2-linux-x86_64.tar.gz [99093958/99093958] -> \"/tmp/julia.tar.gz\" [1]\n",
      "Installing Julia package IJulia...\n",
      "    Cloning default registries into `~/.julia`\n",
      "    Cloning registry from \"https://github.com/JuliaRegistries/General.git\"\n",
      "\u001b[2K\u001b[?25h      Added registry `General` to `~/.julia/registries/General`\n",
      "  Resolving package versions...\n",
      "  Installed VersionParsing ── v1.2.0\n",
      "  Installed MbedTLS_jll ───── v2.16.6+0\n",
      "  Installed SoftGlobalScope ─ v1.0.10\n",
      "  Installed ZeroMQ_jll ────── v4.3.2+4\n",
      "  Installed Parsers ───────── v1.0.6\n",
      "  Installed Conda ─────────── v1.4.1\n",
      "  Installed JSON ──────────── v0.21.0\n",
      "  Installed IJulia ────────── v1.21.2\n",
      "  Installed ZMQ ───────────── v1.2.1\n",
      "  Installed MbedTLS ───────── v1.0.2\n",
      "Downloading artifact: MbedTLS\n",
      "######################################################################## 100.0%\n",
      "\u001b[1A\u001b[2K\u001b[?25hDownloading artifact: ZeroMQ\n",
      "######################################################################## 100.0%\n",
      "\u001b[1A\u001b[2K\u001b[?25h   Updating `~/.julia/environments/v1.4/Project.toml`\n",
      "  [7073ff75] + IJulia v1.21.2\n",
      "   Updating `~/.julia/environments/v1.4/Manifest.toml`\n",
      "  [8f4d0f93] + Conda v1.4.1\n",
      "  [7073ff75] + IJulia v1.21.2\n",
      "  [682c06a0] + JSON v0.21.0\n",
      "  [739be429] + MbedTLS v1.0.2\n",
      "  [c8ffd9c3] + MbedTLS_jll v2.16.6+0\n",
      "  [69de0a69] + Parsers v1.0.6\n",
      "  [b85f4697] + SoftGlobalScope v1.0.10\n",
      "  [81def892] + VersionParsing v1.2.0\n",
      "  [c2297ded] + ZMQ v1.2.1\n",
      "  [8f1865be] + ZeroMQ_jll v4.3.2+4\n",
      "  [2a0f44e3] + Base64 \n",
      "  [ade2ca70] + Dates \n",
      "  [8ba89e20] + Distributed \n",
      "  [7b1f6079] + FileWatching \n",
      "  [b77e0a4c] + InteractiveUtils \n",
      "  [76f85450] + LibGit2 \n",
      "  [8f399da3] + Libdl \n",
      "  [56ddb016] + Logging \n",
      "  [d6f4376e] + Markdown \n",
      "  [a63ad114] + Mmap \n",
      "  [44cfe95a] + Pkg \n",
      "  [de0858da] + Printf \n",
      "  [3fa0cd96] + REPL \n",
      "  [9a3f8284] + Random \n",
      "  [ea8e919c] + SHA \n",
      "  [9e88b42a] + Serialization \n",
      "  [6462fe0b] + Sockets \n",
      "  [8dfed614] + Test \n",
      "  [cf7118a7] + UUIDs \n",
      "  [4ec0a83e] + Unicode \n",
      "   Building Conda ─→ `~/.julia/packages/Conda/3rPhK/deps/build.log`\n",
      "   Building IJulia → `~/.julia/packages/IJulia/DrVMH/deps/build.log`\n",
      "Precompiling project...\n",
      "Installing Julia package BenchmarkTools...\n",
      "   Updating registry at `~/.julia/registries/General`\n",
      "   Updating git-repo `https://github.com/JuliaRegistries/General.git`\n",
      "\u001b[?25l\u001b[2K\u001b[?25h  Resolving package versions...\n",
      "  Installed BenchmarkTools ─ v0.5.0\n",
      "   Updating `~/.julia/environments/v1.4/Project.toml`\n",
      "  [6e4b80f9] + BenchmarkTools v0.5.0\n",
      "   Updating `~/.julia/environments/v1.4/Manifest.toml`\n",
      "  [6e4b80f9] + BenchmarkTools v0.5.0\n",
      "  [37e2e46d] + LinearAlgebra \n",
      "  [2f01184e] + SparseArrays \n",
      "  [10745b16] + Statistics \n",
      "Precompiling project...\n",
      "Installing Julia package PyCall...\n",
      "   Updating registry at `~/.julia/registries/General`\n",
      "   Updating git-repo `https://github.com/JuliaRegistries/General.git`\n",
      "\u001b[?25l\u001b[2K\u001b[?25h  Resolving package versions...\n",
      "  Installed MacroTools ─ v0.5.5\n",
      "  Installed PyCall ───── v1.91.4\n",
      "   Updating `~/.julia/environments/v1.4/Project.toml`\n",
      "  [438e738f] + PyCall v1.91.4\n",
      "   Updating `~/.julia/environments/v1.4/Manifest.toml`\n",
      "  [1914dd2f] + MacroTools v0.5.5\n",
      "  [438e738f] + PyCall v1.91.4\n",
      "   Building PyCall → `~/.julia/packages/PyCall/zqDXB/deps/build.log`\n",
      "Precompiling project...\n",
      "Installing Julia package PyPlot...\n",
      "   Updating registry at `~/.julia/registries/General`\n",
      "   Updating git-repo `https://github.com/JuliaRegistries/General.git`\n",
      "\u001b[?25l\u001b[2K\u001b[?25h  Resolving package versions...\n",
      "  Installed Reexport ────────── v0.2.0\n",
      "  Installed LaTeXStrings ────── v1.1.0\n",
      "  Installed PyPlot ──────────── v2.9.0\n",
      "  Installed FixedPointNumbers ─ v0.8.1\n",
      "  Installed ColorTypes ──────── v0.10.5\n",
      "  Installed Colors ──────────── v0.12.3\n",
      "   Updating `~/.julia/environments/v1.4/Project.toml`\n",
      "  [d330b81b] + PyPlot v2.9.0\n",
      "   Updating `~/.julia/environments/v1.4/Manifest.toml`\n",
      "  [3da002f7] + ColorTypes v0.10.5\n",
      "  [5ae59095] + Colors v0.12.3\n",
      "  [53c48c17] + FixedPointNumbers v0.8.1\n",
      "  [b964fa9f] + LaTeXStrings v1.1.0\n",
      "  [d330b81b] + PyPlot v2.9.0\n",
      "  [189a3867] + Reexport v0.2.0\n",
      "Precompiling project...\n",
      "Installing Julia package CUDA...\n",
      "   Updating registry at `~/.julia/registries/General`\n",
      "   Updating git-repo `https://github.com/JuliaRegistries/General.git`\n",
      "\u001b[?25l\u001b[2K\u001b[?25h  Resolving package versions...\n",
      "  Installed NNPACK_jll ───────── v2018.6.22+0\n",
      "  Installed Adapt ────────────── v2.0.2\n",
      "  Installed TimerOutputs ─────── v0.5.6\n",
      "  Installed GPUCompiler ──────── v0.4.1\n",
      "  Installed BinaryProvider ───── v0.5.10\n",
      "  Installed OrderedCollections ─ v1.2.0\n",
      "  Installed DataStructures ───── v0.17.19\n",
      "  Installed CUDA ─────────────── v1.0.2\n",
      "  Installed ExprTools ────────── v0.1.1\n",
      "  Installed Requires ─────────── v1.0.1\n",
      "  Installed CEnum ────────────── v0.4.1\n",
      "  Installed AbstractFFTs ─────── v0.5.0\n",
      "  Installed NNlib ────────────── v0.7.0\n",
      "  Installed GPUArrays ────────── v4.0.0\n",
      "  Installed LLVM ─────────────── v1.7.0\n",
      "Downloading artifact: NNPACK\n",
      "######################################################################## 100.0%\n",
      "\u001b[1A\u001b[2K\u001b[?25h   Updating `~/.julia/environments/v1.4/Project.toml`\n",
      "  [052768ef] + CUDA v1.0.2\n",
      "   Updating `~/.julia/environments/v1.4/Manifest.toml`\n",
      "  [621f4979] + AbstractFFTs v0.5.0\n",
      "  [79e6a3ab] + Adapt v2.0.2\n",
      "  [b99e7846] + BinaryProvider v0.5.10\n",
      "  [fa961155] + CEnum v0.4.1\n",
      "  [052768ef] + CUDA v1.0.2\n",
      "  [864edb3b] + DataStructures v0.17.19\n",
      "  [e2ba6199] + ExprTools v0.1.1\n",
      "  [0c68f7d7] + GPUArrays v4.0.0\n",
      "  [61eb1bfa] + GPUCompiler v0.4.1\n",
      "  [929cbde3] + LLVM v1.7.0\n",
      "  [a6bfbf70] + NNPACK_jll v2018.6.22+0\n",
      "  [872c559c] + NNlib v0.7.0\n",
      "  [bac558e1] + OrderedCollections v1.2.0\n",
      "  [ae029012] + Requires v1.0.1\n",
      "  [a759f4b9] + TimerOutputs v0.5.6\n",
      "Precompiling project...\n",
      "Installing IJulia kernel...\n",
      "[ Info: Installing julia kernelspec in /root/.local/share/jupyter/kernels/julia-1.4\n",
      "\n",
      "Successfully installed julia version 1.4.2!\n",
      "Please reload this page (press Ctrl+R, ⌘+R, or the F5 key) then\n",
      "jump to the 'Checking the Installation' section.\n"
     ]
    },
    {
     "data": {
      "text/plain": []
     },
     "execution_count": 1,
     "metadata": {
      "tags": []
     },
     "output_type": "execute_result"
    }
   ],
   "source": [
    "%%shell\n",
    "set -e\n",
    "\n",
    "#---------------------------------------------------#\n",
    "JULIA_VERSION=\"1.5.1\" # any version ≥ 0.7.0\n",
    "JULIA_PACKAGES=\"IJulia BenchmarkTools PyCall PyPlot\"\n",
    "JULIA_PACKAGES_IF_GPU=\"CUDA\"\n",
    "JULIA_NUM_THREADS=4\n",
    "#---------------------------------------------------#\n",
    "\n",
    "if [ -n \"$COLAB_GPU\" ] && [ -z `which julia` ]; then\n",
    "  # Install Julia\n",
    "  JULIA_VER=`cut -d '.' -f -2 <<< \"$JULIA_VERSION\"`\n",
    "  echo \"Installing Julia $JULIA_VERSION on the current Colab Runtime...\"\n",
    "  BASE_URL=\"https://julialang-s3.julialang.org/bin/linux/x64\"\n",
    "  URL=\"$BASE_URL/$JULIA_VER/julia-$JULIA_VERSION-linux-x86_64.tar.gz\"\n",
    "  wget -nv $URL -O /tmp/julia.tar.gz # -nv means \"not verbose\"\n",
    "  tar -x -f /tmp/julia.tar.gz -C /usr/local --strip-components 1\n",
    "  rm /tmp/julia.tar.gz\n",
    "\n",
    "  # Install Packages\n",
    "  if [ \"$COLAB_GPU\" = \"1\" ]; then\n",
    "      JULIA_PACKAGES=\"$JULIA_PACKAGES $JULIA_PACKAGES_IF_GPU\"\n",
    "  fi\n",
    "  for PKG in `echo $JULIA_PACKAGES`; do\n",
    "    echo \"Installing Julia package $PKG...\"\n",
    "    julia -e 'using Pkg; pkg\"add '$PKG'; precompile;\"'\n",
    "  done\n",
    "\n",
    "  # Install kernel and rename it to \"julia\"\n",
    "  echo \"Installing IJulia kernel...\"\n",
    "  julia -e 'using IJulia; IJulia.installkernel(\"julia\", env=Dict(\n",
    "      \"JULIA_NUM_THREADS\"=>\"'\"$JULIA_NUM_THREADS\"'\"))'\n",
    "  KERNEL_DIR=`julia -e \"using IJulia; print(IJulia.kerneldir())\"`\n",
    "  KERNEL_NAME=`ls -d \"$KERNEL_DIR\"/julia*`\n",
    "  mv -f $KERNEL_NAME \"$KERNEL_DIR\"/julia  \n",
    "\n",
    "  echo ''\n",
    "  echo \"Successfully installed `julia -v`!\"\n",
    "  echo \"Please reload this page (press Ctrl+R, ⌘+R, or the F5 key) then\"\n",
    "  echo \"jump to the 'Checking the Installation' section.\"\n",
    "fi"
   ]
  },
  {
   "cell_type": "markdown",
   "metadata": {
    "colab_type": "text",
    "id": "2ZvetMlVYKXY"
   },
   "source": [
    "## Running This Notebook Locally\n",
    "If you prefer to run this notebook on your machine instead of Google Colab:\n",
    "\n",
    "* Download this notebook (File > Download .ipynb)\n",
    "* Install [Julia](https://julialang.org/downloads/)\n",
    "* Run the following command in a terminal to install `IJulia` (the Jupyter kernel for Julia), and a few packages we will use:\n",
    "```bash\n",
    "julia -e 'using Pkg\n",
    "            pkg\"add IJulia; precompile;\"\n",
    "            pkg\"add BenchmarkTools; precompile;\"\n",
    "            pkg\"add PyCall; precompile;\"\n",
    "            pkg\"add PyPlot; precompile;\"'\n",
    "```\n",
    "\n",
    "* Next, go to the directory containing this notebook:\n",
    "\n",
    "    ```julia\n",
    "cd /path/to/notebook/directory\n",
    "```\n",
    "\n",
    "* Start Jupyter Notebook:\n",
    "\n",
    "    ```bash\n",
    "julia -e 'using IJulia; IJulia.notebook()'\n",
    "```\n",
    "\n",
    "    Or replace `notebook()` with `jupyterlab()` if you prefer JupyterLab.\n",
    "\n",
    "    If you do not already have [Jupyter](https://jupyter.org/install) installed, IJulia will propose to install it. If you agree, it will automatically install a private Miniconda (just for Julia), and install Jupyter and Python inside it.\n",
    "\n",
    "* Lastly, open this notebook and skip directly to the next section."
   ]
  },
  {
   "cell_type": "markdown",
   "metadata": {
    "colab_type": "text",
    "id": "-OS3Ac017T1i"
   },
   "source": [
    "## Checking the Installation\n",
    "The `versioninfo()` function should print your Julia version and some other info about the system (if you ever ask for help or file an issue about Julia, you should always provide this information)."
   ]
  },
  {
   "cell_type": "code",
   "execution_count": 1,
   "metadata": {
    "colab": {
     "base_uri": "https://localhost:8080/",
     "height": 187
    },
    "colab_type": "code",
    "id": "EEzvvzCl1i0F",
    "outputId": "2ee483c8-0392-48c9-fec9-d25fe9ba7e94"
   },
   "outputs": [
    {
     "name": "stdout",
     "output_type": "stream",
     "text": [
      "Julia Version 1.4.2\n",
      "Commit 44fa15b150* (2020-05-23 18:35 UTC)\n",
      "Platform Info:\n",
      "  OS: Linux (x86_64-pc-linux-gnu)\n",
      "  CPU: Intel(R) Xeon(R) CPU @ 2.20GHz\n",
      "  WORD_SIZE: 64\n",
      "  LIBM: libopenlibm\n",
      "  LLVM: libLLVM-8.0.1 (ORCJIT, broadwell)\n",
      "Environment:\n",
      "  JULIA_NUM_THREADS = 4\n"
     ]
    }
   ],
   "source": [
    "versioninfo()"
   ]
  },
  {
   "cell_type": "markdown",
   "metadata": {
    "colab_type": "text",
    "id": "GnSoOX6btmkh"
   },
   "source": [
    "# Getting Help\n",
    "To get help on any module, function, variable, or just about anything else, just type `?` followed by what you're interested in. For example:"
   ]
  },
  {
   "cell_type": "code",
   "execution_count": 2,
   "metadata": {
    "colab": {
     "base_uri": "https://localhost:8080/",
     "height": 120
    },
    "colab_type": "code",
    "id": "-4FMkizktjB5",
    "outputId": "f40e8fd9-b3e0-4f85-ce88-ea67cf6ee572"
   },
   "outputs": [
    {
     "name": "stdout",
     "output_type": "stream",
     "text": [
      "search: \u001b[0m\u001b[1mv\u001b[22m\u001b[0m\u001b[1me\u001b[22m\u001b[0m\u001b[1mr\u001b[22m\u001b[0m\u001b[1ms\u001b[22m\u001b[0m\u001b[1mi\u001b[22m\u001b[0m\u001b[1mo\u001b[22m\u001b[0m\u001b[1mn\u001b[22m\u001b[0m\u001b[1mi\u001b[22m\u001b[0m\u001b[1mn\u001b[22m\u001b[0m\u001b[1mf\u001b[22m\u001b[0m\u001b[1mo\u001b[22m\n",
      "\n"
     ]
    },
    {
     "data": {
      "text/latex": [
       "\\begin{verbatim}\n",
       "versioninfo(io::IO=stdout; verbose::Bool=false)\n",
       "\\end{verbatim}\n",
       "Print information about the version of Julia in use. The output is controlled with boolean keyword arguments:\n",
       "\n",
       "\\begin{itemize}\n",
       "\\item \\texttt{verbose}: print all additional information\n",
       "\n",
       "\\end{itemize}\n"
      ],
      "text/markdown": [
       "```\n",
       "versioninfo(io::IO=stdout; verbose::Bool=false)\n",
       "```\n",
       "\n",
       "Print information about the version of Julia in use. The output is controlled with boolean keyword arguments:\n",
       "\n",
       "  * `verbose`: print all additional information\n"
      ],
      "text/plain": [
       "\u001b[36m  versioninfo(io::IO=stdout; verbose::Bool=false)\u001b[39m\n",
       "\n",
       "  Print information about the version of Julia in use. The output is\n",
       "  controlled with boolean keyword arguments:\n",
       "\n",
       "    •    \u001b[36mverbose\u001b[39m: print all additional information"
      ]
     },
     "execution_count": 2,
     "metadata": {
      "tags": []
     },
     "output_type": "execute_result"
    }
   ],
   "source": [
    "?versioninfo"
   ]
  },
  {
   "cell_type": "markdown",
   "metadata": {
    "colab_type": "text",
    "id": "iAZabyzVEKlX"
   },
   "source": [
    "This works in interactive mode only: in Jupyter, Colab and in the Julia shell (called the REPL)."
   ]
  },
  {
   "cell_type": "markdown",
   "metadata": {
    "colab_type": "text",
    "id": "QvXUXo-XUt3h"
   },
   "source": [
    "Here are a few more ways to get help and inspect objects in interactive mode:\n",
    "\n",
    "|Julia|Python\n",
    "|-----|------\n",
    "|`?obj` | `help(obj)`\n",
    "|`dump(obj)` | `print(repr(obj))`\n",
    "|`names(FooModule)` | `dir(foo_module)`\n",
    "|`methodswith(SomeType)` | `dir(SomeType)`\n",
    "|`@which func` | `func.__module__`\n",
    "|`apropos(\"bar\")` | Search for `\"bar\"` in docstrings of all installed packages\n",
    "|`typeof(obj)` | `type(obj)`\n",
    "|`obj isa SomeType`<br />or<br />`isa(obj, SomeType)` | `isinstance(obj, SomeType)`\n",
    "\n",
    "If you ever ask for help or file an issue about Julia, you should generally provide the output of `versioninfo()`.\n",
    "\n",
    "And of course, you can also learn and get help here:\n",
    "\n",
    "* Learning: https://julialang.org/learning/\n",
    "* Documentation: https://docs.julialang.org/\n",
    "* Questions & Discussions:\n",
    "  * https://discourse.julialang.org/\n",
    "  * http://julialang.slack.com/\n",
    "  * https://stackoverflow.com/questions/tagged/julia"
   ]
  },
  {
   "cell_type": "markdown",
   "metadata": {
    "colab_type": "text",
    "id": "TB3UQ7RQZZtP"
   },
   "source": [
    "# A First Look at Julia\n",
    "This section will give you an idea of what Julia looks like and what some of its major qualities are: it's expressive, dynamic, flexible, and most of all, super fast."
   ]
  },
  {
   "cell_type": "markdown",
   "metadata": {
    "colab_type": "text",
    "id": "tBKp4lciICdi"
   },
   "source": [
    "## Estimating π\n",
    "Let's write our first function. It will estimate π using the equation:\n",
    "$π = 4 \\times \\left(1 - \\dfrac{1}{3} + \\dfrac{1}{5} - \\dfrac{1}{7} + \\dfrac{1}{9}-\\dfrac{1}{11}+\\dots\\right)$\n",
    "\n",
    "There are much better ways to estimate π, but this one is easy to implement."
   ]
  },
  {
   "cell_type": "code",
   "execution_count": 3,
   "metadata": {
    "colab": {
     "base_uri": "https://localhost:8080/",
     "height": 51
    },
    "colab_type": "code",
    "id": "EPRfV4_XI2Rk",
    "outputId": "f1a3ceaa-c8f2-4636-d5db-03079bc4d1d9"
   },
   "outputs": [
    {
     "name": "stdout",
     "output_type": "stream",
     "text": [
      "π ≈ 3.141592663589326\n",
      "Error is 9.999532757376528e-9\n"
     ]
    }
   ],
   "source": [
    "function estimate_pi(n)\n",
    "    s = 1.0\n",
    "    for i in 1:n\n",
    "        s += (isodd(i) ? -1 : 1) / (2i + 1)\n",
    "    end\n",
    "    4s\n",
    "end\n",
    "\n",
    "p = estimate_pi(100_000_000)\n",
    "println(\"π ≈ $p\")\n",
    "println(\"Error is $(p - π)\")"
   ]
  },
  {
   "cell_type": "markdown",
   "metadata": {
    "colab_type": "text",
    "id": "5SGZnQB3cug3"
   },
   "source": [
    "**Note**: syntax highlighting for Julia does not work (yet?) on Colab, but it does in Jupyter."
   ]
  },
  {
   "cell_type": "markdown",
   "metadata": {
    "colab_type": "text",
    "id": "iYJZNTLCLdU3"
   },
   "source": [
    "Compare this with the equivalent Python 3 code:"
   ]
  },
  {
   "cell_type": "markdown",
   "metadata": {
    "colab_type": "text",
    "id": "F98h-og4KHHn"
   },
   "source": [
    "```python\n",
    "# PYTHON\n",
    "import math\n",
    "\n",
    "def estimate_pi(n):\n",
    "    s = 1.0\n",
    "    for i in range(1, n + 1):\n",
    "        s += (-1 if i % 2 else 1) / (2 * i + 1)\n",
    "    return 4 * s\n",
    "\n",
    "p = estimate_pi(100_000_000)\n",
    "print(f\"π ≈ {p}\") # f-strings are available in Python 3.6+\n",
    "print(f\"Error is {p - math.pi}\")\n",
    "```"
   ]
  },
  {
   "cell_type": "markdown",
   "metadata": {
    "colab_type": "text",
    "id": "zZl4GRE0LuEc"
   },
   "source": [
    "Pretty similar, right? But notice the small differences:\n",
    "\n",
    "|Julia|Python\n",
    "|-----|------\n",
    "|`function` | `def`\n",
    "|`for i in X`<br />&nbsp;&nbsp;&nbsp;&nbsp;`...`<br />`end` | `for i in X:`<br />&nbsp;&nbsp;&nbsp;&nbsp;`...`\n",
    "|`1:n` | `range(1, n+1)`\n",
    "|`cond ? a : b` | `a if cond else b`\n",
    "|`2i + 1` | `2 * i + 1`\n",
    "|`4s` | `return 4 * s`\n",
    "|`println(a, b)` | `print(a, b, sep=\"\")`\n",
    "|`print(a, b)` | `print(a, b, sep=\"\", end=\"\")`\n",
    "|`\"$p\"` | `f\"{p}\"`\n",
    "|`\"$(p - π)\"` | `f\"{p - math.pi}\"`\n",
    "\n",
    "This example shows that:\n",
    "* Julia can be just as concise and readable as Python.\n",
    "* Indentation in Julia is _not_ meaningful like it is in Python. Instead, blocks end with `end`.\n",
    "* Many math features are built in Julia and need no imports.\n",
    "* There's some mathy syntactic sugar, such as `2i` (but you can write `2 * i` if you prefer).\n",
    "* In Julia, the `return` keyword is optional at the end of a function. The result of the last expression is returned (`4s` in this example).\n",
    "* Julia loves Unicode and does not hesitate to use Unicode characters like `π`. However, there are generally plain-ASCII equivalents (e.g., `π == pi`)."
   ]
  },
  {
   "cell_type": "markdown",
   "metadata": {
    "colab_type": "text",
    "id": "C81648ZjKljL"
   },
   "source": [
    "## Typing Unicode Characters"
   ]
  },
  {
   "cell_type": "markdown",
   "metadata": {
    "colab_type": "text",
    "id": "ceBdy_lFKoFz"
   },
   "source": [
    "Typing Unicode characters is easy: for latex symbols like π, just type `\\pi<tab>`. For emojis like 😃, type `\\:smiley:<tab>`.\n",
    "\n",
    "This works in the REPL, in Jupyter, but unfortunately not in Colab (yet?). As a workaround, you can run the following code to print the character you want, then copy/paste it:"
   ]
  },
  {
   "cell_type": "code",
   "execution_count": 4,
   "metadata": {
    "colab": {
     "base_uri": "https://localhost:8080/",
     "height": 34
    },
    "colab_type": "code",
    "id": "6nvl3qveKHld",
    "outputId": "93d80d65-b0d2-4191-a06e-a029dc2b8f1f"
   },
   "outputs": [
    {
     "data": {
      "text/plain": [
       "\"π\""
      ]
     },
     "execution_count": 4,
     "metadata": {
      "tags": []
     },
     "output_type": "execute_result"
    }
   ],
   "source": [
    "using REPL.REPLCompletions: latex_symbols, emoji_symbols\n",
    "\n",
    "latex_symbols[\"\\\\pi\"]"
   ]
  },
  {
   "cell_type": "code",
   "execution_count": 5,
   "metadata": {
    "colab": {
     "base_uri": "https://localhost:8080/",
     "height": 34
    },
    "colab_type": "code",
    "id": "RUHi_sDKLGL5",
    "outputId": "6232f286-0900-47de-f88b-ecab8600580e"
   },
   "outputs": [
    {
     "data": {
      "text/plain": [
       "\"😃\""
      ]
     },
     "execution_count": 5,
     "metadata": {
      "tags": []
     },
     "output_type": "execute_result"
    }
   ],
   "source": [
    "emoji_symbols[\"\\\\:smiley:\"]"
   ]
  },
  {
   "cell_type": "markdown",
   "metadata": {
    "colab_type": "text",
    "id": "9at61Y3LLJWX"
   },
   "source": [
    "In Julia, `using Foo.Bar: a, b` corresponds to running `from foo.bar import a, b` in Python.\n",
    "\n",
    "|Julia|Python\n",
    "|-----|------\n",
    "|`using Foo` | `from foo import *; import foo`\n",
    "|`using Foo.Bar` | `from foo.bar import *; from foo import bar`\n",
    "|`using Foo.Bar: a, b` | `from foo.bar import a, b`\n",
    "|`using Foo: Bar` | `from foo import bar`\n",
    "\n",
    "More on this later."
   ]
  },
  {
   "cell_type": "markdown",
   "metadata": {
    "colab_type": "text",
    "id": "0CnQq32IaDGD"
   },
   "source": [
    "## Running Python code in Julia\n",
    "Julia lets you easily run Python code using the `PyCall` module. We installed it earlier, so we just need to import it:"
   ]
  },
  {
   "cell_type": "code",
   "execution_count": 6,
   "metadata": {
    "colab": {},
    "colab_type": "code",
    "id": "SHCsfibyaBRk"
   },
   "outputs": [],
   "source": [
    "using PyCall"
   ]
  },
  {
   "cell_type": "markdown",
   "metadata": {
    "colab_type": "text",
    "id": "x7Qk9ht-d8Vo"
   },
   "source": [
    "Now that we have imported `PyCall`, we can use the `pyimport()` function to import a Python module directly in Julia! For example, let's check which Python version we are using:"
   ]
  },
  {
   "cell_type": "code",
   "execution_count": 7,
   "metadata": {
    "colab": {
     "base_uri": "https://localhost:8080/",
     "height": 34
    },
    "colab_type": "code",
    "id": "LlB4nMZVeZmY",
    "outputId": "eb50b3f9-aa5d-445d-a30c-c68939b628b2"
   },
   "outputs": [
    {
     "data": {
      "text/plain": [
       "\"3.6.9 (default, Apr 18 2020, 01:56:04) \\n[GCC 8.4.0]\""
      ]
     },
     "execution_count": 7,
     "metadata": {
      "tags": []
     },
     "output_type": "execute_result"
    }
   ],
   "source": [
    "sys = pyimport(\"sys\")\n",
    "sys.version"
   ]
  },
  {
   "cell_type": "markdown",
   "metadata": {
    "colab_type": "text",
    "id": "YwM2lGhmjIAA"
   },
   "source": [
    "In fact, let's run the Python code we discussed earlier (this will take about 15 seconds to run, because Python is so slow...):"
   ]
  },
  {
   "cell_type": "code",
   "execution_count": 8,
   "metadata": {
    "colab": {},
    "colab_type": "code",
    "id": "MrhaObEaJ_sB"
   },
   "outputs": [],
   "source": [
    "py\"\"\"\n",
    "import math\n",
    " \n",
    "def estimate_pi(n):\n",
    "    s = 1.0\n",
    "    for i in range(1, n + 1):\n",
    "        s += (-1 if i % 2 else 1) / (2 * i + 1)\n",
    "    return 4 * s\n",
    " \n",
    "p = estimate_pi(100_000_000)\n",
    "print(f\"π ≈ {p}\") # f-strings are available in Python 3.6+\n",
    "print(f\"Error is {p - math.pi}\")\n",
    "\"\"\"\n"
   ]
  },
  {
   "cell_type": "markdown",
   "metadata": {
    "colab_type": "text",
    "id": "PHemaGjSja7O"
   },
   "source": [
    "As you can see, running arbitrary Python code is as simple as using py-strings (`py\"...\"`). Note that py-strings are not part of the Julia language itself: they are defined by the `PyCall` module (we will see how this works later).\n",
    "\n",
    "Unfortunately, Python's `print()` function writes to the standard output, which is not captured by Colab, so we can't see the output of this code. That's okay, we can look at the value of `p`:"
   ]
  },
  {
   "cell_type": "code",
   "execution_count": 9,
   "metadata": {
    "colab": {
     "base_uri": "https://localhost:8080/",
     "height": 34
    },
    "colab_type": "code",
    "id": "5z_QlxhJLRJ5",
    "outputId": "46618073-986a-4772-d79f-3a1ed0a5ecdd"
   },
   "outputs": [
    {
     "data": {
      "text/plain": [
       "3.141592663589326"
      ]
     },
     "execution_count": 9,
     "metadata": {
      "tags": []
     },
     "output_type": "execute_result"
    }
   ],
   "source": [
    "py\"p\""
   ]
  },
  {
   "cell_type": "markdown",
   "metadata": {
    "colab_type": "text",
    "id": "jBx7UcHtkMa-"
   },
   "source": [
    "Let's compare this to the value we calculated above using Julia:"
   ]
  },
  {
   "cell_type": "code",
   "execution_count": 10,
   "metadata": {
    "colab": {
     "base_uri": "https://localhost:8080/",
     "height": 34
    },
    "colab_type": "code",
    "id": "sKNlJjjSkIo0",
    "outputId": "ecefa6dd-d4b7-4c18-c620-03c8330bdee9"
   },
   "outputs": [
    {
     "data": {
      "text/plain": [
       "0.0"
      ]
     },
     "execution_count": 10,
     "metadata": {
      "tags": []
     },
     "output_type": "execute_result"
    }
   ],
   "source": [
    "py\"p\" - p"
   ]
  },
  {
   "cell_type": "markdown",
   "metadata": {
    "colab_type": "text",
    "id": "AOzbgPMMksUb"
   },
   "source": [
    "Perfect, they are exactly equal!\n",
    "\n",
    "As you can see, it's very easy to mix Julia and Python code. So if there's a module you really love in Python, you can keep using it as long as you want! For example, let's use NumPy:"
   ]
  },
  {
   "cell_type": "code",
   "execution_count": 11,
   "metadata": {
    "colab": {
     "base_uri": "https://localhost:8080/",
     "height": 68
    },
    "colab_type": "code",
    "id": "uXSDig4XrKyS",
    "outputId": "89bfeda2-0967-4135-f91f-0f7ffef85185"
   },
   "outputs": [
    {
     "data": {
      "text/plain": [
       "2×3 Array{Float64,2}:\n",
       " 0.326131  0.337986  0.475167\n",
       " 0.537621  0.912136  0.792325"
      ]
     },
     "execution_count": 11,
     "metadata": {
      "tags": []
     },
     "output_type": "execute_result"
    }
   ],
   "source": [
    "np = pyimport(\"numpy\")\n",
    "a = np.random.rand(2, 3)"
   ]
  },
  {
   "cell_type": "markdown",
   "metadata": {
    "colab_type": "text",
    "id": "zPMwgIaeyRBh"
   },
   "source": [
    "Notice that `PyCall` automatically converts some Python types to Julia types, including NumPy arrays. That's really quite convenient! Note that Julia supports multi-dimensional arrays (analog to NumPy arrays) out of the box. `Array{Float64, 2}` means that it's a 2-dimensional array of 64-bit floats.\n",
    "\n",
    "`PyCall` also converts Julia arrays to NumPy arrays when needed:"
   ]
  },
  {
   "cell_type": "code",
   "execution_count": 12,
   "metadata": {
    "colab": {
     "base_uri": "https://localhost:8080/",
     "height": 68
    },
    "colab_type": "code",
    "id": "aWAC4wxqrxCb",
    "outputId": "0beae75b-5662-46ab-e6bb-536385cf2673"
   },
   "outputs": [
    {
     "data": {
      "text/plain": [
       "2×3 Array{Float64,2}:\n",
       " 1.3856   1.40212  1.60828\n",
       " 1.71193  2.48963  2.20852"
      ]
     },
     "execution_count": 12,
     "metadata": {
      "tags": []
     },
     "output_type": "execute_result"
    }
   ],
   "source": [
    "exp_a = np.exp(a)"
   ]
  },
  {
   "cell_type": "markdown",
   "metadata": {
    "colab_type": "text",
    "id": "gy8gZ8pp3Z0n"
   },
   "source": [
    "If you want to use some Julia variable in a py-string, for example `exp_a`, you can do so by writing `$exp_a` like this:"
   ]
  },
  {
   "cell_type": "code",
   "execution_count": 13,
   "metadata": {
    "colab": {
     "base_uri": "https://localhost:8080/",
     "height": 68
    },
    "colab_type": "code",
    "id": "dxQ25HpJ3oPA",
    "outputId": "d070c2f6-79e4-4038-d57e-258ae9e4df31"
   },
   "outputs": [
    {
     "data": {
      "text/plain": [
       "2×3 Array{Float64,2}:\n",
       " 0.326131  0.337986  0.475167\n",
       " 0.537621  0.912136  0.792325"
      ]
     },
     "execution_count": 13,
     "metadata": {
      "tags": []
     },
     "output_type": "execute_result"
    }
   ],
   "source": [
    "py\"\"\"\n",
    "import numpy as np\n",
    "\n",
    "result = np.log($exp_a)\n",
    "\"\"\"\n",
    "\n",
    "py\"result\""
   ]
  },
  {
   "cell_type": "markdown",
   "metadata": {
    "colab_type": "text",
    "id": "jtxk8kebxFdM"
   },
   "source": [
    "If you want to keep using Matplotlib, it's best to use the `PyPlot` module (which we installed earlier), rather than trying to use `pyimport(\"matplotlib\")`, as `PyPlot` provides a more straightforward interface with Julia, and it plays nicely with Jupyter and Colab:"
   ]
  },
  {
   "cell_type": "code",
   "execution_count": 14,
   "metadata": {
    "colab": {
     "base_uri": "https://localhost:8080/",
     "height": 452
    },
    "colab_type": "code",
    "id": "gyHkEL7ExPg2",
    "outputId": "287dd216-9def-4d88-c2e0-51feff07cc8c"
   },
   "outputs": [
    {
     "data": {
      "image/png": "[encoded data removed]",
      "text/plain": [
       "Figure(PyObject <Figure size 640x480 with 1 Axes>)"
      ]
     },
     "metadata": {
      "tags": []
     },
     "output_type": "display_data"
    }
   ],
   "source": [
    "using PyPlot\n",
    "\n",
    "x = range(-5π, 5π, length=100)\n",
    "plt.plot(x, sin.(x) ./ x) # we'll discuss this syntax in the next section\n",
    "plt.title(\"sin(x) / x\")\n",
    "plt.grid(\"True\")\n",
    "plt.show()"
   ]
  },
  {
   "cell_type": "markdown",
   "metadata": {
    "colab_type": "text",
    "id": "b42BIiqN6JM_"
   },
   "source": [
    "That said, Julia has its own plotting libraries, such as the `Plots` library, which you may want to check out."
   ]
  },
  {
   "cell_type": "markdown",
   "metadata": {
    "colab_type": "text",
    "id": "FGStdgNK9IG1"
   },
   "source": [
    "As you can see, Julia's `range()` function acts much like NumPy's `linspace()` function, when you use the `length` argument. However, it acts like Python's `range()` function when you use the `step` argument instead (except the upper bound is inclusive). Julia's `range()` function returns an object which behaves just like an array, except it doesn't actually use any RAM for its elements, it just stores the range parameters. If you want to collect all of the elements into an array, use the `collect()` function (similar to Python's `list()` function):"
   ]
  },
  {
   "cell_type": "code",
   "execution_count": 15,
   "metadata": {
    "colab": {
     "base_uri": "https://localhost:8080/",
     "height": 85
    },
    "colab_type": "code",
    "id": "h728H-f9-rC_",
    "outputId": "02824cb3-cc75-4e42-ae50-c9743464e336"
   },
   "outputs": [
    {
     "name": "stdout",
     "output_type": "stream",
     "text": [
      "[10, 30, 50, 70]\n",
      "[10, 30, 50, 70]\n",
      "[10.0, 27.5, 45.0, 62.5, 80.0]\n",
      "[10.0, 27.5, 45.0, 62.5, 80.0]\n"
     ]
    }
   ],
   "source": [
    "println(collect(range(10, 80, step=20)))\n",
    "println(collect(10:20:80)) # 10:20:80 is equivalent to the previous range\n",
    "println(collect(range(10, 80, length=5))) # similar to NumPy's linspace()\n",
    "step = (80-10)/(5-1) # 17.5\n",
    "println(collect(10:step:80)) # equivalent to the previous range"
   ]
  },
  {
   "cell_type": "markdown",
   "metadata": {
    "colab_type": "text",
    "id": "gAU4t9zl72PW"
   },
   "source": [
    "The equivalent Python code is:\n",
    "\n",
    "```python\n",
    "# PYTHON\n",
    "print(list(range(10, 80+1, 20)))\n",
    "# there's no short-hand for range() in Python\n",
    "print(np.linspace(10, 80, 5))\n",
    "step = (80-10)/(5-1) # 17.5\n",
    "print([i*step + 10 for i in range(5)])\n",
    "```"
   ]
  },
  {
   "cell_type": "markdown",
   "metadata": {
    "colab_type": "text",
    "id": "ucA1zMkw-n_U"
   },
   "source": [
    "|Julia|Python\n",
    "|-----|------\n",
    "|`np = pyimport(\"numpy\")` | `import numpy as np`\n",
    "|`using PyPlot` | `from pylab import *`\n",
    "|`1:10` | `range(1, 11)`\n",
    "|`1:2:10`<br />or<br />`range(1, 11, 2)` | `range(1, 11, 2)`\n",
    "|`1.2:0.5:10.3`<br />or<br />`range(1.2, 10.3, step=0.5)` | `np.arange(1.2, 10.3, 0.5)`\n",
    "|`range(1, 10, length=3)` | `np.linspace(1, 10, 3)`\n",
    "|`collect(1:5)`<br />or<br />`[i for i in 1:5]` | `list(range(1, 6))`<br />or<br />`[i for i in range(1, 6)]`\n",
    "\n"
   ]
  },
  {
   "cell_type": "markdown",
   "metadata": {
    "colab_type": "text",
    "id": "1iiE76xA8pwr"
   },
   "source": [
    "## Loop Fusion\n",
    "Did you notice that we wrote `sin.(x) ./ x` (not `sin(x) / x`)? This is equivalent to `[sin(i) / i for i in x]`."
   ]
  },
  {
   "cell_type": "code",
   "execution_count": 16,
   "metadata": {
    "colab": {},
    "colab_type": "code",
    "id": "kjXg63Hmd2ux"
   },
   "outputs": [],
   "source": [
    "a = sin.(x) ./ x\n",
    "b = [sin(i) / i for i in x]\n",
    "@assert a == b"
   ]
  },
  {
   "cell_type": "markdown",
   "metadata": {
    "colab_type": "text",
    "id": "wX26wG02d1KI"
   },
   "source": [
    " This is not just syntactic sugar: it's actually a very powerful Julia feature. Indeed, notice that the array only gets traversed once. Even if we chained more than two dotted operations, the array would still only get traversed once. This is called _loop fusion_.\n",
    "\n",
    "In contrast, when using NumPy arrays, `sin(x) / x` first computes a temporary array containing `sin(x)` and then it computes the final array. Two loops and two arrays instead of one. NumPy is implemented in C, and has been heavily optimized, but if you chain many operations, it still ends up being slower and using more RAM than Julia.\n",
    "\n",
    "However, all the extra dots can sometimes make the code a bit harder to read. To avoid that, you can write `@.` before an expression: every operation will be \"dotted\" automatically, like this:"
   ]
  },
  {
   "cell_type": "code",
   "execution_count": 17,
   "metadata": {
    "colab": {},
    "colab_type": "code",
    "id": "raOw65bd-Qeg"
   },
   "outputs": [],
   "source": [
    "a = @. sin(x) / x\n",
    "b = sin.(x) ./ x\n",
    "@assert a == b"
   ]
  },
  {
   "cell_type": "markdown",
   "metadata": {
    "colab_type": "text",
    "id": "6ys5cFYaogb2"
   },
   "source": [
    "**Note**: Julia's `@assert` statement starts with an `@` sign, just like `@.`, which means that they are macros. In Julia, macros are very powerful metaprogramming tools: a macro is evaluated at parse time, and it can inspect the expression that follows it and then transform it, or even replace it. In practice, you will often _use_ macros, but you will rarely _define_ your own. I'll come back to macros later."
   ]
  },
  {
   "cell_type": "markdown",
   "metadata": {
    "colab_type": "text",
    "id": "MQ1U3aAwk5iD"
   },
   "source": [
    "## Julia is fast!\n",
    "Let's compare the Julia and Python implementations of the `estimate_pi()` function:"
   ]
  },
  {
   "cell_type": "code",
   "execution_count": 18,
   "metadata": {
    "colab": {
     "base_uri": "https://localhost:8080/",
     "height": 34
    },
    "colab_type": "code",
    "id": "pXQbFKYgk9gG",
    "outputId": "b521e868-9777-400c-c4cf-38630d39a6f2"
   },
   "outputs": [
    {
     "name": "stdout",
     "output_type": "stream",
     "text": [
      "  0.140922 seconds\n"
     ]
    }
   ],
   "source": [
    "@time estimate_pi(100_000_000);"
   ]
  },
  {
   "cell_type": "markdown",
   "metadata": {
    "colab_type": "text",
    "id": "2B7Vu5lepqOW"
   },
   "source": [
    "To get a more precise benchmark, it's preferable to use the `BenchmarkTools` module. Just like Python's `timeit` module, it provides tools to benchmark code by running it multiple times. This provides a better estimate of how long each call takes:"
   ]
  },
  {
   "cell_type": "code",
   "execution_count": 19,
   "metadata": {
    "colab": {
     "base_uri": "https://localhost:8080/",
     "height": 204
    },
    "colab_type": "code",
    "id": "xK4b8X_cppNQ",
    "outputId": "4ba10572-5945-4211-b85b-77c28cdc3a09"
   },
   "outputs": [
    {
     "data": {
      "text/plain": [
       "BenchmarkTools.Trial: \n",
       "  memory estimate:  0 bytes\n",
       "  allocs estimate:  0\n",
       "  --------------\n",
       "  minimum time:     133.074 ms (0.00% GC)\n",
       "  median time:      137.283 ms (0.00% GC)\n",
       "  mean time:        137.457 ms (0.00% GC)\n",
       "  maximum time:     145.218 ms (0.00% GC)\n",
       "  --------------\n",
       "  samples:          37\n",
       "  evals/sample:     1"
      ]
     },
     "execution_count": 19,
     "metadata": {
      "tags": []
     },
     "output_type": "execute_result"
    }
   ],
   "source": [
    "using BenchmarkTools\n",
    "\n",
    "@benchmark estimate_pi(100_000_000)"
   ]
  },
  {
   "cell_type": "markdown",
   "metadata": {
    "colab_type": "text",
    "id": "xHsab0EkqObG"
   },
   "source": [
    "If this output is too verbose for you, simply use `@btime` instead:"
   ]
  },
  {
   "cell_type": "code",
   "execution_count": 20,
   "metadata": {
    "colab": {
     "base_uri": "https://localhost:8080/",
     "height": 51
    },
    "colab_type": "code",
    "id": "FqbViO67qN6E",
    "outputId": "73b472ec-78ce-4b46-87e5-a1f6384e86cf"
   },
   "outputs": [
    {
     "name": "stdout",
     "output_type": "stream",
     "text": [
      "  132.646 ms (0 allocations: 0 bytes)\n"
     ]
    },
    {
     "data": {
      "text/plain": [
       "3.141592663589326"
      ]
     },
     "execution_count": 20,
     "metadata": {
      "tags": []
     },
     "output_type": "execute_result"
    }
   ],
   "source": [
    "@btime estimate_pi(100_000_000)"
   ]
  },
  {
   "cell_type": "markdown",
   "metadata": {
    "colab_type": "text",
    "id": "JOEUCAn6qghC"
   },
   "source": [
    "Now let's time the Python version. Since the call is so slow, we just run it once (it will take about 15 seconds):"
   ]
  },
  {
   "cell_type": "code",
   "execution_count": 21,
   "metadata": {
    "colab": {
     "base_uri": "https://localhost:8080/",
     "height": 34
    },
    "colab_type": "code",
    "id": "6dk8QgRL0mzd",
    "outputId": "3d064fe9-9fdf-4477-dd1c-e781cb9dfa6d"
   },
   "outputs": [
    {
     "data": {
      "text/plain": [
       "14.16427015499994"
      ]
     },
     "execution_count": 21,
     "metadata": {
      "tags": []
     },
     "output_type": "execute_result"
    }
   ],
   "source": [
    "py\"\"\"\n",
    "from timeit import timeit\n",
    "\n",
    "duration = timeit(\"estimate_pi(100_000_000)\", number=1, globals=globals())\n",
    "\"\"\"\n",
    "\n",
    "py\"duration\""
   ]
  },
  {
   "cell_type": "markdown",
   "metadata": {
    "colab_type": "text",
    "id": "Jqtx4_erlxky"
   },
   "source": [
    "It looks like Julia is close to 100 times faster than Python in this case! To be fair, `PyCall` does add some overhead, but even if you run this code in a separate Python shell, you will see that Julia crushes (pure) Python when it comes to speed."
   ]
  },
  {
   "cell_type": "markdown",
   "metadata": {
    "colab_type": "text",
    "id": "hiVDodlPmzoP"
   },
   "source": [
    "So why is Julia so much faster than Python? Well, **Julia compiles the code on the fly as it runs it**."
   ]
  },
  {
   "cell_type": "markdown",
   "metadata": {
    "colab_type": "text",
    "id": "w-HSoqJ8ts7P"
   },
   "source": [
    "Okay, let's summarize what we learned so far: Julia is a dynamic language that looks and feels a lot like Python, you can even execute Python code super easily, and pure Julia code runs much faster than pure Python code, because it is compiled on the fly. I hope this convinces you to read on!\n",
    "\n",
    "Next, let's continue to see how Python's main constructs can be implemented in Julia."
   ]
  },
  {
   "cell_type": "markdown",
   "metadata": {
    "colab_type": "text",
    "id": "n1exnPNvtsvh"
   },
   "source": [
    "# Numbers"
   ]
  },
  {
   "cell_type": "code",
   "execution_count": 22,
   "metadata": {
    "colab": {
     "base_uri": "https://localhost:8080/",
     "height": 34
    },
    "colab_type": "code",
    "id": "NKscy9dmtsk8",
    "outputId": "c2d56a0e-fe2b-4244-9886-8038a554561f"
   },
   "outputs": [
    {
     "data": {
      "text/plain": [
       "9//8"
      ]
     },
     "execution_count": 22,
     "metadata": {
      "tags": []
     },
     "output_type": "execute_result"
    }
   ],
   "source": [
    "i = 42 # 64-bit integer\n",
    "f = 3.14 # 64-bit float\n",
    "c = 3.4 + 4.5im # 128-bit complex number\n",
    "\n",
    "bi = BigInt(2)^1000 # arbitrarily long integer\n",
    "bf = BigFloat(1) / 7 # arbitrary precision\n",
    "\n",
    "r = 15//6 * 9//20 # rational number"
   ]
  },
  {
   "cell_type": "markdown",
   "metadata": {
    "colab_type": "text",
    "id": "PzLbmPApyPLc"
   },
   "source": [
    "And the equivalent Python code:\n",
    "\n",
    "```python\n",
    "# PYTHON\n",
    "i = 42\n",
    "f = 3.14\n",
    "c = 3.4 + 4.5j\n",
    "\n",
    "bi = 2**1000 # integers are seemlessly promoted to long integers\n",
    "from decimal import Decimal\n",
    "bf = Decimal(1) / 7\n",
    "\n",
    "from fractions import Fraction\n",
    "r = Fraction(15, 6) * Fraction(9, 20)\n",
    "```"
   ]
  },
  {
   "cell_type": "markdown",
   "metadata": {
    "colab_type": "text",
    "id": "obkfXw_LAZ2B"
   },
   "source": [
    "Dividing integers gives floats, like in Python:"
   ]
  },
  {
   "cell_type": "code",
   "execution_count": 23,
   "metadata": {
    "colab": {
     "base_uri": "https://localhost:8080/",
     "height": 34
    },
    "colab_type": "code",
    "id": "MQ_YTxNgAiLA",
    "outputId": "200668cf-170e-4b94-e396-04f28b2763e3"
   },
   "outputs": [
    {
     "data": {
      "text/plain": [
       "2.5"
      ]
     },
     "execution_count": 23,
     "metadata": {
      "tags": []
     },
     "output_type": "execute_result"
    }
   ],
   "source": [
    "5 / 2"
   ]
  },
  {
   "cell_type": "markdown",
   "metadata": {
    "colab_type": "text",
    "id": "lqAUqZqNAkhb"
   },
   "source": [
    "For integer division, use `÷` or `div()`:"
   ]
  },
  {
   "cell_type": "code",
   "execution_count": 24,
   "metadata": {
    "colab": {
     "base_uri": "https://localhost:8080/",
     "height": 34
    },
    "colab_type": "code",
    "id": "xPkuXvQHArxo",
    "outputId": "9b6f55ee-8156-410f-c1d9-96b23fb28257"
   },
   "outputs": [
    {
     "data": {
      "text/plain": [
       "2"
      ]
     },
     "execution_count": 24,
     "metadata": {
      "tags": []
     },
     "output_type": "execute_result"
    }
   ],
   "source": [
    "5 ÷ 2"
   ]
  },
  {
   "cell_type": "code",
   "execution_count": 25,
   "metadata": {
    "colab": {
     "base_uri": "https://localhost:8080/",
     "height": 34
    },
    "colab_type": "code",
    "id": "Bg26ib-cAtoF",
    "outputId": "57d7c812-2c11-4321-b07d-e0bb13db42eb"
   },
   "outputs": [
    {
     "data": {
      "text/plain": [
       "2"
      ]
     },
     "execution_count": 25,
     "metadata": {
      "tags": []
     },
     "output_type": "execute_result"
    }
   ],
   "source": [
    "div(5, 2)"
   ]
  },
  {
   "cell_type": "markdown",
   "metadata": {
    "colab_type": "text",
    "id": "GwsmLJ4kAvLQ"
   },
   "source": [
    "The `%` operator is the remainder, not the modulo like in Python. These differ only for negative numbers:"
   ]
  },
  {
   "cell_type": "code",
   "execution_count": 26,
   "metadata": {
    "colab": {
     "base_uri": "https://localhost:8080/",
     "height": 34
    },
    "colab_type": "code",
    "id": "BqYAfPWBA5UZ",
    "outputId": "e31c0b26-8a63-429a-dd76-2f858dcc8aa8"
   },
   "outputs": [
    {
     "data": {
      "text/plain": [
       "7"
      ]
     },
     "execution_count": 26,
     "metadata": {
      "tags": []
     },
     "output_type": "execute_result"
    }
   ],
   "source": [
    "57 % 10"
   ]
  },
  {
   "cell_type": "code",
   "execution_count": 27,
   "metadata": {
    "colab": {
     "base_uri": "https://localhost:8080/",
     "height": 34
    },
    "colab_type": "code",
    "id": "i_0nKGW0A8TZ",
    "outputId": "b0304f83-ea7d-4c4b-ff8b-724fd44fbb25"
   },
   "outputs": [
    {
     "data": {
      "text/plain": [
       "-7"
      ]
     },
     "execution_count": 27,
     "metadata": {
      "tags": []
     },
     "output_type": "execute_result"
    }
   ],
   "source": [
    "(-57) % 10"
   ]
  },
  {
   "cell_type": "markdown",
   "metadata": {
    "colab_type": "text",
    "id": "5euGtSBl95e_"
   },
   "source": [
    "|Julia|Python\n",
    "|-----|------\n",
    "|`3.4 + 4.5im` | `3.4 + 4.5j`\n",
    "|`BigInt(2)^1000` | `2**1000`\n",
    "|`BigFloat(3.14)` | `from decimal import Decimal`<br />`Decimal(3.14)`\n",
    "|`9//8` | `from fractions import Fraction`<br />`Fraction(9, 8)`\n",
    "|`5/2 == 2.5` | `5/2 == 2.5`\n",
    "|`5÷2 == 2`<br />or<br />`div(5, 2)` | `5//2 == 2`\n",
    "|`57%10 == 7` | `57%10 == 7`\n",
    "|`(-57)%10 == -7` | `(-57)%10 == 3`\n"
   ]
  },
  {
   "cell_type": "markdown",
   "metadata": {
    "colab_type": "text",
    "id": "koGxWy1D1nd2"
   },
   "source": [
    "# Strings\n",
    "Julia strings use double quotes `\"` or triple quotes `\"\"\"`, but not single quotes `'`:"
   ]
  },
  {
   "cell_type": "code",
   "execution_count": 28,
   "metadata": {
    "colab": {
     "base_uri": "https://localhost:8080/",
     "height": 34
    },
    "colab_type": "code",
    "id": "cAJ5W9PstsbQ",
    "outputId": "5ab7b606-a752-4056-a569-4f8d6c47d527"
   },
   "outputs": [
    {
     "name": "stdout",
     "output_type": "stream",
     "text": [
      "ångström\n"
     ]
    }
   ],
   "source": [
    "s = \"ångström\" # Julia strings are UTF-8 encoded by default\n",
    "println(s)"
   ]
  },
  {
   "cell_type": "code",
   "execution_count": 29,
   "metadata": {
    "colab": {
     "base_uri": "https://localhost:8080/",
     "height": 136
    },
    "colab_type": "code",
    "id": "_7bPa-W7c3dZ",
    "outputId": "e8d63396-c27f-4371-cb2f-c97630ea37d9"
   },
   "outputs": [
    {
     "name": "stdout",
     "output_type": "stream",
     "text": [
      "Julia strings\n",
      "     can span\n",
      "     several lines\n",
      "\n",
      "\n",
      "     and they support the \"usual\" escapes like\n",
      "     A, 家, and 😊!\n"
     ]
    }
   ],
   "source": [
    "s = \"Julia strings\n",
    "     can span\n",
    "     several lines\\n\\n\n",
    "     and they support the \\\"usual\\\" escapes like\n",
    "     \\x41, \\u5bb6, and \\U0001f60a!\"\n",
    "println(s)"
   ]
  },
  {
   "cell_type": "markdown",
   "metadata": {
    "colab_type": "text",
    "id": "Sr6f6JBzfsc_"
   },
   "source": [
    "Use `repeat()` instead of `*` to repeat a string, and use `*` instead of `+` for concatenation:"
   ]
  },
  {
   "cell_type": "code",
   "execution_count": 30,
   "metadata": {
    "colab": {
     "base_uri": "https://localhost:8080/",
     "height": 34
    },
    "colab_type": "code",
    "id": "R52WXKlMc5h9",
    "outputId": "a0e54fd7-6a51-4a8f-bade-0f0ed05453e6"
   },
   "outputs": [
    {
     "name": "stdout",
     "output_type": "stream",
     "text": [
      "tick, tick, tick, tick, tick, tick, tick, tick, tick, tick, BOOM!\n"
     ]
    }
   ],
   "source": [
    "s = repeat(\"tick, \", 10) * \"BOOM!\"\n",
    "println(s)"
   ]
  },
  {
   "cell_type": "markdown",
   "metadata": {
    "colab_type": "text",
    "id": "1QvDoWolgC1v"
   },
   "source": [
    "The equivalent Python code is:\n",
    "\n",
    "```python\n",
    "# PYTHON\n",
    "s = \"tick, \" * 10 + \"BOOM!\"\n",
    "print(s)\n",
    "```"
   ]
  },
  {
   "cell_type": "markdown",
   "metadata": {
    "colab_type": "text",
    "id": "UULsUFcTgPXN"
   },
   "source": [
    "Use `join(a, s)` instead of `s.join(a)`:"
   ]
  },
  {
   "cell_type": "code",
   "execution_count": 31,
   "metadata": {
    "colab": {
     "base_uri": "https://localhost:8080/",
     "height": 34
    },
    "colab_type": "code",
    "id": "pMZNYWTxd3N2",
    "outputId": "5f2f92ea-ffa8-4921-8cc0-3dbd30e32df6"
   },
   "outputs": [
    {
     "name": "stdout",
     "output_type": "stream",
     "text": [
      "1, 2, 3, 4\n"
     ]
    }
   ],
   "source": [
    "s = join([i for i in 1:4], \", \")\n",
    "println(s)"
   ]
  },
  {
   "cell_type": "markdown",
   "metadata": {
    "colab_type": "text",
    "id": "ejbvMUySgaTn"
   },
   "source": [
    "You can also specify a string for the last join:"
   ]
  },
  {
   "cell_type": "code",
   "execution_count": 32,
   "metadata": {
    "colab": {
     "base_uri": "https://localhost:8080/",
     "height": 34
    },
    "colab_type": "code",
    "id": "wRx3SN5fdWFf",
    "outputId": "b315457d-8396-4a64-bac0-5a3d9cd62e6d"
   },
   "outputs": [
    {
     "data": {
      "text/plain": [
       "\"1, 2, 3 and 4\""
      ]
     },
     "execution_count": 32,
     "metadata": {
      "tags": []
     },
     "output_type": "execute_result"
    }
   ],
   "source": [
    "s = join([i for i in 1:4], \", \", \" and \")"
   ]
  },
  {
   "cell_type": "markdown",
   "metadata": {
    "colab_type": "text",
    "id": "GJAbtqLg6T5s"
   },
   "source": [
    "`split()` works as you might expect:"
   ]
  },
  {
   "cell_type": "code",
   "execution_count": 33,
   "metadata": {
    "colab": {
     "base_uri": "https://localhost:8080/",
     "height": 85
    },
    "colab_type": "code",
    "id": "Kqkgq7IA6FWl",
    "outputId": "b643e473-567f-4fef-af07-8adb43988c5e"
   },
   "outputs": [
    {
     "data": {
      "text/plain": [
       "3-element Array{SubString{String},1}:\n",
       " \"one\"\n",
       " \"three\"\n",
       " \"four\""
      ]
     },
     "execution_count": 33,
     "metadata": {
      "tags": []
     },
     "output_type": "execute_result"
    }
   ],
   "source": [
    "split(\"   one    three     four   \")"
   ]
  },
  {
   "cell_type": "code",
   "execution_count": 34,
   "metadata": {
    "colab": {
     "base_uri": "https://localhost:8080/",
     "height": 102
    },
    "colab_type": "code",
    "id": "3cy_kYpZ6A7U",
    "outputId": "65b74313-1a2e-4b36-fe58-024d763f9177"
   },
   "outputs": [
    {
     "data": {
      "text/plain": [
       "4-element Array{SubString{String},1}:\n",
       " \"one\"\n",
       " \"\"\n",
       " \"three\"\n",
       " \"four!\""
      ]
     },
     "execution_count": 34,
     "metadata": {
      "tags": []
     },
     "output_type": "execute_result"
    }
   ],
   "source": [
    "split(\"one,,three,four!\", \",\")"
   ]
  },
  {
   "cell_type": "code",
   "execution_count": 35,
   "metadata": {
    "colab": {
     "base_uri": "https://localhost:8080/",
     "height": 34
    },
    "colab_type": "code",
    "id": "gdI7lnQ6n7RD",
    "outputId": "6298636f-a23d-4562-fc89-bcc63a5290f2"
   },
   "outputs": [
    {
     "data": {
      "text/plain": [
       "true"
      ]
     },
     "execution_count": 35,
     "metadata": {
      "tags": []
     },
     "output_type": "execute_result"
    }
   ],
   "source": [
    "occursin(\"sip\", \"Mississippi\")"
   ]
  },
  {
   "cell_type": "code",
   "execution_count": 36,
   "metadata": {
    "colab": {
     "base_uri": "https://localhost:8080/",
     "height": 34
    },
    "colab_type": "code",
    "id": "gnLjg6UpvKrL",
    "outputId": "27ddb703-0ebb-42f4-ee83-6bb791a91642"
   },
   "outputs": [
    {
     "data": {
      "text/plain": [
       "\"I like tea\""
      ]
     },
     "execution_count": 36,
     "metadata": {
      "tags": []
     },
     "output_type": "execute_result"
    }
   ],
   "source": [
    "replace(\"I like coffee\", \"coffee\" => \"tea\")"
   ]
  },
  {
   "cell_type": "markdown",
   "metadata": {
    "colab_type": "text",
    "id": "_dMkcaL4gm_n"
   },
   "source": [
    "Triple quotes work a bit like in Python, but they also remove indentation and ignore the first line feed:"
   ]
  },
  {
   "cell_type": "code",
   "execution_count": 37,
   "metadata": {
    "colab": {
     "base_uri": "https://localhost:8080/",
     "height": 170
    },
    "colab_type": "code",
    "id": "7Qc3Nn81ed3j",
    "outputId": "862384c3-eab6-45e7-9ac4-1232e44ca1da"
   },
   "outputs": [
    {
     "name": "stdout",
     "output_type": "stream",
     "text": [
      "<start>\n",
      "1. the first line feed is ignored if it immediately follows \"\"\"\n",
      "2. triple quotes let you use \"quotes\" easily\n",
      "3. indentation is ignored\n",
      "    - up to left-most character\n",
      "    - ignoring the first line (the one with \"\"\")\n",
      "4. the final line feed it n̲o̲t̲ ignored\n",
      "\n",
      "<end>\n"
     ]
    }
   ],
   "source": [
    "s = \"\"\"\n",
    "       1. the first line feed is ignored if it immediately follows \\\"\"\"\n",
    "       2. triple quotes let you use \"quotes\" easily\n",
    "       3. indentation is ignored\n",
    "           - up to left-most character\n",
    "           - ignoring the first line (the one with \\\"\"\")\n",
    "       4. the final line feed it n̲o̲t̲ ignored\n",
    "       \"\"\"\n",
    "println(\"<start>\")\n",
    "println(s)\n",
    "println(\"<end>\")"
   ]
  },
  {
   "cell_type": "markdown",
   "metadata": {
    "colab_type": "text",
    "id": "T0cx6rWpjIzc"
   },
   "source": [
    "## String Interpolation\n",
    "String interpolation uses `$variable` and `$(expression)`:"
   ]
  },
  {
   "cell_type": "code",
   "execution_count": 38,
   "metadata": {
    "colab": {
     "base_uri": "https://localhost:8080/",
     "height": 34
    },
    "colab_type": "code",
    "id": "-Nl2AlRvg2c_",
    "outputId": "87f3441e-8c54-476d-fc8a-42e5f7d12ee7"
   },
   "outputs": [
    {
     "name": "stdout",
     "output_type": "stream",
     "text": [
      "1 + 2 + 3 = 6 = 6\n"
     ]
    }
   ],
   "source": [
    "total = 1 + 2 + 3\n",
    "s = \"1 + 2 + 3 = $total = $(1 + 2 + 3)\"\n",
    "println(s)"
   ]
  },
  {
   "cell_type": "markdown",
   "metadata": {
    "colab_type": "text",
    "id": "NToitF2YjRP1"
   },
   "source": [
    "This means you must escape the `$` sign:"
   ]
  },
  {
   "cell_type": "code",
   "execution_count": 39,
   "metadata": {
    "colab": {
     "base_uri": "https://localhost:8080/",
     "height": 34
    },
    "colab_type": "code",
    "id": "AUeXBJIdjUmB",
    "outputId": "f5314342-fc33-4e88-d7ab-47dbf0da0f44"
   },
   "outputs": [
    {
     "name": "stdout",
     "output_type": "stream",
     "text": [
      "The car costs $10,000\n"
     ]
    }
   ],
   "source": [
    "s = \"The car costs \\$10,000\"\n",
    "println(s)"
   ]
  },
  {
   "cell_type": "markdown",
   "metadata": {
    "colab_type": "text",
    "id": "fk8BuKKtjhmo"
   },
   "source": [
    "## Raw Strings\n",
    "Raw strings use `raw\"...\"` instead of `r\"...\"`:"
   ]
  },
  {
   "cell_type": "code",
   "execution_count": 40,
   "metadata": {
    "colab": {
     "base_uri": "https://localhost:8080/",
     "height": 68
    },
    "colab_type": "code",
    "id": "KQ9U5Ivai86F",
    "outputId": "affa9e72-fe9f-4d9a-a1c9-e40a8e56f071"
   },
   "outputs": [
    {
     "name": "stdout",
     "output_type": "stream",
     "text": [
      "In a raw string, you only need to escape quotes \", but not\n",
      "        $ or \\. There is one exception, however: the backslash \\\n",
      "        must be escaped if it's just before quotes like \\\".\n"
     ]
    }
   ],
   "source": [
    "s = raw\"In a raw string, you only need to escape quotes \\\", but not\n",
    "        $ or \\. There is one exception, however: the backslash \\\n",
    "        must be escaped if it's just before quotes like \\\\\\\".\"\n",
    "println(s)"
   ]
  },
  {
   "cell_type": "code",
   "execution_count": 41,
   "metadata": {
    "colab": {
     "base_uri": "https://localhost:8080/",
     "height": 119
    },
    "colab_type": "code",
    "id": "0cqdV9lJkclw",
    "outputId": "5362df3e-1b58-4768-abfc-5ad63c3b1b5d"
   },
   "outputs": [
    {
     "name": "stdout",
     "output_type": "stream",
     "text": [
      "Triple quoted raw strings are possible too: $, \\, \\t, \"\n",
      "  - They handle indentation and the first line feed like regular\n",
      "    triple quoted strings.\n",
      "  - You only need to escape triple quotes like \"\"\", and the\n",
      "    backslash before quotes like \\\".\n",
      "\n"
     ]
    }
   ],
   "source": [
    "s = raw\"\"\"\n",
    "   Triple quoted raw strings are possible too: $, \\, \\t, \"\n",
    "     - They handle indentation and the first line feed like regular\n",
    "       triple quoted strings.\n",
    "     - You only need to escape triple quotes like \\\"\"\", and the\n",
    "       backslash before quotes like \\\\\".\n",
    "   \"\"\"\n",
    "println(s)"
   ]
  },
  {
   "cell_type": "markdown",
   "metadata": {
    "colab_type": "text",
    "id": "U5eOtwDalgw-"
   },
   "source": [
    "## Characters\n",
    "Single quotes are used for individual Unicode characters:"
   ]
  },
  {
   "cell_type": "code",
   "execution_count": 42,
   "metadata": {
    "colab": {
     "base_uri": "https://localhost:8080/",
     "height": 34
    },
    "colab_type": "code",
    "id": "PnNfVRZx2CsU",
    "outputId": "83715a7f-c100-45ad-a13f-9ce60458655c"
   },
   "outputs": [
    {
     "data": {
      "text/plain": [
       "'å': Unicode U+00E5 (category Ll: Letter, lowercase)"
      ]
     },
     "execution_count": 42,
     "metadata": {
      "tags": []
     },
     "output_type": "execute_result"
    }
   ],
   "source": [
    "a = 'å' # Unicode code point (single quotes)"
   ]
  },
  {
   "cell_type": "markdown",
   "metadata": {
    "colab_type": "text",
    "id": "WA5RXfz4mBcE"
   },
   "source": [
    "To be more precise:\n",
    "* A Julia \"character\" represents a single Unicode code point (sometimes called a Unicode scalar).\n",
    "* Multiple code points may be required to produce a single _grapheme_, i.e., something that readers would recognize as a single character. Such a sequence of code points is called a \"Grapheme cluster\".\n",
    "\n",
    "For example, the character `é` can be represented either using the single code point `\\u00E9`, or the grapheme cluster `e` + `\\u0301`:"
   ]
  },
  {
   "cell_type": "code",
   "execution_count": 43,
   "metadata": {
    "colab": {
     "base_uri": "https://localhost:8080/",
     "height": 34
    },
    "colab_type": "code",
    "id": "liN9OQVClokc",
    "outputId": "97452ff5-1bdf-43f9-f34a-984795f7770b"
   },
   "outputs": [
    {
     "name": "stdout",
     "output_type": "stream",
     "text": [
      "café has 4 code points\n"
     ]
    }
   ],
   "source": [
    "s = \"café\"\n",
    "println(s, \" has \", length(s), \" code points\")"
   ]
  },
  {
   "cell_type": "code",
   "execution_count": 44,
   "metadata": {
    "colab": {
     "base_uri": "https://localhost:8080/",
     "height": 34
    },
    "colab_type": "code",
    "id": "CTtCiqN1oCJa",
    "outputId": "d8827591-2d29-4557-a28b-4547429d03de"
   },
   "outputs": [
    {
     "name": "stdout",
     "output_type": "stream",
     "text": [
      "café has 5 code points\n"
     ]
    }
   ],
   "source": [
    "s = \"cafe\\u0301\"\n",
    "println(s, \" has \", length(s), \" code points\")"
   ]
  },
  {
   "cell_type": "code",
   "execution_count": 45,
   "metadata": {
    "colab": {
     "base_uri": "https://localhost:8080/",
     "height": 102
    },
    "colab_type": "code",
    "id": "MIBI7ULN2CYI",
    "outputId": "26117e0f-f2e3-4750-eb81-bcc4f2403404"
   },
   "outputs": [
    {
     "data": {
      "text/plain": [
       "'c': ASCII/Unicode U+0063 (category Ll: Letter, lowercase)"
      ]
     },
     "metadata": {
      "tags": []
     },
     "output_type": "display_data"
    },
    {
     "data": {
      "text/plain": [
       "'a': ASCII/Unicode U+0061 (category Ll: Letter, lowercase)"
      ]
     },
     "metadata": {
      "tags": []
     },
     "output_type": "display_data"
    },
    {
     "data": {
      "text/plain": [
       "'f': ASCII/Unicode U+0066 (category Ll: Letter, lowercase)"
      ]
     },
     "metadata": {
      "tags": []
     },
     "output_type": "display_data"
    },
    {
     "data": {
      "text/plain": [
       "'e': ASCII/Unicode U+0065 (category Ll: Letter, lowercase)"
      ]
     },
     "metadata": {
      "tags": []
     },
     "output_type": "display_data"
    },
    {
     "data": {
      "text/plain": [
       "'́': Unicode U+0301 (category Mn: Mark, nonspacing)"
      ]
     },
     "metadata": {
      "tags": []
     },
     "output_type": "display_data"
    }
   ],
   "source": [
    "for c in \"cafe\\u0301\"\n",
    "    display(c)\n",
    "end"
   ]
  },
  {
   "cell_type": "markdown",
   "metadata": {
    "colab_type": "text",
    "id": "Oz-6luAbobDe"
   },
   "source": [
    "Julia represents any individual character like `'é'` using 32-bits (4 bytes):"
   ]
  },
  {
   "cell_type": "code",
   "execution_count": 46,
   "metadata": {
    "colab": {
     "base_uri": "https://localhost:8080/",
     "height": 34
    },
    "colab_type": "code",
    "id": "Iu1otE7omZIy",
    "outputId": "cd1d7f54-87cf-439d-ec41-b9c0b0ddf8c5"
   },
   "outputs": [
    {
     "data": {
      "text/plain": [
       "4"
      ]
     },
     "execution_count": 46,
     "metadata": {
      "tags": []
     },
     "output_type": "execute_result"
    }
   ],
   "source": [
    "sizeof('é')"
   ]
  },
  {
   "cell_type": "markdown",
   "metadata": {
    "colab_type": "text",
    "id": "81XkzaaNmW_4"
   },
   "source": [
    "But strings are represented using the UTF-8 encoding. In this encoding, code points 0 to 127 are represented using one byte, but any code point above 127 is represented using 2 to 6 bytes:"
   ]
  },
  {
   "cell_type": "code",
   "execution_count": 47,
   "metadata": {
    "colab": {
     "base_uri": "https://localhost:8080/",
     "height": 34
    },
    "colab_type": "code",
    "id": "ZgLS0PdImraY",
    "outputId": "1f5b9f79-3a3b-4868-906a-6cd5133bb17a"
   },
   "outputs": [
    {
     "data": {
      "text/plain": [
       "1"
      ]
     },
     "execution_count": 47,
     "metadata": {
      "tags": []
     },
     "output_type": "execute_result"
    }
   ],
   "source": [
    "sizeof(\"a\")"
   ]
  },
  {
   "cell_type": "code",
   "execution_count": 48,
   "metadata": {
    "colab": {
     "base_uri": "https://localhost:8080/",
     "height": 34
    },
    "colab_type": "code",
    "id": "PSOu8j--mmzO",
    "outputId": "2b511e96-02af-432c-b41c-18266a79d9fc"
   },
   "outputs": [
    {
     "data": {
      "text/plain": [
       "2"
      ]
     },
     "execution_count": 48,
     "metadata": {
      "tags": []
     },
     "output_type": "execute_result"
    }
   ],
   "source": [
    "sizeof(\"é\")"
   ]
  },
  {
   "cell_type": "code",
   "execution_count": 49,
   "metadata": {
    "colab": {
     "base_uri": "https://localhost:8080/",
     "height": 34
    },
    "colab_type": "code",
    "id": "5UVyrhoKmw1j",
    "outputId": "d08f56ba-ce4e-43af-dc06-2cadaf208c62"
   },
   "outputs": [
    {
     "data": {
      "text/plain": [
       "3"
      ]
     },
     "execution_count": 49,
     "metadata": {
      "tags": []
     },
     "output_type": "execute_result"
    }
   ],
   "source": [
    "sizeof(\"家\")"
   ]
  },
  {
   "cell_type": "code",
   "execution_count": 50,
   "metadata": {
    "colab": {
     "base_uri": "https://localhost:8080/",
     "height": 34
    },
    "colab_type": "code",
    "id": "0HUpcANGnJYA",
    "outputId": "7fe8e19f-d99d-4013-b6c3-8c7ba4578afe"
   },
   "outputs": [
    {
     "data": {
      "text/plain": [
       "14"
      ]
     },
     "execution_count": 50,
     "metadata": {
      "tags": []
     },
     "output_type": "execute_result"
    }
   ],
   "source": [
    "sizeof(\"🏳️‍🌈\") # this is a grapheme with 4 code points of 4 + 3 + 3 + 4 bytes"
   ]
  },
  {
   "cell_type": "code",
   "execution_count": 51,
   "metadata": {
    "colab": {
     "base_uri": "https://localhost:8080/",
     "height": 102
    },
    "colab_type": "code",
    "id": "EfBbY0vHpNkG",
    "outputId": "a927770c-96fc-4428-f085-c42aad64a09c"
   },
   "outputs": [
    {
     "data": {
      "text/plain": [
       "4-element Array{Int64,1}:\n",
       " 4\n",
       " 3\n",
       " 3\n",
       " 4"
      ]
     },
     "execution_count": 51,
     "metadata": {
      "tags": []
     },
     "output_type": "execute_result"
    }
   ],
   "source": [
    "[sizeof(string(c)) for c in \"🏳️‍🌈\"]"
   ]
  },
  {
   "cell_type": "markdown",
   "metadata": {
    "colab_type": "text",
    "id": "71mBRSnKo_gU"
   },
   "source": [
    "You can iterate through graphemes instead of code points:"
   ]
  },
  {
   "cell_type": "code",
   "execution_count": 52,
   "metadata": {
    "colab": {
     "base_uri": "https://localhost:8080/",
     "height": 51
    },
    "colab_type": "code",
    "id": "hvHwnu4dnYNx",
    "outputId": "b12a48a3-0bbc-4d72-ac96-991b78a26099"
   },
   "outputs": [
    {
     "name": "stdout",
     "output_type": "stream",
     "text": [
      "é\n",
      "🏳️‍🌈\n"
     ]
    }
   ],
   "source": [
    "using Unicode\n",
    "\n",
    "for g in graphemes(\"e\\u0301🏳️‍🌈\")\n",
    "  println(g)\n",
    "end"
   ]
  },
  {
   "cell_type": "markdown",
   "metadata": {
    "colab_type": "text",
    "id": "D52gwsw7mkls"
   },
   "source": [
    "## String Indexing\n",
    "Characters in a string are indexed based on the position of their starting byte in the UTF-8 representation. For example, the character `ê` in the string `\"être\"` is located at index 1, but the character `'t'` is located at index 3, since the UTF-8 encoding of `ê` is 2 bytes long:"
   ]
  },
  {
   "cell_type": "code",
   "execution_count": 53,
   "metadata": {
    "colab": {
     "base_uri": "https://localhost:8080/",
     "height": 85
    },
    "colab_type": "code",
    "id": "wF-sqnBhobOr",
    "outputId": "feed1eb3-66e4-4a42-f749-98d426559c93"
   },
   "outputs": [
    {
     "name": "stdout",
     "output_type": "stream",
     "text": [
      "ê\n",
      "t\n",
      "r\n",
      "e\n"
     ]
    }
   ],
   "source": [
    "s = \"être\"\n",
    "println(s[1])\n",
    "println(s[3])\n",
    "println(s[4])\n",
    "println(s[5])"
   ]
  },
  {
   "cell_type": "markdown",
   "metadata": {
    "colab_type": "text",
    "id": "PTwNWMfywghC"
   },
   "source": [
    "If you try to get the character at index 2, you get an exception:\n",
    "\n"
   ]
  },
  {
   "cell_type": "code",
   "execution_count": 54,
   "metadata": {
    "colab": {
     "base_uri": "https://localhost:8080/",
     "height": 34
    },
    "colab_type": "code",
    "id": "nVTYypUmobae",
    "outputId": "36f4dd1a-3e6a-407e-ff98-f78f0b3d66d5"
   },
   "outputs": [
    {
     "data": {
      "text/plain": [
       "StringIndexError(\"être\", 2)"
      ]
     },
     "execution_count": 54,
     "metadata": {
      "tags": []
     },
     "output_type": "execute_result"
    }
   ],
   "source": [
    "try\n",
    "    s[2]\n",
    "catch ex\n",
    "    ex\n",
    "end"
   ]
  },
  {
   "cell_type": "markdown",
   "metadata": {
    "colab_type": "text",
    "id": "h27VGo9oB2HD"
   },
   "source": [
    "By the way, notice the exception-handling syntax (we'll discuss exceptions later):\n",
    "\n",
    "|Julia|Python\n",
    "|-----|------\n",
    "|`try`<br />&nbsp;&nbsp;&nbsp;&nbsp;`...`<br />`catch ex`<br />&nbsp;&nbsp;&nbsp;&nbsp;`...`<br />`end`|`try`<br />&nbsp;&nbsp;&nbsp;&nbsp;`...`<br />`except Exception as ex`<br />&nbsp;&nbsp;&nbsp;&nbsp;`...`<br />`end`\n",
    "\n"
   ]
  },
  {
   "cell_type": "markdown",
   "metadata": {
    "colab_type": "text",
    "id": "v519pXuAxhnO"
   },
   "source": [
    "You can get a substring easily, using valid character indices:"
   ]
  },
  {
   "cell_type": "code",
   "execution_count": 55,
   "metadata": {
    "colab": {
     "base_uri": "https://localhost:8080/",
     "height": 34
    },
    "colab_type": "code",
    "id": "fSYrcLRPxdBv",
    "outputId": "5b4bce01-d5b9-4597-82c4-ca2fc91f4d41"
   },
   "outputs": [
    {
     "data": {
      "text/plain": [
       "\"êt\""
      ]
     },
     "execution_count": 55,
     "metadata": {
      "tags": []
     },
     "output_type": "execute_result"
    }
   ],
   "source": [
    "s[1:3]"
   ]
  },
  {
   "cell_type": "markdown",
   "metadata": {
    "colab_type": "text",
    "id": "1aSg-yZExJaj"
   },
   "source": [
    "You can iterate through a string, and it will return all the code points:"
   ]
  },
  {
   "cell_type": "code",
   "execution_count": 56,
   "metadata": {
    "colab": {
     "base_uri": "https://localhost:8080/",
     "height": 85
    },
    "colab_type": "code",
    "id": "nWzSSfi3obnG",
    "outputId": "43411674-dc1a-458b-a8c1-773dcf09cf96"
   },
   "outputs": [
    {
     "name": "stdout",
     "output_type": "stream",
     "text": [
      "ê\n",
      "t\n",
      "r\n",
      "e\n"
     ]
    }
   ],
   "source": [
    "for c in s\n",
    "    println(c)\n",
    "end"
   ]
  },
  {
   "cell_type": "markdown",
   "metadata": {
    "colab_type": "text",
    "id": "P4y_oW-tx1FM"
   },
   "source": [
    "Or you can iterate through the valid character indices:"
   ]
  },
  {
   "cell_type": "code",
   "execution_count": 57,
   "metadata": {
    "colab": {
     "base_uri": "https://localhost:8080/",
     "height": 85
    },
    "colab_type": "code",
    "id": "Stdn7xZRx5HP",
    "outputId": "ce722fd5-e8ea-4600-ebf5-0e52d5d9b64b"
   },
   "outputs": [
    {
     "name": "stdout",
     "output_type": "stream",
     "text": [
      "1: ê\n",
      "3: t\n",
      "4: r\n",
      "5: e\n"
     ]
    }
   ],
   "source": [
    "for i in eachindex(s)\n",
    "    println(i, \": \", s[i])\n",
    "end"
   ]
  },
  {
   "cell_type": "markdown",
   "metadata": {
    "colab_type": "text",
    "id": "6vAcDvvgyI2O"
   },
   "source": [
    "Benefits of representing strings as UTF-8:\n",
    "* All Unicode characters are supported.\n",
    "* UTF-8 is fairly compact (at least for Latin scripts).\n",
    "* It plays nicely with C libraries which expect ASCII characters only, since ASCII characters correspond to the Unicode code points 0 to 127, which UTF-8 encodes exactly like ASCII.\n",
    "\n",
    "Drawbacks:\n",
    "* UTF-8 uses a variable number of bytes per character, which makes indexing harder.\n",
    "  * However, If the language tried to hide this by making `s[5]` search for the 5th character from the start of the string, then code like `for i in 1:length(s); s[i]; end` would be unexpectedly inefficient, since at each iteration there would be a search from the beginning of the string, leading to O(_n_<sup>2</sup>) performance instead of O(_n_)."
   ]
  },
  {
   "cell_type": "code",
   "execution_count": 58,
   "metadata": {
    "colab": {
     "base_uri": "https://localhost:8080/",
     "height": 34
    },
    "colab_type": "code",
    "id": "JhOHqjktdrBV",
    "outputId": "a88d1c63-5960-4d78-c996-2b5ef7694079"
   },
   "outputs": [
    {
     "data": {
      "text/plain": [
       "3"
      ]
     },
     "execution_count": 58,
     "metadata": {
      "tags": []
     },
     "output_type": "execute_result"
    }
   ],
   "source": [
    "findfirst(isequal('t'), \"être\")"
   ]
  },
  {
   "cell_type": "code",
   "execution_count": 59,
   "metadata": {
    "colab": {
     "base_uri": "https://localhost:8080/",
     "height": 34
    },
    "colab_type": "code",
    "id": "PUyEI4dHm-nl",
    "outputId": "238e756a-e627-4ff5-f63d-f9407b1772bd"
   },
   "outputs": [
    {
     "data": {
      "text/plain": [
       "10"
      ]
     },
     "execution_count": 59,
     "metadata": {
      "tags": []
     },
     "output_type": "execute_result"
    }
   ],
   "source": [
    "findlast(isequal('p'), \"Mississippi\")"
   ]
  },
  {
   "cell_type": "code",
   "execution_count": 60,
   "metadata": {
    "colab": {
     "base_uri": "https://localhost:8080/",
     "height": 34
    },
    "colab_type": "code",
    "id": "VA-KDam0nT9z",
    "outputId": "fd09b0b2-16fb-46a6-f345-43f1a8a5e54c"
   },
   "outputs": [
    {
     "data": {
      "text/plain": [
       "2"
      ]
     },
     "execution_count": 60,
     "metadata": {
      "tags": []
     },
     "output_type": "execute_result"
    }
   ],
   "source": [
    "findnext(isequal('i'), \"Mississippi\", 2)"
   ]
  },
  {
   "cell_type": "code",
   "execution_count": 61,
   "metadata": {
    "colab": {
     "base_uri": "https://localhost:8080/",
     "height": 34
    },
    "colab_type": "code",
    "id": "V-18_V29ny--",
    "outputId": "d5e2d249-66b8-479e-b239-43f29f0965bb"
   },
   "outputs": [
    {
     "data": {
      "text/plain": [
       "5"
      ]
     },
     "execution_count": 61,
     "metadata": {
      "tags": []
     },
     "output_type": "execute_result"
    }
   ],
   "source": [
    "findnext(isequal('i'), \"Mississippi\", 2 + 1)"
   ]
  },
  {
   "cell_type": "code",
   "execution_count": 62,
   "metadata": {
    "colab": {
     "base_uri": "https://localhost:8080/",
     "height": 34
    },
    "colab_type": "code",
    "id": "rF-0AVyCnoRa",
    "outputId": "cb857416-886b-4866-a8c8-b0135693c7ec"
   },
   "outputs": [
    {
     "data": {
      "text/plain": [
       "2"
      ]
     },
     "execution_count": 62,
     "metadata": {
      "tags": []
     },
     "output_type": "execute_result"
    }
   ],
   "source": [
    "findprev(isequal('i'), \"Mississippi\", 5 - 1)"
   ]
  },
  {
   "cell_type": "markdown",
   "metadata": {
    "colab_type": "text",
    "id": "29n4QUfloQXQ"
   },
   "source": [
    "Other useful string functions: `ncodeunits(str)`, `codeunit(str, i)`, `thisind(str, i)`, `nextind(str, i, n=1)`, `prevind(str, i, n=1)`."
   ]
  },
  {
   "cell_type": "markdown",
   "metadata": {
    "colab_type": "text",
    "id": "v93Xg1E5omZB"
   },
   "source": [
    "## Regular Expressions\n",
    "To create a regular expression in Julia, use the `r\"...\"` syntax:"
   ]
  },
  {
   "cell_type": "code",
   "execution_count": 63,
   "metadata": {
    "colab": {
     "base_uri": "https://localhost:8080/",
     "height": 34
    },
    "colab_type": "code",
    "id": "LDgR-AwboyDw",
    "outputId": "16eeaa29-5a0c-49cb-ccf8-140921fff05e"
   },
   "outputs": [
    {
     "data": {
      "text/plain": [
       "r\"c[ao]ff?(?:é|ee)\""
      ]
     },
     "execution_count": 63,
     "metadata": {
      "tags": []
     },
     "output_type": "execute_result"
    }
   ],
   "source": [
    "regex = r\"c[ao]ff?(?:é|ee)\""
   ]
  },
  {
   "cell_type": "markdown",
   "metadata": {
    "colab_type": "text",
    "id": "bKT4fMKMiKWo"
   },
   "source": [
    "The expression `r\"...\"` is equivalent to `Regex(\"...\")` except the former is evaluated at parse time, while the latter is evaluated at runtime, so unless you need to construct a Regex dynamically, you should prefer `r\"...\"`."
   ]
  },
  {
   "cell_type": "code",
   "execution_count": 64,
   "metadata": {
    "colab": {
     "base_uri": "https://localhost:8080/",
     "height": 34
    },
    "colab_type": "code",
    "id": "222akOU9ox3m",
    "outputId": "7fbf49f7-1c5e-429f-eff9-9365381b226c"
   },
   "outputs": [
    {
     "data": {
      "text/plain": [
       "true"
      ]
     },
     "execution_count": 64,
     "metadata": {
      "tags": []
     },
     "output_type": "execute_result"
    }
   ],
   "source": [
    "occursin(regex, \"A bit more coffee?\")"
   ]
  },
  {
   "cell_type": "code",
   "execution_count": 65,
   "metadata": {
    "colab": {
     "base_uri": "https://localhost:8080/",
     "height": 34
    },
    "colab_type": "code",
    "id": "QCXRSdFuoxqd",
    "outputId": "30e25aea-53db-47b2-b1f0-ae7657298311"
   },
   "outputs": [
    {
     "data": {
      "text/plain": [
       "\"coffee\""
      ]
     },
     "execution_count": 65,
     "metadata": {
      "tags": []
     },
     "output_type": "execute_result"
    }
   ],
   "source": [
    "m = match(regex, \"A bit more coffee?\")\n",
    "m.match"
   ]
  },
  {
   "cell_type": "code",
   "execution_count": 66,
   "metadata": {
    "colab": {
     "base_uri": "https://localhost:8080/",
     "height": 34
    },
    "colab_type": "code",
    "id": "lWk0C1iwtegu",
    "outputId": "686a5904-0c6a-428f-adaa-6b725b07e8c6"
   },
   "outputs": [
    {
     "data": {
      "text/plain": [
       "12"
      ]
     },
     "execution_count": 66,
     "metadata": {
      "tags": []
     },
     "output_type": "execute_result"
    }
   ],
   "source": [
    "m.offset"
   ]
  },
  {
   "cell_type": "code",
   "execution_count": 67,
   "metadata": {
    "colab": {
     "base_uri": "https://localhost:8080/",
     "height": 34
    },
    "colab_type": "code",
    "id": "Uh1uc34etiN_",
    "outputId": "c35b3cb6-193c-4910-cc14-2f9d8992f20c"
   },
   "outputs": [
    {
     "name": "stdout",
     "output_type": "stream",
     "text": [
      "I suggest coffee instead\n"
     ]
    }
   ],
   "source": [
    "m = match(regex, \"A bit more tea?\")\n",
    "isnothing(m) && println(\"I suggest coffee instead\")"
   ]
  },
  {
   "cell_type": "code",
   "execution_count": 68,
   "metadata": {
    "colab": {
     "base_uri": "https://localhost:8080/",
     "height": 51
    },
    "colab_type": "code",
    "id": "3iOYSQMy0yB3",
    "outputId": "423f65b0-a7cf-4ccc-a4b7-ef5119e99240"
   },
   "outputs": [
    {
     "name": "stdout",
     "output_type": "stream",
     "text": [
      "code: \"f(1) \"\n",
      "comment: \" nice comment\"\n"
     ]
    }
   ],
   "source": [
    "regex = r\"(.*)#(.+)\"\n",
    "line = \"f(1) # nice comment\"\n",
    "m = match(regex, line)\n",
    "code, comment = m.captures\n",
    "println(\"code: \", repr(code))\n",
    "println(\"comment: \", repr(comment))"
   ]
  },
  {
   "cell_type": "code",
   "execution_count": 69,
   "metadata": {
    "colab": {
     "base_uri": "https://localhost:8080/",
     "height": 34
    },
    "colab_type": "code",
    "id": "xeq9CVzoueaf",
    "outputId": "3906ac65-1ec8-4a1e-8b4b-ab6e14edf884"
   },
   "outputs": [
    {
     "data": {
      "text/plain": [
       "\" nice comment\""
      ]
     },
     "execution_count": 69,
     "metadata": {
      "tags": []
     },
     "output_type": "execute_result"
    }
   ],
   "source": [
    "m[2]"
   ]
  },
  {
   "cell_type": "code",
   "execution_count": 70,
   "metadata": {
    "colab": {
     "base_uri": "https://localhost:8080/",
     "height": 68
    },
    "colab_type": "code",
    "id": "iwUDm5uqtc73",
    "outputId": "be3e0e8c-6d98-4de7-f361-f7cfab8784d2"
   },
   "outputs": [
    {
     "data": {
      "text/plain": [
       "2-element Array{Int64,1}:\n",
       " 1\n",
       " 7"
      ]
     },
     "execution_count": 70,
     "metadata": {
      "tags": []
     },
     "output_type": "execute_result"
    }
   ],
   "source": [
    "m.offsets"
   ]
  },
  {
   "cell_type": "code",
   "execution_count": 71,
   "metadata": {
    "colab": {
     "base_uri": "https://localhost:8080/",
     "height": 34
    },
    "colab_type": "code",
    "id": "VnefZenKuMVM",
    "outputId": "f023adbd-1309-47f2-f7a9-6cb14ba7c8c8"
   },
   "outputs": [
    {
     "data": {
      "text/plain": [
       "\" nice comment\""
      ]
     },
     "execution_count": 71,
     "metadata": {
      "tags": []
     },
     "output_type": "execute_result"
    }
   ],
   "source": [
    "m = match(r\"(?<code>.+)#(?<comment>.+)\", line)\n",
    "m[:comment]"
   ]
  },
  {
   "cell_type": "code",
   "execution_count": 72,
   "metadata": {
    "colab": {
     "base_uri": "https://localhost:8080/",
     "height": 34
    },
    "colab_type": "code",
    "id": "HI8hBnXZwLIO",
    "outputId": "77ddcedd-60b8-41d2-e5ed-32ff5de68c9b"
   },
   "outputs": [
    {
     "data": {
      "text/plain": [
       "\"Want a little bread?\""
      ]
     },
     "execution_count": 72,
     "metadata": {
      "tags": []
     },
     "output_type": "execute_result"
    }
   ],
   "source": [
    "replace(\"Want more bread?\", r\"(?<verb>more|some)\" => s\"a little\")"
   ]
  },
  {
   "cell_type": "code",
   "execution_count": 73,
   "metadata": {
    "colab": {
     "base_uri": "https://localhost:8080/",
     "height": 34
    },
    "colab_type": "code",
    "id": "7V9msvsWuzSM",
    "outputId": "bde2fafe-9be4-4bc1-8356-4e1ff0e6f40f"
   },
   "outputs": [
    {
     "data": {
      "text/plain": [
       "\"Want more and more bread?\""
      ]
     },
     "execution_count": 73,
     "metadata": {
      "tags": []
     },
     "output_type": "execute_result"
    }
   ],
   "source": [
    "replace(\"Want more bread?\", r\"(?<verb>more|less)\" => s\"\\g<verb> and \\g<verb>\")"
   ]
  },
  {
   "cell_type": "markdown",
   "metadata": {
    "colab_type": "text",
    "id": "56GuNuTqaKaX"
   },
   "source": [
    "# Control Flow"
   ]
  },
  {
   "cell_type": "markdown",
   "metadata": {
    "colab_type": "text",
    "id": "AhlyD6rgHM-A"
   },
   "source": [
    "## `if` statement\n",
    "\n",
    "Julia's `if` statement works just like in Python, with a few differences:\n",
    "\n",
    "* Julia uses `elseif` instead of Python's `elif`.\n",
    "* Julia's logic operators are just like in C-like languages: `&&` means `and`, `||` means `or`, `!` means `not`, and so on."
   ]
  },
  {
   "cell_type": "code",
   "execution_count": 74,
   "metadata": {
    "colab": {
     "base_uri": "https://localhost:8080/",
     "height": 34
    },
    "colab_type": "code",
    "id": "R4CT1_AYLUqo",
    "outputId": "c299019a-ebd5-4ef7-b010-54c53dbb8388"
   },
   "outputs": [
    {
     "name": "stdout",
     "output_type": "stream",
     "text": [
      "One\n"
     ]
    }
   ],
   "source": [
    "a = 1\n",
    "if a == 1\n",
    "    println(\"One\")\n",
    "elseif a == 2\n",
    "    println(\"Two\")\n",
    "else\n",
    "    println(\"Other\")\n",
    "end"
   ]
  },
  {
   "cell_type": "markdown",
   "metadata": {
    "colab_type": "text",
    "id": "xjjegYr9Koo0"
   },
   "source": [
    "Julia also has `⊻` for exclusive or (you can type `\\xor<tab>` to get the ⊻ character):"
   ]
  },
  {
   "cell_type": "code",
   "execution_count": 75,
   "metadata": {
    "colab": {},
    "colab_type": "code",
    "id": "ac0uFmmXLk3n"
   },
   "outputs": [],
   "source": [
    "@assert false ⊻ false == false\n",
    "@assert false ⊻ true == true\n",
    "@assert true ⊻ false == true\n",
    "@assert true ⊻ true == false"
   ]
  },
  {
   "cell_type": "markdown",
   "metadata": {
    "colab_type": "text",
    "id": "6k6sjnOWLuFM"
   },
   "source": [
    "Oh, and notice that `true` and `false` are all lowercase, unlike Python's `True` and `False`."
   ]
  },
  {
   "cell_type": "markdown",
   "metadata": {
    "colab_type": "text",
    "id": "57j5Uo_jKq98"
   },
   "source": [
    "Since `&&` is lazy (like `and` in Python), `cond && f()` is a common shorthand for `if cond; f(); end`. Think of it as \"_cond then f()_\":"
   ]
  },
  {
   "cell_type": "code",
   "execution_count": 76,
   "metadata": {
    "colab": {
     "base_uri": "https://localhost:8080/",
     "height": 34
    },
    "colab_type": "code",
    "id": "TjRz2LF2MC17",
    "outputId": "127e2991-8b8b-4f11-872a-b902f5170b04"
   },
   "outputs": [
    {
     "name": "stdout",
     "output_type": "stream",
     "text": [
      "Two\n"
     ]
    }
   ],
   "source": [
    "a = 2\n",
    "a == 1 && println(\"One\")\n",
    "a == 2 && println(\"Two\")"
   ]
  },
  {
   "cell_type": "markdown",
   "metadata": {
    "colab_type": "text",
    "id": "PoOc99vdMB3r"
   },
   "source": [
    "Similarly, `cond || f()` is a common shorthand for `if !cond; f(); end`. Think of it as \"_cond else f()_\":"
   ]
  },
  {
   "cell_type": "code",
   "execution_count": 77,
   "metadata": {
    "colab": {
     "base_uri": "https://localhost:8080/",
     "height": 34
    },
    "colab_type": "code",
    "id": "I0vTrqXFMQAp",
    "outputId": "efe13f48-b12b-4182-c67e-321879492eb6"
   },
   "outputs": [
    {
     "name": "stdout",
     "output_type": "stream",
     "text": [
      "Not two\n"
     ]
    }
   ],
   "source": [
    "a = 1\n",
    "a == 1 || println(\"Not one\")\n",
    "a == 2 || println(\"Not two\")"
   ]
  },
  {
   "cell_type": "markdown",
   "metadata": {
    "colab_type": "text",
    "id": "KDHXuzB2tprt"
   },
   "source": [
    "All expressions return a value in Julia, including `if` statements. For example:"
   ]
  },
  {
   "cell_type": "code",
   "execution_count": 78,
   "metadata": {
    "colab": {
     "base_uri": "https://localhost:8080/",
     "height": 34
    },
    "colab_type": "code",
    "id": "XdbyrVzWtyYS",
    "outputId": "7912ea2d-b47d-44dd-bb9c-61e80f4ece12"
   },
   "outputs": [
    {
     "data": {
      "text/plain": [
       "\"one\""
      ]
     },
     "execution_count": 78,
     "metadata": {
      "tags": []
     },
     "output_type": "execute_result"
    }
   ],
   "source": [
    "a = 1\n",
    "result = if a == 1\n",
    "             \"one\"\n",
    "         else\n",
    "             \"two\"\n",
    "         end\n",
    "result"
   ]
  },
  {
   "cell_type": "markdown",
   "metadata": {
    "colab_type": "text",
    "id": "ouJGQWRluC8r"
   },
   "source": [
    "When an expression cannot return anything, it returns `nothing`:"
   ]
  },
  {
   "cell_type": "code",
   "execution_count": 79,
   "metadata": {
    "colab": {
     "base_uri": "https://localhost:8080/",
     "height": 34
    },
    "colab_type": "code",
    "id": "FXxf9pNouMUZ",
    "outputId": "e5afc641-f815-4d10-9cf9-de4d7f0d4284"
   },
   "outputs": [
    {
     "data": {
      "text/plain": [
       "true"
      ]
     },
     "execution_count": 79,
     "metadata": {
      "tags": []
     },
     "output_type": "execute_result"
    }
   ],
   "source": [
    "a = 1\n",
    "result = if a == 2\n",
    "            \"two\"\n",
    "          end\n",
    "\n",
    "isnothing(result)"
   ]
  },
  {
   "cell_type": "markdown",
   "metadata": {
    "colab_type": "text",
    "id": "82e9jcH4ukdN"
   },
   "source": [
    "`nothing` is the single instance of the type `Nothing`:"
   ]
  },
  {
   "cell_type": "code",
   "execution_count": 80,
   "metadata": {
    "colab": {
     "base_uri": "https://localhost:8080/",
     "height": 34
    },
    "colab_type": "code",
    "id": "IU57ogdWuhCi",
    "outputId": "e443167b-e17a-4da9-c06f-5c5cb4e37ade"
   },
   "outputs": [
    {
     "data": {
      "text/plain": [
       "Nothing"
      ]
     },
     "execution_count": 80,
     "metadata": {
      "tags": []
     },
     "output_type": "execute_result"
    }
   ],
   "source": [
    "typeof(nothing)"
   ]
  },
  {
   "cell_type": "markdown",
   "metadata": {
    "colab_type": "text",
    "id": "m8ghzU9PMifO"
   },
   "source": [
    "## `for` loops\n",
    "You can use `for` loops just like in Python, as we saw earlier. However, it's also possible to create nested loops on a single line:"
   ]
  },
  {
   "cell_type": "code",
   "execution_count": 81,
   "metadata": {
    "colab": {
     "base_uri": "https://localhost:8080/",
     "height": 221
    },
    "colab_type": "code",
    "id": "LZ-3HDmZM45a",
    "outputId": "42b27d57-e5c2-4f83-cc08-4c6765cb4d59"
   },
   "outputs": [
    {
     "name": "stdout",
     "output_type": "stream",
     "text": [
      "(1, 1, 1)\n",
      "(1, 1, 2)\n",
      "(1, 2, 1)\n",
      "(1, 2, 2)\n",
      "(1, 3, 1)\n",
      "(1, 3, 2)\n",
      "(2, 1, 1)\n",
      "(2, 1, 2)\n",
      "(2, 2, 1)\n",
      "(2, 2, 2)\n",
      "(2, 3, 1)\n",
      "(2, 3, 2)\n"
     ]
    }
   ],
   "source": [
    "for a in 1:2, b in 1:3, c in 1:2\n",
    "    println((a, b, c))\n",
    "end"
   ]
  },
  {
   "cell_type": "markdown",
   "metadata": {
    "colab_type": "text",
    "id": "uQRBca7fObQq"
   },
   "source": [
    "The corresponding Python code would look like this:\n",
    "\n",
    "```python\n",
    "# PYTHON\n",
    "from itertools import product\n",
    "\n",
    "for a, b, c in product(range(1, 3), range(1, 4), range(1, 3)):\n",
    "    print((a, b, c))\n",
    "```"
   ]
  },
  {
   "cell_type": "markdown",
   "metadata": {
    "colab_type": "text",
    "id": "JAeag3dfNRB3"
   },
   "source": [
    "The `continue` and `break` keywords work just like in Python. Note that in single-line nested loops, `break` will exit all loops, not just the inner loop:"
   ]
  },
  {
   "cell_type": "code",
   "execution_count": 82,
   "metadata": {
    "colab": {
     "base_uri": "https://localhost:8080/",
     "height": 136
    },
    "colab_type": "code",
    "id": "MbKmgN-jN2ZQ",
    "outputId": "696099ec-291c-4841-e7ca-4c93d37c1d03"
   },
   "outputs": [
    {
     "name": "stdout",
     "output_type": "stream",
     "text": [
      "(1, 1, 1)\n",
      "(1, 1, 2)\n",
      "(1, 2, 1)\n",
      "(1, 2, 2)\n",
      "(1, 3, 1)\n",
      "(1, 3, 2)\n",
      "(2, 1, 1)\n"
     ]
    }
   ],
   "source": [
    "for a in 1:2, b in 1:3, c in 1:2\n",
    "    println((a, b, c))\n",
    "    (a, b, c) == (2, 1, 1) && break\n",
    "end"
   ]
  },
  {
   "cell_type": "markdown",
   "metadata": {
    "colab_type": "text",
    "id": "Lf7F9I-6Ue46"
   },
   "source": [
    "Julia does not support the equivalent of Python's `for`/`else` construct. You need to write something like this:"
   ]
  },
  {
   "cell_type": "code",
   "execution_count": 83,
   "metadata": {
    "colab": {
     "base_uri": "https://localhost:8080/",
     "height": 85
    },
    "colab_type": "code",
    "id": "XltdIGVOUoVS",
    "outputId": "0930a3ba-0ab0-43ff-879b-5f1f78cd42e0"
   },
   "outputs": [
    {
     "name": "stdout",
     "output_type": "stream",
     "text": [
      "Looking at Joe\n",
      "Looking at Jane\n",
      "Looking at Wally\n"
     ]
    },
    {
     "data": {
      "text/plain": [
       "true"
      ]
     },
     "execution_count": 83,
     "metadata": {
      "tags": []
     },
     "output_type": "execute_result"
    }
   ],
   "source": [
    "found = false\n",
    "for person in [\"Joe\", \"Jane\", \"Wally\", \"Jack\", \"Julia\"] # try removing \"Wally\"\n",
    "    println(\"Looking at $person\")\n",
    "    person == \"Wally\" && (found = true; break)\n",
    "end\n",
    "found || println(\"I did not find Wally.\")"
   ]
  },
  {
   "cell_type": "markdown",
   "metadata": {
    "colab_type": "text",
    "id": "ySqtkxpxWH57"
   },
   "source": [
    "The equivalent Python code looks like this:\n",
    "\n",
    "```python\n",
    "# PYTHON\n",
    "for person in [\"Joe\", \"Jane\", \"Wally\", \"Jack\", \"Julia\"]: # try removing \"Wally\"\n",
    "    print(f\"Looking at {person}\")\n",
    "    if person == \"Wally\":\n",
    "        break\n",
    "else:\n",
    "    print(\"I did not find Wally.\")\n",
    "```"
   ]
  },
  {
   "cell_type": "markdown",
   "metadata": {
    "colab_type": "text",
    "id": "gz4fZGxOHLmI"
   },
   "source": [
    "\n",
    "\n",
    "|Julia|Python\n",
    "|-----|------\n",
    "|`if cond1`<br />&nbsp;&nbsp;&nbsp;&nbsp;`...`<br/>`elseif cond2`<br />&nbsp;&nbsp;&nbsp;&nbsp;`...`<br/>`else`<br />&nbsp;&nbsp;&nbsp;&nbsp;`...`<br/>`end` |`if cond1:`<br />&nbsp;&nbsp;&nbsp;&nbsp;`...`<br/>`elif cond2:`<br />&nbsp;&nbsp;&nbsp;&nbsp;`...`<br/>`else:`<br />&nbsp;&nbsp;&nbsp;&nbsp;`...`\n",
    "|`&&` | `and`\n",
    "|`\\|\\|` | `or`\n",
    "|`!` | `not`\n",
    "|`⊻` (type `\\xor<tab>`) | `^`\n",
    "|`true` | `True`\n",
    "|`false` | `False`\n",
    "|`cond && f()` | `if cond: f()`\n",
    "|`cond \\|\\| f()` | `if not cond: f()`\n",
    "|`for i in 1:5 ... end` | `for i in range(1, 6): ...`\n",
    "|`for i in 1:5, j in 1:6 ... end` | `from itertools import product`<br />`for i, j in product(range(1, 6), range(1, 7)):`<br />&nbsp;&nbsp;&nbsp;&nbsp;`...`\n",
    "|`while cond ... end` | `while cond: ...`\n",
    "|`continue` | `continue`\n",
    "|`break` | `break`\n"
   ]
  },
  {
   "cell_type": "markdown",
   "metadata": {
    "colab_type": "text",
    "id": "KZnBWeHcvcDE"
   },
   "source": [
    "Now lets looks at data structures, starting with tuples."
   ]
  },
  {
   "cell_type": "markdown",
   "metadata": {
    "colab_type": "text",
    "id": "ERjZUJYlnMsq"
   },
   "source": [
    "# Tuples"
   ]
  },
  {
   "cell_type": "markdown",
   "metadata": {
    "colab_type": "text",
    "id": "LnIg-YKumD8N"
   },
   "source": [
    " Julia has tuples, very much like Python. They can contain anything:"
   ]
  },
  {
   "cell_type": "code",
   "execution_count": 84,
   "metadata": {
    "colab": {
     "base_uri": "https://localhost:8080/",
     "height": 34
    },
    "colab_type": "code",
    "id": "SwtMszm6nFmD",
    "outputId": "fa830c4a-12c1-4c36-b45d-2a72d794982a"
   },
   "outputs": [
    {
     "data": {
      "text/plain": [
       "(1, \"Two\", 3, 4, 5)"
      ]
     },
     "execution_count": 84,
     "metadata": {
      "tags": []
     },
     "output_type": "execute_result"
    }
   ],
   "source": [
    "t = (1, \"Two\", 3, 4, 5)"
   ]
  },
  {
   "cell_type": "markdown",
   "metadata": {
    "colab_type": "text",
    "id": "YFGgt6ISLBQN"
   },
   "source": [
    "Let's look at one element:"
   ]
  },
  {
   "cell_type": "code",
   "execution_count": 85,
   "metadata": {
    "colab": {
     "base_uri": "https://localhost:8080/",
     "height": 34
    },
    "colab_type": "code",
    "id": "muUQX9TUnfhh",
    "outputId": "385aa90f-4110-4679-8637-2a586021eebc"
   },
   "outputs": [
    {
     "data": {
      "text/plain": [
       "1"
      ]
     },
     "execution_count": 85,
     "metadata": {
      "tags": []
     },
     "output_type": "execute_result"
    }
   ],
   "source": [
    "t[1]"
   ]
  },
  {
   "cell_type": "markdown",
   "metadata": {
    "colab_type": "text",
    "id": "kxt7Dyujpcto"
   },
   "source": [
    "Hey! Did you see that? **Julia is 1-indexed**, like Matlab and other math-oriented programming languages, not 0-indexed like Python and most programming languages. I found it easy to get used to, and in fact I quite like it, but your mileage may vary.\n",
    "\n",
    "Moreover, the indexing bounds are inclusive. In Python, to get the 1st and 2nd elements of a list or tuple, you would write `t[0:2]` (or just `t[:2]`), while in Julia you write `t[1:2]`.\n"
   ]
  },
  {
   "cell_type": "code",
   "execution_count": 86,
   "metadata": {
    "colab": {
     "base_uri": "https://localhost:8080/",
     "height": 34
    },
    "colab_type": "code",
    "id": "PSSUDRRtp77N",
    "outputId": "75b8924a-031d-4231-92dd-85f94f8d46bd"
   },
   "outputs": [
    {
     "data": {
      "text/plain": [
       "(1, \"Two\")"
      ]
     },
     "execution_count": 86,
     "metadata": {
      "tags": []
     },
     "output_type": "execute_result"
    }
   ],
   "source": [
    "t[1:2]"
   ]
  },
  {
   "cell_type": "markdown",
   "metadata": {
    "colab_type": "text",
    "id": "gUK1aCRutlul"
   },
   "source": [
    "Note that `end` represents the index of the last element in the tuple. So you must write `t[end]` instead of `t[-1]`. Similarly, you must write `t[end - 1]`, not `t[-2]`, and so on."
   ]
  },
  {
   "cell_type": "code",
   "execution_count": 87,
   "metadata": {
    "colab": {
     "base_uri": "https://localhost:8080/",
     "height": 34
    },
    "colab_type": "code",
    "id": "7YpghPgLqZmy",
    "outputId": "7d32501b-6741-4d4b-c874-a4b343bbc35e"
   },
   "outputs": [
    {
     "data": {
      "text/plain": [
       "5"
      ]
     },
     "execution_count": 87,
     "metadata": {
      "tags": []
     },
     "output_type": "execute_result"
    }
   ],
   "source": [
    "t[end]"
   ]
  },
  {
   "cell_type": "code",
   "execution_count": 88,
   "metadata": {
    "colab": {
     "base_uri": "https://localhost:8080/",
     "height": 34
    },
    "colab_type": "code",
    "id": "3rzqwS7etsyx",
    "outputId": "8672ce0c-8235-4323-8d5e-96672c2512d8"
   },
   "outputs": [
    {
     "data": {
      "text/plain": [
       "(4, 5)"
      ]
     },
     "execution_count": 88,
     "metadata": {
      "tags": []
     },
     "output_type": "execute_result"
    }
   ],
   "source": [
    "t[end - 1:end]"
   ]
  },
  {
   "cell_type": "markdown",
   "metadata": {
    "colab_type": "text",
    "id": "d950dLwB3SeA"
   },
   "source": [
    "Like in Python, tuples are immutable:"
   ]
  },
  {
   "cell_type": "code",
   "execution_count": 89,
   "metadata": {
    "colab": {
     "base_uri": "https://localhost:8080/",
     "height": 34
    },
    "colab_type": "code",
    "id": "0sLz7J2KmKMi",
    "outputId": "c2b5d196-4599-4606-f651-df3c89f83730"
   },
   "outputs": [
    {
     "data": {
      "text/plain": [
       "MethodError(setindex!, ((1, \"Two\", 3, 4, 5), 2, 2), 0x0000000000006a24)"
      ]
     },
     "execution_count": 89,
     "metadata": {
      "tags": []
     },
     "output_type": "execute_result"
    }
   ],
   "source": [
    "try\n",
    "  t[2] = 2\n",
    "catch ex\n",
    "  ex\n",
    "end"
   ]
  },
  {
   "cell_type": "markdown",
   "metadata": {
    "colab_type": "text",
    "id": "ia-7dPaYN6o3"
   },
   "source": [
    "The syntax for empty and 1-element tuples is the same as in Python:"
   ]
  },
  {
   "cell_type": "code",
   "execution_count": 90,
   "metadata": {
    "colab": {
     "base_uri": "https://localhost:8080/",
     "height": 34
    },
    "colab_type": "code",
    "id": "2iz34eBoODk6",
    "outputId": "90cc7840-0f60-435b-c68c-13ea882520f1"
   },
   "outputs": [
    {
     "data": {
      "text/plain": [
       "(42,)"
      ]
     },
     "execution_count": 90,
     "metadata": {
      "tags": []
     },
     "output_type": "execute_result"
    }
   ],
   "source": [
    "empty_tuple = ()\n",
    "one_element_tuple = (42,)"
   ]
  },
  {
   "cell_type": "markdown",
   "metadata": {
    "colab_type": "text",
    "id": "4vgV76ftmMno"
   },
   "source": [
    "You can unpack a tuple, just like in Python (it's called \"destructuring\" in Julia):"
   ]
  },
  {
   "cell_type": "code",
   "execution_count": 91,
   "metadata": {
    "colab": {
     "base_uri": "https://localhost:8080/",
     "height": 34
    },
    "colab_type": "code",
    "id": "1-RPxSCfn5Zr",
    "outputId": "393d2214-08e0-4164-bf23-5238a0133c5b"
   },
   "outputs": [
    {
     "name": "stdout",
     "output_type": "stream",
     "text": [
      "a=1, b=Two, c=3, d=4, e=5\n"
     ]
    }
   ],
   "source": [
    "a, b, c, d, e = (1, \"Two\", 3, 4, 5)\n",
    "println(\"a=$a, b=$b, c=$c, d=$d, e=$e\")"
   ]
  },
  {
   "cell_type": "markdown",
   "metadata": {
    "colab_type": "text",
    "id": "I4jsaD4Fq37B"
   },
   "source": [
    "It also works with nested tuples, just like in Python:"
   ]
  },
  {
   "cell_type": "code",
   "execution_count": 92,
   "metadata": {
    "colab": {
     "base_uri": "https://localhost:8080/",
     "height": 34
    },
    "colab_type": "code",
    "id": "s3S4SAfNq83S",
    "outputId": "eb6535c8-ac30-4b61-cd30-86e5677258f5"
   },
   "outputs": [
    {
     "name": "stdout",
     "output_type": "stream",
     "text": [
      "a=1, b=Two, c=3, d=4, e=5\n"
     ]
    }
   ],
   "source": [
    "(a, (b, c), (d, e)) = (1, (\"Two\", 3), (4, 5))\n",
    "println(\"a=$a, b=$b, c=$c, d=$d, e=$e\")"
   ]
  },
  {
   "cell_type": "markdown",
   "metadata": {
    "colab_type": "text",
    "id": "1SC6AVpIrUxa"
   },
   "source": [
    "However, consider this example:"
   ]
  },
  {
   "cell_type": "code",
   "execution_count": 93,
   "metadata": {
    "colab": {
     "base_uri": "https://localhost:8080/",
     "height": 34
    },
    "colab_type": "code",
    "id": "Wz5cl0_6rj0H",
    "outputId": "df94be65-868a-4db3-a551-1f22c3a0c3fa"
   },
   "outputs": [
    {
     "name": "stdout",
     "output_type": "stream",
     "text": [
      "a=1, b=Two, c=3\n"
     ]
    }
   ],
   "source": [
    "a, b, c = (1, \"Two\", 3, 4, 5)\n",
    "println(\"a=$a, b=$b, c=$c\")"
   ]
  },
  {
   "cell_type": "markdown",
   "metadata": {
    "colab_type": "text",
    "id": "ZdZg-xMDrnvK"
   },
   "source": [
    "In Python, this would cause a `ValueError: too many values to unpack`. In Julia, the extra values in the tuple are just ignored.\n",
    "\n",
    "If you want to capture the extra values in the variable `c`, you need to do so explicitly:"
   ]
  },
  {
   "cell_type": "code",
   "execution_count": 94,
   "metadata": {
    "colab": {
     "base_uri": "https://localhost:8080/",
     "height": 34
    },
    "colab_type": "code",
    "id": "zC8DWzkSsF1i",
    "outputId": "7f3b9279-fe25-44c7-b55c-788f18ba67da"
   },
   "outputs": [
    {
     "name": "stdout",
     "output_type": "stream",
     "text": [
      "a=1, b=Two, c=(3, 4, 5)\n"
     ]
    }
   ],
   "source": [
    "t = (1, \"Two\", 3, 4, 5)\n",
    "a, b = t[1:2]\n",
    "c = t[3:end]\n",
    "println(\"a=$a, b=$b, c=$c\")"
   ]
  },
  {
   "cell_type": "markdown",
   "metadata": {
    "colab_type": "text",
    "id": "rOKhLbritHAW"
   },
   "source": [
    "Or more concisely:"
   ]
  },
  {
   "cell_type": "code",
   "execution_count": 95,
   "metadata": {
    "colab": {
     "base_uri": "https://localhost:8080/",
     "height": 34
    },
    "colab_type": "code",
    "id": "8Pvh4LCytCiq",
    "outputId": "caa95916-dc4c-4cb6-8e0d-fc4e8eaf7384"
   },
   "outputs": [
    {
     "name": "stdout",
     "output_type": "stream",
     "text": [
      "a=1, b=Two, c=(3, 4, 5)\n"
     ]
    }
   ],
   "source": [
    "(a, b), c = t[1:2], t[3:end]\n",
    "println(\"a=$a, b=$b, c=$c\")"
   ]
  },
  {
   "cell_type": "markdown",
   "metadata": {
    "colab_type": "text",
    "id": "FbibRKc9sWI_"
   },
   "source": [
    "The corresponding Python code is:\n",
    "\n",
    "```python\n",
    "# PYTHON\n",
    "t = (1, \"Two\", 3, 4, 5)\n",
    "a, b, *c = t\n",
    "print(f\"a={a}, b={b}, c={c}\")\n",
    "```"
   ]
  },
  {
   "cell_type": "markdown",
   "metadata": {
    "colab_type": "text",
    "id": "niHEbUJk5YFn"
   },
   "source": [
    "## Named Tuples"
   ]
  },
  {
   "cell_type": "markdown",
   "metadata": {
    "colab_type": "text",
    "id": "p3yVvsXA52ct"
   },
   "source": [
    "Julia supports named tuples:"
   ]
  },
  {
   "cell_type": "code",
   "execution_count": 96,
   "metadata": {
    "colab": {
     "base_uri": "https://localhost:8080/",
     "height": 34
    },
    "colab_type": "code",
    "id": "2FJnd4K35aOZ",
    "outputId": "1cd684d7-5eb9-4e3d-e6ba-9ab1ff33c60b"
   },
   "outputs": [
    {
     "data": {
      "text/plain": [
       "(name = \"Julia\", category = \"Language\", stars = 5)"
      ]
     },
     "execution_count": 96,
     "metadata": {
      "tags": []
     },
     "output_type": "execute_result"
    }
   ],
   "source": [
    "nt = (name=\"Julia\", category=\"Language\", stars=5)"
   ]
  },
  {
   "cell_type": "code",
   "execution_count": 97,
   "metadata": {
    "colab": {
     "base_uri": "https://localhost:8080/",
     "height": 34
    },
    "colab_type": "code",
    "id": "xydPCMQZ5sPY",
    "outputId": "11d93885-5bd2-487c-d129-7ee2847ffa89"
   },
   "outputs": [
    {
     "data": {
      "text/plain": [
       "\"Julia\""
      ]
     },
     "execution_count": 97,
     "metadata": {
      "tags": []
     },
     "output_type": "execute_result"
    }
   ],
   "source": [
    "nt.name"
   ]
  },
  {
   "cell_type": "code",
   "execution_count": 98,
   "metadata": {
    "colab": {
     "base_uri": "https://localhost:8080/",
     "height": 85
    },
    "colab_type": "code",
    "id": "9MeN88AU5w4t",
    "outputId": "be30c26c-a44d-4476-c19a-98b35876165f"
   },
   "outputs": [
    {
     "name": "stdout",
     "output_type": "stream",
     "text": [
      "NamedTuple{(:name, :category, :stars),Tuple{String,String,Int64}}\n",
      "  name: String \"Julia\"\n",
      "  category: String \"Language\"\n",
      "  stars: Int64 5\n"
     ]
    }
   ],
   "source": [
    "dump(nt)"
   ]
  },
  {
   "cell_type": "markdown",
   "metadata": {
    "colab_type": "text",
    "id": "yXYEkJ0G57f2"
   },
   "source": [
    "The corresponding Python code is:\n",
    "\n",
    "```python\n",
    "# PYTHON\n",
    "from collections import namedtuple\n",
    "\n",
    "Rating = namedtuple(\"Rating\", [\"name\", \"category\", \"stars\"])\n",
    "nt = Rating(name=\"Julia\", category=\"Language\", stars=5)\n",
    "print(nt.name) # prints: Julia\n",
    "print(nt) # prints: Rating(name='Julia', category='Language', stars=5)\n",
    "```"
   ]
  },
  {
   "cell_type": "markdown",
   "metadata": {
    "colab_type": "text",
    "id": "MJFUxd06YdqY"
   },
   "source": [
    "# Structs\n",
    "Julia supports structs, which hold multiple named fields, a bit like named tuples:"
   ]
  },
  {
   "cell_type": "code",
   "execution_count": 99,
   "metadata": {
    "colab": {},
    "colab_type": "code",
    "id": "WhCs3HtJZK95"
   },
   "outputs": [],
   "source": [
    "struct Person\n",
    "    name\n",
    "    age\n",
    "end"
   ]
  },
  {
   "cell_type": "markdown",
   "metadata": {
    "colab_type": "text",
    "id": "G5oQzSt9Zx3L"
   },
   "source": [
    "Structs have a default constructor, which expects all the field values, in order:"
   ]
  },
  {
   "cell_type": "code",
   "execution_count": 100,
   "metadata": {
    "colab": {
     "base_uri": "https://localhost:8080/",
     "height": 34
    },
    "colab_type": "code",
    "id": "aXISSlv5Z8l6",
    "outputId": "b3e38275-1ecb-4fbb-f4c4-a924cf9f11fc"
   },
   "outputs": [
    {
     "data": {
      "text/plain": [
       "Person(\"Mary\", 30)"
      ]
     },
     "execution_count": 100,
     "metadata": {
      "tags": []
     },
     "output_type": "execute_result"
    }
   ],
   "source": [
    "p = Person(\"Mary\", 30)"
   ]
  },
  {
   "cell_type": "code",
   "execution_count": 101,
   "metadata": {
    "colab": {
     "base_uri": "https://localhost:8080/",
     "height": 34
    },
    "colab_type": "code",
    "id": "26v5EQ8YZ-JQ",
    "outputId": "be19536f-0c79-4928-8ad9-391de9ad81b0"
   },
   "outputs": [
    {
     "data": {
      "text/plain": [
       "30"
      ]
     },
     "execution_count": 101,
     "metadata": {
      "tags": []
     },
     "output_type": "execute_result"
    }
   ],
   "source": [
    "p.age"
   ]
  },
  {
   "cell_type": "markdown",
   "metadata": {
    "colab_type": "text",
    "id": "Tq30l3f1dHcn"
   },
   "source": [
    "You can create other constructors by creating functions with the same name as the struct:"
   ]
  },
  {
   "cell_type": "code",
   "execution_count": 102,
   "metadata": {
    "colab": {
     "base_uri": "https://localhost:8080/",
     "height": 34
    },
    "colab_type": "code",
    "id": "oS_GHuHpdPQx",
    "outputId": "7a2ef7a0-3693-4c03-e01f-e131e491b4dc"
   },
   "outputs": [
    {
     "data": {
      "text/plain": [
       "Person(\"no name\", -1)"
      ]
     },
     "execution_count": 102,
     "metadata": {
      "tags": []
     },
     "output_type": "execute_result"
    }
   ],
   "source": [
    "function Person(name)\n",
    "    Person(name, -1)\n",
    "end\n",
    "\n",
    "function Person()\n",
    "    Person(\"no name\")\n",
    "end\n",
    "\n",
    "p = Person()"
   ]
  },
  {
   "cell_type": "markdown",
   "metadata": {
    "colab_type": "text",
    "id": "MhHkPNXzeMwh"
   },
   "source": [
    "This creates two constructors: the second calls the first, which calls the default constructor. Notice that you can create multiple functions with the same name but different arguments. We will discuss this later."
   ]
  },
  {
   "cell_type": "markdown",
   "metadata": {
    "colab_type": "text",
    "id": "C_qV3JIyeial"
   },
   "source": [
    "These two constructors are called \"outer constructors\", since they are defined outside of the definition of the struct. You can also define \"inner constructors\":"
   ]
  },
  {
   "cell_type": "code",
   "execution_count": 103,
   "metadata": {
    "colab": {
     "base_uri": "https://localhost:8080/",
     "height": 34
    },
    "colab_type": "code",
    "id": "XuGp8ZJJe13y",
    "outputId": "70265526-007c-4db1-b7aa-708419254966"
   },
   "outputs": [
    {
     "data": {
      "text/plain": [
       "Person2(\"no name\", -1)"
      ]
     },
     "execution_count": 103,
     "metadata": {
      "tags": []
     },
     "output_type": "execute_result"
    }
   ],
   "source": [
    "struct Person2\n",
    "    name\n",
    "    age\n",
    "    function Person2(name)\n",
    "        new(name, -1)\n",
    "    end\n",
    "end\n",
    "\n",
    "function Person2()\n",
    "    Person2(\"no name\")\n",
    "end\n",
    "\n",
    "p = Person2()"
   ]
  },
  {
   "cell_type": "markdown",
   "metadata": {
    "colab_type": "text",
    "id": "m5qB9QHf1MMC"
   },
   "source": [
    "This time, the outer constructor calls the inner constructor, which calls the `new()` function. This `new()` function only works in inner constructors, and of course it creates an instance of the struct.\n",
    "\n",
    "When you define inner constructors, they replace the default constructor: "
   ]
  },
  {
   "cell_type": "code",
   "execution_count": 104,
   "metadata": {
    "colab": {
     "base_uri": "https://localhost:8080/",
     "height": 34
    },
    "colab_type": "code",
    "id": "_xLhbC9q2vC3",
    "outputId": "06d3d77b-c98f-41b1-a24d-852b38451c04"
   },
   "outputs": [
    {
     "data": {
      "text/plain": [
       "MethodError(Person2, (\"Bob\", 40), 0x0000000000006a29)"
      ]
     },
     "execution_count": 104,
     "metadata": {
      "tags": []
     },
     "output_type": "execute_result"
    }
   ],
   "source": [
    "try\n",
    "    Person2(\"Bob\", 40)\n",
    "catch ex\n",
    "    ex\n",
    "end"
   ]
  },
  {
   "cell_type": "markdown",
   "metadata": {
    "colab_type": "text",
    "id": "6eSrsaNi_mQ3"
   },
   "source": [
    "Structs usually have very few inner constructors (often just one), which do the heavy duty work, and the checks. Then they may have multiple outer constructors which are mostly there for convenience."
   ]
  },
  {
   "cell_type": "markdown",
   "metadata": {
    "colab_type": "text",
    "id": "HLJWvFSfaAHi"
   },
   "source": [
    "By default, structs are immutable:"
   ]
  },
  {
   "cell_type": "code",
   "execution_count": 105,
   "metadata": {
    "colab": {
     "base_uri": "https://localhost:8080/",
     "height": 34
    },
    "colab_type": "code",
    "id": "n9hhxkdvaYOY",
    "outputId": "1a90844a-fcbc-4de3-ac88-8c6a93b28cb2"
   },
   "outputs": [
    {
     "data": {
      "text/plain": [
       "ErrorException(\"setfield! immutable struct of type Person2 cannot be changed\")"
      ]
     },
     "execution_count": 105,
     "metadata": {
      "tags": []
     },
     "output_type": "execute_result"
    }
   ],
   "source": [
    "try\n",
    "    p.name = \"Someone\"\n",
    "catch ex\n",
    "    ex\n",
    "end"
   ]
  },
  {
   "cell_type": "markdown",
   "metadata": {
    "colab_type": "text",
    "id": "oqY3EFMKa1Px"
   },
   "source": [
    "However, it is possible to define a mutable struct:"
   ]
  },
  {
   "cell_type": "code",
   "execution_count": 106,
   "metadata": {
    "colab": {
     "base_uri": "https://localhost:8080/",
     "height": 34
    },
    "colab_type": "code",
    "id": "S5cNqzAma5H_",
    "outputId": "39f290b7-cf66-4d64-fdec-068cd1990d36"
   },
   "outputs": [
    {
     "data": {
      "text/plain": [
       "Person3(\"Lucy\", 80)"
      ]
     },
     "execution_count": 106,
     "metadata": {
      "tags": []
     },
     "output_type": "execute_result"
    }
   ],
   "source": [
    "mutable struct Person3\n",
    "    name\n",
    "    age\n",
    "end\n",
    "\n",
    "p = Person3(\"Lucy\", 79)\n",
    "p.age += 1\n",
    "p"
   ]
  },
  {
   "cell_type": "markdown",
   "metadata": {
    "colab_type": "text",
    "id": "XcMyQq4r7eam"
   },
   "source": [
    "Structs look a lot like Python classes, with instance variables and constructors, but where are the methods? We will discuss this later, in the \"Methods\" section."
   ]
  },
  {
   "cell_type": "markdown",
   "metadata": {
    "colab_type": "text",
    "id": "sXEjDf7jBjJi"
   },
   "source": [
    "# Arrays\n",
    "\n",
    "Let's create a small array:"
   ]
  },
  {
   "cell_type": "code",
   "execution_count": 107,
   "metadata": {
    "colab": {
     "base_uri": "https://localhost:8080/",
     "height": 102
    },
    "colab_type": "code",
    "id": "UFhriSyixCMX",
    "outputId": "4b5dfcdb-5849-47b7-b7b8-c534260f45b0"
   },
   "outputs": [
    {
     "data": {
      "text/plain": [
       "4-element Array{Int64,1}:\n",
       "  1\n",
       "  4\n",
       "  9\n",
       " 16"
      ]
     },
     "execution_count": 107,
     "metadata": {
      "tags": []
     },
     "output_type": "execute_result"
    }
   ],
   "source": [
    "a = [1, 4, 9, 16]"
   ]
  },
  {
   "cell_type": "markdown",
   "metadata": {
    "colab_type": "text",
    "id": "owVeZ9nLR2on"
   },
   "source": [
    "Indexing and assignments work as you would expect:"
   ]
  },
  {
   "cell_type": "code",
   "execution_count": 108,
   "metadata": {
    "colab": {
     "base_uri": "https://localhost:8080/",
     "height": 102
    },
    "colab_type": "code",
    "id": "yM4mNBfKR81J",
    "outputId": "86720f3d-a355-4093-a065-540e73b966e4"
   },
   "outputs": [
    {
     "data": {
      "text/plain": [
       "4-element Array{Int64,1}:\n",
       " 10\n",
       " 20\n",
       " 30\n",
       " 16"
      ]
     },
     "execution_count": 108,
     "metadata": {
      "tags": []
     },
     "output_type": "execute_result"
    }
   ],
   "source": [
    "a[1] = 10\n",
    "a[2:3] = [20, 30]\n",
    "a"
   ]
  },
  {
   "cell_type": "markdown",
   "metadata": {
    "colab_type": "text",
    "id": "bv_tPMOhxHtK"
   },
   "source": [
    "## Element Type\n",
    "Since we used only integers when creating the array, Julia inferred that the array is only meant to hold integers (NumPy arrays behave the same way). Let's try adding a string:"
   ]
  },
  {
   "cell_type": "code",
   "execution_count": 109,
   "metadata": {
    "colab": {
     "base_uri": "https://localhost:8080/",
     "height": 34
    },
    "colab_type": "code",
    "id": "XBiagA9b_YPR",
    "outputId": "44e5af4f-9f8c-47b6-db82-7855cfc2d4d0"
   },
   "outputs": [
    {
     "data": {
      "text/plain": [
       "MethodError(convert, (Int64, \"Three\"), 0x0000000000006a2a)"
      ]
     },
     "execution_count": 109,
     "metadata": {
      "tags": []
     },
     "output_type": "execute_result"
    }
   ],
   "source": [
    "try\n",
    "  a[3] = \"Three\"\n",
    "catch ex\n",
    "  ex\n",
    "end"
   ]
  },
  {
   "cell_type": "markdown",
   "metadata": {
    "colab_type": "text",
    "id": "T8EJ7y5HAgzz"
   },
   "source": [
    "Nope! We get a `MethodError` exception, telling us that Julia could not convert the string `\"Three\"` to a 64-bit integer (we will discuss exceptions later). If we want an array that can hold any type, like Python's lists can, we must prefix the array with `Any`, which is Julia's root type (like `object` in Python):"
   ]
  },
  {
   "cell_type": "code",
   "execution_count": 110,
   "metadata": {
    "colab": {
     "base_uri": "https://localhost:8080/",
     "height": 102
    },
    "colab_type": "code",
    "id": "VcsscYgVBX6Z",
    "outputId": "8a1c13e4-69fa-44d3-d8e4-108ddd7c8546"
   },
   "outputs": [
    {
     "data": {
      "text/plain": [
       "4-element Array{Any,1}:\n",
       "  1\n",
       "  4\n",
       "   \"Three\"\n",
       " 16"
      ]
     },
     "execution_count": 110,
     "metadata": {
      "tags": []
     },
     "output_type": "execute_result"
    }
   ],
   "source": [
    "a = Any[1, 4, 9, 16]\n",
    "a[3] = \"Three\"\n",
    "a"
   ]
  },
  {
   "cell_type": "markdown",
   "metadata": {
    "colab_type": "text",
    "id": "yekHWpLFPWUO"
   },
   "source": [
    "Prefixing with `Float64`, or `String` or any other type works as well:"
   ]
  },
  {
   "cell_type": "code",
   "execution_count": 111,
   "metadata": {
    "colab": {
     "base_uri": "https://localhost:8080/",
     "height": 102
    },
    "colab_type": "code",
    "id": "hR9x5VEmPfgO",
    "outputId": "d9077aa2-a385-4b94-f2a2-ec9927f9d748"
   },
   "outputs": [
    {
     "data": {
      "text/plain": [
       "4-element Array{Float64,1}:\n",
       "  1.0\n",
       "  4.0\n",
       "  9.0\n",
       " 16.0"
      ]
     },
     "execution_count": 111,
     "metadata": {
      "tags": []
     },
     "output_type": "execute_result"
    }
   ],
   "source": [
    "Float64[1, 4, 9, 16]"
   ]
  },
  {
   "cell_type": "markdown",
   "metadata": {
    "colab_type": "text",
    "id": "8-2ahduHoiRh"
   },
   "source": [
    "An empty array is automatically an `Any` array:"
   ]
  },
  {
   "cell_type": "code",
   "execution_count": 112,
   "metadata": {
    "colab": {
     "base_uri": "https://localhost:8080/",
     "height": 34
    },
    "colab_type": "code",
    "id": "eDMPVf5Oolnk",
    "outputId": "bbe3434d-aff1-4f95-fea4-1cb5b0e4d9b1"
   },
   "outputs": [
    {
     "data": {
      "text/plain": [
       "0-element Array{Any,1}"
      ]
     },
     "execution_count": 112,
     "metadata": {
      "tags": []
     },
     "output_type": "execute_result"
    }
   ],
   "source": [
    "a = []"
   ]
  },
  {
   "cell_type": "markdown",
   "metadata": {
    "colab_type": "text",
    "id": "zY4m8VX2PmXq"
   },
   "source": [
    "You can use the `eltype()` function to get an array's element type (the equivalent of NumPy arrays' `dtype`):"
   ]
  },
  {
   "cell_type": "code",
   "execution_count": 113,
   "metadata": {
    "colab": {
     "base_uri": "https://localhost:8080/",
     "height": 34
    },
    "colab_type": "code",
    "id": "zZN9rtpEPvGV",
    "outputId": "8516b935-4974-4f3b-b5a1-36805cad4c62"
   },
   "outputs": [
    {
     "data": {
      "text/plain": [
       "Int64"
      ]
     },
     "execution_count": 113,
     "metadata": {
      "tags": []
     },
     "output_type": "execute_result"
    }
   ],
   "source": [
    "eltype([1, 4, 9, 16])"
   ]
  },
  {
   "cell_type": "markdown",
   "metadata": {
    "colab_type": "text",
    "id": "RXavtfEvyx-I"
   },
   "source": [
    "If you create an array containing objects of different types, Julia will do its best to use a type that can hold all the values as precisely as possible. For example, a mix of integers and floats results in a float array:"
   ]
  },
  {
   "cell_type": "code",
   "execution_count": 114,
   "metadata": {
    "colab": {
     "base_uri": "https://localhost:8080/",
     "height": 102
    },
    "colab_type": "code",
    "id": "jovRNC9tzaWj",
    "outputId": "01205914-2591-49d9-ed77-fa0f58826cd9"
   },
   "outputs": [
    {
     "data": {
      "text/plain": [
       "4-element Array{Float64,1}:\n",
       " 1.0\n",
       " 2.0\n",
       " 3.0\n",
       " 4.0"
      ]
     },
     "execution_count": 114,
     "metadata": {
      "tags": []
     },
     "output_type": "execute_result"
    }
   ],
   "source": [
    "[1, 2, 3.0, 4.0]"
   ]
  },
  {
   "cell_type": "markdown",
   "metadata": {
    "colab_type": "text",
    "id": "Z8vqDB0U0A4p"
   },
   "source": [
    "This is similar to NumPy's behavior:\n",
    "\n",
    "```python\n",
    "# PYTHON\n",
    "np.array([1, 2, 3.0, 4.0]) # => array([1., 2., 3., 4.])\n",
    "```\n",
    "\n",
    "A mix of unrelated types results in an `Any` array:"
   ]
  },
  {
   "cell_type": "code",
   "execution_count": 115,
   "metadata": {
    "colab": {
     "base_uri": "https://localhost:8080/",
     "height": 102
    },
    "colab_type": "code",
    "id": "pgT5mGcV0Rrc",
    "outputId": "453bd503-add7-4395-9167-5035741c5044"
   },
   "outputs": [
    {
     "data": {
      "text/plain": [
       "4-element Array{Any,1}:\n",
       " 1\n",
       " 2\n",
       "  \"Three\"\n",
       " 4"
      ]
     },
     "execution_count": 115,
     "metadata": {
      "tags": []
     },
     "output_type": "execute_result"
    }
   ],
   "source": [
    "[1, 2, \"Three\", 4]"
   ]
  },
  {
   "cell_type": "markdown",
   "metadata": {
    "colab_type": "text",
    "id": "qqUknXIGB2r7"
   },
   "source": [
    "If you want to live in a world without type constraints, you can prefix all you arrays with `Any`, and you will feel like you're coding in Python. But I don't recommend it: the compiler can perform a bunch of optimizations when it knows exactly the type and size of the data the program will handle, so it will run much faster. So when you create an empty array but you know the type of the values it will contain, you might as well prefix it with that type (you don't have to, but it will speed up your program)."
   ]
  },
  {
   "cell_type": "markdown",
   "metadata": {
    "colab_type": "text",
    "id": "3oo7WzpiQB_h"
   },
   "source": [
    "## Push and Pop\n",
    "To append elements to an array, use the `push!()` function. By convention, functions whose name ends with a bang `!` may modify their arguments:"
   ]
  },
  {
   "cell_type": "code",
   "execution_count": 116,
   "metadata": {
    "colab": {
     "base_uri": "https://localhost:8080/",
     "height": 102
    },
    "colab_type": "code",
    "id": "m2vQfFEVCxII",
    "outputId": "e59e0e3f-62c1-4879-e2de-337dcc437588"
   },
   "outputs": [
    {
     "data": {
      "text/plain": [
       "4-element Array{Int64,1}:\n",
       "  1\n",
       "  4\n",
       "  9\n",
       " 16"
      ]
     },
     "execution_count": 116,
     "metadata": {
      "tags": []
     },
     "output_type": "execute_result"
    }
   ],
   "source": [
    "a = [1]\n",
    "push!(a, 4)\n",
    "push!(a, 9, 16)"
   ]
  },
  {
   "cell_type": "markdown",
   "metadata": {
    "colab_type": "text",
    "id": "2U8zIXG-cUge"
   },
   "source": [
    "This is similar to the following Python code:\n",
    "\n",
    "```python\n",
    "# PYTHON\n",
    "a = [1]\n",
    "a.append(4)\n",
    "a.extend([9, 16]) # or simply a += [9, 16]\n",
    "```"
   ]
  },
  {
   "cell_type": "markdown",
   "metadata": {
    "colab_type": "text",
    "id": "CCWoFNINU15g"
   },
   "source": [
    "And `pop!()` works like in Python:"
   ]
  },
  {
   "cell_type": "code",
   "execution_count": 117,
   "metadata": {
    "colab": {
     "base_uri": "https://localhost:8080/",
     "height": 34
    },
    "colab_type": "code",
    "id": "ie0iAIHtSXIW",
    "outputId": "abc5b804-aab9-4cff-df45-2b26c4abacec"
   },
   "outputs": [
    {
     "data": {
      "text/plain": [
       "16"
      ]
     },
     "execution_count": 117,
     "metadata": {
      "tags": []
     },
     "output_type": "execute_result"
    }
   ],
   "source": [
    "pop!(a)"
   ]
  },
  {
   "cell_type": "markdown",
   "metadata": {
    "colab_type": "text",
    "id": "0W67Y7JhVA3_"
   },
   "source": [
    "Equivalent to:\n",
    "\n",
    "```python\n",
    "# PYTHON\n",
    "a.pop()\n",
    "```"
   ]
  },
  {
   "cell_type": "markdown",
   "metadata": {
    "colab_type": "text",
    "id": "mY0L1GG_Upxz"
   },
   "source": [
    "There are many more functions you can call on an array. We will see later how to find them."
   ]
  },
  {
   "cell_type": "markdown",
   "metadata": {
    "colab_type": "text",
    "id": "4ZScNi5Rv8cM"
   },
   "source": [
    "## Multidimensional Arrays\n",
    "Importantly, Julia arrays can be multidimensional, just like NumPy arrays:"
   ]
  },
  {
   "cell_type": "code",
   "execution_count": 118,
   "metadata": {
    "colab": {
     "base_uri": "https://localhost:8080/",
     "height": 85
    },
    "colab_type": "code",
    "id": "hxfUbTc3wBob",
    "outputId": "d65ec123-2564-4a55-c2a2-d4a0214e7f15"
   },
   "outputs": [
    {
     "data": {
      "text/plain": [
       "3×4 Array{Int64,2}:\n",
       " 1   2   3   4\n",
       " 5   6   7   8\n",
       " 9  10  11  12"
      ]
     },
     "execution_count": 118,
     "metadata": {
      "tags": []
     },
     "output_type": "execute_result"
    }
   ],
   "source": [
    "M = [1   2   3   4\n",
    "     5   6   7   8\n",
    "     9  10  11  12]"
   ]
  },
  {
   "cell_type": "markdown",
   "metadata": {
    "colab_type": "text",
    "id": "sFlaq_4kwbde"
   },
   "source": [
    "Another syntax for this is:"
   ]
  },
  {
   "cell_type": "code",
   "execution_count": 119,
   "metadata": {
    "colab": {
     "base_uri": "https://localhost:8080/",
     "height": 85
    },
    "colab_type": "code",
    "id": "wetBEg8HwhWJ",
    "outputId": "4f3f5327-41b5-469f-f589-de218fba8205"
   },
   "outputs": [
    {
     "data": {
      "text/plain": [
       "3×4 Array{Int64,2}:\n",
       " 1   2   3   4\n",
       " 5   6   7   8\n",
       " 9  10  11  12"
      ]
     },
     "execution_count": 119,
     "metadata": {
      "tags": []
     },
     "output_type": "execute_result"
    }
   ],
   "source": [
    "M = [1 2 3 4; 5 6 7 8; 9 10 11 12]"
   ]
  },
  {
   "cell_type": "markdown",
   "metadata": {
    "colab_type": "text",
    "id": "atfjWzUmwIgw"
   },
   "source": [
    "You can index them much like NumPy arrays:"
   ]
  },
  {
   "cell_type": "code",
   "execution_count": 120,
   "metadata": {
    "colab": {
     "base_uri": "https://localhost:8080/",
     "height": 68
    },
    "colab_type": "code",
    "id": "GhtdjnYQwLka",
    "outputId": "a7b121bc-9fb0-4f9b-fedb-7b0ff6418dff"
   },
   "outputs": [
    {
     "data": {
      "text/plain": [
       "2×2 Array{Int64,2}:\n",
       "  7   8\n",
       " 11  12"
      ]
     },
     "execution_count": 120,
     "metadata": {
      "tags": []
     },
     "output_type": "execute_result"
    }
   ],
   "source": [
    "M[2:3, 3:4]"
   ]
  },
  {
   "cell_type": "markdown",
   "metadata": {
    "colab_type": "text",
    "id": "4frazS3zXPQT"
   },
   "source": [
    "You can transpose a matrix using the \"adjoint\" operator `'`:"
   ]
  },
  {
   "cell_type": "code",
   "execution_count": 121,
   "metadata": {
    "colab": {
     "base_uri": "https://localhost:8080/",
     "height": 102
    },
    "colab_type": "code",
    "id": "ydWdJ1eFXVbJ",
    "outputId": "a4f46f46-4c4f-4d25-a4f9-6feb8cf1ec22"
   },
   "outputs": [
    {
     "data": {
      "text/plain": [
       "4×3 LinearAlgebra.Adjoint{Int64,Array{Int64,2}}:\n",
       " 1  5   9\n",
       " 2  6  10\n",
       " 3  7  11\n",
       " 4  8  12"
      ]
     },
     "execution_count": 121,
     "metadata": {
      "tags": []
     },
     "output_type": "execute_result"
    }
   ],
   "source": [
    "M'"
   ]
  },
  {
   "cell_type": "markdown",
   "metadata": {
    "colab_type": "text",
    "id": "A032EIww_NsU"
   },
   "source": [
    "As you can see, Julia arrays are closer to NumPy arrays than to Python lists.\n"
   ]
  },
  {
   "cell_type": "markdown",
   "metadata": {
    "colab_type": "text",
    "id": "NnY2DL_YCPmZ"
   },
   "source": [
    "Arrays can be concatenated vertically using the `vcat()` function:"
   ]
  },
  {
   "cell_type": "code",
   "execution_count": 122,
   "metadata": {
    "colab": {
     "base_uri": "https://localhost:8080/",
     "height": 102
    },
    "colab_type": "code",
    "id": "pTazNcWZ_-8e",
    "outputId": "822f31a1-aa18-42a3-f6bc-51bb0460c898"
   },
   "outputs": [
    {
     "data": {
      "text/plain": [
       "4×2 Array{Int64,2}:\n",
       " 1  2\n",
       " 3  4\n",
       " 5  6\n",
       " 7  8"
      ]
     },
     "execution_count": 122,
     "metadata": {
      "tags": []
     },
     "output_type": "execute_result"
    }
   ],
   "source": [
    "M1 = [1 2\n",
    "      3 4]\n",
    "M2 = [5 6\n",
    "      7 8]\n",
    "vcat(M1, M2)"
   ]
  },
  {
   "cell_type": "markdown",
   "metadata": {
    "colab_type": "text",
    "id": "GPjPb-cCCZI5"
   },
   "source": [
    "Alternatively, you can use the `[M1; M2]` syntax:"
   ]
  },
  {
   "cell_type": "code",
   "execution_count": 123,
   "metadata": {
    "colab": {
     "base_uri": "https://localhost:8080/",
     "height": 102
    },
    "colab_type": "code",
    "id": "DOnN1wVOCp9z",
    "outputId": "95545d2e-fd1f-49b2-e337-629f1d3d1a34"
   },
   "outputs": [
    {
     "data": {
      "text/plain": [
       "4×2 Array{Int64,2}:\n",
       " 1  2\n",
       " 3  4\n",
       " 5  6\n",
       " 7  8"
      ]
     },
     "execution_count": 123,
     "metadata": {
      "tags": []
     },
     "output_type": "execute_result"
    }
   ],
   "source": [
    "[M1; M2]"
   ]
  },
  {
   "cell_type": "markdown",
   "metadata": {
    "colab_type": "text",
    "id": "wvq9sUdOCtJR"
   },
   "source": [
    "To concatenate arrays horizontally, use `hcat()`:"
   ]
  },
  {
   "cell_type": "code",
   "execution_count": 124,
   "metadata": {
    "colab": {
     "base_uri": "https://localhost:8080/",
     "height": 68
    },
    "colab_type": "code",
    "id": "Xj7s5cedCLJy",
    "outputId": "dc7d3824-4871-447f-9472-eb1f20d9481a"
   },
   "outputs": [
    {
     "data": {
      "text/plain": [
       "2×4 Array{Int64,2}:\n",
       " 1  2  5  6\n",
       " 3  4  7  8"
      ]
     },
     "execution_count": 124,
     "metadata": {
      "tags": []
     },
     "output_type": "execute_result"
    }
   ],
   "source": [
    "hcat(M1, M2)"
   ]
  },
  {
   "cell_type": "markdown",
   "metadata": {
    "colab_type": "text",
    "id": "ciffAqpeC2dX"
   },
   "source": [
    "Or you can use the `[M1 M2]` syntax:"
   ]
  },
  {
   "cell_type": "code",
   "execution_count": 125,
   "metadata": {
    "colab": {
     "base_uri": "https://localhost:8080/",
     "height": 68
    },
    "colab_type": "code",
    "id": "XxSWzDXhC08W",
    "outputId": "127d8df3-ac05-49ba-804f-68207b29b9b1"
   },
   "outputs": [
    {
     "data": {
      "text/plain": [
       "2×4 Array{Int64,2}:\n",
       " 1  2  5  6\n",
       " 3  4  7  8"
      ]
     },
     "execution_count": 125,
     "metadata": {
      "tags": []
     },
     "output_type": "execute_result"
    }
   ],
   "source": [
    "[M1 M2]"
   ]
  },
  {
   "cell_type": "markdown",
   "metadata": {
    "colab_type": "text",
    "id": "OhQoXAiyGge9"
   },
   "source": [
    "You can combine horizontal and vertical concatenation:"
   ]
  },
  {
   "cell_type": "code",
   "execution_count": 126,
   "metadata": {
    "colab": {
     "base_uri": "https://localhost:8080/",
     "height": 85
    },
    "colab_type": "code",
    "id": "ra4Xe-Cv_PKl",
    "outputId": "3aa398d9-2a83-47e0-d0bc-72cb18f18b8f"
   },
   "outputs": [
    {
     "data": {
      "text/plain": [
       "3×4 Array{Int64,2}:\n",
       " 1   2   5   6\n",
       " 3   4   7   8\n",
       " 9  10  11  12"
      ]
     },
     "execution_count": 126,
     "metadata": {
      "tags": []
     },
     "output_type": "execute_result"
    }
   ],
   "source": [
    "M3 = [9 10 11 12]\n",
    "[M1 M2; M3]"
   ]
  },
  {
   "cell_type": "markdown",
   "metadata": {
    "colab_type": "text",
    "id": "sQllnyjlIBfB"
   },
   "source": [
    "Equivalently, you can call the `hvcat()` function. The first argument specifies the number of arguments to concatenate in each block row:"
   ]
  },
  {
   "cell_type": "code",
   "execution_count": 127,
   "metadata": {
    "colab": {
     "base_uri": "https://localhost:8080/",
     "height": 85
    },
    "colab_type": "code",
    "id": "Lv63KdpLEN4N",
    "outputId": "ab2832ac-2f9d-44df-c5e8-3fb3ee7199e0"
   },
   "outputs": [
    {
     "data": {
      "text/plain": [
       "3×4 Array{Int64,2}:\n",
       " 1   2   5   6\n",
       " 3   4   7   8\n",
       " 9  10  11  12"
      ]
     },
     "execution_count": 127,
     "metadata": {
      "tags": []
     },
     "output_type": "execute_result"
    }
   ],
   "source": [
    "hvcat((2, 1), M1, M2, M3)"
   ]
  },
  {
   "cell_type": "markdown",
   "metadata": {
    "colab_type": "text",
    "id": "e40Z6cdzWM2K"
   },
   "source": [
    "`hvcat()` is useful to create a single cell matrix:"
   ]
  },
  {
   "cell_type": "code",
   "execution_count": 128,
   "metadata": {
    "colab": {
     "base_uri": "https://localhost:8080/",
     "height": 51
    },
    "colab_type": "code",
    "id": "KP-WjRlPzzSR",
    "outputId": "e7513371-3c70-4bae-bd01-0cff2320b63b"
   },
   "outputs": [
    {
     "data": {
      "text/plain": [
       "1×1 Array{Int64,2}:\n",
       " 42"
      ]
     },
     "execution_count": 128,
     "metadata": {
      "tags": []
     },
     "output_type": "execute_result"
    }
   ],
   "source": [
    "hvcat(1, 42)"
   ]
  },
  {
   "cell_type": "markdown",
   "metadata": {
    "colab_type": "text",
    "id": "4xWYHOGgzvOr"
   },
   "source": [
    " Or a column vector (i.e., an _n_×1 matrix = a matrix with a single column):"
   ]
  },
  {
   "cell_type": "code",
   "execution_count": 129,
   "metadata": {
    "colab": {
     "base_uri": "https://localhost:8080/",
     "height": 85
    },
    "colab_type": "code",
    "id": "NhVPed-TWW6b",
    "outputId": "f81f5cb6-9de9-403a-ee88-6990d663e3a7"
   },
   "outputs": [
    {
     "data": {
      "text/plain": [
       "3×1 Array{Int64,2}:\n",
       " 10\n",
       " 11\n",
       " 12"
      ]
     },
     "execution_count": 129,
     "metadata": {
      "tags": []
     },
     "output_type": "execute_result"
    }
   ],
   "source": [
    "hvcat((1, 1, 1), 10, 11, 12) # a column vector with values 10, 11, 12\n",
    "hvcat(1, 10, 11, 12) # equivalent to the previous line"
   ]
  },
  {
   "cell_type": "markdown",
   "metadata": {
    "colab_type": "text",
    "id": "pVTtq2RyWfSD"
   },
   "source": [
    "Alternatively, you can transpose a row vector (but `hvcat()` is a bit faster):"
   ]
  },
  {
   "cell_type": "code",
   "execution_count": 130,
   "metadata": {
    "colab": {
     "base_uri": "https://localhost:8080/",
     "height": 85
    },
    "colab_type": "code",
    "id": "9d8inKAGWjTr",
    "outputId": "e16a1608-988d-441f-e410-7acb7dd6f07f"
   },
   "outputs": [
    {
     "data": {
      "text/plain": [
       "3×1 LinearAlgebra.Adjoint{Int64,Array{Int64,2}}:\n",
       " 10\n",
       " 11\n",
       " 12"
      ]
     },
     "execution_count": 130,
     "metadata": {
      "tags": []
     },
     "output_type": "execute_result"
    }
   ],
   "source": [
    "[10 11 12]'"
   ]
  },
  {
   "cell_type": "markdown",
   "metadata": {
    "colab_type": "text",
    "id": "f75W5yn5OiEC"
   },
   "source": [
    "The REPL and IJulia call `display()` to print the result of the last expression in a cell (except when it is `nothing`). It is fairly verbose:"
   ]
  },
  {
   "cell_type": "code",
   "execution_count": 131,
   "metadata": {
    "colab": {
     "base_uri": "https://localhost:8080/",
     "height": 102
    },
    "colab_type": "code",
    "id": "9zTEV0mpOzm9",
    "outputId": "f3664aac-bf26-44ea-fced-66f2b83ef3d3"
   },
   "outputs": [
    {
     "data": {
      "text/plain": [
       "4-element Array{Int64,1}:\n",
       " 1\n",
       " 2\n",
       " 3\n",
       " 4"
      ]
     },
     "metadata": {
      "tags": []
     },
     "output_type": "display_data"
    }
   ],
   "source": [
    "display([1, 2, 3, 4])"
   ]
  },
  {
   "cell_type": "markdown",
   "metadata": {
    "colab_type": "text",
    "id": "gMWooHYTO7NU"
   },
   "source": [
    "The `println()` function is more concise, but be careful not to confuse vectors, column vectors and row vectors (printed with commas, semi-colons and spaces, respectively):"
   ]
  },
  {
   "cell_type": "code",
   "execution_count": 132,
   "metadata": {
    "colab": {
     "base_uri": "https://localhost:8080/",
     "height": 85
    },
    "colab_type": "code",
    "id": "Xw2He_XbPQbz",
    "outputId": "cfa0c28a-1ac9-4f56-d4c0-0288651ffe62"
   },
   "outputs": [
    {
     "name": "stdout",
     "output_type": "stream",
     "text": [
      "Vector: [1, 2, 3, 4]\n",
      "Column vector: [1; 2; 3; 4]\n",
      "Row vector: [1 2 3 4]\n",
      "Matrix: [1 2 3; 4 5 6]\n"
     ]
    }
   ],
   "source": [
    "println(\"Vector: \", [1, 2, 3, 4])\n",
    "println(\"Column vector: \", hvcat(1, 1, 2, 3, 4))\n",
    "println(\"Row vector: \", [1 2 3 4])\n",
    "println(\"Matrix: \", [1 2 3; 4 5 6])"
   ]
  },
  {
   "cell_type": "markdown",
   "metadata": {
    "colab_type": "text",
    "id": "8yjMLNP2M3Ip"
   },
   "source": [
    "Although column vectors are printed as `[1; 2; 3; 4]`, evaluating `[1; 2; 3; 4]` will give you a regular vector. That's because `[x;y]` concatenates `x` and `y` vertically, and if `x` and `y` are scalars or vectors, you just get a regular vector."
   ]
  },
  {
   "cell_type": "markdown",
   "metadata": {
    "colab_type": "text",
    "id": "bdnpqswqyrp8"
   },
   "source": [
    "|Julia|Python\n",
    "|-----|------\n",
    "|`a = [1, 2, 3]` | `a = [1, 2, 3]`<br />or<br />`import numpy as np`<br />`np.array([1, 2, 3])`\n",
    "|`a[1]` | `a[0]`\n",
    "|`a[end]` | `a[-1]`\n",
    "|`a[2:end-1]` | `a[1:-1]`\n",
    "|`push!(a, 5)` | `a.append(5)`\n",
    "|`pop!(a)` | `a.pop()`\n",
    "|`M = [1 2 3]` | `np.array([[1, 2, 3]])`\n",
    "|`M = [1 2 3]'` | `np.array([[1, 2, 3]]).T`\n",
    "|`M = hvcat(1,  1, 2, 3)` | `np.array([[1], [2], [3]])`\n",
    "|`M = [1 2 3`<br />&nbsp; &nbsp; &nbsp; &nbsp; &nbsp; &nbsp;`4 5 6]`<br />or<br />`M = [1 2 3; 4 5 6]` | `M = np.array([[1,2,3], [4,5,6]])`\n",
    "|`M[1:2, 2:3]` | `M[0:2, 1:3]`\n",
    "|`[M1; M2]` | `np.r_[M1, M2]`\n",
    "|`[M1  M2]` | `np.c_[M1, M2]`\n",
    "|`[M1 M2; M3]` | `np.r_[np.c_[M1, M2], M3]`\n"
   ]
  },
  {
   "cell_type": "code",
   "execution_count": 411,
   "metadata": {
    "colab": {},
    "colab_type": "code",
    "id": "Z3IpBJjap9Sm"
   },
   "outputs": [],
   "source": []
  }
 ],
 "metadata": {
  "accelerator": "GPU",
  "colab": {
   "collapsed_sections": [],
   "name": "Julia_for_Pythonistas.ipynb",
   "provenance": [],
   "toc_visible": true
  },
  "kernelspec": {
   "display_name": "Julia 1.5.1",
   "language": "julia",
   "name": "julia-1.5"
  },
  "language_info": {
   "file_extension": ".jl",
   "mimetype": "application/julia",
   "name": "julia",
   "version": "1.5.3"
  }
 },
 "nbformat": 4,
 "nbformat_minor": 1
}
